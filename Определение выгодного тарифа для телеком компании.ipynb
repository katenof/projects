{
 "cells": [
  {
   "cell_type": "markdown",
   "metadata": {},
   "source": [
    "# Описание проекта"
   ]
  },
  {
   "cell_type": "markdown",
   "metadata": {},
   "source": [
    "**Цель** - проанализировать тарифы федерального оператора связи и проверить гипотезы на основе полученных данных."
   ]
  },
  {
   "cell_type": "markdown",
   "metadata": {},
   "source": [
    "# Задачи и исследования"
   ]
  },
  {
   "cell_type": "markdown",
   "metadata": {},
   "source": [
    "1. Исследовние и обработка данных\n",
    "  - исследуем данные\n",
    "  - удалить дубликаты\n",
    "  - обработать пропуски\n",
    "  - исправим аномалии\n",
    "  - заменим некоректные данные\n",
    "  - приведем данные к нужным типам\n",
    "  \n",
    "2. Подготовка данных\n",
    "\n",
    "  Посчитайте для каждого пользователя:\n",
    "  \n",
    "  - количество сделанных звонков и израсходованных минут разговора по месяцам\n",
    "  - количество отправленных сообщений по месяцам\n",
    "  - объем израсходованного интернет-трафика по месяцам\n",
    "  - помесячную выручку с каждого пользователя (вычтите бесплатный лимит из суммарного количества звонков, сообщений и интернет-трафика;  остаток умножьте на значение из тарифного плана; прибавьте абонентскую плату, соответствующую тарифному плану).\n",
    "  \n",
    "3. Проанализируем данные\n",
    "\n",
    "  Описать поведение клиентов оператора из выборки\n",
    "  \n",
    "  - Сколько минут разговоров, сообщений и какой объем интернет-трафика требуется для каждого тарифа в месяц\n",
    "  - Посчитайте среднее кол-во, дисперсию и стандартное отклонение\n",
    "  - Постройте гистограммы\n",
    "  - Опишите распределения\n",
    "  \n",
    "4. Проверим гипотезы\n",
    "  - средняя выручка пользователей тарифов «Ультра» и «Смарт» различаются\n",
    "  - средняя выручка пользователей из Москвы отличается от выручки пользователей из других регионов.\n",
    "  \n",
    "5. Выводы"
   ]
  },
  {
   "cell_type": "markdown",
   "metadata": {},
   "source": [
    "## Исследовние и обработка данных "
   ]
  },
  {
   "cell_type": "markdown",
   "metadata": {},
   "source": [
    "Просмотрим данные и обработаем их."
   ]
  },
  {
   "cell_type": "code",
   "execution_count": 1,
   "metadata": {},
   "outputs": [],
   "source": [
    "import pandas as pd\n",
    "from functools import reduce\n",
    "import numpy as np\n",
    "import seaborn as sns\n",
    "import matplotlib.pyplot as plt\n",
    "import math\n",
    "\n",
    "from datetime import datetime\n",
    "from scipy import stats as st\n",
    "\n",
    "users = pd.read_csv('/datasets/users.csv')\n",
    "calls = pd.read_csv('/datasets/calls.csv')\n",
    "messages = pd.read_csv('/datasets/messages.csv')\n",
    "internet = pd.read_csv('/datasets/internet.csv')\n",
    "tariffs = pd.read_csv('/datasets/tariffs.csv')"
   ]
  },
  {
   "cell_type": "code",
   "execution_count": 2,
   "metadata": {
    "scrolled": true
   },
   "outputs": [
    {
     "data": {
      "text/html": [
       "<div>\n",
       "<style scoped>\n",
       "    .dataframe tbody tr th:only-of-type {\n",
       "        vertical-align: middle;\n",
       "    }\n",
       "\n",
       "    .dataframe tbody tr th {\n",
       "        vertical-align: top;\n",
       "    }\n",
       "\n",
       "    .dataframe thead th {\n",
       "        text-align: right;\n",
       "    }\n",
       "</style>\n",
       "<table border=\"1\" class=\"dataframe\">\n",
       "  <thead>\n",
       "    <tr style=\"text-align: right;\">\n",
       "      <th></th>\n",
       "      <th>user_id</th>\n",
       "      <th>age</th>\n",
       "      <th>churn_date</th>\n",
       "      <th>city</th>\n",
       "      <th>first_name</th>\n",
       "      <th>last_name</th>\n",
       "      <th>reg_date</th>\n",
       "      <th>tariff</th>\n",
       "    </tr>\n",
       "  </thead>\n",
       "  <tbody>\n",
       "    <tr>\n",
       "      <th>0</th>\n",
       "      <td>1000</td>\n",
       "      <td>52</td>\n",
       "      <td>NaN</td>\n",
       "      <td>Краснодар</td>\n",
       "      <td>Рафаил</td>\n",
       "      <td>Верещагин</td>\n",
       "      <td>2018-05-25</td>\n",
       "      <td>ultra</td>\n",
       "    </tr>\n",
       "    <tr>\n",
       "      <th>1</th>\n",
       "      <td>1001</td>\n",
       "      <td>41</td>\n",
       "      <td>NaN</td>\n",
       "      <td>Москва</td>\n",
       "      <td>Иван</td>\n",
       "      <td>Ежов</td>\n",
       "      <td>2018-11-01</td>\n",
       "      <td>smart</td>\n",
       "    </tr>\n",
       "    <tr>\n",
       "      <th>2</th>\n",
       "      <td>1002</td>\n",
       "      <td>59</td>\n",
       "      <td>NaN</td>\n",
       "      <td>Стерлитамак</td>\n",
       "      <td>Евгений</td>\n",
       "      <td>Абрамович</td>\n",
       "      <td>2018-06-17</td>\n",
       "      <td>smart</td>\n",
       "    </tr>\n",
       "    <tr>\n",
       "      <th>3</th>\n",
       "      <td>1003</td>\n",
       "      <td>23</td>\n",
       "      <td>NaN</td>\n",
       "      <td>Москва</td>\n",
       "      <td>Белла</td>\n",
       "      <td>Белякова</td>\n",
       "      <td>2018-08-17</td>\n",
       "      <td>ultra</td>\n",
       "    </tr>\n",
       "    <tr>\n",
       "      <th>4</th>\n",
       "      <td>1004</td>\n",
       "      <td>68</td>\n",
       "      <td>NaN</td>\n",
       "      <td>Новокузнецк</td>\n",
       "      <td>Татьяна</td>\n",
       "      <td>Авдеенко</td>\n",
       "      <td>2018-05-14</td>\n",
       "      <td>ultra</td>\n",
       "    </tr>\n",
       "    <tr>\n",
       "      <th>5</th>\n",
       "      <td>1005</td>\n",
       "      <td>67</td>\n",
       "      <td>NaN</td>\n",
       "      <td>Набережные Челны</td>\n",
       "      <td>Афанасий</td>\n",
       "      <td>Горлов</td>\n",
       "      <td>2018-01-25</td>\n",
       "      <td>smart</td>\n",
       "    </tr>\n",
       "    <tr>\n",
       "      <th>6</th>\n",
       "      <td>1006</td>\n",
       "      <td>21</td>\n",
       "      <td>NaN</td>\n",
       "      <td>Ульяновск</td>\n",
       "      <td>Леонид</td>\n",
       "      <td>Ермолаев</td>\n",
       "      <td>2018-02-26</td>\n",
       "      <td>smart</td>\n",
       "    </tr>\n",
       "    <tr>\n",
       "      <th>7</th>\n",
       "      <td>1007</td>\n",
       "      <td>65</td>\n",
       "      <td>NaN</td>\n",
       "      <td>Москва</td>\n",
       "      <td>Юна</td>\n",
       "      <td>Березина</td>\n",
       "      <td>2018-04-19</td>\n",
       "      <td>smart</td>\n",
       "    </tr>\n",
       "    <tr>\n",
       "      <th>8</th>\n",
       "      <td>1008</td>\n",
       "      <td>63</td>\n",
       "      <td>NaN</td>\n",
       "      <td>Челябинск</td>\n",
       "      <td>Рустэм</td>\n",
       "      <td>Пономарёв</td>\n",
       "      <td>2018-12-19</td>\n",
       "      <td>smart</td>\n",
       "    </tr>\n",
       "    <tr>\n",
       "      <th>9</th>\n",
       "      <td>1009</td>\n",
       "      <td>24</td>\n",
       "      <td>NaN</td>\n",
       "      <td>Пермь</td>\n",
       "      <td>Василиса</td>\n",
       "      <td>Блинова</td>\n",
       "      <td>2018-03-22</td>\n",
       "      <td>smart</td>\n",
       "    </tr>\n",
       "    <tr>\n",
       "      <th>10</th>\n",
       "      <td>1010</td>\n",
       "      <td>26</td>\n",
       "      <td>NaN</td>\n",
       "      <td>Тюмень</td>\n",
       "      <td>Эдуард</td>\n",
       "      <td>Кононов</td>\n",
       "      <td>2018-08-05</td>\n",
       "      <td>smart</td>\n",
       "    </tr>\n",
       "    <tr>\n",
       "      <th>11</th>\n",
       "      <td>1011</td>\n",
       "      <td>44</td>\n",
       "      <td>NaN</td>\n",
       "      <td>Самара</td>\n",
       "      <td>Веселина</td>\n",
       "      <td>Алёшко</td>\n",
       "      <td>2018-03-19</td>\n",
       "      <td>smart</td>\n",
       "    </tr>\n",
       "    <tr>\n",
       "      <th>12</th>\n",
       "      <td>1012</td>\n",
       "      <td>38</td>\n",
       "      <td>NaN</td>\n",
       "      <td>Санкт-Петербург</td>\n",
       "      <td>Варлам</td>\n",
       "      <td>Соловьев</td>\n",
       "      <td>2018-03-28</td>\n",
       "      <td>smart</td>\n",
       "    </tr>\n",
       "    <tr>\n",
       "      <th>13</th>\n",
       "      <td>1013</td>\n",
       "      <td>36</td>\n",
       "      <td>NaN</td>\n",
       "      <td>Иваново</td>\n",
       "      <td>Борис</td>\n",
       "      <td>Андреенко</td>\n",
       "      <td>2018-11-14</td>\n",
       "      <td>ultra</td>\n",
       "    </tr>\n",
       "    <tr>\n",
       "      <th>14</th>\n",
       "      <td>1014</td>\n",
       "      <td>64</td>\n",
       "      <td>NaN</td>\n",
       "      <td>Чебоксары</td>\n",
       "      <td>Яков</td>\n",
       "      <td>Акинфьев</td>\n",
       "      <td>2018-05-15</td>\n",
       "      <td>smart</td>\n",
       "    </tr>\n",
       "  </tbody>\n",
       "</table>\n",
       "</div>"
      ],
      "text/plain": [
       "    user_id  age churn_date              city first_name  last_name  \\\n",
       "0      1000   52        NaN         Краснодар     Рафаил  Верещагин   \n",
       "1      1001   41        NaN            Москва       Иван       Ежов   \n",
       "2      1002   59        NaN       Стерлитамак    Евгений  Абрамович   \n",
       "3      1003   23        NaN            Москва      Белла   Белякова   \n",
       "4      1004   68        NaN       Новокузнецк    Татьяна   Авдеенко   \n",
       "5      1005   67        NaN  Набережные Челны   Афанасий     Горлов   \n",
       "6      1006   21        NaN         Ульяновск     Леонид   Ермолаев   \n",
       "7      1007   65        NaN            Москва        Юна   Березина   \n",
       "8      1008   63        NaN         Челябинск     Рустэм  Пономарёв   \n",
       "9      1009   24        NaN             Пермь   Василиса    Блинова   \n",
       "10     1010   26        NaN            Тюмень     Эдуард    Кононов   \n",
       "11     1011   44        NaN            Самара   Веселина     Алёшко   \n",
       "12     1012   38        NaN   Санкт-Петербург     Варлам   Соловьев   \n",
       "13     1013   36        NaN           Иваново      Борис  Андреенко   \n",
       "14     1014   64        NaN         Чебоксары       Яков   Акинфьев   \n",
       "\n",
       "      reg_date tariff  \n",
       "0   2018-05-25  ultra  \n",
       "1   2018-11-01  smart  \n",
       "2   2018-06-17  smart  \n",
       "3   2018-08-17  ultra  \n",
       "4   2018-05-14  ultra  \n",
       "5   2018-01-25  smart  \n",
       "6   2018-02-26  smart  \n",
       "7   2018-04-19  smart  \n",
       "8   2018-12-19  smart  \n",
       "9   2018-03-22  smart  \n",
       "10  2018-08-05  smart  \n",
       "11  2018-03-19  smart  \n",
       "12  2018-03-28  smart  \n",
       "13  2018-11-14  ultra  \n",
       "14  2018-05-15  smart  "
      ]
     },
     "execution_count": 2,
     "metadata": {},
     "output_type": "execute_result"
    }
   ],
   "source": [
    "#начнем со столбца \"users\"\n",
    "users.head(15)"
   ]
  },
  {
   "cell_type": "markdown",
   "metadata": {},
   "source": [
    "Много пропусков в churn_date, hurn_date — дата прекращения пользования тарифом (если значение пропущено, то тариф ещё действовал на момент выгрузки данных). Можем не трогать этот столбец."
   ]
  },
  {
   "cell_type": "code",
   "execution_count": 3,
   "metadata": {},
   "outputs": [
    {
     "data": {
      "text/html": [
       "<div>\n",
       "<style scoped>\n",
       "    .dataframe tbody tr th:only-of-type {\n",
       "        vertical-align: middle;\n",
       "    }\n",
       "\n",
       "    .dataframe tbody tr th {\n",
       "        vertical-align: top;\n",
       "    }\n",
       "\n",
       "    .dataframe thead th {\n",
       "        text-align: right;\n",
       "    }\n",
       "</style>\n",
       "<table border=\"1\" class=\"dataframe\">\n",
       "  <thead>\n",
       "    <tr style=\"text-align: right;\">\n",
       "      <th></th>\n",
       "      <th>user_id</th>\n",
       "      <th>age</th>\n",
       "    </tr>\n",
       "  </thead>\n",
       "  <tbody>\n",
       "    <tr>\n",
       "      <th>count</th>\n",
       "      <td>500.000000</td>\n",
       "      <td>500.00000</td>\n",
       "    </tr>\n",
       "    <tr>\n",
       "      <th>mean</th>\n",
       "      <td>1249.500000</td>\n",
       "      <td>46.58800</td>\n",
       "    </tr>\n",
       "    <tr>\n",
       "      <th>std</th>\n",
       "      <td>144.481833</td>\n",
       "      <td>16.66763</td>\n",
       "    </tr>\n",
       "    <tr>\n",
       "      <th>min</th>\n",
       "      <td>1000.000000</td>\n",
       "      <td>18.00000</td>\n",
       "    </tr>\n",
       "    <tr>\n",
       "      <th>25%</th>\n",
       "      <td>1124.750000</td>\n",
       "      <td>32.00000</td>\n",
       "    </tr>\n",
       "    <tr>\n",
       "      <th>50%</th>\n",
       "      <td>1249.500000</td>\n",
       "      <td>46.00000</td>\n",
       "    </tr>\n",
       "    <tr>\n",
       "      <th>75%</th>\n",
       "      <td>1374.250000</td>\n",
       "      <td>62.00000</td>\n",
       "    </tr>\n",
       "    <tr>\n",
       "      <th>max</th>\n",
       "      <td>1499.000000</td>\n",
       "      <td>75.00000</td>\n",
       "    </tr>\n",
       "  </tbody>\n",
       "</table>\n",
       "</div>"
      ],
      "text/plain": [
       "           user_id        age\n",
       "count   500.000000  500.00000\n",
       "mean   1249.500000   46.58800\n",
       "std     144.481833   16.66763\n",
       "min    1000.000000   18.00000\n",
       "25%    1124.750000   32.00000\n",
       "50%    1249.500000   46.00000\n",
       "75%    1374.250000   62.00000\n",
       "max    1499.000000   75.00000"
      ]
     },
     "execution_count": 3,
     "metadata": {},
     "output_type": "execute_result"
    }
   ],
   "source": [
    "users.describe()"
   ]
  },
  {
   "cell_type": "code",
   "execution_count": 4,
   "metadata": {
    "scrolled": true
   },
   "outputs": [
    {
     "name": "stdout",
     "output_type": "stream",
     "text": [
      "500\n",
      "500\n",
      "0\n"
     ]
    }
   ],
   "source": [
    "print(users.shape[0])\n",
    "print(users['user_id'].count())\n",
    "print(users.duplicated().sum())"
   ]
  },
  {
   "cell_type": "markdown",
   "metadata": {},
   "source": [
    "Здесь мы видим, что кол-во уникальных пользователей совпадает. Дубликаты отсуствуют"
   ]
  },
  {
   "cell_type": "code",
   "execution_count": 5,
   "metadata": {},
   "outputs": [
    {
     "data": {
      "text/html": [
       "<div>\n",
       "<style scoped>\n",
       "    .dataframe tbody tr th:only-of-type {\n",
       "        vertical-align: middle;\n",
       "    }\n",
       "\n",
       "    .dataframe tbody tr th {\n",
       "        vertical-align: top;\n",
       "    }\n",
       "\n",
       "    .dataframe thead th {\n",
       "        text-align: right;\n",
       "    }\n",
       "</style>\n",
       "<table border=\"1\" class=\"dataframe\">\n",
       "  <thead>\n",
       "    <tr style=\"text-align: right;\">\n",
       "      <th></th>\n",
       "      <th>user_id</th>\n",
       "      <th>age</th>\n",
       "      <th>churn_date</th>\n",
       "      <th>city</th>\n",
       "      <th>first_name</th>\n",
       "      <th>last_name</th>\n",
       "      <th>reg_date</th>\n",
       "      <th>tariff</th>\n",
       "    </tr>\n",
       "  </thead>\n",
       "  <tbody>\n",
       "    <tr>\n",
       "      <th>0</th>\n",
       "      <td>1000</td>\n",
       "      <td>52</td>\n",
       "      <td>NaN</td>\n",
       "      <td>Краснодар</td>\n",
       "      <td>Рафаил</td>\n",
       "      <td>Верещагин</td>\n",
       "      <td>2018-05-25</td>\n",
       "      <td>ultra</td>\n",
       "    </tr>\n",
       "    <tr>\n",
       "      <th>1</th>\n",
       "      <td>1001</td>\n",
       "      <td>41</td>\n",
       "      <td>NaN</td>\n",
       "      <td>Москва</td>\n",
       "      <td>Иван</td>\n",
       "      <td>Ежов</td>\n",
       "      <td>2018-11-01</td>\n",
       "      <td>smart</td>\n",
       "    </tr>\n",
       "    <tr>\n",
       "      <th>2</th>\n",
       "      <td>1002</td>\n",
       "      <td>59</td>\n",
       "      <td>NaN</td>\n",
       "      <td>Стерлитамак</td>\n",
       "      <td>Евгений</td>\n",
       "      <td>Абрамович</td>\n",
       "      <td>2018-06-17</td>\n",
       "      <td>smart</td>\n",
       "    </tr>\n",
       "    <tr>\n",
       "      <th>3</th>\n",
       "      <td>1003</td>\n",
       "      <td>23</td>\n",
       "      <td>NaN</td>\n",
       "      <td>Москва</td>\n",
       "      <td>Белла</td>\n",
       "      <td>Белякова</td>\n",
       "      <td>2018-08-17</td>\n",
       "      <td>ultra</td>\n",
       "    </tr>\n",
       "    <tr>\n",
       "      <th>4</th>\n",
       "      <td>1004</td>\n",
       "      <td>68</td>\n",
       "      <td>NaN</td>\n",
       "      <td>Новокузнецк</td>\n",
       "      <td>Татьяна</td>\n",
       "      <td>Авдеенко</td>\n",
       "      <td>2018-05-14</td>\n",
       "      <td>ultra</td>\n",
       "    </tr>\n",
       "  </tbody>\n",
       "</table>\n",
       "</div>"
      ],
      "text/plain": [
       "   user_id  age churn_date         city first_name  last_name   reg_date  \\\n",
       "0     1000   52        NaN    Краснодар     Рафаил  Верещагин 2018-05-25   \n",
       "1     1001   41        NaN       Москва       Иван       Ежов 2018-11-01   \n",
       "2     1002   59        NaN  Стерлитамак    Евгений  Абрамович 2018-06-17   \n",
       "3     1003   23        NaN       Москва      Белла   Белякова 2018-08-17   \n",
       "4     1004   68        NaN  Новокузнецк    Татьяна   Авдеенко 2018-05-14   \n",
       "\n",
       "  tariff  \n",
       "0  ultra  \n",
       "1  smart  \n",
       "2  smart  \n",
       "3  ultra  \n",
       "4  ultra  "
      ]
     },
     "execution_count": 5,
     "metadata": {},
     "output_type": "execute_result"
    }
   ],
   "source": [
    "#приведем даты в порядок\n",
    "users['reg_date'] = pd.to_datetime(users['reg_date'], format=\"%Y-%m-%d\")\n",
    "users.head()"
   ]
  },
  {
   "cell_type": "code",
   "execution_count": 6,
   "metadata": {},
   "outputs": [
    {
     "name": "stdout",
     "output_type": "stream",
     "text": [
      "<class 'pandas.core.frame.DataFrame'>\n",
      "RangeIndex: 500 entries, 0 to 499\n",
      "Data columns (total 8 columns):\n",
      " #   Column      Non-Null Count  Dtype         \n",
      "---  ------      --------------  -----         \n",
      " 0   user_id     500 non-null    int64         \n",
      " 1   age         500 non-null    int64         \n",
      " 2   churn_date  38 non-null     object        \n",
      " 3   city        500 non-null    object        \n",
      " 4   first_name  500 non-null    object        \n",
      " 5   last_name   500 non-null    object        \n",
      " 6   reg_date    500 non-null    datetime64[ns]\n",
      " 7   tariff      500 non-null    object        \n",
      "dtypes: datetime64[ns](1), int64(2), object(5)\n",
      "memory usage: 31.4+ KB\n"
     ]
    }
   ],
   "source": [
    "users.info()"
   ]
  },
  {
   "cell_type": "code",
   "execution_count": 7,
   "metadata": {},
   "outputs": [
    {
     "data": {
      "text/html": [
       "<div>\n",
       "<style scoped>\n",
       "    .dataframe tbody tr th:only-of-type {\n",
       "        vertical-align: middle;\n",
       "    }\n",
       "\n",
       "    .dataframe tbody tr th {\n",
       "        vertical-align: top;\n",
       "    }\n",
       "\n",
       "    .dataframe thead th {\n",
       "        text-align: right;\n",
       "    }\n",
       "</style>\n",
       "<table border=\"1\" class=\"dataframe\">\n",
       "  <thead>\n",
       "    <tr style=\"text-align: right;\">\n",
       "      <th></th>\n",
       "      <th>id</th>\n",
       "      <th>call_date</th>\n",
       "      <th>duration</th>\n",
       "      <th>user_id</th>\n",
       "    </tr>\n",
       "  </thead>\n",
       "  <tbody>\n",
       "    <tr>\n",
       "      <th>0</th>\n",
       "      <td>1000_0</td>\n",
       "      <td>2018-07-25</td>\n",
       "      <td>0.00</td>\n",
       "      <td>1000</td>\n",
       "    </tr>\n",
       "    <tr>\n",
       "      <th>1</th>\n",
       "      <td>1000_1</td>\n",
       "      <td>2018-08-17</td>\n",
       "      <td>0.00</td>\n",
       "      <td>1000</td>\n",
       "    </tr>\n",
       "    <tr>\n",
       "      <th>2</th>\n",
       "      <td>1000_2</td>\n",
       "      <td>2018-06-11</td>\n",
       "      <td>2.85</td>\n",
       "      <td>1000</td>\n",
       "    </tr>\n",
       "    <tr>\n",
       "      <th>3</th>\n",
       "      <td>1000_3</td>\n",
       "      <td>2018-09-21</td>\n",
       "      <td>13.80</td>\n",
       "      <td>1000</td>\n",
       "    </tr>\n",
       "    <tr>\n",
       "      <th>4</th>\n",
       "      <td>1000_4</td>\n",
       "      <td>2018-12-15</td>\n",
       "      <td>5.18</td>\n",
       "      <td>1000</td>\n",
       "    </tr>\n",
       "    <tr>\n",
       "      <th>5</th>\n",
       "      <td>1000_5</td>\n",
       "      <td>2018-11-02</td>\n",
       "      <td>0.00</td>\n",
       "      <td>1000</td>\n",
       "    </tr>\n",
       "    <tr>\n",
       "      <th>6</th>\n",
       "      <td>1000_6</td>\n",
       "      <td>2018-10-18</td>\n",
       "      <td>0.00</td>\n",
       "      <td>1000</td>\n",
       "    </tr>\n",
       "    <tr>\n",
       "      <th>7</th>\n",
       "      <td>1000_7</td>\n",
       "      <td>2018-08-22</td>\n",
       "      <td>18.31</td>\n",
       "      <td>1000</td>\n",
       "    </tr>\n",
       "    <tr>\n",
       "      <th>8</th>\n",
       "      <td>1000_8</td>\n",
       "      <td>2018-09-15</td>\n",
       "      <td>18.44</td>\n",
       "      <td>1000</td>\n",
       "    </tr>\n",
       "    <tr>\n",
       "      <th>9</th>\n",
       "      <td>1000_9</td>\n",
       "      <td>2018-08-15</td>\n",
       "      <td>0.00</td>\n",
       "      <td>1000</td>\n",
       "    </tr>\n",
       "    <tr>\n",
       "      <th>10</th>\n",
       "      <td>1000_10</td>\n",
       "      <td>2018-08-22</td>\n",
       "      <td>5.03</td>\n",
       "      <td>1000</td>\n",
       "    </tr>\n",
       "    <tr>\n",
       "      <th>11</th>\n",
       "      <td>1000_11</td>\n",
       "      <td>2018-05-28</td>\n",
       "      <td>18.82</td>\n",
       "      <td>1000</td>\n",
       "    </tr>\n",
       "    <tr>\n",
       "      <th>12</th>\n",
       "      <td>1000_12</td>\n",
       "      <td>2018-07-05</td>\n",
       "      <td>2.02</td>\n",
       "      <td>1000</td>\n",
       "    </tr>\n",
       "    <tr>\n",
       "      <th>13</th>\n",
       "      <td>1000_13</td>\n",
       "      <td>2018-09-29</td>\n",
       "      <td>7.15</td>\n",
       "      <td>1000</td>\n",
       "    </tr>\n",
       "    <tr>\n",
       "      <th>14</th>\n",
       "      <td>1000_14</td>\n",
       "      <td>2018-12-11</td>\n",
       "      <td>9.13</td>\n",
       "      <td>1000</td>\n",
       "    </tr>\n",
       "  </tbody>\n",
       "</table>\n",
       "</div>"
      ],
      "text/plain": [
       "         id   call_date  duration  user_id\n",
       "0    1000_0  2018-07-25      0.00     1000\n",
       "1    1000_1  2018-08-17      0.00     1000\n",
       "2    1000_2  2018-06-11      2.85     1000\n",
       "3    1000_3  2018-09-21     13.80     1000\n",
       "4    1000_4  2018-12-15      5.18     1000\n",
       "5    1000_5  2018-11-02      0.00     1000\n",
       "6    1000_6  2018-10-18      0.00     1000\n",
       "7    1000_7  2018-08-22     18.31     1000\n",
       "8    1000_8  2018-09-15     18.44     1000\n",
       "9    1000_9  2018-08-15      0.00     1000\n",
       "10  1000_10  2018-08-22      5.03     1000\n",
       "11  1000_11  2018-05-28     18.82     1000\n",
       "12  1000_12  2018-07-05      2.02     1000\n",
       "13  1000_13  2018-09-29      7.15     1000\n",
       "14  1000_14  2018-12-11      9.13     1000"
      ]
     },
     "execution_count": 7,
     "metadata": {},
     "output_type": "execute_result"
    }
   ],
   "source": [
    "# теперь также проверим столбец calls \n",
    "calls.head(15)"
   ]
  },
  {
   "cell_type": "code",
   "execution_count": 8,
   "metadata": {},
   "outputs": [
    {
     "name": "stdout",
     "output_type": "stream",
     "text": [
      "202607\n",
      "202607\n",
      "0\n"
     ]
    }
   ],
   "source": [
    "print(calls.shape[0])\n",
    "print(calls['user_id'].count())\n",
    "print(calls.duplicated().sum())"
   ]
  },
  {
   "cell_type": "code",
   "execution_count": 9,
   "metadata": {},
   "outputs": [
    {
     "data": {
      "text/html": [
       "<div>\n",
       "<style scoped>\n",
       "    .dataframe tbody tr th:only-of-type {\n",
       "        vertical-align: middle;\n",
       "    }\n",
       "\n",
       "    .dataframe tbody tr th {\n",
       "        vertical-align: top;\n",
       "    }\n",
       "\n",
       "    .dataframe thead th {\n",
       "        text-align: right;\n",
       "    }\n",
       "</style>\n",
       "<table border=\"1\" class=\"dataframe\">\n",
       "  <thead>\n",
       "    <tr style=\"text-align: right;\">\n",
       "      <th></th>\n",
       "      <th>duration</th>\n",
       "      <th>user_id</th>\n",
       "    </tr>\n",
       "  </thead>\n",
       "  <tbody>\n",
       "    <tr>\n",
       "      <th>count</th>\n",
       "      <td>202607.000000</td>\n",
       "      <td>202607.000000</td>\n",
       "    </tr>\n",
       "    <tr>\n",
       "      <th>mean</th>\n",
       "      <td>6.755887</td>\n",
       "      <td>1253.940619</td>\n",
       "    </tr>\n",
       "    <tr>\n",
       "      <th>std</th>\n",
       "      <td>5.843365</td>\n",
       "      <td>144.722751</td>\n",
       "    </tr>\n",
       "    <tr>\n",
       "      <th>min</th>\n",
       "      <td>0.000000</td>\n",
       "      <td>1000.000000</td>\n",
       "    </tr>\n",
       "    <tr>\n",
       "      <th>25%</th>\n",
       "      <td>1.300000</td>\n",
       "      <td>1126.000000</td>\n",
       "    </tr>\n",
       "    <tr>\n",
       "      <th>50%</th>\n",
       "      <td>6.000000</td>\n",
       "      <td>1260.000000</td>\n",
       "    </tr>\n",
       "    <tr>\n",
       "      <th>75%</th>\n",
       "      <td>10.700000</td>\n",
       "      <td>1379.000000</td>\n",
       "    </tr>\n",
       "    <tr>\n",
       "      <th>max</th>\n",
       "      <td>38.000000</td>\n",
       "      <td>1499.000000</td>\n",
       "    </tr>\n",
       "  </tbody>\n",
       "</table>\n",
       "</div>"
      ],
      "text/plain": [
       "            duration        user_id\n",
       "count  202607.000000  202607.000000\n",
       "mean        6.755887    1253.940619\n",
       "std         5.843365     144.722751\n",
       "min         0.000000    1000.000000\n",
       "25%         1.300000    1126.000000\n",
       "50%         6.000000    1260.000000\n",
       "75%        10.700000    1379.000000\n",
       "max        38.000000    1499.000000"
      ]
     },
     "execution_count": 9,
     "metadata": {},
     "output_type": "execute_result"
    }
   ],
   "source": [
    "calls.describe()"
   ]
  },
  {
   "cell_type": "code",
   "execution_count": 10,
   "metadata": {},
   "outputs": [
    {
     "name": "stdout",
     "output_type": "stream",
     "text": [
      "<class 'pandas.core.frame.DataFrame'>\n",
      "RangeIndex: 202607 entries, 0 to 202606\n",
      "Data columns (total 4 columns):\n",
      " #   Column     Non-Null Count   Dtype  \n",
      "---  ------     --------------   -----  \n",
      " 0   id         202607 non-null  object \n",
      " 1   call_date  202607 non-null  object \n",
      " 2   duration   202607 non-null  float64\n",
      " 3   user_id    202607 non-null  int64  \n",
      "dtypes: float64(1), int64(1), object(2)\n",
      "memory usage: 6.2+ MB\n"
     ]
    }
   ],
   "source": [
    "calls.info()"
   ]
  },
  {
   "cell_type": "code",
   "execution_count": 11,
   "metadata": {},
   "outputs": [],
   "source": [
    "# приведем даты в порядок\n",
    "calls['call_date'] = pd.to_datetime(calls['call_date'], format=\"%Y-%m-%d\")"
   ]
  },
  {
   "cell_type": "code",
   "execution_count": 12,
   "metadata": {},
   "outputs": [],
   "source": [
    "# приведем к нужному типу\n",
    "calls['id'] = calls['id'].astype('int')"
   ]
  },
  {
   "cell_type": "code",
   "execution_count": 13,
   "metadata": {},
   "outputs": [
    {
     "data": {
      "text/html": [
       "<div>\n",
       "<style scoped>\n",
       "    .dataframe tbody tr th:only-of-type {\n",
       "        vertical-align: middle;\n",
       "    }\n",
       "\n",
       "    .dataframe tbody tr th {\n",
       "        vertical-align: top;\n",
       "    }\n",
       "\n",
       "    .dataframe thead th {\n",
       "        text-align: right;\n",
       "    }\n",
       "</style>\n",
       "<table border=\"1\" class=\"dataframe\">\n",
       "  <thead>\n",
       "    <tr style=\"text-align: right;\">\n",
       "      <th></th>\n",
       "      <th>id</th>\n",
       "      <th>call_date</th>\n",
       "      <th>duration</th>\n",
       "      <th>user_id</th>\n",
       "    </tr>\n",
       "  </thead>\n",
       "  <tbody>\n",
       "    <tr>\n",
       "      <th>0</th>\n",
       "      <td>10000</td>\n",
       "      <td>2018-07-25</td>\n",
       "      <td>0</td>\n",
       "      <td>1000</td>\n",
       "    </tr>\n",
       "    <tr>\n",
       "      <th>1</th>\n",
       "      <td>10001</td>\n",
       "      <td>2018-08-17</td>\n",
       "      <td>0</td>\n",
       "      <td>1000</td>\n",
       "    </tr>\n",
       "    <tr>\n",
       "      <th>2</th>\n",
       "      <td>10002</td>\n",
       "      <td>2018-06-11</td>\n",
       "      <td>3</td>\n",
       "      <td>1000</td>\n",
       "    </tr>\n",
       "    <tr>\n",
       "      <th>3</th>\n",
       "      <td>10003</td>\n",
       "      <td>2018-09-21</td>\n",
       "      <td>14</td>\n",
       "      <td>1000</td>\n",
       "    </tr>\n",
       "    <tr>\n",
       "      <th>4</th>\n",
       "      <td>10004</td>\n",
       "      <td>2018-12-15</td>\n",
       "      <td>6</td>\n",
       "      <td>1000</td>\n",
       "    </tr>\n",
       "    <tr>\n",
       "      <th>5</th>\n",
       "      <td>10005</td>\n",
       "      <td>2018-11-02</td>\n",
       "      <td>0</td>\n",
       "      <td>1000</td>\n",
       "    </tr>\n",
       "    <tr>\n",
       "      <th>6</th>\n",
       "      <td>10006</td>\n",
       "      <td>2018-10-18</td>\n",
       "      <td>0</td>\n",
       "      <td>1000</td>\n",
       "    </tr>\n",
       "    <tr>\n",
       "      <th>7</th>\n",
       "      <td>10007</td>\n",
       "      <td>2018-08-22</td>\n",
       "      <td>19</td>\n",
       "      <td>1000</td>\n",
       "    </tr>\n",
       "    <tr>\n",
       "      <th>8</th>\n",
       "      <td>10008</td>\n",
       "      <td>2018-09-15</td>\n",
       "      <td>19</td>\n",
       "      <td>1000</td>\n",
       "    </tr>\n",
       "    <tr>\n",
       "      <th>9</th>\n",
       "      <td>10009</td>\n",
       "      <td>2018-08-15</td>\n",
       "      <td>0</td>\n",
       "      <td>1000</td>\n",
       "    </tr>\n",
       "  </tbody>\n",
       "</table>\n",
       "</div>"
      ],
      "text/plain": [
       "      id  call_date  duration  user_id\n",
       "0  10000 2018-07-25         0     1000\n",
       "1  10001 2018-08-17         0     1000\n",
       "2  10002 2018-06-11         3     1000\n",
       "3  10003 2018-09-21        14     1000\n",
       "4  10004 2018-12-15         6     1000\n",
       "5  10005 2018-11-02         0     1000\n",
       "6  10006 2018-10-18         0     1000\n",
       "7  10007 2018-08-22        19     1000\n",
       "8  10008 2018-09-15        19     1000\n",
       "9  10009 2018-08-15         0     1000"
      ]
     },
     "execution_count": 13,
     "metadata": {},
     "output_type": "execute_result"
    }
   ],
   "source": [
    "#округлим продолжительность звонков до целых чисел, т.к наш оператор так и делает\n",
    "calls['duration'] = calls['duration'].apply(np.ceil).astype('int')\n",
    "calls.head(10)"
   ]
  },
  {
   "cell_type": "markdown",
   "metadata": {},
   "source": [
    "Мы можем наблюдать много 0, однако в описании проекта сказано: \"Это не ошибка: нулями обозначены пропущенные звонки, поэтому их не нужно удалять.\" Прэтому ничего с ними делать не будем.\n",
    "\n",
    "Со всем остальным здесь проблем нет."
   ]
  },
  {
   "cell_type": "code",
   "execution_count": 14,
   "metadata": {},
   "outputs": [
    {
     "data": {
      "text/html": [
       "<div>\n",
       "<style scoped>\n",
       "    .dataframe tbody tr th:only-of-type {\n",
       "        vertical-align: middle;\n",
       "    }\n",
       "\n",
       "    .dataframe tbody tr th {\n",
       "        vertical-align: top;\n",
       "    }\n",
       "\n",
       "    .dataframe thead th {\n",
       "        text-align: right;\n",
       "    }\n",
       "</style>\n",
       "<table border=\"1\" class=\"dataframe\">\n",
       "  <thead>\n",
       "    <tr style=\"text-align: right;\">\n",
       "      <th></th>\n",
       "      <th>id</th>\n",
       "      <th>message_date</th>\n",
       "      <th>user_id</th>\n",
       "    </tr>\n",
       "  </thead>\n",
       "  <tbody>\n",
       "    <tr>\n",
       "      <th>0</th>\n",
       "      <td>1000_0</td>\n",
       "      <td>2018-06-27</td>\n",
       "      <td>1000</td>\n",
       "    </tr>\n",
       "    <tr>\n",
       "      <th>1</th>\n",
       "      <td>1000_1</td>\n",
       "      <td>2018-10-08</td>\n",
       "      <td>1000</td>\n",
       "    </tr>\n",
       "    <tr>\n",
       "      <th>2</th>\n",
       "      <td>1000_2</td>\n",
       "      <td>2018-08-04</td>\n",
       "      <td>1000</td>\n",
       "    </tr>\n",
       "    <tr>\n",
       "      <th>3</th>\n",
       "      <td>1000_3</td>\n",
       "      <td>2018-06-16</td>\n",
       "      <td>1000</td>\n",
       "    </tr>\n",
       "    <tr>\n",
       "      <th>4</th>\n",
       "      <td>1000_4</td>\n",
       "      <td>2018-12-05</td>\n",
       "      <td>1000</td>\n",
       "    </tr>\n",
       "    <tr>\n",
       "      <th>5</th>\n",
       "      <td>1000_5</td>\n",
       "      <td>2018-06-20</td>\n",
       "      <td>1000</td>\n",
       "    </tr>\n",
       "    <tr>\n",
       "      <th>6</th>\n",
       "      <td>1000_6</td>\n",
       "      <td>2018-11-19</td>\n",
       "      <td>1000</td>\n",
       "    </tr>\n",
       "    <tr>\n",
       "      <th>7</th>\n",
       "      <td>1000_7</td>\n",
       "      <td>2018-10-29</td>\n",
       "      <td>1000</td>\n",
       "    </tr>\n",
       "    <tr>\n",
       "      <th>8</th>\n",
       "      <td>1000_8</td>\n",
       "      <td>2018-06-25</td>\n",
       "      <td>1000</td>\n",
       "    </tr>\n",
       "    <tr>\n",
       "      <th>9</th>\n",
       "      <td>1000_9</td>\n",
       "      <td>2018-12-18</td>\n",
       "      <td>1000</td>\n",
       "    </tr>\n",
       "    <tr>\n",
       "      <th>10</th>\n",
       "      <td>1000_10</td>\n",
       "      <td>2018-05-30</td>\n",
       "      <td>1000</td>\n",
       "    </tr>\n",
       "    <tr>\n",
       "      <th>11</th>\n",
       "      <td>1000_11</td>\n",
       "      <td>2018-07-06</td>\n",
       "      <td>1000</td>\n",
       "    </tr>\n",
       "    <tr>\n",
       "      <th>12</th>\n",
       "      <td>1000_12</td>\n",
       "      <td>2018-08-20</td>\n",
       "      <td>1000</td>\n",
       "    </tr>\n",
       "    <tr>\n",
       "      <th>13</th>\n",
       "      <td>1000_13</td>\n",
       "      <td>2018-10-30</td>\n",
       "      <td>1000</td>\n",
       "    </tr>\n",
       "    <tr>\n",
       "      <th>14</th>\n",
       "      <td>1000_14</td>\n",
       "      <td>2018-09-14</td>\n",
       "      <td>1000</td>\n",
       "    </tr>\n",
       "  </tbody>\n",
       "</table>\n",
       "</div>"
      ],
      "text/plain": [
       "         id message_date  user_id\n",
       "0    1000_0   2018-06-27     1000\n",
       "1    1000_1   2018-10-08     1000\n",
       "2    1000_2   2018-08-04     1000\n",
       "3    1000_3   2018-06-16     1000\n",
       "4    1000_4   2018-12-05     1000\n",
       "5    1000_5   2018-06-20     1000\n",
       "6    1000_6   2018-11-19     1000\n",
       "7    1000_7   2018-10-29     1000\n",
       "8    1000_8   2018-06-25     1000\n",
       "9    1000_9   2018-12-18     1000\n",
       "10  1000_10   2018-05-30     1000\n",
       "11  1000_11   2018-07-06     1000\n",
       "12  1000_12   2018-08-20     1000\n",
       "13  1000_13   2018-10-30     1000\n",
       "14  1000_14   2018-09-14     1000"
      ]
     },
     "execution_count": 14,
     "metadata": {},
     "output_type": "execute_result"
    }
   ],
   "source": [
    "# перейдем к столбцу messages\n",
    "messages.head(15)"
   ]
  },
  {
   "cell_type": "code",
   "execution_count": 15,
   "metadata": {
    "scrolled": true
   },
   "outputs": [
    {
     "name": "stdout",
     "output_type": "stream",
     "text": [
      "<class 'pandas.core.frame.DataFrame'>\n",
      "RangeIndex: 123036 entries, 0 to 123035\n",
      "Data columns (total 3 columns):\n",
      " #   Column        Non-Null Count   Dtype \n",
      "---  ------        --------------   ----- \n",
      " 0   id            123036 non-null  object\n",
      " 1   message_date  123036 non-null  object\n",
      " 2   user_id       123036 non-null  int64 \n",
      "dtypes: int64(1), object(2)\n",
      "memory usage: 2.8+ MB\n"
     ]
    }
   ],
   "source": [
    "messages.info()"
   ]
  },
  {
   "cell_type": "markdown",
   "metadata": {},
   "source": [
    "нужно привести \"id\" и \"message_date\" к нужному типу и формату"
   ]
  },
  {
   "cell_type": "code",
   "execution_count": 16,
   "metadata": {},
   "outputs": [],
   "source": [
    "messages['message_date'] = pd.to_datetime(messages['message_date'], format=\"%Y-%m-%d\")"
   ]
  },
  {
   "cell_type": "code",
   "execution_count": 17,
   "metadata": {},
   "outputs": [],
   "source": [
    "messages['id'] = messages['id'].astype('int')"
   ]
  },
  {
   "cell_type": "code",
   "execution_count": 18,
   "metadata": {},
   "outputs": [
    {
     "name": "stdout",
     "output_type": "stream",
     "text": [
      "<class 'pandas.core.frame.DataFrame'>\n",
      "RangeIndex: 123036 entries, 0 to 123035\n",
      "Data columns (total 3 columns):\n",
      " #   Column        Non-Null Count   Dtype         \n",
      "---  ------        --------------   -----         \n",
      " 0   id            123036 non-null  int64         \n",
      " 1   message_date  123036 non-null  datetime64[ns]\n",
      " 2   user_id       123036 non-null  int64         \n",
      "dtypes: datetime64[ns](1), int64(2)\n",
      "memory usage: 2.8 MB\n"
     ]
    }
   ],
   "source": [
    "messages.info()"
   ]
  },
  {
   "cell_type": "markdown",
   "metadata": {},
   "source": [
    "В остальном все нормально"
   ]
  },
  {
   "cell_type": "code",
   "execution_count": 19,
   "metadata": {},
   "outputs": [
    {
     "data": {
      "text/html": [
       "<div>\n",
       "<style scoped>\n",
       "    .dataframe tbody tr th:only-of-type {\n",
       "        vertical-align: middle;\n",
       "    }\n",
       "\n",
       "    .dataframe tbody tr th {\n",
       "        vertical-align: top;\n",
       "    }\n",
       "\n",
       "    .dataframe thead th {\n",
       "        text-align: right;\n",
       "    }\n",
       "</style>\n",
       "<table border=\"1\" class=\"dataframe\">\n",
       "  <thead>\n",
       "    <tr style=\"text-align: right;\">\n",
       "      <th></th>\n",
       "      <th>Unnamed: 0</th>\n",
       "      <th>id</th>\n",
       "      <th>mb_used</th>\n",
       "      <th>session_date</th>\n",
       "      <th>user_id</th>\n",
       "    </tr>\n",
       "  </thead>\n",
       "  <tbody>\n",
       "    <tr>\n",
       "      <th>0</th>\n",
       "      <td>0</td>\n",
       "      <td>1000_0</td>\n",
       "      <td>112.95</td>\n",
       "      <td>2018-11-25</td>\n",
       "      <td>1000</td>\n",
       "    </tr>\n",
       "    <tr>\n",
       "      <th>1</th>\n",
       "      <td>1</td>\n",
       "      <td>1000_1</td>\n",
       "      <td>1052.81</td>\n",
       "      <td>2018-09-07</td>\n",
       "      <td>1000</td>\n",
       "    </tr>\n",
       "    <tr>\n",
       "      <th>2</th>\n",
       "      <td>2</td>\n",
       "      <td>1000_2</td>\n",
       "      <td>1197.26</td>\n",
       "      <td>2018-06-25</td>\n",
       "      <td>1000</td>\n",
       "    </tr>\n",
       "    <tr>\n",
       "      <th>3</th>\n",
       "      <td>3</td>\n",
       "      <td>1000_3</td>\n",
       "      <td>550.27</td>\n",
       "      <td>2018-08-22</td>\n",
       "      <td>1000</td>\n",
       "    </tr>\n",
       "    <tr>\n",
       "      <th>4</th>\n",
       "      <td>4</td>\n",
       "      <td>1000_4</td>\n",
       "      <td>302.56</td>\n",
       "      <td>2018-09-24</td>\n",
       "      <td>1000</td>\n",
       "    </tr>\n",
       "    <tr>\n",
       "      <th>5</th>\n",
       "      <td>5</td>\n",
       "      <td>1000_5</td>\n",
       "      <td>399.97</td>\n",
       "      <td>2018-10-02</td>\n",
       "      <td>1000</td>\n",
       "    </tr>\n",
       "    <tr>\n",
       "      <th>6</th>\n",
       "      <td>6</td>\n",
       "      <td>1000_6</td>\n",
       "      <td>540.08</td>\n",
       "      <td>2018-09-07</td>\n",
       "      <td>1000</td>\n",
       "    </tr>\n",
       "    <tr>\n",
       "      <th>7</th>\n",
       "      <td>7</td>\n",
       "      <td>1000_7</td>\n",
       "      <td>415.70</td>\n",
       "      <td>2018-07-11</td>\n",
       "      <td>1000</td>\n",
       "    </tr>\n",
       "    <tr>\n",
       "      <th>8</th>\n",
       "      <td>8</td>\n",
       "      <td>1000_8</td>\n",
       "      <td>505.40</td>\n",
       "      <td>2018-10-08</td>\n",
       "      <td>1000</td>\n",
       "    </tr>\n",
       "    <tr>\n",
       "      <th>9</th>\n",
       "      <td>9</td>\n",
       "      <td>1000_9</td>\n",
       "      <td>345.54</td>\n",
       "      <td>2018-09-03</td>\n",
       "      <td>1000</td>\n",
       "    </tr>\n",
       "    <tr>\n",
       "      <th>10</th>\n",
       "      <td>10</td>\n",
       "      <td>1000_10</td>\n",
       "      <td>385.14</td>\n",
       "      <td>2018-09-27</td>\n",
       "      <td>1000</td>\n",
       "    </tr>\n",
       "    <tr>\n",
       "      <th>11</th>\n",
       "      <td>11</td>\n",
       "      <td>1000_11</td>\n",
       "      <td>0.00</td>\n",
       "      <td>2018-08-28</td>\n",
       "      <td>1000</td>\n",
       "    </tr>\n",
       "    <tr>\n",
       "      <th>12</th>\n",
       "      <td>12</td>\n",
       "      <td>1000_12</td>\n",
       "      <td>375.87</td>\n",
       "      <td>2018-06-20</td>\n",
       "      <td>1000</td>\n",
       "    </tr>\n",
       "    <tr>\n",
       "      <th>13</th>\n",
       "      <td>13</td>\n",
       "      <td>1000_13</td>\n",
       "      <td>393.83</td>\n",
       "      <td>2018-08-09</td>\n",
       "      <td>1000</td>\n",
       "    </tr>\n",
       "    <tr>\n",
       "      <th>14</th>\n",
       "      <td>14</td>\n",
       "      <td>1000_14</td>\n",
       "      <td>180.64</td>\n",
       "      <td>2018-08-11</td>\n",
       "      <td>1000</td>\n",
       "    </tr>\n",
       "  </tbody>\n",
       "</table>\n",
       "</div>"
      ],
      "text/plain": [
       "    Unnamed: 0       id  mb_used session_date  user_id\n",
       "0            0   1000_0   112.95   2018-11-25     1000\n",
       "1            1   1000_1  1052.81   2018-09-07     1000\n",
       "2            2   1000_2  1197.26   2018-06-25     1000\n",
       "3            3   1000_3   550.27   2018-08-22     1000\n",
       "4            4   1000_4   302.56   2018-09-24     1000\n",
       "5            5   1000_5   399.97   2018-10-02     1000\n",
       "6            6   1000_6   540.08   2018-09-07     1000\n",
       "7            7   1000_7   415.70   2018-07-11     1000\n",
       "8            8   1000_8   505.40   2018-10-08     1000\n",
       "9            9   1000_9   345.54   2018-09-03     1000\n",
       "10          10  1000_10   385.14   2018-09-27     1000\n",
       "11          11  1000_11     0.00   2018-08-28     1000\n",
       "12          12  1000_12   375.87   2018-06-20     1000\n",
       "13          13  1000_13   393.83   2018-08-09     1000\n",
       "14          14  1000_14   180.64   2018-08-11     1000"
      ]
     },
     "execution_count": 19,
     "metadata": {},
     "output_type": "execute_result"
    }
   ],
   "source": [
    "# теперь перейлем к столбцу internet\n",
    "internet.head(15)"
   ]
  },
  {
   "cell_type": "code",
   "execution_count": 20,
   "metadata": {},
   "outputs": [
    {
     "data": {
      "text/html": [
       "<div>\n",
       "<style scoped>\n",
       "    .dataframe tbody tr th:only-of-type {\n",
       "        vertical-align: middle;\n",
       "    }\n",
       "\n",
       "    .dataframe tbody tr th {\n",
       "        vertical-align: top;\n",
       "    }\n",
       "\n",
       "    .dataframe thead th {\n",
       "        text-align: right;\n",
       "    }\n",
       "</style>\n",
       "<table border=\"1\" class=\"dataframe\">\n",
       "  <thead>\n",
       "    <tr style=\"text-align: right;\">\n",
       "      <th></th>\n",
       "      <th>Unnamed: 0</th>\n",
       "      <th>mb_used</th>\n",
       "      <th>user_id</th>\n",
       "    </tr>\n",
       "  </thead>\n",
       "  <tbody>\n",
       "    <tr>\n",
       "      <th>count</th>\n",
       "      <td>149396.000000</td>\n",
       "      <td>149396.000000</td>\n",
       "      <td>149396.000000</td>\n",
       "    </tr>\n",
       "    <tr>\n",
       "      <th>mean</th>\n",
       "      <td>74697.500000</td>\n",
       "      <td>370.192426</td>\n",
       "      <td>1252.099842</td>\n",
       "    </tr>\n",
       "    <tr>\n",
       "      <th>std</th>\n",
       "      <td>43127.054745</td>\n",
       "      <td>278.300951</td>\n",
       "      <td>144.050823</td>\n",
       "    </tr>\n",
       "    <tr>\n",
       "      <th>min</th>\n",
       "      <td>0.000000</td>\n",
       "      <td>0.000000</td>\n",
       "      <td>1000.000000</td>\n",
       "    </tr>\n",
       "    <tr>\n",
       "      <th>25%</th>\n",
       "      <td>37348.750000</td>\n",
       "      <td>138.187500</td>\n",
       "      <td>1130.000000</td>\n",
       "    </tr>\n",
       "    <tr>\n",
       "      <th>50%</th>\n",
       "      <td>74697.500000</td>\n",
       "      <td>348.015000</td>\n",
       "      <td>1251.000000</td>\n",
       "    </tr>\n",
       "    <tr>\n",
       "      <th>75%</th>\n",
       "      <td>112046.250000</td>\n",
       "      <td>559.552500</td>\n",
       "      <td>1380.000000</td>\n",
       "    </tr>\n",
       "    <tr>\n",
       "      <th>max</th>\n",
       "      <td>149395.000000</td>\n",
       "      <td>1724.830000</td>\n",
       "      <td>1499.000000</td>\n",
       "    </tr>\n",
       "  </tbody>\n",
       "</table>\n",
       "</div>"
      ],
      "text/plain": [
       "          Unnamed: 0        mb_used        user_id\n",
       "count  149396.000000  149396.000000  149396.000000\n",
       "mean    74697.500000     370.192426    1252.099842\n",
       "std     43127.054745     278.300951     144.050823\n",
       "min         0.000000       0.000000    1000.000000\n",
       "25%     37348.750000     138.187500    1130.000000\n",
       "50%     74697.500000     348.015000    1251.000000\n",
       "75%    112046.250000     559.552500    1380.000000\n",
       "max    149395.000000    1724.830000    1499.000000"
      ]
     },
     "execution_count": 20,
     "metadata": {},
     "output_type": "execute_result"
    }
   ],
   "source": [
    "internet.describe()"
   ]
  },
  {
   "cell_type": "code",
   "execution_count": 21,
   "metadata": {},
   "outputs": [
    {
     "name": "stdout",
     "output_type": "stream",
     "text": [
      "<class 'pandas.core.frame.DataFrame'>\n",
      "RangeIndex: 149396 entries, 0 to 149395\n",
      "Data columns (total 5 columns):\n",
      " #   Column        Non-Null Count   Dtype  \n",
      "---  ------        --------------   -----  \n",
      " 0   Unnamed: 0    149396 non-null  int64  \n",
      " 1   id            149396 non-null  object \n",
      " 2   mb_used       149396 non-null  float64\n",
      " 3   session_date  149396 non-null  object \n",
      " 4   user_id       149396 non-null  int64  \n",
      "dtypes: float64(1), int64(2), object(2)\n",
      "memory usage: 5.7+ MB\n"
     ]
    }
   ],
   "source": [
    "internet.info()"
   ]
  },
  {
   "cell_type": "markdown",
   "metadata": {},
   "source": [
    "приведем столбцы 'id' и 'session_date' к нужному формату и типу"
   ]
  },
  {
   "cell_type": "code",
   "execution_count": 22,
   "metadata": {},
   "outputs": [],
   "source": [
    "internet['id'] = internet['id'].astype('int')"
   ]
  },
  {
   "cell_type": "code",
   "execution_count": 23,
   "metadata": {},
   "outputs": [],
   "source": [
    "internet['session_date'] = pd.to_datetime(internet['session_date'], format=\"%Y-%m-%d\")"
   ]
  },
  {
   "cell_type": "code",
   "execution_count": 24,
   "metadata": {},
   "outputs": [
    {
     "name": "stdout",
     "output_type": "stream",
     "text": [
      "<class 'pandas.core.frame.DataFrame'>\n",
      "RangeIndex: 149396 entries, 0 to 149395\n",
      "Data columns (total 5 columns):\n",
      " #   Column        Non-Null Count   Dtype         \n",
      "---  ------        --------------   -----         \n",
      " 0   Unnamed: 0    149396 non-null  int64         \n",
      " 1   id            149396 non-null  int64         \n",
      " 2   mb_used       149396 non-null  float64       \n",
      " 3   session_date  149396 non-null  datetime64[ns]\n",
      " 4   user_id       149396 non-null  int64         \n",
      "dtypes: datetime64[ns](1), float64(1), int64(3)\n",
      "memory usage: 5.7 MB\n"
     ]
    }
   ],
   "source": [
    "internet.info()"
   ]
  },
  {
   "cell_type": "code",
   "execution_count": 25,
   "metadata": {},
   "outputs": [],
   "source": [
    "# теперь округлим весь трафик до мегабайта\n",
    "#internet['mb_used'] = internet['mb_used'].apply(np.ceil)\n",
    "#internet.head(15)"
   ]
  },
  {
   "cell_type": "code",
   "execution_count": 26,
   "metadata": {},
   "outputs": [
    {
     "data": {
      "text/html": [
       "<div>\n",
       "<style scoped>\n",
       "    .dataframe tbody tr th:only-of-type {\n",
       "        vertical-align: middle;\n",
       "    }\n",
       "\n",
       "    .dataframe tbody tr th {\n",
       "        vertical-align: top;\n",
       "    }\n",
       "\n",
       "    .dataframe thead th {\n",
       "        text-align: right;\n",
       "    }\n",
       "</style>\n",
       "<table border=\"1\" class=\"dataframe\">\n",
       "  <thead>\n",
       "    <tr style=\"text-align: right;\">\n",
       "      <th></th>\n",
       "      <th>Unnamed: 0</th>\n",
       "      <th>id</th>\n",
       "      <th>mb_used</th>\n",
       "      <th>session_date</th>\n",
       "      <th>user_id</th>\n",
       "      <th>gb_used</th>\n",
       "    </tr>\n",
       "  </thead>\n",
       "  <tbody>\n",
       "    <tr>\n",
       "      <th>0</th>\n",
       "      <td>0</td>\n",
       "      <td>10000</td>\n",
       "      <td>112.95</td>\n",
       "      <td>2018-11-25</td>\n",
       "      <td>1000</td>\n",
       "      <td>0.110303</td>\n",
       "    </tr>\n",
       "    <tr>\n",
       "      <th>1</th>\n",
       "      <td>1</td>\n",
       "      <td>10001</td>\n",
       "      <td>1052.81</td>\n",
       "      <td>2018-09-07</td>\n",
       "      <td>1000</td>\n",
       "      <td>1.028135</td>\n",
       "    </tr>\n",
       "    <tr>\n",
       "      <th>2</th>\n",
       "      <td>2</td>\n",
       "      <td>10002</td>\n",
       "      <td>1197.26</td>\n",
       "      <td>2018-06-25</td>\n",
       "      <td>1000</td>\n",
       "      <td>1.169199</td>\n",
       "    </tr>\n",
       "    <tr>\n",
       "      <th>3</th>\n",
       "      <td>3</td>\n",
       "      <td>10003</td>\n",
       "      <td>550.27</td>\n",
       "      <td>2018-08-22</td>\n",
       "      <td>1000</td>\n",
       "      <td>0.537373</td>\n",
       "    </tr>\n",
       "    <tr>\n",
       "      <th>4</th>\n",
       "      <td>4</td>\n",
       "      <td>10004</td>\n",
       "      <td>302.56</td>\n",
       "      <td>2018-09-24</td>\n",
       "      <td>1000</td>\n",
       "      <td>0.295469</td>\n",
       "    </tr>\n",
       "    <tr>\n",
       "      <th>5</th>\n",
       "      <td>5</td>\n",
       "      <td>10005</td>\n",
       "      <td>399.97</td>\n",
       "      <td>2018-10-02</td>\n",
       "      <td>1000</td>\n",
       "      <td>0.390596</td>\n",
       "    </tr>\n",
       "    <tr>\n",
       "      <th>6</th>\n",
       "      <td>6</td>\n",
       "      <td>10006</td>\n",
       "      <td>540.08</td>\n",
       "      <td>2018-09-07</td>\n",
       "      <td>1000</td>\n",
       "      <td>0.527422</td>\n",
       "    </tr>\n",
       "    <tr>\n",
       "      <th>7</th>\n",
       "      <td>7</td>\n",
       "      <td>10007</td>\n",
       "      <td>415.70</td>\n",
       "      <td>2018-07-11</td>\n",
       "      <td>1000</td>\n",
       "      <td>0.405957</td>\n",
       "    </tr>\n",
       "    <tr>\n",
       "      <th>8</th>\n",
       "      <td>8</td>\n",
       "      <td>10008</td>\n",
       "      <td>505.40</td>\n",
       "      <td>2018-10-08</td>\n",
       "      <td>1000</td>\n",
       "      <td>0.493555</td>\n",
       "    </tr>\n",
       "    <tr>\n",
       "      <th>9</th>\n",
       "      <td>9</td>\n",
       "      <td>10009</td>\n",
       "      <td>345.54</td>\n",
       "      <td>2018-09-03</td>\n",
       "      <td>1000</td>\n",
       "      <td>0.337441</td>\n",
       "    </tr>\n",
       "    <tr>\n",
       "      <th>10</th>\n",
       "      <td>10</td>\n",
       "      <td>100010</td>\n",
       "      <td>385.14</td>\n",
       "      <td>2018-09-27</td>\n",
       "      <td>1000</td>\n",
       "      <td>0.376113</td>\n",
       "    </tr>\n",
       "    <tr>\n",
       "      <th>11</th>\n",
       "      <td>11</td>\n",
       "      <td>100011</td>\n",
       "      <td>0.00</td>\n",
       "      <td>2018-08-28</td>\n",
       "      <td>1000</td>\n",
       "      <td>0.000000</td>\n",
       "    </tr>\n",
       "    <tr>\n",
       "      <th>12</th>\n",
       "      <td>12</td>\n",
       "      <td>100012</td>\n",
       "      <td>375.87</td>\n",
       "      <td>2018-06-20</td>\n",
       "      <td>1000</td>\n",
       "      <td>0.367061</td>\n",
       "    </tr>\n",
       "    <tr>\n",
       "      <th>13</th>\n",
       "      <td>13</td>\n",
       "      <td>100013</td>\n",
       "      <td>393.83</td>\n",
       "      <td>2018-08-09</td>\n",
       "      <td>1000</td>\n",
       "      <td>0.384600</td>\n",
       "    </tr>\n",
       "    <tr>\n",
       "      <th>14</th>\n",
       "      <td>14</td>\n",
       "      <td>100014</td>\n",
       "      <td>180.64</td>\n",
       "      <td>2018-08-11</td>\n",
       "      <td>1000</td>\n",
       "      <td>0.176406</td>\n",
       "    </tr>\n",
       "  </tbody>\n",
       "</table>\n",
       "</div>"
      ],
      "text/plain": [
       "    Unnamed: 0      id  mb_used session_date  user_id   gb_used\n",
       "0            0   10000   112.95   2018-11-25     1000  0.110303\n",
       "1            1   10001  1052.81   2018-09-07     1000  1.028135\n",
       "2            2   10002  1197.26   2018-06-25     1000  1.169199\n",
       "3            3   10003   550.27   2018-08-22     1000  0.537373\n",
       "4            4   10004   302.56   2018-09-24     1000  0.295469\n",
       "5            5   10005   399.97   2018-10-02     1000  0.390596\n",
       "6            6   10006   540.08   2018-09-07     1000  0.527422\n",
       "7            7   10007   415.70   2018-07-11     1000  0.405957\n",
       "8            8   10008   505.40   2018-10-08     1000  0.493555\n",
       "9            9   10009   345.54   2018-09-03     1000  0.337441\n",
       "10          10  100010   385.14   2018-09-27     1000  0.376113\n",
       "11          11  100011     0.00   2018-08-28     1000  0.000000\n",
       "12          12  100012   375.87   2018-06-20     1000  0.367061\n",
       "13          13  100013   393.83   2018-08-09     1000  0.384600\n",
       "14          14  100014   180.64   2018-08-11     1000  0.176406"
      ]
     },
     "execution_count": 26,
     "metadata": {},
     "output_type": "execute_result"
    }
   ],
   "source": [
    "# переведем мб в гб в таблице трафика для дальнейшего подсчета\n",
    "internet['gb_used'] = (internet['mb_used'] / 1024)\n",
    "internet.head(15)"
   ]
  },
  {
   "cell_type": "markdown",
   "metadata": {},
   "source": [
    "Есть пользователи с нулевым графиком. Посмотрим как их много:"
   ]
  },
  {
   "cell_type": "code",
   "execution_count": 27,
   "metadata": {},
   "outputs": [
    {
     "data": {
      "text/plain": [
       "<AxesSubplot:ylabel='Frequency'>"
      ]
     },
     "execution_count": 27,
     "metadata": {},
     "output_type": "execute_result"
    },
    {
     "data": {
      "image/png": "[encoded data removed]",
      "text/plain": [
       "<Figure size 432x288 with 1 Axes>"
      ]
     },
     "metadata": {
      "needs_background": "light"
     },
     "output_type": "display_data"
    }
   ],
   "source": [
    "internet['gb_used'].plot(kind='hist', bins=50)"
   ]
  },
  {
   "cell_type": "code",
   "execution_count": 28,
   "metadata": {},
   "outputs": [
    {
     "data": {
      "text/html": [
       "<div>\n",
       "<style scoped>\n",
       "    .dataframe tbody tr th:only-of-type {\n",
       "        vertical-align: middle;\n",
       "    }\n",
       "\n",
       "    .dataframe tbody tr th {\n",
       "        vertical-align: top;\n",
       "    }\n",
       "\n",
       "    .dataframe thead th {\n",
       "        text-align: right;\n",
       "    }\n",
       "</style>\n",
       "<table border=\"1\" class=\"dataframe\">\n",
       "  <thead>\n",
       "    <tr style=\"text-align: right;\">\n",
       "      <th></th>\n",
       "      <th>Unnamed: 0</th>\n",
       "      <th>id</th>\n",
       "      <th>mb_used</th>\n",
       "      <th>session_date</th>\n",
       "      <th>user_id</th>\n",
       "      <th>gb_used</th>\n",
       "    </tr>\n",
       "  </thead>\n",
       "  <tbody>\n",
       "    <tr>\n",
       "      <th>11</th>\n",
       "      <td>11</td>\n",
       "      <td>100011</td>\n",
       "      <td>0.0</td>\n",
       "      <td>2018-08-28</td>\n",
       "      <td>1000</td>\n",
       "      <td>0.0</td>\n",
       "    </tr>\n",
       "    <tr>\n",
       "      <th>38</th>\n",
       "      <td>38</td>\n",
       "      <td>100038</td>\n",
       "      <td>0.0</td>\n",
       "      <td>2018-11-27</td>\n",
       "      <td>1000</td>\n",
       "      <td>0.0</td>\n",
       "    </tr>\n",
       "    <tr>\n",
       "      <th>46</th>\n",
       "      <td>46</td>\n",
       "      <td>100046</td>\n",
       "      <td>0.0</td>\n",
       "      <td>2018-06-30</td>\n",
       "      <td>1000</td>\n",
       "      <td>0.0</td>\n",
       "    </tr>\n",
       "    <tr>\n",
       "      <th>67</th>\n",
       "      <td>67</td>\n",
       "      <td>100067</td>\n",
       "      <td>0.0</td>\n",
       "      <td>2018-06-16</td>\n",
       "      <td>1000</td>\n",
       "      <td>0.0</td>\n",
       "    </tr>\n",
       "    <tr>\n",
       "      <th>72</th>\n",
       "      <td>72</td>\n",
       "      <td>100072</td>\n",
       "      <td>0.0</td>\n",
       "      <td>2018-06-15</td>\n",
       "      <td>1000</td>\n",
       "      <td>0.0</td>\n",
       "    </tr>\n",
       "    <tr>\n",
       "      <th>...</th>\n",
       "      <td>...</td>\n",
       "      <td>...</td>\n",
       "      <td>...</td>\n",
       "      <td>...</td>\n",
       "      <td>...</td>\n",
       "      <td>...</td>\n",
       "    </tr>\n",
       "    <tr>\n",
       "      <th>149380</th>\n",
       "      <td>149380</td>\n",
       "      <td>1499141</td>\n",
       "      <td>0.0</td>\n",
       "      <td>2018-12-11</td>\n",
       "      <td>1499</td>\n",
       "      <td>0.0</td>\n",
       "    </tr>\n",
       "    <tr>\n",
       "      <th>149381</th>\n",
       "      <td>149381</td>\n",
       "      <td>1499142</td>\n",
       "      <td>0.0</td>\n",
       "      <td>2018-11-01</td>\n",
       "      <td>1499</td>\n",
       "      <td>0.0</td>\n",
       "    </tr>\n",
       "    <tr>\n",
       "      <th>149383</th>\n",
       "      <td>149383</td>\n",
       "      <td>1499144</td>\n",
       "      <td>0.0</td>\n",
       "      <td>2018-11-27</td>\n",
       "      <td>1499</td>\n",
       "      <td>0.0</td>\n",
       "    </tr>\n",
       "    <tr>\n",
       "      <th>149386</th>\n",
       "      <td>149386</td>\n",
       "      <td>1499147</td>\n",
       "      <td>0.0</td>\n",
       "      <td>2018-10-21</td>\n",
       "      <td>1499</td>\n",
       "      <td>0.0</td>\n",
       "    </tr>\n",
       "    <tr>\n",
       "      <th>149393</th>\n",
       "      <td>149393</td>\n",
       "      <td>1499154</td>\n",
       "      <td>0.0</td>\n",
       "      <td>2018-10-27</td>\n",
       "      <td>1499</td>\n",
       "      <td>0.0</td>\n",
       "    </tr>\n",
       "  </tbody>\n",
       "</table>\n",
       "<p>19598 rows × 6 columns</p>\n",
       "</div>"
      ],
      "text/plain": [
       "        Unnamed: 0       id  mb_used session_date  user_id  gb_used\n",
       "11              11   100011      0.0   2018-08-28     1000      0.0\n",
       "38              38   100038      0.0   2018-11-27     1000      0.0\n",
       "46              46   100046      0.0   2018-06-30     1000      0.0\n",
       "67              67   100067      0.0   2018-06-16     1000      0.0\n",
       "72              72   100072      0.0   2018-06-15     1000      0.0\n",
       "...            ...      ...      ...          ...      ...      ...\n",
       "149380      149380  1499141      0.0   2018-12-11     1499      0.0\n",
       "149381      149381  1499142      0.0   2018-11-01     1499      0.0\n",
       "149383      149383  1499144      0.0   2018-11-27     1499      0.0\n",
       "149386      149386  1499147      0.0   2018-10-21     1499      0.0\n",
       "149393      149393  1499154      0.0   2018-10-27     1499      0.0\n",
       "\n",
       "[19598 rows x 6 columns]"
      ]
     },
     "execution_count": 28,
     "metadata": {},
     "output_type": "execute_result"
    }
   ],
   "source": [
    "internet.query('gb_used == 0')"
   ]
  },
  {
   "cell_type": "markdown",
   "metadata": {},
   "source": [
    "Таких строк слишком ного, будет лучше их исключить."
   ]
  },
  {
   "cell_type": "code",
   "execution_count": 29,
   "metadata": {},
   "outputs": [
    {
     "data": {
      "text/plain": [
       "<AxesSubplot:ylabel='Frequency'>"
      ]
     },
     "execution_count": 29,
     "metadata": {},
     "output_type": "execute_result"
    },
    {
     "data": {
      "image/png": "[encoded data removed]",
      "text/plain": [
       "<Figure size 432x288 with 1 Axes>"
      ]
     },
     "metadata": {
      "needs_background": "light"
     },
     "output_type": "display_data"
    }
   ],
   "source": [
    "internet['gb_used'] = internet['gb_used'].replace(0, np.NaN)\n",
    "internet = internet.dropna()\n",
    "# и сразу проверим\n",
    "internet['gb_used'].plot(kind='hist', ec='black', bins=50)"
   ]
  },
  {
   "cell_type": "code",
   "execution_count": 30,
   "metadata": {},
   "outputs": [
    {
     "data": {
      "text/html": [
       "<div>\n",
       "<style scoped>\n",
       "    .dataframe tbody tr th:only-of-type {\n",
       "        vertical-align: middle;\n",
       "    }\n",
       "\n",
       "    .dataframe tbody tr th {\n",
       "        vertical-align: top;\n",
       "    }\n",
       "\n",
       "    .dataframe thead th {\n",
       "        text-align: right;\n",
       "    }\n",
       "</style>\n",
       "<table border=\"1\" class=\"dataframe\">\n",
       "  <thead>\n",
       "    <tr style=\"text-align: right;\">\n",
       "      <th></th>\n",
       "      <th>messages_included</th>\n",
       "      <th>mb_per_month_included</th>\n",
       "      <th>minutes_included</th>\n",
       "      <th>rub_monthly_fee</th>\n",
       "      <th>rub_per_gb</th>\n",
       "      <th>rub_per_message</th>\n",
       "      <th>rub_per_minute</th>\n",
       "      <th>tariff_name</th>\n",
       "    </tr>\n",
       "  </thead>\n",
       "  <tbody>\n",
       "    <tr>\n",
       "      <th>0</th>\n",
       "      <td>50</td>\n",
       "      <td>15360</td>\n",
       "      <td>500</td>\n",
       "      <td>550</td>\n",
       "      <td>200</td>\n",
       "      <td>3</td>\n",
       "      <td>3</td>\n",
       "      <td>smart</td>\n",
       "    </tr>\n",
       "    <tr>\n",
       "      <th>1</th>\n",
       "      <td>1000</td>\n",
       "      <td>30720</td>\n",
       "      <td>3000</td>\n",
       "      <td>1950</td>\n",
       "      <td>150</td>\n",
       "      <td>1</td>\n",
       "      <td>1</td>\n",
       "      <td>ultra</td>\n",
       "    </tr>\n",
       "  </tbody>\n",
       "</table>\n",
       "</div>"
      ],
      "text/plain": [
       "   messages_included  mb_per_month_included  minutes_included  \\\n",
       "0                 50                  15360               500   \n",
       "1               1000                  30720              3000   \n",
       "\n",
       "   rub_monthly_fee  rub_per_gb  rub_per_message  rub_per_minute tariff_name  \n",
       "0              550         200                3               3       smart  \n",
       "1             1950         150                1               1       ultra  "
      ]
     },
     "execution_count": 30,
     "metadata": {},
     "output_type": "execute_result"
    }
   ],
   "source": [
    "# проверим последний столбец tariffs\n",
    "tariffs.head()"
   ]
  },
  {
   "cell_type": "markdown",
   "metadata": {},
   "source": [
    "Здесь все хорошо."
   ]
  },
  {
   "cell_type": "markdown",
   "metadata": {},
   "source": [
    "## Подготовка данных"
   ]
  },
  {
   "cell_type": "markdown",
   "metadata": {},
   "source": [
    "Посчитаем для каждого пользователя:\n",
    "  - количество сделанных звонков и израсходованных минут разговора по месяцам\n",
    "  - количество отправленных сообщений по месяцам\n",
    "  - объем израсходованного интернет-трафика по месяцам\n",
    "  - помесячную выручку с каждого пользователя (вычтите бесплатный лимит из суммарного количества звонков, сообщений и интернет-трафика;  остаток умножьте на значение из тарифного плана; прибавьте абонентскую плату, соответствующую тарифному плану)."
   ]
  },
  {
   "cell_type": "code",
   "execution_count": 31,
   "metadata": {
    "scrolled": true
   },
   "outputs": [
    {
     "data": {
      "text/html": [
       "<div>\n",
       "<style scoped>\n",
       "    .dataframe tbody tr th:only-of-type {\n",
       "        vertical-align: middle;\n",
       "    }\n",
       "\n",
       "    .dataframe tbody tr th {\n",
       "        vertical-align: top;\n",
       "    }\n",
       "\n",
       "    .dataframe thead th {\n",
       "        text-align: right;\n",
       "    }\n",
       "</style>\n",
       "<table border=\"1\" class=\"dataframe\">\n",
       "  <thead>\n",
       "    <tr style=\"text-align: right;\">\n",
       "      <th></th>\n",
       "      <th>id</th>\n",
       "      <th>call_date</th>\n",
       "      <th>duration</th>\n",
       "      <th>user_id</th>\n",
       "      <th>month</th>\n",
       "    </tr>\n",
       "  </thead>\n",
       "  <tbody>\n",
       "    <tr>\n",
       "      <th>0</th>\n",
       "      <td>10000</td>\n",
       "      <td>2018-07-25</td>\n",
       "      <td>0</td>\n",
       "      <td>1000</td>\n",
       "      <td>July</td>\n",
       "    </tr>\n",
       "    <tr>\n",
       "      <th>1</th>\n",
       "      <td>10001</td>\n",
       "      <td>2018-08-17</td>\n",
       "      <td>0</td>\n",
       "      <td>1000</td>\n",
       "      <td>August</td>\n",
       "    </tr>\n",
       "    <tr>\n",
       "      <th>2</th>\n",
       "      <td>10002</td>\n",
       "      <td>2018-06-11</td>\n",
       "      <td>3</td>\n",
       "      <td>1000</td>\n",
       "      <td>June</td>\n",
       "    </tr>\n",
       "    <tr>\n",
       "      <th>3</th>\n",
       "      <td>10003</td>\n",
       "      <td>2018-09-21</td>\n",
       "      <td>14</td>\n",
       "      <td>1000</td>\n",
       "      <td>September</td>\n",
       "    </tr>\n",
       "    <tr>\n",
       "      <th>4</th>\n",
       "      <td>10004</td>\n",
       "      <td>2018-12-15</td>\n",
       "      <td>6</td>\n",
       "      <td>1000</td>\n",
       "      <td>December</td>\n",
       "    </tr>\n",
       "  </tbody>\n",
       "</table>\n",
       "</div>"
      ],
      "text/plain": [
       "      id  call_date  duration  user_id      month\n",
       "0  10000 2018-07-25         0     1000       July\n",
       "1  10001 2018-08-17         0     1000     August\n",
       "2  10002 2018-06-11         3     1000       June\n",
       "3  10003 2018-09-21        14     1000  September\n",
       "4  10004 2018-12-15         6     1000   December"
      ]
     },
     "execution_count": 31,
     "metadata": {},
     "output_type": "execute_result"
    }
   ],
   "source": [
    "# добавим столбец 'month' к звонкам, интернету и смс\n",
    "calls['month'] = calls['call_date'].dt.month_name()\n",
    "messages['month'] = pd.to_datetime(messages['message_date']).dt.month_name()\n",
    "internet['month'] = pd.to_datetime(internet['session_date']).dt.month_name()\n",
    "calls.head()"
   ]
  },
  {
   "cell_type": "code",
   "execution_count": 32,
   "metadata": {},
   "outputs": [
    {
     "data": {
      "text/html": [
       "<div>\n",
       "<style scoped>\n",
       "    .dataframe tbody tr th:only-of-type {\n",
       "        vertical-align: middle;\n",
       "    }\n",
       "\n",
       "    .dataframe tbody tr th {\n",
       "        vertical-align: top;\n",
       "    }\n",
       "\n",
       "    .dataframe thead th {\n",
       "        text-align: right;\n",
       "    }\n",
       "</style>\n",
       "<table border=\"1\" class=\"dataframe\">\n",
       "  <thead>\n",
       "    <tr style=\"text-align: right;\">\n",
       "      <th></th>\n",
       "      <th>id</th>\n",
       "      <th>message_date</th>\n",
       "      <th>user_id</th>\n",
       "      <th>month</th>\n",
       "    </tr>\n",
       "  </thead>\n",
       "  <tbody>\n",
       "    <tr>\n",
       "      <th>0</th>\n",
       "      <td>10000</td>\n",
       "      <td>2018-06-27</td>\n",
       "      <td>1000</td>\n",
       "      <td>June</td>\n",
       "    </tr>\n",
       "    <tr>\n",
       "      <th>1</th>\n",
       "      <td>10001</td>\n",
       "      <td>2018-10-08</td>\n",
       "      <td>1000</td>\n",
       "      <td>October</td>\n",
       "    </tr>\n",
       "    <tr>\n",
       "      <th>2</th>\n",
       "      <td>10002</td>\n",
       "      <td>2018-08-04</td>\n",
       "      <td>1000</td>\n",
       "      <td>August</td>\n",
       "    </tr>\n",
       "    <tr>\n",
       "      <th>3</th>\n",
       "      <td>10003</td>\n",
       "      <td>2018-06-16</td>\n",
       "      <td>1000</td>\n",
       "      <td>June</td>\n",
       "    </tr>\n",
       "    <tr>\n",
       "      <th>4</th>\n",
       "      <td>10004</td>\n",
       "      <td>2018-12-05</td>\n",
       "      <td>1000</td>\n",
       "      <td>December</td>\n",
       "    </tr>\n",
       "  </tbody>\n",
       "</table>\n",
       "</div>"
      ],
      "text/plain": [
       "      id message_date  user_id     month\n",
       "0  10000   2018-06-27     1000      June\n",
       "1  10001   2018-10-08     1000   October\n",
       "2  10002   2018-08-04     1000    August\n",
       "3  10003   2018-06-16     1000      June\n",
       "4  10004   2018-12-05     1000  December"
      ]
     },
     "execution_count": 32,
     "metadata": {},
     "output_type": "execute_result"
    }
   ],
   "source": [
    "messages.head()"
   ]
  },
  {
   "cell_type": "code",
   "execution_count": 33,
   "metadata": {},
   "outputs": [
    {
     "data": {
      "text/html": [
       "<div>\n",
       "<style scoped>\n",
       "    .dataframe tbody tr th:only-of-type {\n",
       "        vertical-align: middle;\n",
       "    }\n",
       "\n",
       "    .dataframe tbody tr th {\n",
       "        vertical-align: top;\n",
       "    }\n",
       "\n",
       "    .dataframe thead th {\n",
       "        text-align: right;\n",
       "    }\n",
       "</style>\n",
       "<table border=\"1\" class=\"dataframe\">\n",
       "  <thead>\n",
       "    <tr style=\"text-align: right;\">\n",
       "      <th></th>\n",
       "      <th>Unnamed: 0</th>\n",
       "      <th>id</th>\n",
       "      <th>mb_used</th>\n",
       "      <th>session_date</th>\n",
       "      <th>user_id</th>\n",
       "      <th>gb_used</th>\n",
       "      <th>month</th>\n",
       "    </tr>\n",
       "  </thead>\n",
       "  <tbody>\n",
       "    <tr>\n",
       "      <th>0</th>\n",
       "      <td>0</td>\n",
       "      <td>10000</td>\n",
       "      <td>112.95</td>\n",
       "      <td>2018-11-25</td>\n",
       "      <td>1000</td>\n",
       "      <td>0.110303</td>\n",
       "      <td>November</td>\n",
       "    </tr>\n",
       "    <tr>\n",
       "      <th>1</th>\n",
       "      <td>1</td>\n",
       "      <td>10001</td>\n",
       "      <td>1052.81</td>\n",
       "      <td>2018-09-07</td>\n",
       "      <td>1000</td>\n",
       "      <td>1.028135</td>\n",
       "      <td>September</td>\n",
       "    </tr>\n",
       "    <tr>\n",
       "      <th>2</th>\n",
       "      <td>2</td>\n",
       "      <td>10002</td>\n",
       "      <td>1197.26</td>\n",
       "      <td>2018-06-25</td>\n",
       "      <td>1000</td>\n",
       "      <td>1.169199</td>\n",
       "      <td>June</td>\n",
       "    </tr>\n",
       "    <tr>\n",
       "      <th>3</th>\n",
       "      <td>3</td>\n",
       "      <td>10003</td>\n",
       "      <td>550.27</td>\n",
       "      <td>2018-08-22</td>\n",
       "      <td>1000</td>\n",
       "      <td>0.537373</td>\n",
       "      <td>August</td>\n",
       "    </tr>\n",
       "    <tr>\n",
       "      <th>4</th>\n",
       "      <td>4</td>\n",
       "      <td>10004</td>\n",
       "      <td>302.56</td>\n",
       "      <td>2018-09-24</td>\n",
       "      <td>1000</td>\n",
       "      <td>0.295469</td>\n",
       "      <td>September</td>\n",
       "    </tr>\n",
       "  </tbody>\n",
       "</table>\n",
       "</div>"
      ],
      "text/plain": [
       "   Unnamed: 0     id  mb_used session_date  user_id   gb_used      month\n",
       "0           0  10000   112.95   2018-11-25     1000  0.110303   November\n",
       "1           1  10001  1052.81   2018-09-07     1000  1.028135  September\n",
       "2           2  10002  1197.26   2018-06-25     1000  1.169199       June\n",
       "3           3  10003   550.27   2018-08-22     1000  0.537373     August\n",
       "4           4  10004   302.56   2018-09-24     1000  0.295469  September"
      ]
     },
     "execution_count": 33,
     "metadata": {},
     "output_type": "execute_result"
    }
   ],
   "source": [
    "internet.head()"
   ]
  },
  {
   "cell_type": "code",
   "execution_count": 34,
   "metadata": {},
   "outputs": [],
   "source": [
    "# посчитаем кол-во сделанных звонков и израсходованных минут разговора по месяцам\n",
    "calls_grouped = calls.pivot_table(index=['user_id', 'month'], values='duration', aggfunc=['sum', 'count'])\n",
    "calls_grouped.reset_index()\n",
    "calls_grouped.columns = ['calls_duration', 'calls_amount']"
   ]
  },
  {
   "cell_type": "code",
   "execution_count": 35,
   "metadata": {},
   "outputs": [
    {
     "data": {
      "text/html": [
       "<div>\n",
       "<style scoped>\n",
       "    .dataframe tbody tr th:only-of-type {\n",
       "        vertical-align: middle;\n",
       "    }\n",
       "\n",
       "    .dataframe tbody tr th {\n",
       "        vertical-align: top;\n",
       "    }\n",
       "\n",
       "    .dataframe thead th {\n",
       "        text-align: right;\n",
       "    }\n",
       "</style>\n",
       "<table border=\"1\" class=\"dataframe\">\n",
       "  <thead>\n",
       "    <tr style=\"text-align: right;\">\n",
       "      <th></th>\n",
       "      <th>user_id</th>\n",
       "      <th>month</th>\n",
       "      <th>gb_used</th>\n",
       "    </tr>\n",
       "  </thead>\n",
       "  <tbody>\n",
       "    <tr>\n",
       "      <th>0</th>\n",
       "      <td>1000</td>\n",
       "      <td>August</td>\n",
       "      <td>13.726494</td>\n",
       "    </tr>\n",
       "    <tr>\n",
       "      <th>1</th>\n",
       "      <td>1000</td>\n",
       "      <td>December</td>\n",
       "      <td>9.587510</td>\n",
       "    </tr>\n",
       "    <tr>\n",
       "      <th>2</th>\n",
       "      <td>1000</td>\n",
       "      <td>July</td>\n",
       "      <td>13.675430</td>\n",
       "    </tr>\n",
       "    <tr>\n",
       "      <th>3</th>\n",
       "      <td>1000</td>\n",
       "      <td>June</td>\n",
       "      <td>22.689229</td>\n",
       "    </tr>\n",
       "    <tr>\n",
       "      <th>4</th>\n",
       "      <td>1000</td>\n",
       "      <td>May</td>\n",
       "      <td>2.200674</td>\n",
       "    </tr>\n",
       "    <tr>\n",
       "      <th>...</th>\n",
       "      <td>...</td>\n",
       "      <td>...</td>\n",
       "      <td>...</td>\n",
       "    </tr>\n",
       "    <tr>\n",
       "      <th>3196</th>\n",
       "      <td>1498</td>\n",
       "      <td>September</td>\n",
       "      <td>21.615635</td>\n",
       "    </tr>\n",
       "    <tr>\n",
       "      <th>3197</th>\n",
       "      <td>1499</td>\n",
       "      <td>December</td>\n",
       "      <td>12.749590</td>\n",
       "    </tr>\n",
       "    <tr>\n",
       "      <th>3198</th>\n",
       "      <td>1499</td>\n",
       "      <td>November</td>\n",
       "      <td>17.542295</td>\n",
       "    </tr>\n",
       "    <tr>\n",
       "      <th>3199</th>\n",
       "      <td>1499</td>\n",
       "      <td>October</td>\n",
       "      <td>17.371592</td>\n",
       "    </tr>\n",
       "    <tr>\n",
       "      <th>3200</th>\n",
       "      <td>1499</td>\n",
       "      <td>September</td>\n",
       "      <td>1.802490</td>\n",
       "    </tr>\n",
       "  </tbody>\n",
       "</table>\n",
       "<p>3201 rows × 3 columns</p>\n",
       "</div>"
      ],
      "text/plain": [
       "      user_id      month    gb_used\n",
       "0        1000     August  13.726494\n",
       "1        1000   December   9.587510\n",
       "2        1000       July  13.675430\n",
       "3        1000       June  22.689229\n",
       "4        1000        May   2.200674\n",
       "...       ...        ...        ...\n",
       "3196     1498  September  21.615635\n",
       "3197     1499   December  12.749590\n",
       "3198     1499   November  17.542295\n",
       "3199     1499    October  17.371592\n",
       "3200     1499  September   1.802490\n",
       "\n",
       "[3201 rows x 3 columns]"
      ]
     },
     "execution_count": 35,
     "metadata": {},
     "output_type": "execute_result"
    }
   ],
   "source": [
    "# посчитаем кол-во объема израсходованного интернет-трафика по месяцам\n",
    "internet_grouped = internet.pivot_table(index=['user_id', 'month'], values='gb_used', aggfunc=['sum'])\n",
    "internet_grouped.columns = ['gb_used']\n",
    "internet_grouped.reset_index()"
   ]
  },
  {
   "cell_type": "code",
   "execution_count": 36,
   "metadata": {},
   "outputs": [],
   "source": [
    "# посчитаем кол-во отправленных сообщений по месяцам\n",
    "messages_grouped = messages.pivot_table(index=['user_id', 'month'], values='id', aggfunc='count')\n",
    "messages_grouped.reset_index()\n",
    "messages_grouped.columns=['messages_amount']"
   ]
  },
  {
   "cell_type": "code",
   "execution_count": 37,
   "metadata": {
    "scrolled": true
   },
   "outputs": [],
   "source": [
    "# теперь все данные соеденим\n",
    "#data = calls_grouped.merge(messages_grouped, on=['user_id','month'], how='outer')\n",
    "#data = data.merge(internet_grouped, on=['user_id','month'], how = 'outer')"
   ]
  },
  {
   "cell_type": "code",
   "execution_count": 38,
   "metadata": {},
   "outputs": [],
   "source": [
    "#calls_internet_merged = calls_grouped.merge(internet_grouped, on=['user_id', 'month'], how='left')\n",
    "#telecom_data = calls_internet_merged.merge(messages_grouped, on=['user_id', 'month'], how='left')\n",
    "#telecom_data_pvt = telecom_data.pivot_table(index=['user_id', 'month'])\n",
    "#telecom_data_pvt=telecom_data_pvt.reset_index()"
   ]
  },
  {
   "cell_type": "code",
   "execution_count": 39,
   "metadata": {},
   "outputs": [],
   "source": [
    "data_frame = [calls_grouped, internet_grouped, messages_grouped]\n",
    "data = reduce(lambda  left,right: pd.merge(left,right,on=['user_id', 'month'],\n",
    "                                            how='outer'), data_frame).fillna(0)"
   ]
  },
  {
   "cell_type": "code",
   "execution_count": 40,
   "metadata": {},
   "outputs": [],
   "source": [
    "#data = telecom_data_pvt.merge(users, on='user_id', how='right').pivot_table(\n",
    "    #index=['user_id', 'first_name', 'last_name', 'age', 'city', 'tariff', 'reg_date', 'churn_date', 'month'])\n",
    "#data = data.reset_index()"
   ]
  },
  {
   "cell_type": "code",
   "execution_count": 41,
   "metadata": {},
   "outputs": [
    {
     "data": {
      "text/html": [
       "<div>\n",
       "<style scoped>\n",
       "    .dataframe tbody tr th:only-of-type {\n",
       "        vertical-align: middle;\n",
       "    }\n",
       "\n",
       "    .dataframe tbody tr th {\n",
       "        vertical-align: top;\n",
       "    }\n",
       "\n",
       "    .dataframe thead th {\n",
       "        text-align: right;\n",
       "    }\n",
       "</style>\n",
       "<table border=\"1\" class=\"dataframe\">\n",
       "  <thead>\n",
       "    <tr style=\"text-align: right;\">\n",
       "      <th></th>\n",
       "      <th></th>\n",
       "      <th>calls_duration</th>\n",
       "      <th>calls_amount</th>\n",
       "      <th>gb_used</th>\n",
       "      <th>messages_amount</th>\n",
       "    </tr>\n",
       "    <tr>\n",
       "      <th>user_id</th>\n",
       "      <th>month</th>\n",
       "      <th></th>\n",
       "      <th></th>\n",
       "      <th></th>\n",
       "      <th></th>\n",
       "    </tr>\n",
       "  </thead>\n",
       "  <tbody>\n",
       "    <tr>\n",
       "      <th rowspan=\"8\" valign=\"top\">1000</th>\n",
       "      <th>August</th>\n",
       "      <td>408.0</td>\n",
       "      <td>52.0</td>\n",
       "      <td>13.726494</td>\n",
       "      <td>81.0</td>\n",
       "    </tr>\n",
       "    <tr>\n",
       "      <th>December</th>\n",
       "      <td>333.0</td>\n",
       "      <td>46.0</td>\n",
       "      <td>9.587510</td>\n",
       "      <td>70.0</td>\n",
       "    </tr>\n",
       "    <tr>\n",
       "      <th>July</th>\n",
       "      <td>340.0</td>\n",
       "      <td>47.0</td>\n",
       "      <td>13.675430</td>\n",
       "      <td>75.0</td>\n",
       "    </tr>\n",
       "    <tr>\n",
       "      <th>June</th>\n",
       "      <td>172.0</td>\n",
       "      <td>43.0</td>\n",
       "      <td>22.689229</td>\n",
       "      <td>60.0</td>\n",
       "    </tr>\n",
       "    <tr>\n",
       "      <th>May</th>\n",
       "      <td>159.0</td>\n",
       "      <td>22.0</td>\n",
       "      <td>2.200674</td>\n",
       "      <td>22.0</td>\n",
       "    </tr>\n",
       "    <tr>\n",
       "      <th>November</th>\n",
       "      <td>338.0</td>\n",
       "      <td>43.0</td>\n",
       "      <td>14.410615</td>\n",
       "      <td>58.0</td>\n",
       "    </tr>\n",
       "    <tr>\n",
       "      <th>October</th>\n",
       "      <td>350.0</td>\n",
       "      <td>57.0</td>\n",
       "      <td>14.357900</td>\n",
       "      <td>73.0</td>\n",
       "    </tr>\n",
       "    <tr>\n",
       "      <th>September</th>\n",
       "      <td>466.0</td>\n",
       "      <td>58.0</td>\n",
       "      <td>14.227451</td>\n",
       "      <td>57.0</td>\n",
       "    </tr>\n",
       "    <tr>\n",
       "      <th rowspan=\"2\" valign=\"top\">1001</th>\n",
       "      <th>December</th>\n",
       "      <td>414.0</td>\n",
       "      <td>63.0</td>\n",
       "      <td>13.707676</td>\n",
       "      <td>0.0</td>\n",
       "    </tr>\n",
       "    <tr>\n",
       "      <th>November</th>\n",
       "      <td>430.0</td>\n",
       "      <td>59.0</td>\n",
       "      <td>17.997402</td>\n",
       "      <td>0.0</td>\n",
       "    </tr>\n",
       "  </tbody>\n",
       "</table>\n",
       "</div>"
      ],
      "text/plain": [
       "                   calls_duration  calls_amount    gb_used  messages_amount\n",
       "user_id month                                                              \n",
       "1000    August              408.0          52.0  13.726494             81.0\n",
       "        December            333.0          46.0   9.587510             70.0\n",
       "        July                340.0          47.0  13.675430             75.0\n",
       "        June                172.0          43.0  22.689229             60.0\n",
       "        May                 159.0          22.0   2.200674             22.0\n",
       "        November            338.0          43.0  14.410615             58.0\n",
       "        October             350.0          57.0  14.357900             73.0\n",
       "        September           466.0          58.0  14.227451             57.0\n",
       "1001    December            414.0          63.0  13.707676              0.0\n",
       "        November            430.0          59.0  17.997402              0.0"
      ]
     },
     "execution_count": 41,
     "metadata": {},
     "output_type": "execute_result"
    }
   ],
   "source": [
    "# проверим как все соединилось\n",
    "data.head(10)"
   ]
  },
  {
   "cell_type": "code",
   "execution_count": 42,
   "metadata": {
    "scrolled": true
   },
   "outputs": [
    {
     "data": {
      "text/html": [
       "<div>\n",
       "<style scoped>\n",
       "    .dataframe tbody tr th:only-of-type {\n",
       "        vertical-align: middle;\n",
       "    }\n",
       "\n",
       "    .dataframe tbody tr th {\n",
       "        vertical-align: top;\n",
       "    }\n",
       "\n",
       "    .dataframe thead th {\n",
       "        text-align: right;\n",
       "    }\n",
       "</style>\n",
       "<table border=\"1\" class=\"dataframe\">\n",
       "  <thead>\n",
       "    <tr style=\"text-align: right;\">\n",
       "      <th></th>\n",
       "      <th>messages_included</th>\n",
       "      <th>mb_per_month_included</th>\n",
       "      <th>minutes_included</th>\n",
       "      <th>rub_monthly_fee</th>\n",
       "      <th>rub_per_gb</th>\n",
       "      <th>rub_per_message</th>\n",
       "      <th>rub_per_minute</th>\n",
       "      <th>tariff_name</th>\n",
       "    </tr>\n",
       "  </thead>\n",
       "  <tbody>\n",
       "    <tr>\n",
       "      <th>0</th>\n",
       "      <td>50</td>\n",
       "      <td>15360</td>\n",
       "      <td>500</td>\n",
       "      <td>550</td>\n",
       "      <td>200</td>\n",
       "      <td>3</td>\n",
       "      <td>3</td>\n",
       "      <td>smart</td>\n",
       "    </tr>\n",
       "    <tr>\n",
       "      <th>1</th>\n",
       "      <td>1000</td>\n",
       "      <td>30720</td>\n",
       "      <td>3000</td>\n",
       "      <td>1950</td>\n",
       "      <td>150</td>\n",
       "      <td>1</td>\n",
       "      <td>1</td>\n",
       "      <td>ultra</td>\n",
       "    </tr>\n",
       "  </tbody>\n",
       "</table>\n",
       "</div>"
      ],
      "text/plain": [
       "   messages_included  mb_per_month_included  minutes_included  \\\n",
       "0                 50                  15360               500   \n",
       "1               1000                  30720              3000   \n",
       "\n",
       "   rub_monthly_fee  rub_per_gb  rub_per_message  rub_per_minute tariff_name  \n",
       "0              550         200                3               3       smart  \n",
       "1             1950         150                1               1       ultra  "
      ]
     },
     "execution_count": 42,
     "metadata": {},
     "output_type": "execute_result"
    }
   ],
   "source": [
    "tariffs.head()"
   ]
  },
  {
   "cell_type": "code",
   "execution_count": 43,
   "metadata": {},
   "outputs": [],
   "source": [
    "tariffs = tariffs.rename(columns={'tariff_name':'tariff'})"
   ]
  },
  {
   "cell_type": "code",
   "execution_count": 44,
   "metadata": {},
   "outputs": [
    {
     "data": {
      "text/html": [
       "<div>\n",
       "<style scoped>\n",
       "    .dataframe tbody tr th:only-of-type {\n",
       "        vertical-align: middle;\n",
       "    }\n",
       "\n",
       "    .dataframe tbody tr th {\n",
       "        vertical-align: top;\n",
       "    }\n",
       "\n",
       "    .dataframe thead th {\n",
       "        text-align: right;\n",
       "    }\n",
       "</style>\n",
       "<table border=\"1\" class=\"dataframe\">\n",
       "  <thead>\n",
       "    <tr style=\"text-align: right;\">\n",
       "      <th></th>\n",
       "      <th>user_id</th>\n",
       "      <th>age</th>\n",
       "      <th>churn_date</th>\n",
       "      <th>city</th>\n",
       "      <th>first_name</th>\n",
       "      <th>last_name</th>\n",
       "      <th>reg_date</th>\n",
       "      <th>tariff</th>\n",
       "    </tr>\n",
       "  </thead>\n",
       "  <tbody>\n",
       "    <tr>\n",
       "      <th>0</th>\n",
       "      <td>1000</td>\n",
       "      <td>52</td>\n",
       "      <td>NaN</td>\n",
       "      <td>Краснодар</td>\n",
       "      <td>Рафаил</td>\n",
       "      <td>Верещагин</td>\n",
       "      <td>2018-05-25</td>\n",
       "      <td>ultra</td>\n",
       "    </tr>\n",
       "    <tr>\n",
       "      <th>1</th>\n",
       "      <td>1001</td>\n",
       "      <td>41</td>\n",
       "      <td>NaN</td>\n",
       "      <td>Москва</td>\n",
       "      <td>Иван</td>\n",
       "      <td>Ежов</td>\n",
       "      <td>2018-11-01</td>\n",
       "      <td>smart</td>\n",
       "    </tr>\n",
       "    <tr>\n",
       "      <th>2</th>\n",
       "      <td>1002</td>\n",
       "      <td>59</td>\n",
       "      <td>NaN</td>\n",
       "      <td>Стерлитамак</td>\n",
       "      <td>Евгений</td>\n",
       "      <td>Абрамович</td>\n",
       "      <td>2018-06-17</td>\n",
       "      <td>smart</td>\n",
       "    </tr>\n",
       "    <tr>\n",
       "      <th>3</th>\n",
       "      <td>1003</td>\n",
       "      <td>23</td>\n",
       "      <td>NaN</td>\n",
       "      <td>Москва</td>\n",
       "      <td>Белла</td>\n",
       "      <td>Белякова</td>\n",
       "      <td>2018-08-17</td>\n",
       "      <td>ultra</td>\n",
       "    </tr>\n",
       "    <tr>\n",
       "      <th>4</th>\n",
       "      <td>1004</td>\n",
       "      <td>68</td>\n",
       "      <td>NaN</td>\n",
       "      <td>Новокузнецк</td>\n",
       "      <td>Татьяна</td>\n",
       "      <td>Авдеенко</td>\n",
       "      <td>2018-05-14</td>\n",
       "      <td>ultra</td>\n",
       "    </tr>\n",
       "  </tbody>\n",
       "</table>\n",
       "</div>"
      ],
      "text/plain": [
       "   user_id  age churn_date         city first_name  last_name   reg_date  \\\n",
       "0     1000   52        NaN    Краснодар     Рафаил  Верещагин 2018-05-25   \n",
       "1     1001   41        NaN       Москва       Иван       Ежов 2018-11-01   \n",
       "2     1002   59        NaN  Стерлитамак    Евгений  Абрамович 2018-06-17   \n",
       "3     1003   23        NaN       Москва      Белла   Белякова 2018-08-17   \n",
       "4     1004   68        NaN  Новокузнецк    Татьяна   Авдеенко 2018-05-14   \n",
       "\n",
       "  tariff  \n",
       "0  ultra  \n",
       "1  smart  \n",
       "2  smart  \n",
       "3  ultra  \n",
       "4  ultra  "
      ]
     },
     "execution_count": 44,
     "metadata": {},
     "output_type": "execute_result"
    }
   ],
   "source": [
    "users.head()"
   ]
  },
  {
   "cell_type": "code",
   "execution_count": 45,
   "metadata": {},
   "outputs": [],
   "source": [
    "data.loc[data['calls_duration'].isna(), 'calls_duration'] = 0\n",
    "data.loc[data['messages_amount'].isna(), 'messages_amount'] = 0\n",
    "data.loc[data['gb_used'].isna(), 'gb_used'] = 0"
   ]
  },
  {
   "cell_type": "code",
   "execution_count": 46,
   "metadata": {
    "scrolled": true
   },
   "outputs": [
    {
     "data": {
      "text/html": [
       "<div>\n",
       "<style scoped>\n",
       "    .dataframe tbody tr th:only-of-type {\n",
       "        vertical-align: middle;\n",
       "    }\n",
       "\n",
       "    .dataframe tbody tr th {\n",
       "        vertical-align: top;\n",
       "    }\n",
       "\n",
       "    .dataframe thead th {\n",
       "        text-align: right;\n",
       "    }\n",
       "</style>\n",
       "<table border=\"1\" class=\"dataframe\">\n",
       "  <thead>\n",
       "    <tr style=\"text-align: right;\">\n",
       "      <th></th>\n",
       "      <th></th>\n",
       "      <th>calls_duration</th>\n",
       "      <th>calls_amount</th>\n",
       "      <th>gb_used</th>\n",
       "      <th>messages_amount</th>\n",
       "      <th>tariff</th>\n",
       "    </tr>\n",
       "    <tr>\n",
       "      <th>user_id</th>\n",
       "      <th>month</th>\n",
       "      <th></th>\n",
       "      <th></th>\n",
       "      <th></th>\n",
       "      <th></th>\n",
       "      <th></th>\n",
       "    </tr>\n",
       "  </thead>\n",
       "  <tbody>\n",
       "    <tr>\n",
       "      <th rowspan=\"8\" valign=\"top\">1000</th>\n",
       "      <th>August</th>\n",
       "      <td>408.0</td>\n",
       "      <td>52.0</td>\n",
       "      <td>13.726494</td>\n",
       "      <td>81.0</td>\n",
       "      <td>ultra</td>\n",
       "    </tr>\n",
       "    <tr>\n",
       "      <th>December</th>\n",
       "      <td>333.0</td>\n",
       "      <td>46.0</td>\n",
       "      <td>9.587510</td>\n",
       "      <td>70.0</td>\n",
       "      <td>ultra</td>\n",
       "    </tr>\n",
       "    <tr>\n",
       "      <th>July</th>\n",
       "      <td>340.0</td>\n",
       "      <td>47.0</td>\n",
       "      <td>13.675430</td>\n",
       "      <td>75.0</td>\n",
       "      <td>ultra</td>\n",
       "    </tr>\n",
       "    <tr>\n",
       "      <th>June</th>\n",
       "      <td>172.0</td>\n",
       "      <td>43.0</td>\n",
       "      <td>22.689229</td>\n",
       "      <td>60.0</td>\n",
       "      <td>ultra</td>\n",
       "    </tr>\n",
       "    <tr>\n",
       "      <th>May</th>\n",
       "      <td>159.0</td>\n",
       "      <td>22.0</td>\n",
       "      <td>2.200674</td>\n",
       "      <td>22.0</td>\n",
       "      <td>ultra</td>\n",
       "    </tr>\n",
       "    <tr>\n",
       "      <th>November</th>\n",
       "      <td>338.0</td>\n",
       "      <td>43.0</td>\n",
       "      <td>14.410615</td>\n",
       "      <td>58.0</td>\n",
       "      <td>ultra</td>\n",
       "    </tr>\n",
       "    <tr>\n",
       "      <th>October</th>\n",
       "      <td>350.0</td>\n",
       "      <td>57.0</td>\n",
       "      <td>14.357900</td>\n",
       "      <td>73.0</td>\n",
       "      <td>ultra</td>\n",
       "    </tr>\n",
       "    <tr>\n",
       "      <th>September</th>\n",
       "      <td>466.0</td>\n",
       "      <td>58.0</td>\n",
       "      <td>14.227451</td>\n",
       "      <td>57.0</td>\n",
       "      <td>ultra</td>\n",
       "    </tr>\n",
       "    <tr>\n",
       "      <th rowspan=\"2\" valign=\"top\">1001</th>\n",
       "      <th>December</th>\n",
       "      <td>414.0</td>\n",
       "      <td>63.0</td>\n",
       "      <td>13.707676</td>\n",
       "      <td>0.0</td>\n",
       "      <td>smart</td>\n",
       "    </tr>\n",
       "    <tr>\n",
       "      <th>November</th>\n",
       "      <td>430.0</td>\n",
       "      <td>59.0</td>\n",
       "      <td>17.997402</td>\n",
       "      <td>0.0</td>\n",
       "      <td>smart</td>\n",
       "    </tr>\n",
       "  </tbody>\n",
       "</table>\n",
       "</div>"
      ],
      "text/plain": [
       "                   calls_duration  calls_amount    gb_used  messages_amount  \\\n",
       "user_id month                                                                 \n",
       "1000    August              408.0          52.0  13.726494             81.0   \n",
       "        December            333.0          46.0   9.587510             70.0   \n",
       "        July                340.0          47.0  13.675430             75.0   \n",
       "        June                172.0          43.0  22.689229             60.0   \n",
       "        May                 159.0          22.0   2.200674             22.0   \n",
       "        November            338.0          43.0  14.410615             58.0   \n",
       "        October             350.0          57.0  14.357900             73.0   \n",
       "        September           466.0          58.0  14.227451             57.0   \n",
       "1001    December            414.0          63.0  13.707676              0.0   \n",
       "        November            430.0          59.0  17.997402              0.0   \n",
       "\n",
       "                  tariff  \n",
       "user_id month             \n",
       "1000    August     ultra  \n",
       "        December   ultra  \n",
       "        July       ultra  \n",
       "        June       ultra  \n",
       "        May        ultra  \n",
       "        November   ultra  \n",
       "        October    ultra  \n",
       "        September  ultra  \n",
       "1001    December   smart  \n",
       "        November   smart  "
      ]
     },
     "execution_count": 46,
     "metadata": {},
     "output_type": "execute_result"
    }
   ],
   "source": [
    "for user in data.index:\n",
    "    data.loc[user, 'tariff'] = users.loc[user[0]-1000, 'tariff']\n",
    "data.head(10)"
   ]
  },
  {
   "cell_type": "markdown",
   "metadata": {},
   "source": [
    "Проверим датафрейм на выбивающиеся данные"
   ]
  },
  {
   "cell_type": "code",
   "execution_count": 47,
   "metadata": {},
   "outputs": [
    {
     "data": {
      "text/plain": [
       "0"
      ]
     },
     "execution_count": 47,
     "metadata": {},
     "output_type": "execute_result"
    }
   ],
   "source": [
    "# проверим на дубликаты\n",
    "data.duplicated().sum()"
   ]
  },
  {
   "cell_type": "markdown",
   "metadata": {},
   "source": [
    "Все впорядке, можем работать с датафреймом дальше. Теперь выполним следующее условие: посчитаем помесячную выручку с каждого пользователя (вычтите бесплатный лимит из суммарного количества звонков, сообщений и интернет-трафика; остаток умножьте на значение из тарифного плана; прибавьте абонентскую плату, соответствующую тарифному плану)."
   ]
  },
  {
   "cell_type": "markdown",
   "metadata": {},
   "source": [
    "В таблице data увидим помесячно кол-во и длительность звонков, кол-во сообщений и объем использованного трафика для каждого пользователя"
   ]
  },
  {
   "cell_type": "code",
   "execution_count": 48,
   "metadata": {},
   "outputs": [],
   "source": [
    "# округлим гб до целых чисел\n",
    "data['gb_used'] = data['gb_used'].apply(np.ceil)"
   ]
  },
  {
   "cell_type": "code",
   "execution_count": 49,
   "metadata": {},
   "outputs": [],
   "source": [
    "def revenue(row):\n",
    "    if row['tariff'] == 'smart':\n",
    "        if row['messages_amount'] > 50:\n",
    "            messages_extra = (row['messages_amount'] - 50)*3\n",
    "        else:\n",
    "            messages_extra = 0\n",
    "        if row['calls_duration'] > 500:\n",
    "            calls_extra = (row['calls_duration'] - 500)*3\n",
    "        else:\n",
    "            calls_extra = 0\n",
    "        if row['gb_used'] > 15:\n",
    "            gb_extra = (row['gb_used'] - 15)*200\n",
    "        else:\n",
    "            gb_extra = 0\n",
    "        total_cost = messages_extra + calls_extra + gb_extra + 550\n",
    "        \n",
    "    if row['tariff'] == 'ultra':\n",
    "        if row['messages_amount'] > 1000:\n",
    "            messages_extra = (row['messages_amount'] - 1000)*1\n",
    "        else:\n",
    "            messages_extra = 0\n",
    "        if row['calls_duration'] > 3000:\n",
    "            calls_extra = (row['calls_duration'] - 3000)*1\n",
    "        else:\n",
    "            calls_extra = 0\n",
    "        if row['gb_used'] > 30:\n",
    "            gb_extra = (row['gb_used'] - 30)*150\n",
    "        else:\n",
    "            gb_extra = 0\n",
    "        total_cost = messages_extra + calls_extra + gb_extra + 1950\n",
    "    return total_cost\n"
   ]
  },
  {
   "cell_type": "code",
   "execution_count": 50,
   "metadata": {
    "scrolled": false
   },
   "outputs": [
    {
     "data": {
      "text/html": [
       "<div>\n",
       "<style scoped>\n",
       "    .dataframe tbody tr th:only-of-type {\n",
       "        vertical-align: middle;\n",
       "    }\n",
       "\n",
       "    .dataframe tbody tr th {\n",
       "        vertical-align: top;\n",
       "    }\n",
       "\n",
       "    .dataframe thead th {\n",
       "        text-align: right;\n",
       "    }\n",
       "</style>\n",
       "<table border=\"1\" class=\"dataframe\">\n",
       "  <thead>\n",
       "    <tr style=\"text-align: right;\">\n",
       "      <th></th>\n",
       "      <th></th>\n",
       "      <th>calls_duration</th>\n",
       "      <th>calls_amount</th>\n",
       "      <th>gb_used</th>\n",
       "      <th>messages_amount</th>\n",
       "      <th>tariff</th>\n",
       "      <th>total_cost</th>\n",
       "    </tr>\n",
       "    <tr>\n",
       "      <th>user_id</th>\n",
       "      <th>month</th>\n",
       "      <th></th>\n",
       "      <th></th>\n",
       "      <th></th>\n",
       "      <th></th>\n",
       "      <th></th>\n",
       "      <th></th>\n",
       "    </tr>\n",
       "  </thead>\n",
       "  <tbody>\n",
       "    <tr>\n",
       "      <th rowspan=\"8\" valign=\"top\">1000</th>\n",
       "      <th>August</th>\n",
       "      <td>408.0</td>\n",
       "      <td>52.0</td>\n",
       "      <td>14.0</td>\n",
       "      <td>81.0</td>\n",
       "      <td>ultra</td>\n",
       "      <td>1950.0</td>\n",
       "    </tr>\n",
       "    <tr>\n",
       "      <th>December</th>\n",
       "      <td>333.0</td>\n",
       "      <td>46.0</td>\n",
       "      <td>10.0</td>\n",
       "      <td>70.0</td>\n",
       "      <td>ultra</td>\n",
       "      <td>1950.0</td>\n",
       "    </tr>\n",
       "    <tr>\n",
       "      <th>July</th>\n",
       "      <td>340.0</td>\n",
       "      <td>47.0</td>\n",
       "      <td>14.0</td>\n",
       "      <td>75.0</td>\n",
       "      <td>ultra</td>\n",
       "      <td>1950.0</td>\n",
       "    </tr>\n",
       "    <tr>\n",
       "      <th>June</th>\n",
       "      <td>172.0</td>\n",
       "      <td>43.0</td>\n",
       "      <td>23.0</td>\n",
       "      <td>60.0</td>\n",
       "      <td>ultra</td>\n",
       "      <td>1950.0</td>\n",
       "    </tr>\n",
       "    <tr>\n",
       "      <th>May</th>\n",
       "      <td>159.0</td>\n",
       "      <td>22.0</td>\n",
       "      <td>3.0</td>\n",
       "      <td>22.0</td>\n",
       "      <td>ultra</td>\n",
       "      <td>1950.0</td>\n",
       "    </tr>\n",
       "    <tr>\n",
       "      <th>November</th>\n",
       "      <td>338.0</td>\n",
       "      <td>43.0</td>\n",
       "      <td>15.0</td>\n",
       "      <td>58.0</td>\n",
       "      <td>ultra</td>\n",
       "      <td>1950.0</td>\n",
       "    </tr>\n",
       "    <tr>\n",
       "      <th>October</th>\n",
       "      <td>350.0</td>\n",
       "      <td>57.0</td>\n",
       "      <td>15.0</td>\n",
       "      <td>73.0</td>\n",
       "      <td>ultra</td>\n",
       "      <td>1950.0</td>\n",
       "    </tr>\n",
       "    <tr>\n",
       "      <th>September</th>\n",
       "      <td>466.0</td>\n",
       "      <td>58.0</td>\n",
       "      <td>15.0</td>\n",
       "      <td>57.0</td>\n",
       "      <td>ultra</td>\n",
       "      <td>1950.0</td>\n",
       "    </tr>\n",
       "    <tr>\n",
       "      <th rowspan=\"2\" valign=\"top\">1001</th>\n",
       "      <th>December</th>\n",
       "      <td>414.0</td>\n",
       "      <td>63.0</td>\n",
       "      <td>14.0</td>\n",
       "      <td>0.0</td>\n",
       "      <td>smart</td>\n",
       "      <td>550.0</td>\n",
       "    </tr>\n",
       "    <tr>\n",
       "      <th>November</th>\n",
       "      <td>430.0</td>\n",
       "      <td>59.0</td>\n",
       "      <td>18.0</td>\n",
       "      <td>0.0</td>\n",
       "      <td>smart</td>\n",
       "      <td>1150.0</td>\n",
       "    </tr>\n",
       "  </tbody>\n",
       "</table>\n",
       "</div>"
      ],
      "text/plain": [
       "                   calls_duration  calls_amount  gb_used  messages_amount  \\\n",
       "user_id month                                                               \n",
       "1000    August              408.0          52.0     14.0             81.0   \n",
       "        December            333.0          46.0     10.0             70.0   \n",
       "        July                340.0          47.0     14.0             75.0   \n",
       "        June                172.0          43.0     23.0             60.0   \n",
       "        May                 159.0          22.0      3.0             22.0   \n",
       "        November            338.0          43.0     15.0             58.0   \n",
       "        October             350.0          57.0     15.0             73.0   \n",
       "        September           466.0          58.0     15.0             57.0   \n",
       "1001    December            414.0          63.0     14.0              0.0   \n",
       "        November            430.0          59.0     18.0              0.0   \n",
       "\n",
       "                  tariff  total_cost  \n",
       "user_id month                         \n",
       "1000    August     ultra      1950.0  \n",
       "        December   ultra      1950.0  \n",
       "        July       ultra      1950.0  \n",
       "        June       ultra      1950.0  \n",
       "        May        ultra      1950.0  \n",
       "        November   ultra      1950.0  \n",
       "        October    ultra      1950.0  \n",
       "        September  ultra      1950.0  \n",
       "1001    December   smart       550.0  \n",
       "        November   smart      1150.0  "
      ]
     },
     "execution_count": 50,
     "metadata": {},
     "output_type": "execute_result"
    }
   ],
   "source": [
    "data['total_cost'] = data.apply(revenue, axis=1)\n",
    "data.head(10)"
   ]
  },
  {
   "cell_type": "code",
   "execution_count": 51,
   "metadata": {},
   "outputs": [
    {
     "data": {
      "text/html": [
       "<div>\n",
       "<style scoped>\n",
       "    .dataframe tbody tr th:only-of-type {\n",
       "        vertical-align: middle;\n",
       "    }\n",
       "\n",
       "    .dataframe tbody tr th {\n",
       "        vertical-align: top;\n",
       "    }\n",
       "\n",
       "    .dataframe thead th {\n",
       "        text-align: right;\n",
       "    }\n",
       "</style>\n",
       "<table border=\"1\" class=\"dataframe\">\n",
       "  <thead>\n",
       "    <tr style=\"text-align: right;\">\n",
       "      <th></th>\n",
       "      <th>user_id</th>\n",
       "      <th>calls_duration</th>\n",
       "      <th>calls_amount</th>\n",
       "      <th>gb_used</th>\n",
       "      <th>messages_amount</th>\n",
       "      <th>tariff</th>\n",
       "      <th>total_cost</th>\n",
       "      <th>age</th>\n",
       "      <th>churn_date</th>\n",
       "      <th>city</th>\n",
       "      <th>first_name</th>\n",
       "      <th>last_name</th>\n",
       "      <th>reg_date</th>\n",
       "      <th>messages_included</th>\n",
       "      <th>mb_per_month_included</th>\n",
       "      <th>minutes_included</th>\n",
       "      <th>rub_monthly_fee</th>\n",
       "      <th>rub_per_gb</th>\n",
       "      <th>rub_per_message</th>\n",
       "      <th>rub_per_minute</th>\n",
       "    </tr>\n",
       "  </thead>\n",
       "  <tbody>\n",
       "    <tr>\n",
       "      <th>0</th>\n",
       "      <td>1000</td>\n",
       "      <td>408.0</td>\n",
       "      <td>52.0</td>\n",
       "      <td>14.0</td>\n",
       "      <td>81.0</td>\n",
       "      <td>ultra</td>\n",
       "      <td>1950.0</td>\n",
       "      <td>52</td>\n",
       "      <td>NaN</td>\n",
       "      <td>Краснодар</td>\n",
       "      <td>Рафаил</td>\n",
       "      <td>Верещагин</td>\n",
       "      <td>2018-05-25</td>\n",
       "      <td>1000</td>\n",
       "      <td>30720</td>\n",
       "      <td>3000</td>\n",
       "      <td>1950</td>\n",
       "      <td>150</td>\n",
       "      <td>1</td>\n",
       "      <td>1</td>\n",
       "    </tr>\n",
       "    <tr>\n",
       "      <th>1</th>\n",
       "      <td>1000</td>\n",
       "      <td>333.0</td>\n",
       "      <td>46.0</td>\n",
       "      <td>10.0</td>\n",
       "      <td>70.0</td>\n",
       "      <td>ultra</td>\n",
       "      <td>1950.0</td>\n",
       "      <td>52</td>\n",
       "      <td>NaN</td>\n",
       "      <td>Краснодар</td>\n",
       "      <td>Рафаил</td>\n",
       "      <td>Верещагин</td>\n",
       "      <td>2018-05-25</td>\n",
       "      <td>1000</td>\n",
       "      <td>30720</td>\n",
       "      <td>3000</td>\n",
       "      <td>1950</td>\n",
       "      <td>150</td>\n",
       "      <td>1</td>\n",
       "      <td>1</td>\n",
       "    </tr>\n",
       "    <tr>\n",
       "      <th>2</th>\n",
       "      <td>1000</td>\n",
       "      <td>340.0</td>\n",
       "      <td>47.0</td>\n",
       "      <td>14.0</td>\n",
       "      <td>75.0</td>\n",
       "      <td>ultra</td>\n",
       "      <td>1950.0</td>\n",
       "      <td>52</td>\n",
       "      <td>NaN</td>\n",
       "      <td>Краснодар</td>\n",
       "      <td>Рафаил</td>\n",
       "      <td>Верещагин</td>\n",
       "      <td>2018-05-25</td>\n",
       "      <td>1000</td>\n",
       "      <td>30720</td>\n",
       "      <td>3000</td>\n",
       "      <td>1950</td>\n",
       "      <td>150</td>\n",
       "      <td>1</td>\n",
       "      <td>1</td>\n",
       "    </tr>\n",
       "    <tr>\n",
       "      <th>3</th>\n",
       "      <td>1000</td>\n",
       "      <td>172.0</td>\n",
       "      <td>43.0</td>\n",
       "      <td>23.0</td>\n",
       "      <td>60.0</td>\n",
       "      <td>ultra</td>\n",
       "      <td>1950.0</td>\n",
       "      <td>52</td>\n",
       "      <td>NaN</td>\n",
       "      <td>Краснодар</td>\n",
       "      <td>Рафаил</td>\n",
       "      <td>Верещагин</td>\n",
       "      <td>2018-05-25</td>\n",
       "      <td>1000</td>\n",
       "      <td>30720</td>\n",
       "      <td>3000</td>\n",
       "      <td>1950</td>\n",
       "      <td>150</td>\n",
       "      <td>1</td>\n",
       "      <td>1</td>\n",
       "    </tr>\n",
       "    <tr>\n",
       "      <th>4</th>\n",
       "      <td>1000</td>\n",
       "      <td>159.0</td>\n",
       "      <td>22.0</td>\n",
       "      <td>3.0</td>\n",
       "      <td>22.0</td>\n",
       "      <td>ultra</td>\n",
       "      <td>1950.0</td>\n",
       "      <td>52</td>\n",
       "      <td>NaN</td>\n",
       "      <td>Краснодар</td>\n",
       "      <td>Рафаил</td>\n",
       "      <td>Верещагин</td>\n",
       "      <td>2018-05-25</td>\n",
       "      <td>1000</td>\n",
       "      <td>30720</td>\n",
       "      <td>3000</td>\n",
       "      <td>1950</td>\n",
       "      <td>150</td>\n",
       "      <td>1</td>\n",
       "      <td>1</td>\n",
       "    </tr>\n",
       "  </tbody>\n",
       "</table>\n",
       "</div>"
      ],
      "text/plain": [
       "   user_id  calls_duration  calls_amount  gb_used  messages_amount tariff  \\\n",
       "0     1000           408.0          52.0     14.0             81.0  ultra   \n",
       "1     1000           333.0          46.0     10.0             70.0  ultra   \n",
       "2     1000           340.0          47.0     14.0             75.0  ultra   \n",
       "3     1000           172.0          43.0     23.0             60.0  ultra   \n",
       "4     1000           159.0          22.0      3.0             22.0  ultra   \n",
       "\n",
       "   total_cost  age churn_date       city first_name  last_name   reg_date  \\\n",
       "0      1950.0   52        NaN  Краснодар     Рафаил  Верещагин 2018-05-25   \n",
       "1      1950.0   52        NaN  Краснодар     Рафаил  Верещагин 2018-05-25   \n",
       "2      1950.0   52        NaN  Краснодар     Рафаил  Верещагин 2018-05-25   \n",
       "3      1950.0   52        NaN  Краснодар     Рафаил  Верещагин 2018-05-25   \n",
       "4      1950.0   52        NaN  Краснодар     Рафаил  Верещагин 2018-05-25   \n",
       "\n",
       "   messages_included  mb_per_month_included  minutes_included  \\\n",
       "0               1000                  30720              3000   \n",
       "1               1000                  30720              3000   \n",
       "2               1000                  30720              3000   \n",
       "3               1000                  30720              3000   \n",
       "4               1000                  30720              3000   \n",
       "\n",
       "   rub_monthly_fee  rub_per_gb  rub_per_message  rub_per_minute  \n",
       "0             1950         150                1               1  \n",
       "1             1950         150                1               1  \n",
       "2             1950         150                1               1  \n",
       "3             1950         150                1               1  \n",
       "4             1950         150                1               1  "
      ]
     },
     "execution_count": 51,
     "metadata": {},
     "output_type": "execute_result"
    }
   ],
   "source": [
    "data = data.merge(users, on=['user_id', 'tariff'], how = 'outer')\n",
    "data = data.merge(tariffs, on='tariff', how = 'outer')\n",
    "data.head()"
   ]
  },
  {
   "cell_type": "markdown",
   "metadata": {},
   "source": [
    "На этапе предобработки данных мы сделали следующее:\n",
    " - изменили типы данных\n",
    " - округли данные в большую сторону до целых чисел( как было сказано в описании проекта)\n",
    " - не трогали пропущенные значения в столбце churn_date, т.к это значит, что пользователь не прекращал пользоваться тарифом\n",
    " - не трогали 0, т.к это обозначение непринятых звонков (о чем тоже говорилось в задании)\n",
    " - были обработаны и переведены данные по интернету (мб в гб)\n",
    " -  был посчитан объем израсходованного интернет-трафика по месяцам\n",
    " - вычислили помесячную выручку с каждого пользователя (вычтите бесплатный лимит из суммарного количества звонков, сообщений и интернет-трафика; остаток умножьте на значение из тарифного плана; прибавьте абонентскую плату, соответствующую тарифному плану).\n",
    "\n",
    "Теперь можем переходить к анализу данных."
   ]
  },
  {
   "cell_type": "markdown",
   "metadata": {},
   "source": [
    "## Анализ данных"
   ]
  },
  {
   "cell_type": "markdown",
   "metadata": {},
   "source": [
    "  - Сколько минут разговоров, сообщений и какой объем интернет-трафика требуется для каждого тарифа в месяц\n",
    "  - Посчитайте среднее кол-во, дисперсию и стандартное отклонение\n",
    "  - Постройте гистограммы\n",
    "  - Опишите распределения"
   ]
  },
  {
   "cell_type": "markdown",
   "metadata": {},
   "source": [
    "Выясним, сколько минут разговора, трафика и сообщений в среднем в месяц требуется пользователям каждого тарифа. Создадим сводную таблицу, сгруппировав данные по пользователям и используя функцию для нахождения медианы."
   ]
  },
  {
   "cell_type": "code",
   "execution_count": 52,
   "metadata": {},
   "outputs": [
    {
     "data": {
      "text/html": [
       "<div>\n",
       "<style scoped>\n",
       "    .dataframe tbody tr th:only-of-type {\n",
       "        vertical-align: middle;\n",
       "    }\n",
       "\n",
       "    .dataframe tbody tr th {\n",
       "        vertical-align: top;\n",
       "    }\n",
       "\n",
       "    .dataframe thead th {\n",
       "        text-align: right;\n",
       "    }\n",
       "</style>\n",
       "<table border=\"1\" class=\"dataframe\">\n",
       "  <thead>\n",
       "    <tr style=\"text-align: right;\">\n",
       "      <th></th>\n",
       "      <th>user_id</th>\n",
       "      <th>calls_duration</th>\n",
       "      <th>calls_amount</th>\n",
       "      <th>gb_used</th>\n",
       "      <th>messages_amount</th>\n",
       "      <th>tariff</th>\n",
       "      <th>total_cost</th>\n",
       "      <th>age</th>\n",
       "      <th>churn_date</th>\n",
       "      <th>city</th>\n",
       "      <th>first_name</th>\n",
       "      <th>last_name</th>\n",
       "      <th>reg_date</th>\n",
       "      <th>messages_included</th>\n",
       "      <th>mb_per_month_included</th>\n",
       "      <th>minutes_included</th>\n",
       "      <th>rub_monthly_fee</th>\n",
       "      <th>rub_per_gb</th>\n",
       "      <th>rub_per_message</th>\n",
       "      <th>rub_per_minute</th>\n",
       "    </tr>\n",
       "  </thead>\n",
       "  <tbody>\n",
       "    <tr>\n",
       "      <th>0</th>\n",
       "      <td>1000</td>\n",
       "      <td>408.0</td>\n",
       "      <td>52.0</td>\n",
       "      <td>14.0</td>\n",
       "      <td>81.0</td>\n",
       "      <td>ultra</td>\n",
       "      <td>1950.0</td>\n",
       "      <td>52</td>\n",
       "      <td>NaN</td>\n",
       "      <td>Краснодар</td>\n",
       "      <td>Рафаил</td>\n",
       "      <td>Верещагин</td>\n",
       "      <td>2018-05-25</td>\n",
       "      <td>1000</td>\n",
       "      <td>30720</td>\n",
       "      <td>3000</td>\n",
       "      <td>1950</td>\n",
       "      <td>150</td>\n",
       "      <td>1</td>\n",
       "      <td>1</td>\n",
       "    </tr>\n",
       "    <tr>\n",
       "      <th>1</th>\n",
       "      <td>1000</td>\n",
       "      <td>333.0</td>\n",
       "      <td>46.0</td>\n",
       "      <td>10.0</td>\n",
       "      <td>70.0</td>\n",
       "      <td>ultra</td>\n",
       "      <td>1950.0</td>\n",
       "      <td>52</td>\n",
       "      <td>NaN</td>\n",
       "      <td>Краснодар</td>\n",
       "      <td>Рафаил</td>\n",
       "      <td>Верещагин</td>\n",
       "      <td>2018-05-25</td>\n",
       "      <td>1000</td>\n",
       "      <td>30720</td>\n",
       "      <td>3000</td>\n",
       "      <td>1950</td>\n",
       "      <td>150</td>\n",
       "      <td>1</td>\n",
       "      <td>1</td>\n",
       "    </tr>\n",
       "    <tr>\n",
       "      <th>2</th>\n",
       "      <td>1000</td>\n",
       "      <td>340.0</td>\n",
       "      <td>47.0</td>\n",
       "      <td>14.0</td>\n",
       "      <td>75.0</td>\n",
       "      <td>ultra</td>\n",
       "      <td>1950.0</td>\n",
       "      <td>52</td>\n",
       "      <td>NaN</td>\n",
       "      <td>Краснодар</td>\n",
       "      <td>Рафаил</td>\n",
       "      <td>Верещагин</td>\n",
       "      <td>2018-05-25</td>\n",
       "      <td>1000</td>\n",
       "      <td>30720</td>\n",
       "      <td>3000</td>\n",
       "      <td>1950</td>\n",
       "      <td>150</td>\n",
       "      <td>1</td>\n",
       "      <td>1</td>\n",
       "    </tr>\n",
       "    <tr>\n",
       "      <th>3</th>\n",
       "      <td>1000</td>\n",
       "      <td>172.0</td>\n",
       "      <td>43.0</td>\n",
       "      <td>23.0</td>\n",
       "      <td>60.0</td>\n",
       "      <td>ultra</td>\n",
       "      <td>1950.0</td>\n",
       "      <td>52</td>\n",
       "      <td>NaN</td>\n",
       "      <td>Краснодар</td>\n",
       "      <td>Рафаил</td>\n",
       "      <td>Верещагин</td>\n",
       "      <td>2018-05-25</td>\n",
       "      <td>1000</td>\n",
       "      <td>30720</td>\n",
       "      <td>3000</td>\n",
       "      <td>1950</td>\n",
       "      <td>150</td>\n",
       "      <td>1</td>\n",
       "      <td>1</td>\n",
       "    </tr>\n",
       "    <tr>\n",
       "      <th>4</th>\n",
       "      <td>1000</td>\n",
       "      <td>159.0</td>\n",
       "      <td>22.0</td>\n",
       "      <td>3.0</td>\n",
       "      <td>22.0</td>\n",
       "      <td>ultra</td>\n",
       "      <td>1950.0</td>\n",
       "      <td>52</td>\n",
       "      <td>NaN</td>\n",
       "      <td>Краснодар</td>\n",
       "      <td>Рафаил</td>\n",
       "      <td>Верещагин</td>\n",
       "      <td>2018-05-25</td>\n",
       "      <td>1000</td>\n",
       "      <td>30720</td>\n",
       "      <td>3000</td>\n",
       "      <td>1950</td>\n",
       "      <td>150</td>\n",
       "      <td>1</td>\n",
       "      <td>1</td>\n",
       "    </tr>\n",
       "  </tbody>\n",
       "</table>\n",
       "</div>"
      ],
      "text/plain": [
       "   user_id  calls_duration  calls_amount  gb_used  messages_amount tariff  \\\n",
       "0     1000           408.0          52.0     14.0             81.0  ultra   \n",
       "1     1000           333.0          46.0     10.0             70.0  ultra   \n",
       "2     1000           340.0          47.0     14.0             75.0  ultra   \n",
       "3     1000           172.0          43.0     23.0             60.0  ultra   \n",
       "4     1000           159.0          22.0      3.0             22.0  ultra   \n",
       "\n",
       "   total_cost  age churn_date       city first_name  last_name   reg_date  \\\n",
       "0      1950.0   52        NaN  Краснодар     Рафаил  Верещагин 2018-05-25   \n",
       "1      1950.0   52        NaN  Краснодар     Рафаил  Верещагин 2018-05-25   \n",
       "2      1950.0   52        NaN  Краснодар     Рафаил  Верещагин 2018-05-25   \n",
       "3      1950.0   52        NaN  Краснодар     Рафаил  Верещагин 2018-05-25   \n",
       "4      1950.0   52        NaN  Краснодар     Рафаил  Верещагин 2018-05-25   \n",
       "\n",
       "   messages_included  mb_per_month_included  minutes_included  \\\n",
       "0               1000                  30720              3000   \n",
       "1               1000                  30720              3000   \n",
       "2               1000                  30720              3000   \n",
       "3               1000                  30720              3000   \n",
       "4               1000                  30720              3000   \n",
       "\n",
       "   rub_monthly_fee  rub_per_gb  rub_per_message  rub_per_minute  \n",
       "0             1950         150                1               1  \n",
       "1             1950         150                1               1  \n",
       "2             1950         150                1               1  \n",
       "3             1950         150                1               1  \n",
       "4             1950         150                1               1  "
      ]
     },
     "execution_count": 52,
     "metadata": {},
     "output_type": "execute_result"
    }
   ],
   "source": [
    "data.head()"
   ]
  },
  {
   "cell_type": "code",
   "execution_count": 53,
   "metadata": {},
   "outputs": [
    {
     "data": {
      "text/html": [
       "<div>\n",
       "<style scoped>\n",
       "    .dataframe tbody tr th:only-of-type {\n",
       "        vertical-align: middle;\n",
       "    }\n",
       "\n",
       "    .dataframe tbody tr th {\n",
       "        vertical-align: top;\n",
       "    }\n",
       "\n",
       "    .dataframe thead th {\n",
       "        text-align: right;\n",
       "    }\n",
       "</style>\n",
       "<table border=\"1\" class=\"dataframe\">\n",
       "  <thead>\n",
       "    <tr style=\"text-align: right;\">\n",
       "      <th></th>\n",
       "      <th>calls_duration</th>\n",
       "      <th>gb_used</th>\n",
       "      <th>messages_amount</th>\n",
       "      <th>total_cost</th>\n",
       "      <th>tariff</th>\n",
       "    </tr>\n",
       "    <tr>\n",
       "      <th>user_id</th>\n",
       "      <th></th>\n",
       "      <th></th>\n",
       "      <th></th>\n",
       "      <th></th>\n",
       "      <th></th>\n",
       "    </tr>\n",
       "  </thead>\n",
       "  <tbody>\n",
       "    <tr>\n",
       "      <th>1340</th>\n",
       "      <td>450.5</td>\n",
       "      <td>17.5</td>\n",
       "      <td>11.0</td>\n",
       "      <td>1050.0</td>\n",
       "      <td>smart</td>\n",
       "    </tr>\n",
       "    <tr>\n",
       "      <th>1017</th>\n",
       "      <td>377.5</td>\n",
       "      <td>17.5</td>\n",
       "      <td>0.0</td>\n",
       "      <td>1050.0</td>\n",
       "      <td>smart</td>\n",
       "    </tr>\n",
       "    <tr>\n",
       "      <th>1157</th>\n",
       "      <td>419.0</td>\n",
       "      <td>20.0</td>\n",
       "      <td>0.0</td>\n",
       "      <td>1670.0</td>\n",
       "      <td>smart</td>\n",
       "    </tr>\n",
       "    <tr>\n",
       "      <th>1470</th>\n",
       "      <td>492.0</td>\n",
       "      <td>18.0</td>\n",
       "      <td>11.0</td>\n",
       "      <td>1150.0</td>\n",
       "      <td>smart</td>\n",
       "    </tr>\n",
       "    <tr>\n",
       "      <th>1093</th>\n",
       "      <td>825.0</td>\n",
       "      <td>18.0</td>\n",
       "      <td>72.0</td>\n",
       "      <td>2275.0</td>\n",
       "      <td>smart</td>\n",
       "    </tr>\n",
       "    <tr>\n",
       "      <th>1357</th>\n",
       "      <td>336.0</td>\n",
       "      <td>19.0</td>\n",
       "      <td>41.5</td>\n",
       "      <td>1350.0</td>\n",
       "      <td>smart</td>\n",
       "    </tr>\n",
       "    <tr>\n",
       "      <th>1380</th>\n",
       "      <td>711.5</td>\n",
       "      <td>35.0</td>\n",
       "      <td>26.0</td>\n",
       "      <td>2700.0</td>\n",
       "      <td>ultra</td>\n",
       "    </tr>\n",
       "    <tr>\n",
       "      <th>1286</th>\n",
       "      <td>393.0</td>\n",
       "      <td>20.0</td>\n",
       "      <td>40.0</td>\n",
       "      <td>2935.5</td>\n",
       "      <td>smart</td>\n",
       "    </tr>\n",
       "    <tr>\n",
       "      <th>1488</th>\n",
       "      <td>423.5</td>\n",
       "      <td>15.5</td>\n",
       "      <td>92.0</td>\n",
       "      <td>876.0</td>\n",
       "      <td>smart</td>\n",
       "    </tr>\n",
       "    <tr>\n",
       "      <th>1190</th>\n",
       "      <td>445.0</td>\n",
       "      <td>12.0</td>\n",
       "      <td>20.0</td>\n",
       "      <td>550.0</td>\n",
       "      <td>smart</td>\n",
       "    </tr>\n",
       "  </tbody>\n",
       "</table>\n",
       "</div>"
      ],
      "text/plain": [
       "         calls_duration  gb_used  messages_amount  total_cost tariff\n",
       "user_id                                                             \n",
       "1340              450.5     17.5             11.0      1050.0  smart\n",
       "1017              377.5     17.5              0.0      1050.0  smart\n",
       "1157              419.0     20.0              0.0      1670.0  smart\n",
       "1470              492.0     18.0             11.0      1150.0  smart\n",
       "1093              825.0     18.0             72.0      2275.0  smart\n",
       "1357              336.0     19.0             41.5      1350.0  smart\n",
       "1380              711.5     35.0             26.0      2700.0  ultra\n",
       "1286              393.0     20.0             40.0      2935.5  smart\n",
       "1488              423.5     15.5             92.0       876.0  smart\n",
       "1190              445.0     12.0             20.0       550.0  smart"
      ]
     },
     "execution_count": 53,
     "metadata": {},
     "output_type": "execute_result"
    }
   ],
   "source": [
    "medians_per_month = data.pivot_table(index='user_id', values=['calls_duration', 'gb_used', 'messages_amount', 'total_cost'], aggfunc='median')\n",
    "for user_id in users['user_id']:\n",
    "    medians_per_month.loc[user_id, 'tariff'] = users.loc[user_id-1000, 'tariff']\n",
    "medians_per_month.sample(10)"
   ]
  },
  {
   "cell_type": "markdown",
   "metadata": {},
   "source": [
    "Здесь мы взяли 10 случайных строк и видим, что многие могут вообще не пользоваться какими-то услугами своего тарифа."
   ]
  },
  {
   "cell_type": "markdown",
   "metadata": {},
   "source": [
    "Теперь посчитаем среднее кол-во, дисперсию и стандартное отклонение для более простого подсчета и анализа создадим общую таблицу."
   ]
  },
  {
   "cell_type": "code",
   "execution_count": 54,
   "metadata": {},
   "outputs": [
    {
     "data": {
      "text/html": [
       "<div>\n",
       "<style scoped>\n",
       "    .dataframe tbody tr th:only-of-type {\n",
       "        vertical-align: middle;\n",
       "    }\n",
       "\n",
       "    .dataframe tbody tr th {\n",
       "        vertical-align: top;\n",
       "    }\n",
       "\n",
       "    .dataframe thead tr th {\n",
       "        text-align: left;\n",
       "    }\n",
       "\n",
       "    .dataframe thead tr:last-of-type th {\n",
       "        text-align: right;\n",
       "    }\n",
       "</style>\n",
       "<table border=\"1\" class=\"dataframe\">\n",
       "  <thead>\n",
       "    <tr>\n",
       "      <th></th>\n",
       "      <th colspan=\"4\" halign=\"left\">calls_duration</th>\n",
       "      <th colspan=\"4\" halign=\"left\">gb_used</th>\n",
       "      <th colspan=\"4\" halign=\"left\">messages_amount</th>\n",
       "    </tr>\n",
       "    <tr>\n",
       "      <th></th>\n",
       "      <th>mean</th>\n",
       "      <th>median</th>\n",
       "      <th>std</th>\n",
       "      <th>var</th>\n",
       "      <th>mean</th>\n",
       "      <th>median</th>\n",
       "      <th>std</th>\n",
       "      <th>var</th>\n",
       "      <th>mean</th>\n",
       "      <th>median</th>\n",
       "      <th>std</th>\n",
       "      <th>var</th>\n",
       "    </tr>\n",
       "    <tr>\n",
       "      <th>tariff</th>\n",
       "      <th></th>\n",
       "      <th></th>\n",
       "      <th></th>\n",
       "      <th></th>\n",
       "      <th></th>\n",
       "      <th></th>\n",
       "      <th></th>\n",
       "      <th></th>\n",
       "      <th></th>\n",
       "      <th></th>\n",
       "      <th></th>\n",
       "      <th></th>\n",
       "    </tr>\n",
       "  </thead>\n",
       "  <tbody>\n",
       "    <tr>\n",
       "      <th>smart</th>\n",
       "      <td>417.9</td>\n",
       "      <td>422.0</td>\n",
       "      <td>190.3</td>\n",
       "      <td>36219.3</td>\n",
       "      <td>16.3</td>\n",
       "      <td>17.0</td>\n",
       "      <td>5.7</td>\n",
       "      <td>33.0</td>\n",
       "      <td>33.4</td>\n",
       "      <td>28.0</td>\n",
       "      <td>28.2</td>\n",
       "      <td>796.8</td>\n",
       "    </tr>\n",
       "    <tr>\n",
       "      <th>ultra</th>\n",
       "      <td>526.6</td>\n",
       "      <td>518.0</td>\n",
       "      <td>317.6</td>\n",
       "      <td>100873.6</td>\n",
       "      <td>19.5</td>\n",
       "      <td>19.0</td>\n",
       "      <td>9.9</td>\n",
       "      <td>97.1</td>\n",
       "      <td>49.4</td>\n",
       "      <td>38.0</td>\n",
       "      <td>47.8</td>\n",
       "      <td>2285.3</td>\n",
       "    </tr>\n",
       "  </tbody>\n",
       "</table>\n",
       "</div>"
      ],
      "text/plain": [
       "       calls_duration                         gb_used                    \\\n",
       "                 mean median    std       var    mean median  std   var   \n",
       "tariff                                                                    \n",
       "smart           417.9  422.0  190.3   36219.3    16.3   17.0  5.7  33.0   \n",
       "ultra           526.6  518.0  317.6  100873.6    19.5   19.0  9.9  97.1   \n",
       "\n",
       "       messages_amount                       \n",
       "                  mean median   std     var  \n",
       "tariff                                       \n",
       "smart             33.4   28.0  28.2   796.8  \n",
       "ultra             49.4   38.0  47.8  2285.3  "
      ]
     },
     "execution_count": 54,
     "metadata": {},
     "output_type": "execute_result"
    }
   ],
   "source": [
    "analiz_tariff = data.pivot_table(index=['tariff'], values=['calls_duration', 'gb_used', 'messages_amount'], \n",
    "                    aggfunc={'calls_duration': [np.mean, np.median, np.var, np.std], \n",
    "                             'gb_used': [np.mean, np.median, np.var, np.std], \n",
    "                             'messages_amount': [np.mean, np.median, np.var, np.std]})\n",
    "analiz_tariff.applymap(\"{:.1f}\".format) # пришлось округлить"
   ]
  },
  {
   "cell_type": "markdown",
   "metadata": {},
   "source": [
    "Из этих данных сделаем следующие выводы:\n",
    " - в среднем по тарифу ultra разговаривают 518 минуты, а вот по smart 422 минут.\n",
    " - интернет также больше расходуется у тарифа ultra (19гб), когда как у smart 17 гб\n",
    " - смс у ultra расходуется  38, а у smart 28\n",
    " - дисперсия у ultra больше, что говорит о большем размахе значений\n",
    "\n",
    "В итоге мы видим, что пользоатели оператором ultra пользуются услугами больше, чем у smart, при этом обычно пользователи не превышают пакет тарифа. Когда как пользователям smart приходится докупать доп. услуги к своему ежемесячному тарифу(интернет 1 гб)."
   ]
  },
  {
   "cell_type": "markdown",
   "metadata": {},
   "source": [
    "Теперь построим гистограммы"
   ]
  },
  {
   "cell_type": "code",
   "execution_count": 55,
   "metadata": {
    "scrolled": true
   },
   "outputs": [
    {
     "data": {
      "image/png": "[encoded data removed]",
      "text/plain": [
       "<Figure size 360x360 with 1 Axes>"
      ]
     },
     "metadata": {
      "needs_background": "light"
     },
     "output_type": "display_data"
    },
    {
     "data": {
      "image/png": "[encoded data removed]",
      "text/plain": [
       "<Figure size 360x360 with 1 Axes>"
      ]
     },
     "metadata": {
      "needs_background": "light"
     },
     "output_type": "display_data"
    },
    {
     "data": {
      "image/png": "[encoded data removed]",
      "text/plain": [
       "<Figure size 360x360 with 1 Axes>"
      ]
     },
     "metadata": {
      "needs_background": "light"
     },
     "output_type": "display_data"
    }
   ],
   "source": [
    "for column in ['calls_duration', 'gb_used', 'messages_amount']:\n",
    "    sns.catplot(x='tariff', y=column, data=data, kind='boxen')\n",
    "    plt.title(column, fontsize=15) "
   ]
  },
  {
   "cell_type": "code",
   "execution_count": 56,
   "metadata": {},
   "outputs": [
    {
     "data": {
      "image/png": "[encoded data removed]",
      "text/plain": [
       "<Figure size 432x288 with 1 Axes>"
      ]
     },
     "metadata": {
      "needs_background": "light"
     },
     "output_type": "display_data"
    }
   ],
   "source": [
    "data[data['tariff'] == 'smart']['calls_duration'].plot(kind='hist', ec='black', bins=10)\n",
    "plt.title(\"smart\")\n",
    "plt.xlabel(\"calls_duration\")\n",
    "plt.ylabel(\"user_id\")\n",
    "plt.show() "
   ]
  },
  {
   "cell_type": "code",
   "execution_count": 57,
   "metadata": {
    "scrolled": true
   },
   "outputs": [
    {
     "data": {
      "image/png": "[encoded data removed]",
      "text/plain": [
       "<Figure size 432x288 with 1 Axes>"
      ]
     },
     "metadata": {
      "needs_background": "light"
     },
     "output_type": "display_data"
    }
   ],
   "source": [
    "data[data['tariff'] == 'ultra']['calls_duration'].plot(kind='hist', ec='black', bins=10)\n",
    "plt.title(\"ultra\")\n",
    "plt.xlabel(\"calls_duration\")\n",
    "plt.ylabel(\"user_id\")\n",
    "plt.show() "
   ]
  },
  {
   "cell_type": "markdown",
   "metadata": {},
   "source": [
    "Чтож, тут мы видим, что по тарифу smart пользователи почти полностью израсходывают свой тариф, когда как у тарифа ultra остается еще остаток."
   ]
  },
  {
   "cell_type": "code",
   "execution_count": 58,
   "metadata": {},
   "outputs": [
    {
     "data": {
      "image/png": "[encoded data removed]",
      "text/plain": [
       "<Figure size 432x288 with 1 Axes>"
      ]
     },
     "metadata": {
      "needs_background": "light"
     },
     "output_type": "display_data"
    }
   ],
   "source": [
    "data[data['tariff'] == 'smart']['gb_used'].plot(kind='hist', ec='black', bins=10)\n",
    "plt.title(\"smart\")\n",
    "plt.xlabel(\"gb_used\")\n",
    "plt.ylabel(\"user_id\")\n",
    "plt.show() "
   ]
  },
  {
   "cell_type": "code",
   "execution_count": 59,
   "metadata": {
    "scrolled": true
   },
   "outputs": [
    {
     "data": {
      "image/png": "[encoded data removed]",
      "text/plain": [
       "<Figure size 432x288 with 1 Axes>"
      ]
     },
     "metadata": {
      "needs_background": "light"
     },
     "output_type": "display_data"
    }
   ],
   "source": [
    "data[data['tariff'] == 'ultra']['gb_used'].plot(kind='hist', ec='black', bins=10)\n",
    "plt.title(\"ultra\")\n",
    "plt.xlabel(\"gb_used\")\n",
    "plt.ylabel(\"user_id\")\n",
    "plt.show() "
   ]
  },
  {
   "cell_type": "markdown",
   "metadata": {},
   "source": [
    "В тарифе ultra больше разброс, как уже отмечалось выше. И картина здесь такая же, как и у звонков - у тарифа ultra остается запас интернета, а у другого - нет."
   ]
  },
  {
   "cell_type": "code",
   "execution_count": 60,
   "metadata": {},
   "outputs": [
    {
     "data": {
      "image/png": "[encoded data removed]",
      "text/plain": [
       "<Figure size 432x288 with 1 Axes>"
      ]
     },
     "metadata": {
      "needs_background": "light"
     },
     "output_type": "display_data"
    }
   ],
   "source": [
    "data[data['tariff'] == 'smart']['messages_amount'].plot(kind='hist', ec='black', bins=10)\n",
    "plt.title(\"smart\")\n",
    "plt.xlabel(\"messages_amount\")\n",
    "plt.ylabel(\"user_id\")\n",
    "plt.show() "
   ]
  },
  {
   "cell_type": "code",
   "execution_count": 61,
   "metadata": {},
   "outputs": [
    {
     "data": {
      "image/png": "[encoded data removed]",
      "text/plain": [
       "<Figure size 432x288 with 1 Axes>"
      ]
     },
     "metadata": {
      "needs_background": "light"
     },
     "output_type": "display_data"
    }
   ],
   "source": [
    "data[data['tariff'] == 'ultra']['messages_amount'].plot(kind='hist', ec='black', bins=10)\n",
    "plt.title(\"ultra\")\n",
    "plt.xlabel(\"messages_amount\")\n",
    "plt.ylabel(\"user_id\")\n",
    "plt.show() "
   ]
  },
  {
   "cell_type": "markdown",
   "metadata": {},
   "source": [
    "В целом мы видим, что по тарифу ultra смс пользуются больше, но опять же это скорее из-за разброса. "
   ]
  },
  {
   "cell_type": "code",
   "execution_count": 62,
   "metadata": {
    "scrolled": true
   },
   "outputs": [
    {
     "data": {
      "text/html": [
       "<div>\n",
       "<style scoped>\n",
       "    .dataframe tbody tr th:only-of-type {\n",
       "        vertical-align: middle;\n",
       "    }\n",
       "\n",
       "    .dataframe tbody tr th {\n",
       "        vertical-align: top;\n",
       "    }\n",
       "\n",
       "    .dataframe thead th {\n",
       "        text-align: right;\n",
       "    }\n",
       "</style>\n",
       "<table border=\"1\" class=\"dataframe\">\n",
       "  <thead>\n",
       "    <tr style=\"text-align: right;\">\n",
       "      <th></th>\n",
       "      <th>total_cost</th>\n",
       "    </tr>\n",
       "    <tr>\n",
       "      <th>tariff</th>\n",
       "      <th></th>\n",
       "    </tr>\n",
       "  </thead>\n",
       "  <tbody>\n",
       "    <tr>\n",
       "      <th>smart</th>\n",
       "      <td>2875351.0</td>\n",
       "    </tr>\n",
       "    <tr>\n",
       "      <th>ultra</th>\n",
       "      <td>2039100.0</td>\n",
       "    </tr>\n",
       "  </tbody>\n",
       "</table>\n",
       "</div>"
      ],
      "text/plain": [
       "        total_cost\n",
       "tariff            \n",
       "smart    2875351.0\n",
       "ultra    2039100.0"
      ]
     },
     "execution_count": 62,
     "metadata": {},
     "output_type": "execute_result"
    }
   ],
   "source": [
    "data.pivot_table(index='tariff', values='total_cost', aggfunc='sum')"
   ]
  },
  {
   "cell_type": "markdown",
   "metadata": {},
   "source": [
    "Подводя еще раз итог, мы видим, что тариф ultra как абонентам, так и компании. Несмотря на то, что пользователей у тарифа ultra меньше, но сам тариф горазда дороже. С другой стороны, из-за того, что у тарифа  smart пакета услуг не хватает к концу месяца, и по логике это дожно стимулировать покупку доп.пакета услуг, но на деле этим пользуются не многие пользватели. "
   ]
  },
  {
   "cell_type": "markdown",
   "metadata": {},
   "source": [
    "## Проверка гипотез "
   ]
  },
  {
   "cell_type": "markdown",
   "metadata": {},
   "source": [
    "  - средняя выручка пользователей тарифов Ultra и Smart различаются\n",
    "  - средняя выручка пользователей из Москвы отличается от выручки пользователей из других регионов."
   ]
  },
  {
   "cell_type": "markdown",
   "metadata": {},
   "source": [
    "Проверим гипотезу о том, что  средняя выручка пользователей тарифов Ultra и Smart различаются. Возьмем Н0 - средняя выручка пользователей тарифов Ultra и Smart равная, а Н1- средняя выручка пользователей тарифов Ultra и Smart различаются. За уровень значимости возьмем 0,1%."
   ]
  },
  {
   "cell_type": "code",
   "execution_count": 63,
   "metadata": {},
   "outputs": [
    {
     "data": {
      "text/html": [
       "<div>\n",
       "<style scoped>\n",
       "    .dataframe tbody tr th:only-of-type {\n",
       "        vertical-align: middle;\n",
       "    }\n",
       "\n",
       "    .dataframe tbody tr th {\n",
       "        vertical-align: top;\n",
       "    }\n",
       "\n",
       "    .dataframe thead th {\n",
       "        text-align: right;\n",
       "    }\n",
       "</style>\n",
       "<table border=\"1\" class=\"dataframe\">\n",
       "  <thead>\n",
       "    <tr style=\"text-align: right;\">\n",
       "      <th></th>\n",
       "      <th>user_id</th>\n",
       "      <th>calls_duration</th>\n",
       "      <th>calls_amount</th>\n",
       "      <th>gb_used</th>\n",
       "      <th>messages_amount</th>\n",
       "      <th>tariff</th>\n",
       "      <th>total_cost</th>\n",
       "      <th>age</th>\n",
       "      <th>churn_date</th>\n",
       "      <th>city</th>\n",
       "      <th>first_name</th>\n",
       "      <th>last_name</th>\n",
       "      <th>reg_date</th>\n",
       "      <th>messages_included</th>\n",
       "      <th>mb_per_month_included</th>\n",
       "      <th>minutes_included</th>\n",
       "      <th>rub_monthly_fee</th>\n",
       "      <th>rub_per_gb</th>\n",
       "      <th>rub_per_message</th>\n",
       "      <th>rub_per_minute</th>\n",
       "    </tr>\n",
       "  </thead>\n",
       "  <tbody>\n",
       "    <tr>\n",
       "      <th>0</th>\n",
       "      <td>1000</td>\n",
       "      <td>408.0</td>\n",
       "      <td>52.0</td>\n",
       "      <td>14.0</td>\n",
       "      <td>81.0</td>\n",
       "      <td>ultra</td>\n",
       "      <td>1950.0</td>\n",
       "      <td>52</td>\n",
       "      <td>NaN</td>\n",
       "      <td>Краснодар</td>\n",
       "      <td>Рафаил</td>\n",
       "      <td>Верещагин</td>\n",
       "      <td>2018-05-25</td>\n",
       "      <td>1000</td>\n",
       "      <td>30720</td>\n",
       "      <td>3000</td>\n",
       "      <td>1950</td>\n",
       "      <td>150</td>\n",
       "      <td>1</td>\n",
       "      <td>1</td>\n",
       "    </tr>\n",
       "    <tr>\n",
       "      <th>1</th>\n",
       "      <td>1000</td>\n",
       "      <td>333.0</td>\n",
       "      <td>46.0</td>\n",
       "      <td>10.0</td>\n",
       "      <td>70.0</td>\n",
       "      <td>ultra</td>\n",
       "      <td>1950.0</td>\n",
       "      <td>52</td>\n",
       "      <td>NaN</td>\n",
       "      <td>Краснодар</td>\n",
       "      <td>Рафаил</td>\n",
       "      <td>Верещагин</td>\n",
       "      <td>2018-05-25</td>\n",
       "      <td>1000</td>\n",
       "      <td>30720</td>\n",
       "      <td>3000</td>\n",
       "      <td>1950</td>\n",
       "      <td>150</td>\n",
       "      <td>1</td>\n",
       "      <td>1</td>\n",
       "    </tr>\n",
       "    <tr>\n",
       "      <th>2</th>\n",
       "      <td>1000</td>\n",
       "      <td>340.0</td>\n",
       "      <td>47.0</td>\n",
       "      <td>14.0</td>\n",
       "      <td>75.0</td>\n",
       "      <td>ultra</td>\n",
       "      <td>1950.0</td>\n",
       "      <td>52</td>\n",
       "      <td>NaN</td>\n",
       "      <td>Краснодар</td>\n",
       "      <td>Рафаил</td>\n",
       "      <td>Верещагин</td>\n",
       "      <td>2018-05-25</td>\n",
       "      <td>1000</td>\n",
       "      <td>30720</td>\n",
       "      <td>3000</td>\n",
       "      <td>1950</td>\n",
       "      <td>150</td>\n",
       "      <td>1</td>\n",
       "      <td>1</td>\n",
       "    </tr>\n",
       "    <tr>\n",
       "      <th>3</th>\n",
       "      <td>1000</td>\n",
       "      <td>172.0</td>\n",
       "      <td>43.0</td>\n",
       "      <td>23.0</td>\n",
       "      <td>60.0</td>\n",
       "      <td>ultra</td>\n",
       "      <td>1950.0</td>\n",
       "      <td>52</td>\n",
       "      <td>NaN</td>\n",
       "      <td>Краснодар</td>\n",
       "      <td>Рафаил</td>\n",
       "      <td>Верещагин</td>\n",
       "      <td>2018-05-25</td>\n",
       "      <td>1000</td>\n",
       "      <td>30720</td>\n",
       "      <td>3000</td>\n",
       "      <td>1950</td>\n",
       "      <td>150</td>\n",
       "      <td>1</td>\n",
       "      <td>1</td>\n",
       "    </tr>\n",
       "    <tr>\n",
       "      <th>4</th>\n",
       "      <td>1000</td>\n",
       "      <td>159.0</td>\n",
       "      <td>22.0</td>\n",
       "      <td>3.0</td>\n",
       "      <td>22.0</td>\n",
       "      <td>ultra</td>\n",
       "      <td>1950.0</td>\n",
       "      <td>52</td>\n",
       "      <td>NaN</td>\n",
       "      <td>Краснодар</td>\n",
       "      <td>Рафаил</td>\n",
       "      <td>Верещагин</td>\n",
       "      <td>2018-05-25</td>\n",
       "      <td>1000</td>\n",
       "      <td>30720</td>\n",
       "      <td>3000</td>\n",
       "      <td>1950</td>\n",
       "      <td>150</td>\n",
       "      <td>1</td>\n",
       "      <td>1</td>\n",
       "    </tr>\n",
       "    <tr>\n",
       "      <th>5</th>\n",
       "      <td>1000</td>\n",
       "      <td>338.0</td>\n",
       "      <td>43.0</td>\n",
       "      <td>15.0</td>\n",
       "      <td>58.0</td>\n",
       "      <td>ultra</td>\n",
       "      <td>1950.0</td>\n",
       "      <td>52</td>\n",
       "      <td>NaN</td>\n",
       "      <td>Краснодар</td>\n",
       "      <td>Рафаил</td>\n",
       "      <td>Верещагин</td>\n",
       "      <td>2018-05-25</td>\n",
       "      <td>1000</td>\n",
       "      <td>30720</td>\n",
       "      <td>3000</td>\n",
       "      <td>1950</td>\n",
       "      <td>150</td>\n",
       "      <td>1</td>\n",
       "      <td>1</td>\n",
       "    </tr>\n",
       "    <tr>\n",
       "      <th>6</th>\n",
       "      <td>1000</td>\n",
       "      <td>350.0</td>\n",
       "      <td>57.0</td>\n",
       "      <td>15.0</td>\n",
       "      <td>73.0</td>\n",
       "      <td>ultra</td>\n",
       "      <td>1950.0</td>\n",
       "      <td>52</td>\n",
       "      <td>NaN</td>\n",
       "      <td>Краснодар</td>\n",
       "      <td>Рафаил</td>\n",
       "      <td>Верещагин</td>\n",
       "      <td>2018-05-25</td>\n",
       "      <td>1000</td>\n",
       "      <td>30720</td>\n",
       "      <td>3000</td>\n",
       "      <td>1950</td>\n",
       "      <td>150</td>\n",
       "      <td>1</td>\n",
       "      <td>1</td>\n",
       "    </tr>\n",
       "    <tr>\n",
       "      <th>7</th>\n",
       "      <td>1000</td>\n",
       "      <td>466.0</td>\n",
       "      <td>58.0</td>\n",
       "      <td>15.0</td>\n",
       "      <td>57.0</td>\n",
       "      <td>ultra</td>\n",
       "      <td>1950.0</td>\n",
       "      <td>52</td>\n",
       "      <td>NaN</td>\n",
       "      <td>Краснодар</td>\n",
       "      <td>Рафаил</td>\n",
       "      <td>Верещагин</td>\n",
       "      <td>2018-05-25</td>\n",
       "      <td>1000</td>\n",
       "      <td>30720</td>\n",
       "      <td>3000</td>\n",
       "      <td>1950</td>\n",
       "      <td>150</td>\n",
       "      <td>1</td>\n",
       "      <td>1</td>\n",
       "    </tr>\n",
       "    <tr>\n",
       "      <th>8</th>\n",
       "      <td>1003</td>\n",
       "      <td>380.0</td>\n",
       "      <td>55.0</td>\n",
       "      <td>9.0</td>\n",
       "      <td>37.0</td>\n",
       "      <td>ultra</td>\n",
       "      <td>1950.0</td>\n",
       "      <td>23</td>\n",
       "      <td>NaN</td>\n",
       "      <td>Москва</td>\n",
       "      <td>Белла</td>\n",
       "      <td>Белякова</td>\n",
       "      <td>2018-08-17</td>\n",
       "      <td>1000</td>\n",
       "      <td>30720</td>\n",
       "      <td>3000</td>\n",
       "      <td>1950</td>\n",
       "      <td>150</td>\n",
       "      <td>1</td>\n",
       "      <td>1</td>\n",
       "    </tr>\n",
       "    <tr>\n",
       "      <th>9</th>\n",
       "      <td>1003</td>\n",
       "      <td>802.0</td>\n",
       "      <td>108.0</td>\n",
       "      <td>10.0</td>\n",
       "      <td>75.0</td>\n",
       "      <td>ultra</td>\n",
       "      <td>1950.0</td>\n",
       "      <td>23</td>\n",
       "      <td>NaN</td>\n",
       "      <td>Москва</td>\n",
       "      <td>Белла</td>\n",
       "      <td>Белякова</td>\n",
       "      <td>2018-08-17</td>\n",
       "      <td>1000</td>\n",
       "      <td>30720</td>\n",
       "      <td>3000</td>\n",
       "      <td>1950</td>\n",
       "      <td>150</td>\n",
       "      <td>1</td>\n",
       "      <td>1</td>\n",
       "    </tr>\n",
       "    <tr>\n",
       "      <th>10</th>\n",
       "      <td>1003</td>\n",
       "      <td>824.0</td>\n",
       "      <td>115.0</td>\n",
       "      <td>12.0</td>\n",
       "      <td>94.0</td>\n",
       "      <td>ultra</td>\n",
       "      <td>1950.0</td>\n",
       "      <td>23</td>\n",
       "      <td>NaN</td>\n",
       "      <td>Москва</td>\n",
       "      <td>Белла</td>\n",
       "      <td>Белякова</td>\n",
       "      <td>2018-08-17</td>\n",
       "      <td>1000</td>\n",
       "      <td>30720</td>\n",
       "      <td>3000</td>\n",
       "      <td>1950</td>\n",
       "      <td>150</td>\n",
       "      <td>1</td>\n",
       "      <td>1</td>\n",
       "    </tr>\n",
       "    <tr>\n",
       "      <th>11</th>\n",
       "      <td>1003</td>\n",
       "      <td>855.0</td>\n",
       "      <td>108.0</td>\n",
       "      <td>15.0</td>\n",
       "      <td>83.0</td>\n",
       "      <td>ultra</td>\n",
       "      <td>1950.0</td>\n",
       "      <td>23</td>\n",
       "      <td>NaN</td>\n",
       "      <td>Москва</td>\n",
       "      <td>Белла</td>\n",
       "      <td>Белякова</td>\n",
       "      <td>2018-08-17</td>\n",
       "      <td>1000</td>\n",
       "      <td>30720</td>\n",
       "      <td>3000</td>\n",
       "      <td>1950</td>\n",
       "      <td>150</td>\n",
       "      <td>1</td>\n",
       "      <td>1</td>\n",
       "    </tr>\n",
       "    <tr>\n",
       "      <th>12</th>\n",
       "      <td>1003</td>\n",
       "      <td>961.0</td>\n",
       "      <td>134.0</td>\n",
       "      <td>13.0</td>\n",
       "      <td>91.0</td>\n",
       "      <td>ultra</td>\n",
       "      <td>1950.0</td>\n",
       "      <td>23</td>\n",
       "      <td>NaN</td>\n",
       "      <td>Москва</td>\n",
       "      <td>Белла</td>\n",
       "      <td>Белякова</td>\n",
       "      <td>2018-08-17</td>\n",
       "      <td>1000</td>\n",
       "      <td>30720</td>\n",
       "      <td>3000</td>\n",
       "      <td>1950</td>\n",
       "      <td>150</td>\n",
       "      <td>1</td>\n",
       "      <td>1</td>\n",
       "    </tr>\n",
       "    <tr>\n",
       "      <th>13</th>\n",
       "      <td>1004</td>\n",
       "      <td>137.0</td>\n",
       "      <td>19.0</td>\n",
       "      <td>28.0</td>\n",
       "      <td>151.0</td>\n",
       "      <td>ultra</td>\n",
       "      <td>1950.0</td>\n",
       "      <td>68</td>\n",
       "      <td>NaN</td>\n",
       "      <td>Новокузнецк</td>\n",
       "      <td>Татьяна</td>\n",
       "      <td>Авдеенко</td>\n",
       "      <td>2018-05-14</td>\n",
       "      <td>1000</td>\n",
       "      <td>30720</td>\n",
       "      <td>3000</td>\n",
       "      <td>1950</td>\n",
       "      <td>150</td>\n",
       "      <td>1</td>\n",
       "      <td>1</td>\n",
       "    </tr>\n",
       "    <tr>\n",
       "      <th>14</th>\n",
       "      <td>1004</td>\n",
       "      <td>130.0</td>\n",
       "      <td>21.0</td>\n",
       "      <td>18.0</td>\n",
       "      <td>162.0</td>\n",
       "      <td>ultra</td>\n",
       "      <td>1950.0</td>\n",
       "      <td>68</td>\n",
       "      <td>NaN</td>\n",
       "      <td>Новокузнецк</td>\n",
       "      <td>Татьяна</td>\n",
       "      <td>Авдеенко</td>\n",
       "      <td>2018-05-14</td>\n",
       "      <td>1000</td>\n",
       "      <td>30720</td>\n",
       "      <td>3000</td>\n",
       "      <td>1950</td>\n",
       "      <td>150</td>\n",
       "      <td>1</td>\n",
       "      <td>1</td>\n",
       "    </tr>\n",
       "  </tbody>\n",
       "</table>\n",
       "</div>"
      ],
      "text/plain": [
       "    user_id  calls_duration  calls_amount  gb_used  messages_amount tariff  \\\n",
       "0      1000           408.0          52.0     14.0             81.0  ultra   \n",
       "1      1000           333.0          46.0     10.0             70.0  ultra   \n",
       "2      1000           340.0          47.0     14.0             75.0  ultra   \n",
       "3      1000           172.0          43.0     23.0             60.0  ultra   \n",
       "4      1000           159.0          22.0      3.0             22.0  ultra   \n",
       "5      1000           338.0          43.0     15.0             58.0  ultra   \n",
       "6      1000           350.0          57.0     15.0             73.0  ultra   \n",
       "7      1000           466.0          58.0     15.0             57.0  ultra   \n",
       "8      1003           380.0          55.0      9.0             37.0  ultra   \n",
       "9      1003           802.0         108.0     10.0             75.0  ultra   \n",
       "10     1003           824.0         115.0     12.0             94.0  ultra   \n",
       "11     1003           855.0         108.0     15.0             83.0  ultra   \n",
       "12     1003           961.0         134.0     13.0             91.0  ultra   \n",
       "13     1004           137.0          19.0     28.0            151.0  ultra   \n",
       "14     1004           130.0          21.0     18.0            162.0  ultra   \n",
       "\n",
       "    total_cost  age churn_date         city first_name  last_name   reg_date  \\\n",
       "0       1950.0   52        NaN    Краснодар     Рафаил  Верещагин 2018-05-25   \n",
       "1       1950.0   52        NaN    Краснодар     Рафаил  Верещагин 2018-05-25   \n",
       "2       1950.0   52        NaN    Краснодар     Рафаил  Верещагин 2018-05-25   \n",
       "3       1950.0   52        NaN    Краснодар     Рафаил  Верещагин 2018-05-25   \n",
       "4       1950.0   52        NaN    Краснодар     Рафаил  Верещагин 2018-05-25   \n",
       "5       1950.0   52        NaN    Краснодар     Рафаил  Верещагин 2018-05-25   \n",
       "6       1950.0   52        NaN    Краснодар     Рафаил  Верещагин 2018-05-25   \n",
       "7       1950.0   52        NaN    Краснодар     Рафаил  Верещагин 2018-05-25   \n",
       "8       1950.0   23        NaN       Москва      Белла   Белякова 2018-08-17   \n",
       "9       1950.0   23        NaN       Москва      Белла   Белякова 2018-08-17   \n",
       "10      1950.0   23        NaN       Москва      Белла   Белякова 2018-08-17   \n",
       "11      1950.0   23        NaN       Москва      Белла   Белякова 2018-08-17   \n",
       "12      1950.0   23        NaN       Москва      Белла   Белякова 2018-08-17   \n",
       "13      1950.0   68        NaN  Новокузнецк    Татьяна   Авдеенко 2018-05-14   \n",
       "14      1950.0   68        NaN  Новокузнецк    Татьяна   Авдеенко 2018-05-14   \n",
       "\n",
       "    messages_included  mb_per_month_included  minutes_included  \\\n",
       "0                1000                  30720              3000   \n",
       "1                1000                  30720              3000   \n",
       "2                1000                  30720              3000   \n",
       "3                1000                  30720              3000   \n",
       "4                1000                  30720              3000   \n",
       "5                1000                  30720              3000   \n",
       "6                1000                  30720              3000   \n",
       "7                1000                  30720              3000   \n",
       "8                1000                  30720              3000   \n",
       "9                1000                  30720              3000   \n",
       "10               1000                  30720              3000   \n",
       "11               1000                  30720              3000   \n",
       "12               1000                  30720              3000   \n",
       "13               1000                  30720              3000   \n",
       "14               1000                  30720              3000   \n",
       "\n",
       "    rub_monthly_fee  rub_per_gb  rub_per_message  rub_per_minute  \n",
       "0              1950         150                1               1  \n",
       "1              1950         150                1               1  \n",
       "2              1950         150                1               1  \n",
       "3              1950         150                1               1  \n",
       "4              1950         150                1               1  \n",
       "5              1950         150                1               1  \n",
       "6              1950         150                1               1  \n",
       "7              1950         150                1               1  \n",
       "8              1950         150                1               1  \n",
       "9              1950         150                1               1  \n",
       "10             1950         150                1               1  \n",
       "11             1950         150                1               1  \n",
       "12             1950         150                1               1  \n",
       "13             1950         150                1               1  \n",
       "14             1950         150                1               1  "
      ]
     },
     "execution_count": 63,
     "metadata": {},
     "output_type": "execute_result"
    }
   ],
   "source": [
    "data.head(15)"
   ]
  },
  {
   "cell_type": "code",
   "execution_count": 64,
   "metadata": {},
   "outputs": [],
   "source": [
    "# для упрощения счета создадим новых два датафрейма для каждого из тарифов\n",
    "ultra = data.query('tariff==\"ultra\"')['total_cost']\n",
    "smart = data.query('tariff==\"smart\"')['total_cost']"
   ]
  },
  {
   "cell_type": "code",
   "execution_count": 65,
   "metadata": {},
   "outputs": [
    {
     "name": "stdout",
     "output_type": "stream",
     "text": [
      "141516.7450786183\n",
      "669785.7080064242\n"
     ]
    }
   ],
   "source": [
    "# Выясним, как различаются дисперсии тарифоф ultra и smart\n",
    "print(ultra.var(ddof=1))\n",
    "print(smart.var(ddof=1))"
   ]
  },
  {
   "cell_type": "markdown",
   "metadata": {},
   "source": [
    "Рассмотрим два этих датафрейма как две независмые выборки (будем использовать ttest_ind), дисперсии для выборок сильно отличаются, то небоходимо учесть это в функции, добавив аргумент equal_var=False."
   ]
  },
  {
   "cell_type": "code",
   "execution_count": 66,
   "metadata": {},
   "outputs": [
    {
     "name": "stdout",
     "output_type": "stream",
     "text": [
      "p-значение: 4.2606313931076085e-250\n",
      "Отвергаем нулевую гипотезу\n"
     ]
    }
   ],
   "source": [
    "alpha = .001\n",
    "\n",
    "gip_1 = st.ttest_ind(smart, ultra, equal_var=False, nan_policy='omit') \n",
    "print('p-значение:', gip_1.pvalue)\n",
    "\n",
    "if (gip_1.pvalue < alpha):\n",
    "    print(\"Отвергаем нулевую гипотезу\")\n",
    "else:\n",
    "    print(\"Не получилось отвергнуть нулевую гипотезу\")"
   ]
  },
  {
   "cell_type": "markdown",
   "metadata": {},
   "source": [
    "Получается средние выручки не равны. Посмотрим средние показатели наглядно."
   ]
  },
  {
   "cell_type": "code",
   "execution_count": 67,
   "metadata": {},
   "outputs": [
    {
     "data": {
      "text/html": [
       "<div>\n",
       "<style scoped>\n",
       "    .dataframe tbody tr th:only-of-type {\n",
       "        vertical-align: middle;\n",
       "    }\n",
       "\n",
       "    .dataframe tbody tr th {\n",
       "        vertical-align: top;\n",
       "    }\n",
       "\n",
       "    .dataframe thead th {\n",
       "        text-align: right;\n",
       "    }\n",
       "</style>\n",
       "<table border=\"1\" class=\"dataframe\">\n",
       "  <thead>\n",
       "    <tr style=\"text-align: right;\">\n",
       "      <th></th>\n",
       "      <th>total_cost</th>\n",
       "    </tr>\n",
       "    <tr>\n",
       "      <th>tariff</th>\n",
       "      <th></th>\n",
       "    </tr>\n",
       "  </thead>\n",
       "  <tbody>\n",
       "    <tr>\n",
       "      <th>smart</th>\n",
       "      <td>1289.973531</td>\n",
       "    </tr>\n",
       "    <tr>\n",
       "      <th>ultra</th>\n",
       "      <td>2070.152284</td>\n",
       "    </tr>\n",
       "  </tbody>\n",
       "</table>\n",
       "</div>"
      ],
      "text/plain": [
       "         total_cost\n",
       "tariff             \n",
       "smart   1289.973531\n",
       "ultra   2070.152284"
      ]
     },
     "execution_count": 67,
     "metadata": {},
     "output_type": "execute_result"
    }
   ],
   "source": [
    "data.pivot_table(index='tariff', values='total_cost', aggfunc='mean')"
   ]
  },
  {
   "cell_type": "markdown",
   "metadata": {},
   "source": [
    "В итоге мы видим, что средняя выручка действительно отличается почти в два раза. А это значит, что с большой вероятностью  можно утверждать, что средняя выручка пользователя тарифа Smart и тарифа Ultra отличаются."
   ]
  },
  {
   "cell_type": "markdown",
   "metadata": {},
   "source": [
    "Теперь проверим вторую гипотезу: средняя выручка пользователей из Москвы отличается от выручки пользователей из других регионов.\n",
    "\n",
    "За Н0 мы возмем утверждение: средняя выручка от пользователей из г. Москва равно средней выручке пользователей других городов.\n",
    "Н1: средняя выручка от пользователей из г. Москва не равна средней выручке пользователей других городов. Значимость возмем такую же, как и в прошлый раз.\n"
   ]
  },
  {
   "cell_type": "code",
   "execution_count": 68,
   "metadata": {},
   "outputs": [],
   "source": [
    "# идем по тому же сценарию и задаем два новых датафрейма\n",
    "moscow = data.query('city == \"Москва\"')['total_cost']\n",
    "others = data.query('city != \"Москва\"')['total_cost']"
   ]
  },
  {
   "cell_type": "code",
   "execution_count": 69,
   "metadata": {},
   "outputs": [
    {
     "name": "stdout",
     "output_type": "stream",
     "text": [
      "565636.467011886\n",
      "654137.6285218114\n"
     ]
    }
   ],
   "source": [
    "print(moscow.var(ddof=1))\n",
    "print(others.var(ddof=1))"
   ]
  },
  {
   "cell_type": "markdown",
   "metadata": {},
   "source": [
    "Здесь мы видим, что дисперсия почти одинаковая, но все же различаются, поэтому воспользуемся аналогичной системой."
   ]
  },
  {
   "cell_type": "code",
   "execution_count": 70,
   "metadata": {},
   "outputs": [
    {
     "name": "stdout",
     "output_type": "stream",
     "text": [
      "p-значение: 0.5257376663729298\n",
      "Не получилось отвергнуть нулевую гипотезу\n"
     ]
    }
   ],
   "source": [
    "alpha = .01\n",
    "\n",
    "gip_2 = st.ttest_ind( moscow, others, equal_var=False, nan_policy='omit')\n",
    "\n",
    "print('p-значение:', gip_2.pvalue)\n",
    "\n",
    "if (gip_2.pvalue < alpha):\n",
    "    print(\"Отвергаем нулевую гипотезу\")\n",
    "else:\n",
    "    print(\"Не получилось отвергнуть нулевую гипотезу\")"
   ]
  },
  {
   "cell_type": "markdown",
   "metadata": {},
   "source": [
    "Чтож, здесь получается, что если бы решили сравнить Москву с другими городами, то получилось бы, что выручки примерно равны."
   ]
  },
  {
   "cell_type": "code",
   "execution_count": 71,
   "metadata": {},
   "outputs": [
    {
     "data": {
      "text/html": [
       "<div>\n",
       "<style scoped>\n",
       "    .dataframe tbody tr th:only-of-type {\n",
       "        vertical-align: middle;\n",
       "    }\n",
       "\n",
       "    .dataframe tbody tr th {\n",
       "        vertical-align: top;\n",
       "    }\n",
       "\n",
       "    .dataframe thead th {\n",
       "        text-align: right;\n",
       "    }\n",
       "</style>\n",
       "<table border=\"1\" class=\"dataframe\">\n",
       "  <thead>\n",
       "    <tr style=\"text-align: right;\">\n",
       "      <th></th>\n",
       "      <th>total_cost</th>\n",
       "    </tr>\n",
       "    <tr>\n",
       "      <th>city</th>\n",
       "      <th></th>\n",
       "    </tr>\n",
       "  </thead>\n",
       "  <tbody>\n",
       "    <tr>\n",
       "      <th>Другой город</th>\n",
       "      <td>1524.936227</td>\n",
       "    </tr>\n",
       "    <tr>\n",
       "      <th>Москва</th>\n",
       "      <td>1546.713584</td>\n",
       "    </tr>\n",
       "  </tbody>\n",
       "</table>\n",
       "</div>"
      ],
      "text/plain": [
       "               total_cost\n",
       "city                     \n",
       "Другой город  1524.936227\n",
       "Москва        1546.713584"
      ]
     },
     "execution_count": 71,
     "metadata": {},
     "output_type": "execute_result"
    }
   ],
   "source": [
    "# также попробуем рассмотреть средние выручки\n",
    "cities = data.copy()\n",
    "cities.loc[cities.loc[:,'city'] != 'Москва', 'city'] = 'Другой город'\n",
    "cities.pivot_table(index='city', values='total_cost', aggfunc='mean')"
   ]
  },
  {
   "cell_type": "markdown",
   "metadata": {},
   "source": [
    "Что и требовалось доказать"
   ]
  },
  {
   "cell_type": "markdown",
   "metadata": {},
   "source": [
    "В результате, мы проверили две гипотезы:\n",
    "  - средняя выручка пользователей тарифов Ultra и Smart различаются\n",
    "  - средняя выручка пользователей из Москвы отличается от выручки пользователей из других регионов.\n",
    "За значимость мы взяли 0.01%. Их альтернативными утверждениями стали, что выручки в обоях случаях равны.  \n",
    "\n",
    "Получилось:\n",
    "  - средняя выручка пользователя тарифа Smart и тарифа Ultra отличаются\n",
    "  - средняя выручка от пользователей из г. Москва  равно средней выручке пользователей других городов"
   ]
  },
  {
   "cell_type": "markdown",
   "metadata": {},
   "source": [
    "## Выводы "
   ]
  },
  {
   "cell_type": "markdown",
   "metadata": {},
   "source": [
    "Подводя итоги работы, мы можем отметить следующее:были изучены данные о клиентах, информацию о датах и продолжительности звонков, отправленных сообщениях, интернет сессиях и использованном трафике, а так же общую информацию о тарифах компании; эти данные были обработаны для более удобной работы с ними; некоторые данные были не тронуты, т.к в описании проекта были уточнения, касаемые их.\n",
    "\n",
    " На этапе обработки мы сделали следующие выводы:\n",
    " - в среднем по тарифу ultra разговаривают 518 минуты, а вот по smart 422 минут.\n",
    " - интернет также больше расходуется у тарифа ultra (19гб), когда как у smart 17 гб\n",
    " - смс у ultra расходуется  38, а у smart 28\n",
    " - дисперсия у ultra больше, что говорит о большем размахе значений\n",
    " \n",
    " \n",
    "Дальнейшая постройка графиков подтвердило, что тариф ultra выгоден во всех позициях. Пользователи данного тарифа не должны переживать к концу месяца, что из пакет услуг закончится и им придется покупать что-то дополнительно. По выручке данный тариф также более выгоден и для компании (smart - 121285.0,  ultra - 160500.0).\n",
    "\n",
    "\n",
    "Дальше нами были проверены две гипотезы:\n",
    "  - средняя выручка пользователей тарифов Ultra и Smart различаются\n",
    "  - средняя выручка пользователей из Москвы отличается от выручки пользователей из других регионов.\n",
    "За значимость мы взяли 0.01%. Их альтернативными утверждениями стали, что выручки в обоях случаях равны.  \n",
    "\n",
    "В итоге наши гипотезы имеют вот такой результат:\n",
    "  - средняя выручка пользователя тарифа Smart и тарифа Ultra отличаются\n",
    "  - средняя выручка от пользователей из г. Москва  равно средней выручке пользователей других городов\n",
    "  \n",
    "В целом, тариф Ultra действительно выгоден как для компании, так и для абонентов. В целом, стоит простимулировать переход пользователей тарифом Smart на тариф Ultra."
   ]
  }
 ],
 "metadata": {
  "ExecuteTimeLog": [
   {
    "duration": 89,
    "start_time": "2022-06-07T11:37:01.769Z"
   },
   {
    "duration": 8,
    "start_time": "2022-06-07T11:38:31.896Z"
   },
   {
    "duration": 2241,
    "start_time": "2022-06-07T11:38:56.477Z"
   },
   {
    "duration": 19,
    "start_time": "2022-06-07T11:38:58.720Z"
   },
   {
    "duration": 19,
    "start_time": "2022-06-07T11:39:11.058Z"
   },
   {
    "duration": 17,
    "start_time": "2022-06-07T11:40:19.417Z"
   },
   {
    "duration": 12,
    "start_time": "2022-06-07T11:40:53.959Z"
   },
   {
    "duration": 9,
    "start_time": "2022-06-07T11:43:34.997Z"
   },
   {
    "duration": 14,
    "start_time": "2022-06-07T11:43:36.484Z"
   },
   {
    "duration": 13,
    "start_time": "2022-06-07T11:44:40.494Z"
   },
   {
    "duration": 10,
    "start_time": "2022-06-07T11:55:31.534Z"
   },
   {
    "duration": 10,
    "start_time": "2022-06-07T11:56:01.963Z"
   },
   {
    "duration": 11,
    "start_time": "2022-06-07T12:11:15.939Z"
   },
   {
    "duration": 26,
    "start_time": "2022-06-07T12:14:25.758Z"
   },
   {
    "duration": 22,
    "start_time": "2022-06-07T12:14:38.373Z"
   },
   {
    "duration": 98,
    "start_time": "2022-06-07T12:16:04.501Z"
   },
   {
    "duration": 12,
    "start_time": "2022-06-07T12:23:36.210Z"
   },
   {
    "duration": 7,
    "start_time": "2022-06-07T12:27:20.393Z"
   },
   {
    "duration": 20,
    "start_time": "2022-06-07T12:29:25.979Z"
   },
   {
    "duration": 17,
    "start_time": "2022-06-07T12:30:59.517Z"
   },
   {
    "duration": 18,
    "start_time": "2022-06-07T12:31:08.416Z"
   },
   {
    "duration": 13,
    "start_time": "2022-06-07T12:31:11.230Z"
   },
   {
    "duration": 10,
    "start_time": "2022-06-07T12:31:13.883Z"
   },
   {
    "duration": 8,
    "start_time": "2022-06-07T12:35:40.699Z"
   },
   {
    "duration": 26,
    "start_time": "2022-06-07T12:36:09.978Z"
   },
   {
    "duration": 19,
    "start_time": "2022-06-07T12:36:24.371Z"
   },
   {
    "duration": 15,
    "start_time": "2022-06-07T12:36:54.721Z"
   },
   {
    "duration": 19,
    "start_time": "2022-06-07T12:36:57.113Z"
   },
   {
    "duration": 11,
    "start_time": "2022-06-07T12:37:59.363Z"
   },
   {
    "duration": 10,
    "start_time": "2022-06-07T12:39:12.064Z"
   },
   {
    "duration": 13,
    "start_time": "2022-06-07T12:42:06.393Z"
   },
   {
    "duration": 207,
    "start_time": "2022-06-07T12:44:02.051Z"
   },
   {
    "duration": 21,
    "start_time": "2022-06-07T12:44:20.628Z"
   },
   {
    "duration": 249,
    "start_time": "2022-06-07T12:45:43.283Z"
   },
   {
    "duration": 7,
    "start_time": "2022-06-07T12:46:58.453Z"
   },
   {
    "duration": 141,
    "start_time": "2022-06-07T12:52:09.180Z"
   },
   {
    "duration": 1425,
    "start_time": "2022-06-07T12:52:55.567Z"
   },
   {
    "duration": 14,
    "start_time": "2022-06-07T12:52:56.994Z"
   },
   {
    "duration": 17,
    "start_time": "2022-06-07T12:52:57.009Z"
   },
   {
    "duration": 7,
    "start_time": "2022-06-07T12:52:57.028Z"
   },
   {
    "duration": 12,
    "start_time": "2022-06-07T12:52:57.037Z"
   },
   {
    "duration": 11,
    "start_time": "2022-06-07T12:52:57.050Z"
   },
   {
    "duration": 10,
    "start_time": "2022-06-07T12:52:57.062Z"
   },
   {
    "duration": 113,
    "start_time": "2022-06-07T12:52:57.073Z"
   },
   {
    "duration": 25,
    "start_time": "2022-06-07T12:52:57.188Z"
   },
   {
    "duration": 23,
    "start_time": "2022-06-07T12:52:57.226Z"
   },
   {
    "duration": 35,
    "start_time": "2022-06-07T12:52:57.251Z"
   },
   {
    "duration": 39,
    "start_time": "2022-06-07T12:52:57.288Z"
   },
   {
    "duration": 13,
    "start_time": "2022-06-07T12:52:57.329Z"
   },
   {
    "duration": 10,
    "start_time": "2022-06-07T12:52:57.344Z"
   },
   {
    "duration": 21,
    "start_time": "2022-06-07T12:52:57.356Z"
   },
   {
    "duration": 16,
    "start_time": "2022-06-07T12:52:57.378Z"
   },
   {
    "duration": 33,
    "start_time": "2022-06-07T12:52:57.396Z"
   },
   {
    "duration": 10,
    "start_time": "2022-06-07T12:52:57.430Z"
   },
   {
    "duration": 8,
    "start_time": "2022-06-07T12:52:57.442Z"
   },
   {
    "duration": 28,
    "start_time": "2022-06-07T12:52:57.452Z"
   },
   {
    "duration": 19,
    "start_time": "2022-06-07T12:52:57.482Z"
   },
   {
    "duration": 15,
    "start_time": "2022-06-07T12:52:57.526Z"
   },
   {
    "duration": 21,
    "start_time": "2022-06-07T12:52:57.542Z"
   },
   {
    "duration": 10,
    "start_time": "2022-06-07T12:52:57.565Z"
   },
   {
    "duration": 10,
    "start_time": "2022-06-07T12:52:57.576Z"
   },
   {
    "duration": 242,
    "start_time": "2022-06-07T12:52:57.588Z"
   },
   {
    "duration": 20,
    "start_time": "2022-06-07T12:52:57.832Z"
   },
   {
    "duration": 212,
    "start_time": "2022-06-07T12:52:57.855Z"
   },
   {
    "duration": 8,
    "start_time": "2022-06-07T12:52:58.068Z"
   },
   {
    "duration": 81,
    "start_time": "2022-06-07T12:52:58.078Z"
   },
   {
    "duration": 165,
    "start_time": "2022-06-07T13:22:36.252Z"
   },
   {
    "duration": 156,
    "start_time": "2022-06-07T13:23:26.453Z"
   },
   {
    "duration": 153,
    "start_time": "2022-06-07T13:23:57.420Z"
   },
   {
    "duration": 10,
    "start_time": "2022-06-07T13:24:06.095Z"
   },
   {
    "duration": 12,
    "start_time": "2022-06-07T13:24:12.953Z"
   },
   {
    "duration": 143,
    "start_time": "2022-06-07T13:27:36.166Z"
   },
   {
    "duration": 134,
    "start_time": "2022-06-07T13:27:52.960Z"
   },
   {
    "duration": 8,
    "start_time": "2022-06-07T13:28:04.464Z"
   },
   {
    "duration": 13,
    "start_time": "2022-06-07T13:28:06.364Z"
   },
   {
    "duration": 28,
    "start_time": "2022-06-07T13:32:07.795Z"
   },
   {
    "duration": 27,
    "start_time": "2022-06-07T13:32:16.995Z"
   },
   {
    "duration": 8,
    "start_time": "2022-06-07T13:34:50.207Z"
   },
   {
    "duration": 11,
    "start_time": "2022-06-07T13:34:52.597Z"
   },
   {
    "duration": 5,
    "start_time": "2022-06-07T13:36:08.597Z"
   },
   {
    "duration": 60,
    "start_time": "2022-06-07T13:48:26.647Z"
   },
   {
    "duration": 24,
    "start_time": "2022-06-07T13:50:18.003Z"
   },
   {
    "duration": 9,
    "start_time": "2022-06-07T13:51:08.803Z"
   },
   {
    "duration": 15,
    "start_time": "2022-06-07T13:51:19.899Z"
   },
   {
    "duration": 22,
    "start_time": "2022-06-07T13:56:30.116Z"
   },
   {
    "duration": 16,
    "start_time": "2022-06-07T13:59:15.757Z"
   },
   {
    "duration": 16,
    "start_time": "2022-06-07T13:59:22.666Z"
   },
   {
    "duration": 19,
    "start_time": "2022-06-07T13:59:27.569Z"
   },
   {
    "duration": 12,
    "start_time": "2022-06-07T14:00:11.201Z"
   },
   {
    "duration": 13,
    "start_time": "2022-06-07T14:00:17.292Z"
   },
   {
    "duration": 16,
    "start_time": "2022-06-07T14:00:27.945Z"
   },
   {
    "duration": 25,
    "start_time": "2022-06-07T14:00:31.716Z"
   },
   {
    "duration": 24,
    "start_time": "2022-06-07T14:00:46.001Z"
   },
   {
    "duration": 7,
    "start_time": "2022-06-07T14:02:11.965Z"
   },
   {
    "duration": 7,
    "start_time": "2022-06-07T14:02:14.737Z"
   },
   {
    "duration": 20,
    "start_time": "2022-06-07T14:02:17.701Z"
   },
   {
    "duration": 31,
    "start_time": "2022-06-07T14:02:33.420Z"
   },
   {
    "duration": 20,
    "start_time": "2022-06-07T14:05:00.468Z"
   },
   {
    "duration": 1535,
    "start_time": "2022-06-07T14:05:55.369Z"
   },
   {
    "duration": 16,
    "start_time": "2022-06-07T14:05:56.906Z"
   },
   {
    "duration": 15,
    "start_time": "2022-06-07T14:05:56.924Z"
   },
   {
    "duration": 10,
    "start_time": "2022-06-07T14:05:56.942Z"
   },
   {
    "duration": 22,
    "start_time": "2022-06-07T14:05:56.953Z"
   },
   {
    "duration": 12,
    "start_time": "2022-06-07T14:05:56.977Z"
   },
   {
    "duration": 10,
    "start_time": "2022-06-07T14:05:56.991Z"
   },
   {
    "duration": 111,
    "start_time": "2022-06-07T14:05:57.002Z"
   },
   {
    "duration": 31,
    "start_time": "2022-06-07T14:05:57.114Z"
   },
   {
    "duration": 22,
    "start_time": "2022-06-07T14:05:57.148Z"
   },
   {
    "duration": 30,
    "start_time": "2022-06-07T14:05:57.172Z"
   },
   {
    "duration": 49,
    "start_time": "2022-06-07T14:05:57.203Z"
   },
   {
    "duration": 17,
    "start_time": "2022-06-07T14:05:57.254Z"
   },
   {
    "duration": 9,
    "start_time": "2022-06-07T14:05:57.279Z"
   },
   {
    "duration": 25,
    "start_time": "2022-06-07T14:05:57.289Z"
   },
   {
    "duration": 26,
    "start_time": "2022-06-07T14:05:57.315Z"
   },
   {
    "duration": 21,
    "start_time": "2022-06-07T14:05:57.343Z"
   },
   {
    "duration": 24,
    "start_time": "2022-06-07T14:05:57.366Z"
   },
   {
    "duration": 9,
    "start_time": "2022-06-07T14:05:57.392Z"
   },
   {
    "duration": 47,
    "start_time": "2022-06-07T14:05:57.402Z"
   },
   {
    "duration": 32,
    "start_time": "2022-06-07T14:05:57.451Z"
   },
   {
    "duration": 24,
    "start_time": "2022-06-07T14:05:57.484Z"
   },
   {
    "duration": 44,
    "start_time": "2022-06-07T14:05:57.512Z"
   },
   {
    "duration": 22,
    "start_time": "2022-06-07T14:05:57.558Z"
   },
   {
    "duration": 25,
    "start_time": "2022-06-07T14:05:57.582Z"
   },
   {
    "duration": 222,
    "start_time": "2022-06-07T14:05:57.609Z"
   },
   {
    "duration": 26,
    "start_time": "2022-06-07T14:05:57.833Z"
   },
   {
    "duration": 239,
    "start_time": "2022-06-07T14:05:57.862Z"
   },
   {
    "duration": 11,
    "start_time": "2022-06-07T14:05:58.103Z"
   },
   {
    "duration": 162,
    "start_time": "2022-06-07T14:05:58.116Z"
   },
   {
    "duration": 7,
    "start_time": "2022-06-07T14:05:58.279Z"
   },
   {
    "duration": 10,
    "start_time": "2022-06-07T14:05:58.288Z"
   },
   {
    "duration": 5,
    "start_time": "2022-06-07T14:05:58.299Z"
   },
   {
    "duration": 68,
    "start_time": "2022-06-07T14:05:58.306Z"
   },
   {
    "duration": 23,
    "start_time": "2022-06-07T14:05:58.376Z"
   },
   {
    "duration": 28,
    "start_time": "2022-06-07T14:05:58.401Z"
   },
   {
    "duration": 7,
    "start_time": "2022-06-07T14:05:58.431Z"
   },
   {
    "duration": 20,
    "start_time": "2022-06-07T14:05:58.440Z"
   },
   {
    "duration": 136,
    "start_time": "2022-06-07T14:05:58.462Z"
   },
   {
    "duration": 21,
    "start_time": "2022-06-07T14:08:57.896Z"
   },
   {
    "duration": 12,
    "start_time": "2022-06-07T14:09:03.202Z"
   },
   {
    "duration": 15,
    "start_time": "2022-06-07T14:12:03.921Z"
   },
   {
    "duration": 16,
    "start_time": "2022-06-07T14:12:22.350Z"
   },
   {
    "duration": 17,
    "start_time": "2022-06-07T14:13:09.306Z"
   },
   {
    "duration": 7,
    "start_time": "2022-06-07T14:14:03.589Z"
   },
   {
    "duration": 13,
    "start_time": "2022-06-07T14:14:07.400Z"
   },
   {
    "duration": 13,
    "start_time": "2022-06-07T14:16:28.655Z"
   },
   {
    "duration": 9,
    "start_time": "2022-06-07T14:21:34.422Z"
   },
   {
    "duration": 19,
    "start_time": "2022-06-07T14:21:46.192Z"
   },
   {
    "duration": 16,
    "start_time": "2022-06-07T14:23:15.383Z"
   },
   {
    "duration": 15,
    "start_time": "2022-06-07T14:23:27.952Z"
   },
   {
    "duration": 13,
    "start_time": "2022-06-07T14:26:21.979Z"
   },
   {
    "duration": 23,
    "start_time": "2022-06-07T14:27:24.490Z"
   },
   {
    "duration": 10,
    "start_time": "2022-06-07T14:28:01.028Z"
   },
   {
    "duration": 22,
    "start_time": "2022-06-07T14:28:04.288Z"
   },
   {
    "duration": 16,
    "start_time": "2022-06-07T14:28:52.804Z"
   },
   {
    "duration": 21,
    "start_time": "2022-06-07T14:29:05.392Z"
   },
   {
    "duration": 14,
    "start_time": "2022-06-07T14:31:05.294Z"
   },
   {
    "duration": 16,
    "start_time": "2022-06-07T14:31:10.203Z"
   },
   {
    "duration": 10,
    "start_time": "2022-06-07T14:31:15.094Z"
   },
   {
    "duration": 1436,
    "start_time": "2022-06-07T14:35:23.390Z"
   },
   {
    "duration": 19,
    "start_time": "2022-06-07T14:35:24.828Z"
   },
   {
    "duration": 16,
    "start_time": "2022-06-07T14:35:24.849Z"
   },
   {
    "duration": 12,
    "start_time": "2022-06-07T14:35:24.868Z"
   },
   {
    "duration": 15,
    "start_time": "2022-06-07T14:35:24.881Z"
   },
   {
    "duration": 15,
    "start_time": "2022-06-07T14:35:24.898Z"
   },
   {
    "duration": 8,
    "start_time": "2022-06-07T14:35:24.927Z"
   },
   {
    "duration": 112,
    "start_time": "2022-06-07T14:35:24.936Z"
   },
   {
    "duration": 26,
    "start_time": "2022-06-07T14:35:25.049Z"
   },
   {
    "duration": 21,
    "start_time": "2022-06-07T14:35:25.078Z"
   },
   {
    "duration": 40,
    "start_time": "2022-06-07T14:35:25.101Z"
   },
   {
    "duration": 26,
    "start_time": "2022-06-07T14:35:25.143Z"
   },
   {
    "duration": 13,
    "start_time": "2022-06-07T14:35:25.171Z"
   },
   {
    "duration": 10,
    "start_time": "2022-06-07T14:35:25.185Z"
   },
   {
    "duration": 43,
    "start_time": "2022-06-07T14:35:25.196Z"
   },
   {
    "duration": 21,
    "start_time": "2022-06-07T14:35:25.240Z"
   },
   {
    "duration": 17,
    "start_time": "2022-06-07T14:35:25.263Z"
   },
   {
    "duration": 17,
    "start_time": "2022-06-07T14:35:25.282Z"
   },
   {
    "duration": 34,
    "start_time": "2022-06-07T14:35:25.300Z"
   },
   {
    "duration": 40,
    "start_time": "2022-06-07T14:35:25.336Z"
   },
   {
    "duration": 20,
    "start_time": "2022-06-07T14:35:25.378Z"
   },
   {
    "duration": 33,
    "start_time": "2022-06-07T14:35:25.400Z"
   },
   {
    "duration": 25,
    "start_time": "2022-06-07T14:35:25.434Z"
   },
   {
    "duration": 11,
    "start_time": "2022-06-07T14:35:25.461Z"
   },
   {
    "duration": 11,
    "start_time": "2022-06-07T14:35:25.474Z"
   },
   {
    "duration": 216,
    "start_time": "2022-06-07T14:35:25.486Z"
   },
   {
    "duration": 32,
    "start_time": "2022-06-07T14:35:25.704Z"
   },
   {
    "duration": 196,
    "start_time": "2022-06-07T14:35:25.739Z"
   },
   {
    "duration": 8,
    "start_time": "2022-06-07T14:35:25.937Z"
   },
   {
    "duration": 162,
    "start_time": "2022-06-07T14:35:25.946Z"
   },
   {
    "duration": 6,
    "start_time": "2022-06-07T14:35:26.110Z"
   },
   {
    "duration": 9,
    "start_time": "2022-06-07T14:35:26.127Z"
   },
   {
    "duration": 5,
    "start_time": "2022-06-07T14:35:26.137Z"
   },
   {
    "duration": 58,
    "start_time": "2022-06-07T14:35:26.144Z"
   },
   {
    "duration": 46,
    "start_time": "2022-06-07T14:35:26.204Z"
   },
   {
    "duration": 18,
    "start_time": "2022-06-07T14:35:26.252Z"
   },
   {
    "duration": 9,
    "start_time": "2022-06-07T14:35:26.272Z"
   },
   {
    "duration": 48,
    "start_time": "2022-06-07T14:35:26.283Z"
   },
   {
    "duration": 11,
    "start_time": "2022-06-07T14:35:26.333Z"
   },
   {
    "duration": 10,
    "start_time": "2022-06-07T14:35:26.348Z"
   },
   {
    "duration": 18,
    "start_time": "2022-06-07T14:35:26.360Z"
   },
   {
    "duration": 26,
    "start_time": "2022-06-07T14:35:26.380Z"
   },
   {
    "duration": 141,
    "start_time": "2022-06-07T14:35:26.408Z"
   },
   {
    "duration": 13,
    "start_time": "2022-06-07T14:35:43.306Z"
   },
   {
    "duration": 17,
    "start_time": "2022-06-07T14:35:59.231Z"
   },
   {
    "duration": 12,
    "start_time": "2022-06-07T14:36:06.995Z"
   },
   {
    "duration": 21,
    "start_time": "2022-06-07T14:36:49.810Z"
   },
   {
    "duration": 13,
    "start_time": "2022-06-07T14:36:53.164Z"
   },
   {
    "duration": 12,
    "start_time": "2022-06-07T14:37:01.473Z"
   },
   {
    "duration": 1489,
    "start_time": "2022-06-07T14:38:36.222Z"
   },
   {
    "duration": 15,
    "start_time": "2022-06-07T14:38:37.712Z"
   },
   {
    "duration": 14,
    "start_time": "2022-06-07T14:38:37.729Z"
   },
   {
    "duration": 8,
    "start_time": "2022-06-07T14:38:37.745Z"
   },
   {
    "duration": 13,
    "start_time": "2022-06-07T14:38:37.754Z"
   },
   {
    "duration": 12,
    "start_time": "2022-06-07T14:38:37.769Z"
   },
   {
    "duration": 12,
    "start_time": "2022-06-07T14:38:37.782Z"
   },
   {
    "duration": 111,
    "start_time": "2022-06-07T14:38:37.796Z"
   },
   {
    "duration": 35,
    "start_time": "2022-06-07T14:38:37.908Z"
   },
   {
    "duration": 23,
    "start_time": "2022-06-07T14:38:37.947Z"
   },
   {
    "duration": 27,
    "start_time": "2022-06-07T14:38:37.971Z"
   },
   {
    "duration": 40,
    "start_time": "2022-06-07T14:38:38.000Z"
   },
   {
    "duration": 12,
    "start_time": "2022-06-07T14:38:38.042Z"
   },
   {
    "duration": 7,
    "start_time": "2022-06-07T14:38:38.056Z"
   },
   {
    "duration": 19,
    "start_time": "2022-06-07T14:38:38.065Z"
   },
   {
    "duration": 41,
    "start_time": "2022-06-07T14:38:38.086Z"
   },
   {
    "duration": 13,
    "start_time": "2022-06-07T14:38:38.128Z"
   },
   {
    "duration": 14,
    "start_time": "2022-06-07T14:38:38.143Z"
   },
   {
    "duration": 9,
    "start_time": "2022-06-07T14:38:38.158Z"
   },
   {
    "duration": 37,
    "start_time": "2022-06-07T14:38:38.168Z"
   },
   {
    "duration": 23,
    "start_time": "2022-06-07T14:38:38.206Z"
   },
   {
    "duration": 14,
    "start_time": "2022-06-07T14:38:38.231Z"
   },
   {
    "duration": 21,
    "start_time": "2022-06-07T14:38:38.247Z"
   },
   {
    "duration": 9,
    "start_time": "2022-06-07T14:38:38.269Z"
   },
   {
    "duration": 9,
    "start_time": "2022-06-07T14:38:38.280Z"
   },
   {
    "duration": 211,
    "start_time": "2022-06-07T14:38:38.290Z"
   },
   {
    "duration": 29,
    "start_time": "2022-06-07T14:38:38.502Z"
   },
   {
    "duration": 199,
    "start_time": "2022-06-07T14:38:38.534Z"
   },
   {
    "duration": 7,
    "start_time": "2022-06-07T14:38:38.735Z"
   },
   {
    "duration": 143,
    "start_time": "2022-06-07T14:38:38.744Z"
   },
   {
    "duration": 7,
    "start_time": "2022-06-07T14:38:38.889Z"
   },
   {
    "duration": 11,
    "start_time": "2022-06-07T14:38:38.897Z"
   },
   {
    "duration": 17,
    "start_time": "2022-06-07T14:38:38.910Z"
   },
   {
    "duration": 57,
    "start_time": "2022-06-07T14:38:38.928Z"
   },
   {
    "duration": 23,
    "start_time": "2022-06-07T14:38:38.987Z"
   },
   {
    "duration": 23,
    "start_time": "2022-06-07T14:38:39.011Z"
   },
   {
    "duration": 8,
    "start_time": "2022-06-07T14:38:39.035Z"
   },
   {
    "duration": 19,
    "start_time": "2022-06-07T14:38:39.044Z"
   },
   {
    "duration": 10,
    "start_time": "2022-06-07T14:38:39.065Z"
   },
   {
    "duration": 10,
    "start_time": "2022-06-07T14:38:39.076Z"
   },
   {
    "duration": 40,
    "start_time": "2022-06-07T14:38:39.087Z"
   },
   {
    "duration": 28,
    "start_time": "2022-06-07T14:38:39.128Z"
   },
   {
    "duration": 106,
    "start_time": "2022-06-07T14:38:39.158Z"
   },
   {
    "duration": 13,
    "start_time": "2022-06-07T14:43:01.471Z"
   },
   {
    "duration": 1459,
    "start_time": "2022-06-07T14:51:21.291Z"
   },
   {
    "duration": 14,
    "start_time": "2022-06-07T14:51:22.752Z"
   },
   {
    "duration": 14,
    "start_time": "2022-06-07T14:51:22.767Z"
   },
   {
    "duration": 9,
    "start_time": "2022-06-07T14:51:22.783Z"
   },
   {
    "duration": 12,
    "start_time": "2022-06-07T14:51:22.793Z"
   },
   {
    "duration": 12,
    "start_time": "2022-06-07T14:51:22.806Z"
   },
   {
    "duration": 13,
    "start_time": "2022-06-07T14:51:22.820Z"
   },
   {
    "duration": 108,
    "start_time": "2022-06-07T14:51:22.834Z"
   },
   {
    "duration": 24,
    "start_time": "2022-06-07T14:51:22.943Z"
   },
   {
    "duration": 20,
    "start_time": "2022-06-07T14:51:22.970Z"
   },
   {
    "duration": 47,
    "start_time": "2022-06-07T14:51:22.992Z"
   },
   {
    "duration": 19,
    "start_time": "2022-06-07T14:51:23.041Z"
   },
   {
    "duration": 14,
    "start_time": "2022-06-07T14:51:23.061Z"
   },
   {
    "duration": 7,
    "start_time": "2022-06-07T14:51:23.076Z"
   },
   {
    "duration": 22,
    "start_time": "2022-06-07T14:51:23.085Z"
   },
   {
    "duration": 30,
    "start_time": "2022-06-07T14:51:23.109Z"
   },
   {
    "duration": 13,
    "start_time": "2022-06-07T14:51:23.140Z"
   },
   {
    "duration": 11,
    "start_time": "2022-06-07T14:51:23.155Z"
   },
   {
    "duration": 9,
    "start_time": "2022-06-07T14:51:23.167Z"
   },
   {
    "duration": 52,
    "start_time": "2022-06-07T14:51:23.178Z"
   },
   {
    "duration": 24,
    "start_time": "2022-06-07T14:51:23.232Z"
   },
   {
    "duration": 25,
    "start_time": "2022-06-07T14:51:23.259Z"
   },
   {
    "duration": 35,
    "start_time": "2022-06-07T14:51:23.285Z"
   },
   {
    "duration": 13,
    "start_time": "2022-06-07T14:51:23.322Z"
   },
   {
    "duration": 23,
    "start_time": "2022-06-07T14:51:23.336Z"
   },
   {
    "duration": 225,
    "start_time": "2022-06-07T14:51:23.361Z"
   },
   {
    "duration": 22,
    "start_time": "2022-06-07T14:51:23.588Z"
   },
   {
    "duration": 200,
    "start_time": "2022-06-07T14:51:23.614Z"
   },
   {
    "duration": 13,
    "start_time": "2022-06-07T14:51:23.816Z"
   },
   {
    "duration": 160,
    "start_time": "2022-06-07T14:51:23.831Z"
   },
   {
    "duration": 6,
    "start_time": "2022-06-07T14:51:23.993Z"
   },
   {
    "duration": 11,
    "start_time": "2022-06-07T14:51:24.001Z"
   },
   {
    "duration": 14,
    "start_time": "2022-06-07T14:51:24.013Z"
   },
   {
    "duration": 51,
    "start_time": "2022-06-07T14:51:24.029Z"
   },
   {
    "duration": 23,
    "start_time": "2022-06-07T14:51:24.082Z"
   },
   {
    "duration": 27,
    "start_time": "2022-06-07T14:51:24.107Z"
   },
   {
    "duration": 9,
    "start_time": "2022-06-07T14:51:24.135Z"
   },
   {
    "duration": 20,
    "start_time": "2022-06-07T14:51:24.145Z"
   },
   {
    "duration": 8,
    "start_time": "2022-06-07T14:51:24.166Z"
   },
   {
    "duration": 9,
    "start_time": "2022-06-07T14:51:24.175Z"
   },
   {
    "duration": 14,
    "start_time": "2022-06-07T14:51:24.186Z"
   },
   {
    "duration": 41,
    "start_time": "2022-06-07T14:51:24.201Z"
   },
   {
    "duration": 111,
    "start_time": "2022-06-07T14:51:24.244Z"
   },
   {
    "duration": 13,
    "start_time": "2022-06-07T14:55:44.874Z"
   },
   {
    "duration": 12,
    "start_time": "2022-06-07T14:55:59.781Z"
   },
   {
    "duration": 8,
    "start_time": "2022-06-07T14:57:57.170Z"
   },
   {
    "duration": 9,
    "start_time": "2022-06-07T14:58:11.462Z"
   },
   {
    "duration": 15,
    "start_time": "2022-06-07T14:59:23.604Z"
   },
   {
    "duration": 12,
    "start_time": "2022-06-07T14:59:34.197Z"
   },
   {
    "duration": 1468,
    "start_time": "2022-06-07T15:00:17.888Z"
   },
   {
    "duration": 15,
    "start_time": "2022-06-07T15:00:19.359Z"
   },
   {
    "duration": 19,
    "start_time": "2022-06-07T15:00:19.375Z"
   },
   {
    "duration": 32,
    "start_time": "2022-06-07T15:00:19.396Z"
   },
   {
    "duration": 29,
    "start_time": "2022-06-07T15:00:19.430Z"
   },
   {
    "duration": 44,
    "start_time": "2022-06-07T15:00:19.461Z"
   },
   {
    "duration": 60,
    "start_time": "2022-06-07T15:00:19.506Z"
   },
   {
    "duration": 151,
    "start_time": "2022-06-07T15:00:19.568Z"
   },
   {
    "duration": 32,
    "start_time": "2022-06-07T15:00:19.721Z"
   },
   {
    "duration": 33,
    "start_time": "2022-06-07T15:00:19.756Z"
   },
   {
    "duration": 37,
    "start_time": "2022-06-07T15:00:19.791Z"
   },
   {
    "duration": 21,
    "start_time": "2022-06-07T15:00:19.830Z"
   },
   {
    "duration": 31,
    "start_time": "2022-06-07T15:00:19.853Z"
   },
   {
    "duration": 16,
    "start_time": "2022-06-07T15:00:19.886Z"
   },
   {
    "duration": 43,
    "start_time": "2022-06-07T15:00:19.903Z"
   },
   {
    "duration": 31,
    "start_time": "2022-06-07T15:00:19.948Z"
   },
   {
    "duration": 26,
    "start_time": "2022-06-07T15:00:19.981Z"
   },
   {
    "duration": 32,
    "start_time": "2022-06-07T15:00:20.009Z"
   },
   {
    "duration": 23,
    "start_time": "2022-06-07T15:00:20.043Z"
   },
   {
    "duration": 51,
    "start_time": "2022-06-07T15:00:20.068Z"
   },
   {
    "duration": 21,
    "start_time": "2022-06-07T15:00:20.120Z"
   },
   {
    "duration": 40,
    "start_time": "2022-06-07T15:00:20.143Z"
   },
   {
    "duration": 42,
    "start_time": "2022-06-07T15:00:20.185Z"
   },
   {
    "duration": 15,
    "start_time": "2022-06-07T15:00:20.229Z"
   },
   {
    "duration": 23,
    "start_time": "2022-06-07T15:00:20.246Z"
   },
   {
    "duration": 210,
    "start_time": "2022-06-07T15:00:20.270Z"
   },
   {
    "duration": 22,
    "start_time": "2022-06-07T15:00:20.481Z"
   },
   {
    "duration": 222,
    "start_time": "2022-06-07T15:00:20.506Z"
   },
   {
    "duration": 8,
    "start_time": "2022-06-07T15:00:20.729Z"
   },
   {
    "duration": 172,
    "start_time": "2022-06-07T15:00:20.739Z"
   },
   {
    "duration": 7,
    "start_time": "2022-06-07T15:00:20.913Z"
   },
   {
    "duration": 37,
    "start_time": "2022-06-07T15:00:20.927Z"
   },
   {
    "duration": 12,
    "start_time": "2022-06-07T15:00:20.966Z"
   },
   {
    "duration": 82,
    "start_time": "2022-06-07T15:00:20.979Z"
   },
   {
    "duration": 25,
    "start_time": "2022-06-07T15:00:21.063Z"
   },
   {
    "duration": 16,
    "start_time": "2022-06-07T15:00:21.089Z"
   },
   {
    "duration": 31,
    "start_time": "2022-06-07T15:00:21.106Z"
   },
   {
    "duration": 39,
    "start_time": "2022-06-07T15:00:21.138Z"
   },
   {
    "duration": 10,
    "start_time": "2022-06-07T15:00:21.179Z"
   },
   {
    "duration": 33,
    "start_time": "2022-06-07T15:00:21.190Z"
   },
   {
    "duration": 25,
    "start_time": "2022-06-07T15:00:21.224Z"
   },
   {
    "duration": 48,
    "start_time": "2022-06-07T15:00:21.250Z"
   },
   {
    "duration": 109,
    "start_time": "2022-06-07T15:00:21.299Z"
   },
   {
    "duration": 3,
    "start_time": "2022-06-07T15:01:41.280Z"
   },
   {
    "duration": 22,
    "start_time": "2022-06-07T15:01:52.304Z"
   },
   {
    "duration": 8,
    "start_time": "2022-06-07T15:07:10.803Z"
   },
   {
    "duration": 6,
    "start_time": "2022-06-07T15:10:55.273Z"
   },
   {
    "duration": 11,
    "start_time": "2022-06-07T15:11:02.170Z"
   },
   {
    "duration": 11,
    "start_time": "2022-06-07T15:11:52.118Z"
   },
   {
    "duration": 4,
    "start_time": "2022-06-07T15:24:41.648Z"
   },
   {
    "duration": 6,
    "start_time": "2022-06-07T15:28:17.475Z"
   },
   {
    "duration": 8,
    "start_time": "2022-06-07T15:33:21.556Z"
   },
   {
    "duration": 7,
    "start_time": "2022-06-07T15:33:39.653Z"
   },
   {
    "duration": 27,
    "start_time": "2022-06-07T15:37:24.444Z"
   },
   {
    "duration": 508,
    "start_time": "2022-06-07T15:38:55.997Z"
   },
   {
    "duration": 405,
    "start_time": "2022-06-07T15:39:22.542Z"
   },
   {
    "duration": 11,
    "start_time": "2022-06-07T15:41:45.281Z"
   },
   {
    "duration": 7,
    "start_time": "2022-06-07T15:42:57.796Z"
   },
   {
    "duration": 9,
    "start_time": "2022-06-07T15:43:51.906Z"
   },
   {
    "duration": 5,
    "start_time": "2022-06-07T15:46:08.544Z"
   },
   {
    "duration": 85,
    "start_time": "2022-06-07T15:46:10.108Z"
   },
   {
    "duration": 13,
    "start_time": "2022-06-07T15:49:52.610Z"
   },
   {
    "duration": 27,
    "start_time": "2022-06-07T15:50:07.403Z"
   },
   {
    "duration": 26,
    "start_time": "2022-06-07T15:55:02.838Z"
   },
   {
    "duration": 13,
    "start_time": "2022-06-07T15:55:10.079Z"
   },
   {
    "duration": 1502,
    "start_time": "2022-06-07T15:55:29.025Z"
   },
   {
    "duration": 15,
    "start_time": "2022-06-07T15:55:30.529Z"
   },
   {
    "duration": 53,
    "start_time": "2022-06-07T15:55:30.545Z"
   },
   {
    "duration": 51,
    "start_time": "2022-06-07T15:55:30.600Z"
   },
   {
    "duration": 42,
    "start_time": "2022-06-07T15:55:30.652Z"
   },
   {
    "duration": 26,
    "start_time": "2022-06-07T15:55:30.695Z"
   },
   {
    "duration": 38,
    "start_time": "2022-06-07T15:55:30.722Z"
   },
   {
    "duration": 146,
    "start_time": "2022-06-07T15:55:30.762Z"
   },
   {
    "duration": 36,
    "start_time": "2022-06-07T15:55:30.910Z"
   },
   {
    "duration": 23,
    "start_time": "2022-06-07T15:55:30.948Z"
   },
   {
    "duration": 27,
    "start_time": "2022-06-07T15:55:30.973Z"
   },
   {
    "duration": 38,
    "start_time": "2022-06-07T15:55:31.001Z"
   },
   {
    "duration": 41,
    "start_time": "2022-06-07T15:55:31.041Z"
   },
   {
    "duration": 31,
    "start_time": "2022-06-07T15:55:31.084Z"
   },
   {
    "duration": 40,
    "start_time": "2022-06-07T15:55:31.117Z"
   },
   {
    "duration": 35,
    "start_time": "2022-06-07T15:55:31.159Z"
   },
   {
    "duration": 25,
    "start_time": "2022-06-07T15:55:31.195Z"
   },
   {
    "duration": 19,
    "start_time": "2022-06-07T15:55:31.222Z"
   },
   {
    "duration": 39,
    "start_time": "2022-06-07T15:55:31.242Z"
   },
   {
    "duration": 60,
    "start_time": "2022-06-07T15:55:31.284Z"
   },
   {
    "duration": 30,
    "start_time": "2022-06-07T15:55:31.346Z"
   },
   {
    "duration": 25,
    "start_time": "2022-06-07T15:55:31.378Z"
   },
   {
    "duration": 30,
    "start_time": "2022-06-07T15:55:31.405Z"
   },
   {
    "duration": 31,
    "start_time": "2022-06-07T15:55:31.437Z"
   },
   {
    "duration": 28,
    "start_time": "2022-06-07T15:55:31.470Z"
   },
   {
    "duration": 248,
    "start_time": "2022-06-07T15:55:31.499Z"
   },
   {
    "duration": 24,
    "start_time": "2022-06-07T15:55:31.749Z"
   },
   {
    "duration": 270,
    "start_time": "2022-06-07T15:55:31.777Z"
   },
   {
    "duration": 10,
    "start_time": "2022-06-07T15:55:32.048Z"
   },
   {
    "duration": 177,
    "start_time": "2022-06-07T15:55:32.060Z"
   },
   {
    "duration": 7,
    "start_time": "2022-06-07T15:55:32.238Z"
   },
   {
    "duration": 33,
    "start_time": "2022-06-07T15:55:32.247Z"
   },
   {
    "duration": 27,
    "start_time": "2022-06-07T15:55:32.282Z"
   },
   {
    "duration": 92,
    "start_time": "2022-06-07T15:55:32.311Z"
   },
   {
    "duration": 23,
    "start_time": "2022-06-07T15:55:32.405Z"
   },
   {
    "duration": 21,
    "start_time": "2022-06-07T15:55:32.430Z"
   },
   {
    "duration": 10,
    "start_time": "2022-06-07T15:55:32.453Z"
   },
   {
    "duration": 50,
    "start_time": "2022-06-07T15:55:32.464Z"
   },
   {
    "duration": 23,
    "start_time": "2022-06-07T15:55:32.516Z"
   },
   {
    "duration": 36,
    "start_time": "2022-06-07T15:55:32.541Z"
   },
   {
    "duration": 37,
    "start_time": "2022-06-07T15:55:32.578Z"
   },
   {
    "duration": 20,
    "start_time": "2022-06-07T15:55:32.617Z"
   },
   {
    "duration": 45,
    "start_time": "2022-06-07T15:55:32.638Z"
   },
   {
    "duration": 26,
    "start_time": "2022-06-07T15:55:32.684Z"
   },
   {
    "duration": 9,
    "start_time": "2022-06-07T15:55:32.712Z"
   },
   {
    "duration": 34,
    "start_time": "2022-06-07T15:55:32.723Z"
   },
   {
    "duration": 22,
    "start_time": "2022-06-07T15:55:32.758Z"
   },
   {
    "duration": 30,
    "start_time": "2022-06-07T15:55:32.781Z"
   },
   {
    "duration": 105,
    "start_time": "2022-06-07T15:55:32.812Z"
   },
   {
    "duration": 0,
    "start_time": "2022-06-07T15:55:32.918Z"
   },
   {
    "duration": 0,
    "start_time": "2022-06-07T15:55:32.920Z"
   },
   {
    "duration": 0,
    "start_time": "2022-06-07T15:55:32.922Z"
   },
   {
    "duration": 0,
    "start_time": "2022-06-07T15:55:32.927Z"
   },
   {
    "duration": 16,
    "start_time": "2022-06-07T15:57:45.860Z"
   },
   {
    "duration": 19,
    "start_time": "2022-06-07T15:57:47.141Z"
   },
   {
    "duration": 10,
    "start_time": "2022-06-07T15:57:52.494Z"
   },
   {
    "duration": 9,
    "start_time": "2022-06-07T15:57:54.341Z"
   },
   {
    "duration": 3,
    "start_time": "2022-06-07T15:57:58.213Z"
   },
   {
    "duration": 8,
    "start_time": "2022-06-07T15:57:59.571Z"
   },
   {
    "duration": 12,
    "start_time": "2022-06-07T15:58:01.238Z"
   },
   {
    "duration": 10,
    "start_time": "2022-06-07T15:58:21.500Z"
   },
   {
    "duration": 27,
    "start_time": "2022-06-07T15:58:23.274Z"
   },
   {
    "duration": 5,
    "start_time": "2022-06-07T15:59:17.726Z"
   },
   {
    "duration": 56,
    "start_time": "2022-06-07T15:59:18.940Z"
   },
   {
    "duration": 34,
    "start_time": "2022-06-07T15:59:19.956Z"
   },
   {
    "duration": 15,
    "start_time": "2022-06-07T15:59:23.460Z"
   },
   {
    "duration": 15,
    "start_time": "2022-06-07T15:59:28.690Z"
   },
   {
    "duration": 22,
    "start_time": "2022-06-07T15:59:31.206Z"
   },
   {
    "duration": 11,
    "start_time": "2022-06-07T15:59:36.125Z"
   },
   {
    "duration": 1575,
    "start_time": "2022-06-07T15:59:45.036Z"
   },
   {
    "duration": 18,
    "start_time": "2022-06-07T15:59:46.613Z"
   },
   {
    "duration": 20,
    "start_time": "2022-06-07T15:59:46.633Z"
   },
   {
    "duration": 11,
    "start_time": "2022-06-07T15:59:46.656Z"
   },
   {
    "duration": 28,
    "start_time": "2022-06-07T15:59:46.669Z"
   },
   {
    "duration": 28,
    "start_time": "2022-06-07T15:59:46.699Z"
   },
   {
    "duration": 29,
    "start_time": "2022-06-07T15:59:46.730Z"
   },
   {
    "duration": 117,
    "start_time": "2022-06-07T15:59:46.761Z"
   },
   {
    "duration": 26,
    "start_time": "2022-06-07T15:59:46.880Z"
   },
   {
    "duration": 49,
    "start_time": "2022-06-07T15:59:46.910Z"
   },
   {
    "duration": 26,
    "start_time": "2022-06-07T15:59:46.961Z"
   },
   {
    "duration": 24,
    "start_time": "2022-06-07T15:59:46.988Z"
   },
   {
    "duration": 15,
    "start_time": "2022-06-07T15:59:47.028Z"
   },
   {
    "duration": 8,
    "start_time": "2022-06-07T15:59:47.044Z"
   },
   {
    "duration": 24,
    "start_time": "2022-06-07T15:59:47.053Z"
   },
   {
    "duration": 19,
    "start_time": "2022-06-07T15:59:47.079Z"
   },
   {
    "duration": 35,
    "start_time": "2022-06-07T15:59:47.099Z"
   },
   {
    "duration": 20,
    "start_time": "2022-06-07T15:59:47.136Z"
   },
   {
    "duration": 9,
    "start_time": "2022-06-07T15:59:47.158Z"
   },
   {
    "duration": 33,
    "start_time": "2022-06-07T15:59:47.169Z"
   },
   {
    "duration": 32,
    "start_time": "2022-06-07T15:59:47.204Z"
   },
   {
    "duration": 21,
    "start_time": "2022-06-07T15:59:47.238Z"
   },
   {
    "duration": 29,
    "start_time": "2022-06-07T15:59:47.260Z"
   },
   {
    "duration": 12,
    "start_time": "2022-06-07T15:59:47.291Z"
   },
   {
    "duration": 35,
    "start_time": "2022-06-07T15:59:47.304Z"
   },
   {
    "duration": 194,
    "start_time": "2022-06-07T15:59:47.340Z"
   },
   {
    "duration": 21,
    "start_time": "2022-06-07T15:59:47.536Z"
   },
   {
    "duration": 207,
    "start_time": "2022-06-07T15:59:47.560Z"
   },
   {
    "duration": 7,
    "start_time": "2022-06-07T15:59:47.768Z"
   },
   {
    "duration": 161,
    "start_time": "2022-06-07T15:59:47.777Z"
   },
   {
    "duration": 7,
    "start_time": "2022-06-07T15:59:47.939Z"
   },
   {
    "duration": 11,
    "start_time": "2022-06-07T15:59:47.947Z"
   },
   {
    "duration": 5,
    "start_time": "2022-06-07T15:59:47.960Z"
   },
   {
    "duration": 82,
    "start_time": "2022-06-07T15:59:47.966Z"
   },
   {
    "duration": 31,
    "start_time": "2022-06-07T15:59:48.050Z"
   },
   {
    "duration": 15,
    "start_time": "2022-06-07T15:59:48.083Z"
   },
   {
    "duration": 41,
    "start_time": "2022-06-07T15:59:48.100Z"
   },
   {
    "duration": 9,
    "start_time": "2022-06-07T15:59:48.142Z"
   },
   {
    "duration": 10,
    "start_time": "2022-06-07T15:59:48.153Z"
   },
   {
    "duration": 7,
    "start_time": "2022-06-07T15:59:48.164Z"
   },
   {
    "duration": 12,
    "start_time": "2022-06-07T15:59:48.172Z"
   },
   {
    "duration": 42,
    "start_time": "2022-06-07T15:59:48.186Z"
   },
   {
    "duration": 27,
    "start_time": "2022-06-07T15:59:48.231Z"
   },
   {
    "duration": 6,
    "start_time": "2022-06-07T15:59:48.260Z"
   },
   {
    "duration": 7,
    "start_time": "2022-06-07T15:59:48.267Z"
   },
   {
    "duration": 9,
    "start_time": "2022-06-07T15:59:48.275Z"
   },
   {
    "duration": 43,
    "start_time": "2022-06-07T15:59:48.285Z"
   },
   {
    "duration": 99,
    "start_time": "2022-06-07T15:59:48.329Z"
   },
   {
    "duration": 0,
    "start_time": "2022-06-07T15:59:48.430Z"
   },
   {
    "duration": 0,
    "start_time": "2022-06-07T15:59:48.431Z"
   },
   {
    "duration": 0,
    "start_time": "2022-06-07T15:59:48.432Z"
   },
   {
    "duration": 0,
    "start_time": "2022-06-07T15:59:48.432Z"
   },
   {
    "duration": 9,
    "start_time": "2022-06-07T16:00:42.143Z"
   },
   {
    "duration": 9,
    "start_time": "2022-06-07T16:00:44.495Z"
   },
   {
    "duration": 11,
    "start_time": "2022-06-07T16:00:51.262Z"
   },
   {
    "duration": 5,
    "start_time": "2022-06-07T16:00:56.447Z"
   },
   {
    "duration": 85,
    "start_time": "2022-06-07T16:00:57.436Z"
   },
   {
    "duration": 1520,
    "start_time": "2022-06-07T16:01:10.307Z"
   },
   {
    "duration": 15,
    "start_time": "2022-06-07T16:01:11.829Z"
   },
   {
    "duration": 16,
    "start_time": "2022-06-07T16:01:11.845Z"
   },
   {
    "duration": 8,
    "start_time": "2022-06-07T16:01:11.863Z"
   },
   {
    "duration": 11,
    "start_time": "2022-06-07T16:01:11.873Z"
   },
   {
    "duration": 14,
    "start_time": "2022-06-07T16:01:11.886Z"
   },
   {
    "duration": 32,
    "start_time": "2022-06-07T16:01:11.902Z"
   },
   {
    "duration": 124,
    "start_time": "2022-06-07T16:01:11.936Z"
   },
   {
    "duration": 33,
    "start_time": "2022-06-07T16:01:12.062Z"
   },
   {
    "duration": 39,
    "start_time": "2022-06-07T16:01:12.098Z"
   },
   {
    "duration": 43,
    "start_time": "2022-06-07T16:01:12.138Z"
   },
   {
    "duration": 49,
    "start_time": "2022-06-07T16:01:12.183Z"
   },
   {
    "duration": 12,
    "start_time": "2022-06-07T16:01:12.234Z"
   },
   {
    "duration": 8,
    "start_time": "2022-06-07T16:01:12.248Z"
   },
   {
    "duration": 20,
    "start_time": "2022-06-07T16:01:12.257Z"
   },
   {
    "duration": 20,
    "start_time": "2022-06-07T16:01:12.279Z"
   },
   {
    "duration": 45,
    "start_time": "2022-06-07T16:01:12.301Z"
   },
   {
    "duration": 12,
    "start_time": "2022-06-07T16:01:12.348Z"
   },
   {
    "duration": 9,
    "start_time": "2022-06-07T16:01:12.362Z"
   },
   {
    "duration": 29,
    "start_time": "2022-06-07T16:01:12.373Z"
   },
   {
    "duration": 41,
    "start_time": "2022-06-07T16:01:12.403Z"
   },
   {
    "duration": 16,
    "start_time": "2022-06-07T16:01:12.446Z"
   },
   {
    "duration": 23,
    "start_time": "2022-06-07T16:01:12.463Z"
   },
   {
    "duration": 11,
    "start_time": "2022-06-07T16:01:12.488Z"
   },
   {
    "duration": 33,
    "start_time": "2022-06-07T16:01:12.501Z"
   },
   {
    "duration": 203,
    "start_time": "2022-06-07T16:01:12.536Z"
   },
   {
    "duration": 22,
    "start_time": "2022-06-07T16:01:12.741Z"
   },
   {
    "duration": 213,
    "start_time": "2022-06-07T16:01:12.767Z"
   },
   {
    "duration": 7,
    "start_time": "2022-06-07T16:01:12.982Z"
   },
   {
    "duration": 163,
    "start_time": "2022-06-07T16:01:12.991Z"
   },
   {
    "duration": 7,
    "start_time": "2022-06-07T16:01:13.155Z"
   },
   {
    "duration": 13,
    "start_time": "2022-06-07T16:01:13.164Z"
   },
   {
    "duration": 6,
    "start_time": "2022-06-07T16:01:13.179Z"
   },
   {
    "duration": 75,
    "start_time": "2022-06-07T16:01:13.186Z"
   },
   {
    "duration": 33,
    "start_time": "2022-06-07T16:01:13.263Z"
   },
   {
    "duration": 37,
    "start_time": "2022-06-07T16:01:13.298Z"
   },
   {
    "duration": 29,
    "start_time": "2022-06-07T16:01:13.337Z"
   },
   {
    "duration": 13,
    "start_time": "2022-06-07T16:01:13.368Z"
   },
   {
    "duration": 10,
    "start_time": "2022-06-07T16:01:13.383Z"
   },
   {
    "duration": 7,
    "start_time": "2022-06-07T16:01:13.394Z"
   },
   {
    "duration": 27,
    "start_time": "2022-06-07T16:01:13.403Z"
   },
   {
    "duration": 21,
    "start_time": "2022-06-07T16:01:13.432Z"
   },
   {
    "duration": 17,
    "start_time": "2022-06-07T16:01:13.455Z"
   },
   {
    "duration": 7,
    "start_time": "2022-06-07T16:01:13.474Z"
   },
   {
    "duration": 9,
    "start_time": "2022-06-07T16:01:13.483Z"
   },
   {
    "duration": 35,
    "start_time": "2022-06-07T16:01:13.493Z"
   },
   {
    "duration": 10,
    "start_time": "2022-06-07T16:01:13.529Z"
   },
   {
    "duration": 108,
    "start_time": "2022-06-07T16:01:13.541Z"
   },
   {
    "duration": 0,
    "start_time": "2022-06-07T16:01:13.651Z"
   },
   {
    "duration": 0,
    "start_time": "2022-06-07T16:01:13.652Z"
   },
   {
    "duration": 0,
    "start_time": "2022-06-07T16:01:13.653Z"
   },
   {
    "duration": 0,
    "start_time": "2022-06-07T16:01:13.654Z"
   },
   {
    "duration": 9,
    "start_time": "2022-06-07T16:01:31.151Z"
   },
   {
    "duration": 3,
    "start_time": "2022-06-07T16:01:33.735Z"
   },
   {
    "duration": 8,
    "start_time": "2022-06-07T16:01:35.221Z"
   },
   {
    "duration": 7,
    "start_time": "2022-06-07T16:01:39.930Z"
   },
   {
    "duration": 81,
    "start_time": "2022-06-07T16:01:42.907Z"
   },
   {
    "duration": 57,
    "start_time": "2022-06-08T09:09:11.230Z"
   },
   {
    "duration": 10,
    "start_time": "2022-06-08T09:09:56.021Z"
   },
   {
    "duration": 6,
    "start_time": "2022-06-08T09:12:04.799Z"
   },
   {
    "duration": 7,
    "start_time": "2022-06-08T09:12:41.895Z"
   },
   {
    "duration": 2210,
    "start_time": "2022-06-08T09:12:47.520Z"
   },
   {
    "duration": 16,
    "start_time": "2022-06-08T09:12:49.732Z"
   },
   {
    "duration": 14,
    "start_time": "2022-06-08T09:12:49.750Z"
   },
   {
    "duration": 10,
    "start_time": "2022-06-08T09:12:49.766Z"
   },
   {
    "duration": 14,
    "start_time": "2022-06-08T09:12:49.777Z"
   },
   {
    "duration": 17,
    "start_time": "2022-06-08T09:12:49.792Z"
   },
   {
    "duration": 14,
    "start_time": "2022-06-08T09:12:49.811Z"
   },
   {
    "duration": 107,
    "start_time": "2022-06-08T09:12:49.827Z"
   },
   {
    "duration": 26,
    "start_time": "2022-06-08T09:12:49.936Z"
   },
   {
    "duration": 52,
    "start_time": "2022-06-08T09:12:49.965Z"
   },
   {
    "duration": 43,
    "start_time": "2022-06-08T09:12:50.020Z"
   },
   {
    "duration": 39,
    "start_time": "2022-06-08T09:12:50.065Z"
   },
   {
    "duration": 13,
    "start_time": "2022-06-08T09:12:50.106Z"
   },
   {
    "duration": 8,
    "start_time": "2022-06-08T09:12:50.120Z"
   },
   {
    "duration": 22,
    "start_time": "2022-06-08T09:12:50.130Z"
   },
   {
    "duration": 40,
    "start_time": "2022-06-08T09:12:50.154Z"
   },
   {
    "duration": 14,
    "start_time": "2022-06-08T09:12:50.196Z"
   },
   {
    "duration": 13,
    "start_time": "2022-06-08T09:12:50.212Z"
   },
   {
    "duration": 10,
    "start_time": "2022-06-08T09:12:50.227Z"
   },
   {
    "duration": 34,
    "start_time": "2022-06-08T09:12:50.238Z"
   },
   {
    "duration": 39,
    "start_time": "2022-06-08T09:12:50.274Z"
   },
   {
    "duration": 27,
    "start_time": "2022-06-08T09:12:50.314Z"
   },
   {
    "duration": 29,
    "start_time": "2022-06-08T09:12:50.343Z"
   },
   {
    "duration": 29,
    "start_time": "2022-06-08T09:12:50.374Z"
   },
   {
    "duration": 11,
    "start_time": "2022-06-08T09:12:50.405Z"
   },
   {
    "duration": 223,
    "start_time": "2022-06-08T09:12:50.417Z"
   },
   {
    "duration": 25,
    "start_time": "2022-06-08T09:12:50.641Z"
   },
   {
    "duration": 239,
    "start_time": "2022-06-08T09:12:50.670Z"
   },
   {
    "duration": 9,
    "start_time": "2022-06-08T09:12:50.911Z"
   },
   {
    "duration": 166,
    "start_time": "2022-06-08T09:12:50.922Z"
   },
   {
    "duration": 7,
    "start_time": "2022-06-08T09:12:51.094Z"
   },
   {
    "duration": 14,
    "start_time": "2022-06-08T09:12:51.103Z"
   },
   {
    "duration": 8,
    "start_time": "2022-06-08T09:12:51.119Z"
   },
   {
    "duration": 73,
    "start_time": "2022-06-08T09:12:51.128Z"
   },
   {
    "duration": 31,
    "start_time": "2022-06-08T09:12:51.203Z"
   },
   {
    "duration": 17,
    "start_time": "2022-06-08T09:12:51.235Z"
   },
   {
    "duration": 14,
    "start_time": "2022-06-08T09:12:51.254Z"
   },
   {
    "duration": 46,
    "start_time": "2022-06-08T09:12:51.269Z"
   },
   {
    "duration": 10,
    "start_time": "2022-06-08T09:12:51.316Z"
   },
   {
    "duration": 19,
    "start_time": "2022-06-08T09:12:51.328Z"
   },
   {
    "duration": 21,
    "start_time": "2022-06-08T09:12:51.349Z"
   },
   {
    "duration": 21,
    "start_time": "2022-06-08T09:12:51.373Z"
   },
   {
    "duration": 22,
    "start_time": "2022-06-08T09:12:51.395Z"
   },
   {
    "duration": 19,
    "start_time": "2022-06-08T09:12:51.418Z"
   },
   {
    "duration": 7,
    "start_time": "2022-06-08T09:12:51.438Z"
   },
   {
    "duration": 5,
    "start_time": "2022-06-08T09:12:51.447Z"
   },
   {
    "duration": 11,
    "start_time": "2022-06-08T09:12:51.454Z"
   },
   {
    "duration": 10,
    "start_time": "2022-06-08T09:12:51.494Z"
   },
   {
    "duration": 3,
    "start_time": "2022-06-08T09:12:51.505Z"
   },
   {
    "duration": 10,
    "start_time": "2022-06-08T09:12:51.510Z"
   },
   {
    "duration": 6,
    "start_time": "2022-06-08T09:12:51.521Z"
   },
   {
    "duration": 214,
    "start_time": "2022-06-08T09:12:51.528Z"
   },
   {
    "duration": 17,
    "start_time": "2022-06-08T09:13:10.599Z"
   },
   {
    "duration": 8,
    "start_time": "2022-06-08T09:13:24.113Z"
   },
   {
    "duration": 4,
    "start_time": "2022-06-08T09:13:26.998Z"
   },
   {
    "duration": 10,
    "start_time": "2022-06-08T09:13:27.720Z"
   },
   {
    "duration": 29,
    "start_time": "2022-06-08T09:13:30.842Z"
   },
   {
    "duration": 16,
    "start_time": "2022-06-08T09:13:32.919Z"
   },
   {
    "duration": 49,
    "start_time": "2022-06-08T09:23:08.983Z"
   },
   {
    "duration": 25,
    "start_time": "2022-06-08T09:23:10.047Z"
   },
   {
    "duration": 16,
    "start_time": "2022-06-08T09:23:12.079Z"
   },
   {
    "duration": 13,
    "start_time": "2022-06-08T09:23:12.724Z"
   },
   {
    "duration": 25,
    "start_time": "2022-06-08T09:23:14.212Z"
   },
   {
    "duration": 10,
    "start_time": "2022-06-08T09:23:14.844Z"
   },
   {
    "duration": 8,
    "start_time": "2022-06-08T09:23:16.925Z"
   },
   {
    "duration": 3,
    "start_time": "2022-06-08T09:23:17.965Z"
   },
   {
    "duration": 10,
    "start_time": "2022-06-08T09:23:18.564Z"
   },
   {
    "duration": 18,
    "start_time": "2022-06-08T09:23:19.968Z"
   },
   {
    "duration": 20,
    "start_time": "2022-06-08T09:23:21.492Z"
   },
   {
    "duration": 8,
    "start_time": "2022-06-08T09:23:23.954Z"
   },
   {
    "duration": 6,
    "start_time": "2022-06-08T09:23:28.390Z"
   },
   {
    "duration": 8,
    "start_time": "2022-06-08T09:23:30.212Z"
   },
   {
    "duration": 9,
    "start_time": "2022-06-08T09:23:31.699Z"
   },
   {
    "duration": 3,
    "start_time": "2022-06-08T09:23:33.547Z"
   },
   {
    "duration": 9,
    "start_time": "2022-06-08T09:23:34.316Z"
   },
   {
    "duration": 5,
    "start_time": "2022-06-08T09:23:35.595Z"
   },
   {
    "duration": 12,
    "start_time": "2022-06-08T09:24:34.514Z"
   },
   {
    "duration": 30,
    "start_time": "2022-06-08T09:24:55.158Z"
   },
   {
    "duration": 14,
    "start_time": "2022-06-08T09:24:56.524Z"
   },
   {
    "duration": 9,
    "start_time": "2022-06-08T09:25:00.891Z"
   },
   {
    "duration": 3,
    "start_time": "2022-06-08T09:25:01.979Z"
   },
   {
    "duration": 16,
    "start_time": "2022-06-08T09:25:02.595Z"
   },
   {
    "duration": 25,
    "start_time": "2022-06-08T09:25:05.717Z"
   },
   {
    "duration": 17,
    "start_time": "2022-06-08T09:25:13.788Z"
   },
   {
    "duration": 12,
    "start_time": "2022-06-08T09:25:40.933Z"
   },
   {
    "duration": 37,
    "start_time": "2022-06-08T09:25:44.267Z"
   },
   {
    "duration": 1559,
    "start_time": "2022-06-08T09:25:50.068Z"
   },
   {
    "duration": 17,
    "start_time": "2022-06-08T09:25:51.629Z"
   },
   {
    "duration": 15,
    "start_time": "2022-06-08T09:25:51.648Z"
   },
   {
    "duration": 7,
    "start_time": "2022-06-08T09:25:51.666Z"
   },
   {
    "duration": 24,
    "start_time": "2022-06-08T09:25:51.675Z"
   },
   {
    "duration": 18,
    "start_time": "2022-06-08T09:25:51.701Z"
   },
   {
    "duration": 21,
    "start_time": "2022-06-08T09:25:51.720Z"
   },
   {
    "duration": 121,
    "start_time": "2022-06-08T09:25:51.743Z"
   },
   {
    "duration": 39,
    "start_time": "2022-06-08T09:25:51.865Z"
   },
   {
    "duration": 25,
    "start_time": "2022-06-08T09:25:51.907Z"
   },
   {
    "duration": 28,
    "start_time": "2022-06-08T09:25:51.933Z"
   },
   {
    "duration": 39,
    "start_time": "2022-06-08T09:25:51.963Z"
   },
   {
    "duration": 13,
    "start_time": "2022-06-08T09:25:52.004Z"
   },
   {
    "duration": 7,
    "start_time": "2022-06-08T09:25:52.019Z"
   },
   {
    "duration": 23,
    "start_time": "2022-06-08T09:25:52.027Z"
   },
   {
    "duration": 47,
    "start_time": "2022-06-08T09:25:52.052Z"
   },
   {
    "duration": 16,
    "start_time": "2022-06-08T09:25:52.101Z"
   },
   {
    "duration": 20,
    "start_time": "2022-06-08T09:25:52.119Z"
   },
   {
    "duration": 10,
    "start_time": "2022-06-08T09:25:52.141Z"
   },
   {
    "duration": 52,
    "start_time": "2022-06-08T09:25:52.153Z"
   },
   {
    "duration": 34,
    "start_time": "2022-06-08T09:25:52.207Z"
   },
   {
    "duration": 26,
    "start_time": "2022-06-08T09:25:52.243Z"
   },
   {
    "duration": 41,
    "start_time": "2022-06-08T09:25:52.270Z"
   },
   {
    "duration": 12,
    "start_time": "2022-06-08T09:25:52.314Z"
   },
   {
    "duration": 14,
    "start_time": "2022-06-08T09:25:52.329Z"
   },
   {
    "duration": 282,
    "start_time": "2022-06-08T09:25:52.344Z"
   },
   {
    "duration": 26,
    "start_time": "2022-06-08T09:25:52.628Z"
   },
   {
    "duration": 231,
    "start_time": "2022-06-08T09:25:52.659Z"
   },
   {
    "duration": 9,
    "start_time": "2022-06-08T09:25:52.891Z"
   },
   {
    "duration": 169,
    "start_time": "2022-06-08T09:25:52.902Z"
   },
   {
    "duration": 8,
    "start_time": "2022-06-08T09:25:53.073Z"
   },
   {
    "duration": 20,
    "start_time": "2022-06-08T09:25:53.083Z"
   },
   {
    "duration": 5,
    "start_time": "2022-06-08T09:25:53.105Z"
   },
   {
    "duration": 64,
    "start_time": "2022-06-08T09:25:53.112Z"
   },
   {
    "duration": 39,
    "start_time": "2022-06-08T09:25:53.193Z"
   },
   {
    "duration": 18,
    "start_time": "2022-06-08T09:25:53.234Z"
   },
   {
    "duration": 40,
    "start_time": "2022-06-08T09:25:53.254Z"
   },
   {
    "duration": 26,
    "start_time": "2022-06-08T09:25:53.296Z"
   },
   {
    "duration": 23,
    "start_time": "2022-06-08T09:25:53.323Z"
   },
   {
    "duration": 19,
    "start_time": "2022-06-08T09:25:53.348Z"
   },
   {
    "duration": 33,
    "start_time": "2022-06-08T09:25:53.369Z"
   },
   {
    "duration": 6,
    "start_time": "2022-06-08T09:25:53.403Z"
   },
   {
    "duration": 12,
    "start_time": "2022-06-08T09:25:53.410Z"
   },
   {
    "duration": 25,
    "start_time": "2022-06-08T09:25:53.424Z"
   },
   {
    "duration": 127,
    "start_time": "2022-06-08T09:25:53.450Z"
   },
   {
    "duration": 0,
    "start_time": "2022-06-08T09:25:53.578Z"
   },
   {
    "duration": 0,
    "start_time": "2022-06-08T09:25:53.580Z"
   },
   {
    "duration": 0,
    "start_time": "2022-06-08T09:25:53.581Z"
   },
   {
    "duration": 0,
    "start_time": "2022-06-08T09:25:53.583Z"
   },
   {
    "duration": 0,
    "start_time": "2022-06-08T09:25:53.594Z"
   },
   {
    "duration": 0,
    "start_time": "2022-06-08T09:25:53.595Z"
   },
   {
    "duration": 0,
    "start_time": "2022-06-08T09:25:53.596Z"
   },
   {
    "duration": 0,
    "start_time": "2022-06-08T09:25:53.597Z"
   },
   {
    "duration": 3,
    "start_time": "2022-06-08T09:27:40.857Z"
   },
   {
    "duration": 11,
    "start_time": "2022-06-08T09:27:41.681Z"
   },
   {
    "duration": 30,
    "start_time": "2022-06-08T09:27:43.169Z"
   },
   {
    "duration": 26,
    "start_time": "2022-06-08T09:27:58.392Z"
   },
   {
    "duration": 9,
    "start_time": "2022-06-08T09:28:06.697Z"
   },
   {
    "duration": 5,
    "start_time": "2022-06-08T09:28:17.729Z"
   },
   {
    "duration": 8,
    "start_time": "2022-06-08T09:28:18.689Z"
   },
   {
    "duration": 28,
    "start_time": "2022-06-08T09:28:37.895Z"
   },
   {
    "duration": 23,
    "start_time": "2022-06-08T09:28:38.576Z"
   },
   {
    "duration": 14,
    "start_time": "2022-06-08T09:28:39.236Z"
   },
   {
    "duration": 8,
    "start_time": "2022-06-08T09:28:40.600Z"
   },
   {
    "duration": 4,
    "start_time": "2022-06-08T09:28:41.640Z"
   },
   {
    "duration": 10,
    "start_time": "2022-06-08T09:28:42.288Z"
   },
   {
    "duration": 24,
    "start_time": "2022-06-08T09:28:43.402Z"
   },
   {
    "duration": 1532,
    "start_time": "2022-06-08T09:32:56.198Z"
   },
   {
    "duration": 16,
    "start_time": "2022-06-08T09:32:57.732Z"
   },
   {
    "duration": 16,
    "start_time": "2022-06-08T09:32:57.749Z"
   },
   {
    "duration": 8,
    "start_time": "2022-06-08T09:32:57.768Z"
   },
   {
    "duration": 23,
    "start_time": "2022-06-08T09:32:57.778Z"
   },
   {
    "duration": 17,
    "start_time": "2022-06-08T09:32:57.802Z"
   },
   {
    "duration": 11,
    "start_time": "2022-06-08T09:32:57.821Z"
   },
   {
    "duration": 123,
    "start_time": "2022-06-08T09:32:57.833Z"
   },
   {
    "duration": 38,
    "start_time": "2022-06-08T09:32:57.958Z"
   },
   {
    "duration": 25,
    "start_time": "2022-06-08T09:32:57.998Z"
   },
   {
    "duration": 34,
    "start_time": "2022-06-08T09:32:58.025Z"
   },
   {
    "duration": 52,
    "start_time": "2022-06-08T09:32:58.061Z"
   },
   {
    "duration": 19,
    "start_time": "2022-06-08T09:32:58.114Z"
   },
   {
    "duration": 10,
    "start_time": "2022-06-08T09:32:58.136Z"
   },
   {
    "duration": 22,
    "start_time": "2022-06-08T09:32:58.148Z"
   },
   {
    "duration": 39,
    "start_time": "2022-06-08T09:32:58.172Z"
   },
   {
    "duration": 16,
    "start_time": "2022-06-08T09:32:58.213Z"
   },
   {
    "duration": 14,
    "start_time": "2022-06-08T09:32:58.232Z"
   },
   {
    "duration": 10,
    "start_time": "2022-06-08T09:32:58.248Z"
   },
   {
    "duration": 66,
    "start_time": "2022-06-08T09:32:58.260Z"
   },
   {
    "duration": 24,
    "start_time": "2022-06-08T09:32:58.328Z"
   },
   {
    "duration": 18,
    "start_time": "2022-06-08T09:32:58.353Z"
   },
   {
    "duration": 43,
    "start_time": "2022-06-08T09:32:58.373Z"
   },
   {
    "duration": 12,
    "start_time": "2022-06-08T09:32:58.418Z"
   },
   {
    "duration": 10,
    "start_time": "2022-06-08T09:32:58.432Z"
   },
   {
    "duration": 235,
    "start_time": "2022-06-08T09:32:58.444Z"
   },
   {
    "duration": 28,
    "start_time": "2022-06-08T09:32:58.681Z"
   },
   {
    "duration": 238,
    "start_time": "2022-06-08T09:32:58.713Z"
   },
   {
    "duration": 11,
    "start_time": "2022-06-08T09:32:58.953Z"
   },
   {
    "duration": 215,
    "start_time": "2022-06-08T09:32:58.966Z"
   },
   {
    "duration": 13,
    "start_time": "2022-06-08T09:32:59.183Z"
   },
   {
    "duration": 13,
    "start_time": "2022-06-08T09:32:59.199Z"
   },
   {
    "duration": 6,
    "start_time": "2022-06-08T09:32:59.214Z"
   },
   {
    "duration": 87,
    "start_time": "2022-06-08T09:32:59.223Z"
   },
   {
    "duration": 35,
    "start_time": "2022-06-08T09:32:59.312Z"
   },
   {
    "duration": 17,
    "start_time": "2022-06-08T09:32:59.349Z"
   },
   {
    "duration": 33,
    "start_time": "2022-06-08T09:32:59.368Z"
   },
   {
    "duration": 24,
    "start_time": "2022-06-08T09:32:59.403Z"
   },
   {
    "duration": 31,
    "start_time": "2022-06-08T09:32:59.428Z"
   },
   {
    "duration": 15,
    "start_time": "2022-06-08T09:32:59.460Z"
   },
   {
    "duration": 9,
    "start_time": "2022-06-08T09:32:59.494Z"
   },
   {
    "duration": 6,
    "start_time": "2022-06-08T09:32:59.505Z"
   },
   {
    "duration": 13,
    "start_time": "2022-06-08T09:32:59.512Z"
   },
   {
    "duration": 25,
    "start_time": "2022-06-08T09:32:59.526Z"
   },
   {
    "duration": 136,
    "start_time": "2022-06-08T09:32:59.553Z"
   },
   {
    "duration": 0,
    "start_time": "2022-06-08T09:32:59.691Z"
   },
   {
    "duration": 0,
    "start_time": "2022-06-08T09:32:59.694Z"
   },
   {
    "duration": 0,
    "start_time": "2022-06-08T09:32:59.696Z"
   },
   {
    "duration": 0,
    "start_time": "2022-06-08T09:32:59.697Z"
   },
   {
    "duration": 0,
    "start_time": "2022-06-08T09:32:59.699Z"
   },
   {
    "duration": 0,
    "start_time": "2022-06-08T09:32:59.700Z"
   },
   {
    "duration": 0,
    "start_time": "2022-06-08T09:32:59.702Z"
   },
   {
    "duration": 0,
    "start_time": "2022-06-08T09:32:59.703Z"
   },
   {
    "duration": 16,
    "start_time": "2022-06-08T09:34:08.480Z"
   },
   {
    "duration": 14,
    "start_time": "2022-06-08T09:34:09.136Z"
   },
   {
    "duration": 23,
    "start_time": "2022-06-08T09:34:10.399Z"
   },
   {
    "duration": 22,
    "start_time": "2022-06-08T09:34:11.016Z"
   },
   {
    "duration": 19,
    "start_time": "2022-06-08T09:34:11.728Z"
   },
   {
    "duration": 9,
    "start_time": "2022-06-08T09:34:14.768Z"
   },
   {
    "duration": 4,
    "start_time": "2022-06-08T09:34:15.823Z"
   },
   {
    "duration": 11,
    "start_time": "2022-06-08T09:34:18.769Z"
   },
   {
    "duration": 25,
    "start_time": "2022-06-08T09:34:21.072Z"
   },
   {
    "duration": 13,
    "start_time": "2022-06-08T09:34:23.905Z"
   },
   {
    "duration": 15,
    "start_time": "2022-06-08T09:34:28.000Z"
   },
   {
    "duration": 3,
    "start_time": "2022-06-08T09:34:37.048Z"
   },
   {
    "duration": 4,
    "start_time": "2022-06-08T09:34:39.792Z"
   },
   {
    "duration": 1502,
    "start_time": "2022-06-08T09:34:49.113Z"
   },
   {
    "duration": 17,
    "start_time": "2022-06-08T09:34:50.618Z"
   },
   {
    "duration": 23,
    "start_time": "2022-06-08T09:34:50.637Z"
   },
   {
    "duration": 9,
    "start_time": "2022-06-08T09:34:50.663Z"
   },
   {
    "duration": 24,
    "start_time": "2022-06-08T09:34:50.674Z"
   },
   {
    "duration": 17,
    "start_time": "2022-06-08T09:34:50.699Z"
   },
   {
    "duration": 13,
    "start_time": "2022-06-08T09:34:50.718Z"
   },
   {
    "duration": 117,
    "start_time": "2022-06-08T09:34:50.733Z"
   },
   {
    "duration": 26,
    "start_time": "2022-06-08T09:34:50.852Z"
   },
   {
    "duration": 34,
    "start_time": "2022-06-08T09:34:50.880Z"
   },
   {
    "duration": 26,
    "start_time": "2022-06-08T09:34:50.916Z"
   },
   {
    "duration": 20,
    "start_time": "2022-06-08T09:34:50.944Z"
   },
   {
    "duration": 33,
    "start_time": "2022-06-08T09:34:50.966Z"
   },
   {
    "duration": 7,
    "start_time": "2022-06-08T09:34:51.001Z"
   },
   {
    "duration": 19,
    "start_time": "2022-06-08T09:34:51.010Z"
   },
   {
    "duration": 21,
    "start_time": "2022-06-08T09:34:51.030Z"
   },
   {
    "duration": 42,
    "start_time": "2022-06-08T09:34:51.053Z"
   },
   {
    "duration": 17,
    "start_time": "2022-06-08T09:34:51.097Z"
   },
   {
    "duration": 10,
    "start_time": "2022-06-08T09:34:51.115Z"
   },
   {
    "duration": 34,
    "start_time": "2022-06-08T09:34:51.127Z"
   },
   {
    "duration": 38,
    "start_time": "2022-06-08T09:34:51.162Z"
   },
   {
    "duration": 18,
    "start_time": "2022-06-08T09:34:51.202Z"
   },
   {
    "duration": 23,
    "start_time": "2022-06-08T09:34:51.221Z"
   },
   {
    "duration": 11,
    "start_time": "2022-06-08T09:34:51.245Z"
   },
   {
    "duration": 11,
    "start_time": "2022-06-08T09:34:51.258Z"
   },
   {
    "duration": 217,
    "start_time": "2022-06-08T09:34:51.295Z"
   },
   {
    "duration": 22,
    "start_time": "2022-06-08T09:34:51.514Z"
   },
   {
    "duration": 225,
    "start_time": "2022-06-08T09:34:51.540Z"
   },
   {
    "duration": 8,
    "start_time": "2022-06-08T09:34:51.767Z"
   },
   {
    "duration": 169,
    "start_time": "2022-06-08T09:34:51.776Z"
   },
   {
    "duration": 7,
    "start_time": "2022-06-08T09:34:51.946Z"
   },
   {
    "duration": 14,
    "start_time": "2022-06-08T09:34:51.955Z"
   },
   {
    "duration": 7,
    "start_time": "2022-06-08T09:34:51.970Z"
   },
   {
    "duration": 82,
    "start_time": "2022-06-08T09:34:51.979Z"
   },
   {
    "duration": 47,
    "start_time": "2022-06-08T09:34:52.062Z"
   },
   {
    "duration": 19,
    "start_time": "2022-06-08T09:34:52.111Z"
   },
   {
    "duration": 16,
    "start_time": "2022-06-08T09:34:52.132Z"
   },
   {
    "duration": 46,
    "start_time": "2022-06-08T09:34:52.149Z"
   },
   {
    "duration": 24,
    "start_time": "2022-06-08T09:34:52.197Z"
   },
   {
    "duration": 14,
    "start_time": "2022-06-08T09:34:52.223Z"
   },
   {
    "duration": 17,
    "start_time": "2022-06-08T09:34:52.239Z"
   },
   {
    "duration": 12,
    "start_time": "2022-06-08T09:34:52.258Z"
   },
   {
    "duration": 32,
    "start_time": "2022-06-08T09:34:52.272Z"
   },
   {
    "duration": 29,
    "start_time": "2022-06-08T09:34:52.306Z"
   },
   {
    "duration": 123,
    "start_time": "2022-06-08T09:34:52.336Z"
   },
   {
    "duration": 0,
    "start_time": "2022-06-08T09:34:52.461Z"
   },
   {
    "duration": 0,
    "start_time": "2022-06-08T09:34:52.462Z"
   },
   {
    "duration": 0,
    "start_time": "2022-06-08T09:34:52.464Z"
   },
   {
    "duration": 0,
    "start_time": "2022-06-08T09:34:52.466Z"
   },
   {
    "duration": 0,
    "start_time": "2022-06-08T09:34:52.467Z"
   },
   {
    "duration": 0,
    "start_time": "2022-06-08T09:34:52.468Z"
   },
   {
    "duration": 0,
    "start_time": "2022-06-08T09:34:52.469Z"
   },
   {
    "duration": 0,
    "start_time": "2022-06-08T09:34:52.470Z"
   },
   {
    "duration": 29,
    "start_time": "2022-06-08T09:38:17.976Z"
   },
   {
    "duration": 29,
    "start_time": "2022-06-08T09:41:59.447Z"
   },
   {
    "duration": 14,
    "start_time": "2022-06-08T09:42:04.263Z"
   },
   {
    "duration": 3,
    "start_time": "2022-06-08T09:42:52.842Z"
   },
   {
    "duration": 12,
    "start_time": "2022-06-08T09:42:55.747Z"
   },
   {
    "duration": 4,
    "start_time": "2022-06-08T09:43:02.901Z"
   },
   {
    "duration": 15,
    "start_time": "2022-06-08T09:43:05.910Z"
   },
   {
    "duration": 1530,
    "start_time": "2022-06-08T09:44:23.897Z"
   },
   {
    "duration": 15,
    "start_time": "2022-06-08T09:44:25.429Z"
   },
   {
    "duration": 16,
    "start_time": "2022-06-08T09:44:25.445Z"
   },
   {
    "duration": 7,
    "start_time": "2022-06-08T09:44:25.463Z"
   },
   {
    "duration": 28,
    "start_time": "2022-06-08T09:44:25.471Z"
   },
   {
    "duration": 13,
    "start_time": "2022-06-08T09:44:25.500Z"
   },
   {
    "duration": 11,
    "start_time": "2022-06-08T09:44:25.515Z"
   },
   {
    "duration": 118,
    "start_time": "2022-06-08T09:44:25.528Z"
   },
   {
    "duration": 27,
    "start_time": "2022-06-08T09:44:25.648Z"
   },
   {
    "duration": 38,
    "start_time": "2022-06-08T09:44:25.678Z"
   },
   {
    "duration": 27,
    "start_time": "2022-06-08T09:44:25.718Z"
   },
   {
    "duration": 22,
    "start_time": "2022-06-08T09:44:25.746Z"
   },
   {
    "duration": 31,
    "start_time": "2022-06-08T09:44:25.770Z"
   },
   {
    "duration": 8,
    "start_time": "2022-06-08T09:44:25.802Z"
   },
   {
    "duration": 21,
    "start_time": "2022-06-08T09:44:25.811Z"
   },
   {
    "duration": 17,
    "start_time": "2022-06-08T09:44:25.834Z"
   },
   {
    "duration": 14,
    "start_time": "2022-06-08T09:44:25.853Z"
   },
   {
    "duration": 13,
    "start_time": "2022-06-08T09:44:25.893Z"
   },
   {
    "duration": 10,
    "start_time": "2022-06-08T09:44:25.908Z"
   },
   {
    "duration": 33,
    "start_time": "2022-06-08T09:44:25.919Z"
   },
   {
    "duration": 47,
    "start_time": "2022-06-08T09:44:25.954Z"
   },
   {
    "duration": 16,
    "start_time": "2022-06-08T09:44:26.003Z"
   },
   {
    "duration": 23,
    "start_time": "2022-06-08T09:44:26.020Z"
   },
   {
    "duration": 12,
    "start_time": "2022-06-08T09:44:26.045Z"
   },
   {
    "duration": 39,
    "start_time": "2022-06-08T09:44:26.059Z"
   },
   {
    "duration": 222,
    "start_time": "2022-06-08T09:44:26.100Z"
   },
   {
    "duration": 24,
    "start_time": "2022-06-08T09:44:26.324Z"
   },
   {
    "duration": 228,
    "start_time": "2022-06-08T09:44:26.352Z"
   },
   {
    "duration": 16,
    "start_time": "2022-06-08T09:44:26.582Z"
   },
   {
    "duration": 162,
    "start_time": "2022-06-08T09:44:26.600Z"
   },
   {
    "duration": 7,
    "start_time": "2022-06-08T09:44:26.764Z"
   },
   {
    "duration": 9,
    "start_time": "2022-06-08T09:44:26.773Z"
   },
   {
    "duration": 5,
    "start_time": "2022-06-08T09:44:26.794Z"
   },
   {
    "duration": 65,
    "start_time": "2022-06-08T09:44:26.800Z"
   },
   {
    "duration": 49,
    "start_time": "2022-06-08T09:44:26.867Z"
   },
   {
    "duration": 18,
    "start_time": "2022-06-08T09:44:26.918Z"
   },
   {
    "duration": 15,
    "start_time": "2022-06-08T09:44:26.938Z"
   },
   {
    "duration": 52,
    "start_time": "2022-06-08T09:44:26.954Z"
   },
   {
    "duration": 24,
    "start_time": "2022-06-08T09:44:27.008Z"
   },
   {
    "duration": 17,
    "start_time": "2022-06-08T09:44:27.034Z"
   },
   {
    "duration": 15,
    "start_time": "2022-06-08T09:44:27.054Z"
   },
   {
    "duration": 26,
    "start_time": "2022-06-08T09:44:27.071Z"
   },
   {
    "duration": 14,
    "start_time": "2022-06-08T09:44:27.099Z"
   },
   {
    "duration": 12,
    "start_time": "2022-06-08T09:44:27.115Z"
   },
   {
    "duration": 24,
    "start_time": "2022-06-08T09:44:27.129Z"
   },
   {
    "duration": 13,
    "start_time": "2022-06-08T09:44:27.155Z"
   },
   {
    "duration": 29,
    "start_time": "2022-06-08T09:44:27.170Z"
   },
   {
    "duration": 10,
    "start_time": "2022-06-08T09:44:27.200Z"
   },
   {
    "duration": 10,
    "start_time": "2022-06-08T09:44:27.212Z"
   },
   {
    "duration": 3,
    "start_time": "2022-06-08T09:44:27.224Z"
   },
   {
    "duration": 14,
    "start_time": "2022-06-08T09:44:27.228Z"
   },
   {
    "duration": 6,
    "start_time": "2022-06-08T09:44:27.243Z"
   },
   {
    "duration": 70,
    "start_time": "2022-06-08T09:44:27.251Z"
   },
   {
    "duration": 7,
    "start_time": "2022-06-08T09:44:42.695Z"
   },
   {
    "duration": 6,
    "start_time": "2022-06-08T09:44:45.271Z"
   },
   {
    "duration": 7,
    "start_time": "2022-06-08T09:45:05.391Z"
   },
   {
    "duration": 9,
    "start_time": "2022-06-08T09:45:25.836Z"
   },
   {
    "duration": 3,
    "start_time": "2022-06-08T09:45:28.290Z"
   },
   {
    "duration": 9,
    "start_time": "2022-06-08T09:45:29.976Z"
   },
   {
    "duration": 9,
    "start_time": "2022-06-08T09:45:36.323Z"
   },
   {
    "duration": 47,
    "start_time": "2022-06-08T09:45:39.911Z"
   },
   {
    "duration": 4,
    "start_time": "2022-06-08T09:54:37.282Z"
   },
   {
    "duration": 97,
    "start_time": "2022-06-08T09:55:27.842Z"
   },
   {
    "duration": 467,
    "start_time": "2022-06-08T09:56:07.020Z"
   },
   {
    "duration": 4,
    "start_time": "2022-06-08T09:59:14.850Z"
   },
   {
    "duration": 31,
    "start_time": "2022-06-08T09:59:16.509Z"
   },
   {
    "duration": 4,
    "start_time": "2022-06-08T10:01:14.658Z"
   },
   {
    "duration": 39,
    "start_time": "2022-06-08T10:01:16.151Z"
   },
   {
    "duration": 23,
    "start_time": "2022-06-08T10:06:23.243Z"
   },
   {
    "duration": 11,
    "start_time": "2022-06-08T10:09:29.635Z"
   },
   {
    "duration": 9,
    "start_time": "2022-06-08T10:10:11.450Z"
   },
   {
    "duration": 17,
    "start_time": "2022-06-08T10:25:29.537Z"
   },
   {
    "duration": 14,
    "start_time": "2022-06-08T10:25:57.157Z"
   },
   {
    "duration": 17,
    "start_time": "2022-06-08T10:26:25.053Z"
   },
   {
    "duration": 18,
    "start_time": "2022-06-08T10:27:09.029Z"
   },
   {
    "duration": 16,
    "start_time": "2022-06-08T10:27:42.700Z"
   },
   {
    "duration": 10,
    "start_time": "2022-06-08T10:27:51.268Z"
   },
   {
    "duration": 12,
    "start_time": "2022-06-08T10:27:53.684Z"
   },
   {
    "duration": 1504,
    "start_time": "2022-06-08T10:28:13.101Z"
   },
   {
    "duration": 15,
    "start_time": "2022-06-08T10:28:14.607Z"
   },
   {
    "duration": 15,
    "start_time": "2022-06-08T10:28:14.624Z"
   },
   {
    "duration": 7,
    "start_time": "2022-06-08T10:28:14.642Z"
   },
   {
    "duration": 13,
    "start_time": "2022-06-08T10:28:14.650Z"
   },
   {
    "duration": 29,
    "start_time": "2022-06-08T10:28:14.665Z"
   },
   {
    "duration": 9,
    "start_time": "2022-06-08T10:28:14.696Z"
   },
   {
    "duration": 121,
    "start_time": "2022-06-08T10:28:14.706Z"
   },
   {
    "duration": 29,
    "start_time": "2022-06-08T10:28:14.829Z"
   },
   {
    "duration": 41,
    "start_time": "2022-06-08T10:28:14.861Z"
   },
   {
    "duration": 27,
    "start_time": "2022-06-08T10:28:14.903Z"
   },
   {
    "duration": 22,
    "start_time": "2022-06-08T10:28:14.932Z"
   },
   {
    "duration": 15,
    "start_time": "2022-06-08T10:28:14.955Z"
   },
   {
    "duration": 27,
    "start_time": "2022-06-08T10:28:14.971Z"
   },
   {
    "duration": 41,
    "start_time": "2022-06-08T10:28:15.000Z"
   },
   {
    "duration": 34,
    "start_time": "2022-06-08T10:28:15.043Z"
   },
   {
    "duration": 14,
    "start_time": "2022-06-08T10:28:15.078Z"
   },
   {
    "duration": 13,
    "start_time": "2022-06-08T10:28:15.094Z"
   },
   {
    "duration": 10,
    "start_time": "2022-06-08T10:28:15.109Z"
   },
   {
    "duration": 33,
    "start_time": "2022-06-08T10:28:15.120Z"
   },
   {
    "duration": 39,
    "start_time": "2022-06-08T10:28:15.155Z"
   },
   {
    "duration": 20,
    "start_time": "2022-06-08T10:28:15.196Z"
   },
   {
    "duration": 30,
    "start_time": "2022-06-08T10:28:15.217Z"
   },
   {
    "duration": 12,
    "start_time": "2022-06-08T10:28:15.248Z"
   },
   {
    "duration": 33,
    "start_time": "2022-06-08T10:28:15.262Z"
   },
   {
    "duration": 222,
    "start_time": "2022-06-08T10:28:15.297Z"
   },
   {
    "duration": 23,
    "start_time": "2022-06-08T10:28:15.520Z"
   },
   {
    "duration": 222,
    "start_time": "2022-06-08T10:28:15.547Z"
   },
   {
    "duration": 10,
    "start_time": "2022-06-08T10:28:15.771Z"
   },
   {
    "duration": 170,
    "start_time": "2022-06-08T10:28:15.782Z"
   },
   {
    "duration": 7,
    "start_time": "2022-06-08T10:28:15.953Z"
   },
   {
    "duration": 15,
    "start_time": "2022-06-08T10:28:15.962Z"
   },
   {
    "duration": 18,
    "start_time": "2022-06-08T10:28:15.978Z"
   },
   {
    "duration": 73,
    "start_time": "2022-06-08T10:28:15.998Z"
   },
   {
    "duration": 36,
    "start_time": "2022-06-08T10:28:16.073Z"
   },
   {
    "duration": 20,
    "start_time": "2022-06-08T10:28:16.111Z"
   },
   {
    "duration": 14,
    "start_time": "2022-06-08T10:28:16.133Z"
   },
   {
    "duration": 53,
    "start_time": "2022-06-08T10:28:16.149Z"
   },
   {
    "duration": 25,
    "start_time": "2022-06-08T10:28:16.204Z"
   },
   {
    "duration": 15,
    "start_time": "2022-06-08T10:28:16.231Z"
   },
   {
    "duration": 13,
    "start_time": "2022-06-08T10:28:16.249Z"
   },
   {
    "duration": 6,
    "start_time": "2022-06-08T10:28:16.264Z"
   },
   {
    "duration": 29,
    "start_time": "2022-06-08T10:28:16.272Z"
   },
   {
    "duration": 5,
    "start_time": "2022-06-08T10:28:16.303Z"
   },
   {
    "duration": 26,
    "start_time": "2022-06-08T10:28:16.310Z"
   },
   {
    "duration": 9,
    "start_time": "2022-06-08T10:28:16.337Z"
   },
   {
    "duration": 3,
    "start_time": "2022-06-08T10:28:16.348Z"
   },
   {
    "duration": 41,
    "start_time": "2022-06-08T10:28:16.353Z"
   },
   {
    "duration": 58,
    "start_time": "2022-06-08T10:28:16.396Z"
   },
   {
    "duration": 10,
    "start_time": "2022-06-08T10:28:16.456Z"
   },
   {
    "duration": 28,
    "start_time": "2022-06-08T10:28:16.468Z"
   },
   {
    "duration": 22,
    "start_time": "2022-06-08T10:30:57.108Z"
   },
   {
    "duration": 11,
    "start_time": "2022-06-08T10:32:52.474Z"
   },
   {
    "duration": 12,
    "start_time": "2022-06-08T10:32:53.144Z"
   },
   {
    "duration": 16,
    "start_time": "2022-06-08T10:35:36.640Z"
   },
   {
    "duration": 12,
    "start_time": "2022-06-08T10:35:44.484Z"
   },
   {
    "duration": 12,
    "start_time": "2022-06-08T10:36:15.508Z"
   },
   {
    "duration": 112,
    "start_time": "2022-06-08T10:37:02.841Z"
   },
   {
    "duration": 10,
    "start_time": "2022-06-08T10:37:44.876Z"
   },
   {
    "duration": 12,
    "start_time": "2022-06-08T10:37:52.596Z"
   },
   {
    "duration": 12,
    "start_time": "2022-06-08T10:38:02.925Z"
   },
   {
    "duration": 20,
    "start_time": "2022-06-08T10:38:29.164Z"
   },
   {
    "duration": 15,
    "start_time": "2022-06-08T10:39:30.366Z"
   },
   {
    "duration": 14,
    "start_time": "2022-06-08T10:39:35.853Z"
   },
   {
    "duration": 12,
    "start_time": "2022-06-08T10:40:10.980Z"
   },
   {
    "duration": 12,
    "start_time": "2022-06-08T10:40:14.842Z"
   },
   {
    "duration": 9,
    "start_time": "2022-06-08T10:41:46.987Z"
   },
   {
    "duration": 15,
    "start_time": "2022-06-08T10:42:35.651Z"
   },
   {
    "duration": 29,
    "start_time": "2022-06-08T10:44:04.987Z"
   },
   {
    "duration": 38,
    "start_time": "2022-06-08T10:44:18.021Z"
   },
   {
    "duration": 32,
    "start_time": "2022-06-08T10:44:55.668Z"
   },
   {
    "duration": 13,
    "start_time": "2022-06-08T10:45:21.307Z"
   },
   {
    "duration": 21,
    "start_time": "2022-06-08T10:45:28.972Z"
   },
   {
    "duration": 1488,
    "start_time": "2022-06-08T10:45:44.931Z"
   },
   {
    "duration": 15,
    "start_time": "2022-06-08T10:45:46.421Z"
   },
   {
    "duration": 15,
    "start_time": "2022-06-08T10:45:46.437Z"
   },
   {
    "duration": 8,
    "start_time": "2022-06-08T10:45:46.454Z"
   },
   {
    "duration": 12,
    "start_time": "2022-06-08T10:45:46.464Z"
   },
   {
    "duration": 26,
    "start_time": "2022-06-08T10:45:46.477Z"
   },
   {
    "duration": 12,
    "start_time": "2022-06-08T10:45:46.505Z"
   },
   {
    "duration": 128,
    "start_time": "2022-06-08T10:45:46.518Z"
   },
   {
    "duration": 26,
    "start_time": "2022-06-08T10:45:46.648Z"
   },
   {
    "duration": 33,
    "start_time": "2022-06-08T10:45:46.677Z"
   },
   {
    "duration": 28,
    "start_time": "2022-06-08T10:45:46.712Z"
   },
   {
    "duration": 22,
    "start_time": "2022-06-08T10:45:46.741Z"
   },
   {
    "duration": 34,
    "start_time": "2022-06-08T10:45:46.764Z"
   },
   {
    "duration": 7,
    "start_time": "2022-06-08T10:45:46.800Z"
   },
   {
    "duration": 27,
    "start_time": "2022-06-08T10:45:46.809Z"
   },
   {
    "duration": 21,
    "start_time": "2022-06-08T10:45:46.838Z"
   },
   {
    "duration": 13,
    "start_time": "2022-06-08T10:45:46.861Z"
   },
   {
    "duration": 25,
    "start_time": "2022-06-08T10:45:46.876Z"
   },
   {
    "duration": 10,
    "start_time": "2022-06-08T10:45:46.902Z"
   },
   {
    "duration": 34,
    "start_time": "2022-06-08T10:45:46.914Z"
   },
   {
    "duration": 19,
    "start_time": "2022-06-08T10:45:46.950Z"
   },
   {
    "duration": 39,
    "start_time": "2022-06-08T10:45:46.971Z"
   },
   {
    "duration": 23,
    "start_time": "2022-06-08T10:45:47.013Z"
   },
   {
    "duration": 12,
    "start_time": "2022-06-08T10:45:47.038Z"
   },
   {
    "duration": 13,
    "start_time": "2022-06-08T10:45:47.052Z"
   },
   {
    "duration": 235,
    "start_time": "2022-06-08T10:45:47.066Z"
   },
   {
    "duration": 21,
    "start_time": "2022-06-08T10:45:47.302Z"
   },
   {
    "duration": 214,
    "start_time": "2022-06-08T10:45:47.327Z"
   },
   {
    "duration": 8,
    "start_time": "2022-06-08T10:45:47.543Z"
   },
   {
    "duration": 160,
    "start_time": "2022-06-08T10:45:47.553Z"
   },
   {
    "duration": 6,
    "start_time": "2022-06-08T10:45:47.715Z"
   },
   {
    "duration": 16,
    "start_time": "2022-06-08T10:45:47.723Z"
   },
   {
    "duration": 15,
    "start_time": "2022-06-08T10:45:47.740Z"
   },
   {
    "duration": 66,
    "start_time": "2022-06-08T10:45:47.757Z"
   },
   {
    "duration": 32,
    "start_time": "2022-06-08T10:45:47.825Z"
   },
   {
    "duration": 17,
    "start_time": "2022-06-08T10:45:47.859Z"
   },
   {
    "duration": 28,
    "start_time": "2022-06-08T10:45:47.878Z"
   },
   {
    "duration": 31,
    "start_time": "2022-06-08T10:45:47.907Z"
   },
   {
    "duration": 24,
    "start_time": "2022-06-08T10:45:47.940Z"
   },
   {
    "duration": 28,
    "start_time": "2022-06-08T10:45:47.966Z"
   },
   {
    "duration": 16,
    "start_time": "2022-06-08T10:45:47.996Z"
   },
   {
    "duration": 12,
    "start_time": "2022-06-08T10:45:48.014Z"
   },
   {
    "duration": 21,
    "start_time": "2022-06-08T10:45:48.027Z"
   },
   {
    "duration": 32,
    "start_time": "2022-06-08T10:45:48.049Z"
   },
   {
    "duration": 27,
    "start_time": "2022-06-08T10:45:48.083Z"
   },
   {
    "duration": 23,
    "start_time": "2022-06-08T10:45:48.112Z"
   },
   {
    "duration": 8,
    "start_time": "2022-06-08T10:45:48.136Z"
   },
   {
    "duration": 26,
    "start_time": "2022-06-08T10:45:48.146Z"
   },
   {
    "duration": 74,
    "start_time": "2022-06-08T10:45:48.174Z"
   },
   {
    "duration": 20,
    "start_time": "2022-06-08T10:45:48.250Z"
   },
   {
    "duration": 28,
    "start_time": "2022-06-08T10:45:48.272Z"
   },
   {
    "duration": 119,
    "start_time": "2022-06-08T10:45:48.302Z"
   },
   {
    "duration": 13,
    "start_time": "2022-06-08T10:46:14.895Z"
   },
   {
    "duration": 14,
    "start_time": "2022-06-08T10:48:30.294Z"
   },
   {
    "duration": 12,
    "start_time": "2022-06-08T10:50:06.734Z"
   },
   {
    "duration": 11,
    "start_time": "2022-06-08T10:51:20.960Z"
   },
   {
    "duration": 12,
    "start_time": "2022-06-08T10:51:39.968Z"
   },
   {
    "duration": 14,
    "start_time": "2022-06-08T10:51:57.704Z"
   },
   {
    "duration": 11,
    "start_time": "2022-06-08T10:53:28.173Z"
   },
   {
    "duration": 14,
    "start_time": "2022-06-08T10:53:36.093Z"
   },
   {
    "duration": 12,
    "start_time": "2022-06-08T10:53:44.709Z"
   },
   {
    "duration": 13,
    "start_time": "2022-06-08T10:54:19.877Z"
   },
   {
    "duration": 16,
    "start_time": "2022-06-08T10:54:54.132Z"
   },
   {
    "duration": 14,
    "start_time": "2022-06-08T10:55:24.151Z"
   },
   {
    "duration": 15,
    "start_time": "2022-06-08T10:56:04.310Z"
   },
   {
    "duration": 12,
    "start_time": "2022-06-08T10:59:28.968Z"
   },
   {
    "duration": 17,
    "start_time": "2022-06-08T10:59:40.171Z"
   },
   {
    "duration": 32,
    "start_time": "2022-06-08T11:06:44.140Z"
   },
   {
    "duration": 10,
    "start_time": "2022-06-08T11:20:35.966Z"
   },
   {
    "duration": 488,
    "start_time": "2022-06-08T11:21:14.141Z"
   },
   {
    "duration": 167,
    "start_time": "2022-06-08T11:21:19.103Z"
   },
   {
    "duration": 238,
    "start_time": "2022-06-08T11:21:32.466Z"
   },
   {
    "duration": 152,
    "start_time": "2022-06-08T11:22:31.275Z"
   },
   {
    "duration": 12,
    "start_time": "2022-06-08T11:23:10.704Z"
   },
   {
    "duration": 812,
    "start_time": "2022-06-08T11:23:19.807Z"
   },
   {
    "duration": 1210,
    "start_time": "2022-06-08T11:26:42.016Z"
   },
   {
    "duration": 144,
    "start_time": "2022-06-08T11:31:48.564Z"
   },
   {
    "duration": 176,
    "start_time": "2022-06-08T11:32:11.989Z"
   },
   {
    "duration": 151,
    "start_time": "2022-06-08T11:32:21.077Z"
   },
   {
    "duration": 138,
    "start_time": "2022-06-08T11:32:24.483Z"
   },
   {
    "duration": 159,
    "start_time": "2022-06-08T11:32:52.459Z"
   },
   {
    "duration": 131,
    "start_time": "2022-06-08T11:34:40.082Z"
   },
   {
    "duration": 161,
    "start_time": "2022-06-08T11:34:49.039Z"
   },
   {
    "duration": 130,
    "start_time": "2022-06-08T11:35:14.258Z"
   },
   {
    "duration": 156,
    "start_time": "2022-06-08T11:38:07.513Z"
   },
   {
    "duration": 161,
    "start_time": "2022-06-08T11:38:10.581Z"
   },
   {
    "duration": 134,
    "start_time": "2022-06-08T11:38:57.241Z"
   },
   {
    "duration": 144,
    "start_time": "2022-06-08T11:39:00.036Z"
   },
   {
    "duration": 223,
    "start_time": "2022-06-08T11:39:19.532Z"
   },
   {
    "duration": 149,
    "start_time": "2022-06-08T11:41:13.568Z"
   },
   {
    "duration": 141,
    "start_time": "2022-06-08T11:41:16.316Z"
   },
   {
    "duration": 862,
    "start_time": "2022-06-08T11:41:41.855Z"
   },
   {
    "duration": 171,
    "start_time": "2022-06-08T11:51:30.612Z"
   },
   {
    "duration": 213,
    "start_time": "2022-06-08T11:51:39.204Z"
   },
   {
    "duration": 11,
    "start_time": "2022-06-08T11:56:07.746Z"
   },
   {
    "duration": 10,
    "start_time": "2022-06-08T12:00:04.563Z"
   },
   {
    "duration": 13,
    "start_time": "2022-06-08T12:03:41.865Z"
   },
   {
    "duration": 12,
    "start_time": "2022-06-08T12:07:53.521Z"
   },
   {
    "duration": 10,
    "start_time": "2022-06-08T12:08:35.177Z"
   },
   {
    "duration": 11,
    "start_time": "2022-06-08T12:08:42.967Z"
   },
   {
    "duration": 13,
    "start_time": "2022-06-08T12:08:50.551Z"
   },
   {
    "duration": 17,
    "start_time": "2022-06-08T12:14:43.192Z"
   },
   {
    "duration": 55,
    "start_time": "2022-06-08T12:15:23.728Z"
   },
   {
    "duration": 10,
    "start_time": "2022-06-08T12:15:30.200Z"
   },
   {
    "duration": 9,
    "start_time": "2022-06-08T13:03:03.742Z"
   },
   {
    "duration": 5,
    "start_time": "2022-06-08T13:06:44.278Z"
   },
   {
    "duration": 6,
    "start_time": "2022-06-08T13:10:07.531Z"
   },
   {
    "duration": 14,
    "start_time": "2022-06-08T13:11:35.484Z"
   },
   {
    "duration": 14,
    "start_time": "2022-06-08T13:12:46.805Z"
   },
   {
    "duration": 6,
    "start_time": "2022-06-08T13:16:42.468Z"
   },
   {
    "duration": 5,
    "start_time": "2022-06-08T13:16:45.003Z"
   },
   {
    "duration": 15,
    "start_time": "2022-06-08T13:16:49.188Z"
   },
   {
    "duration": 7,
    "start_time": "2022-06-08T13:19:20.402Z"
   },
   {
    "duration": 5,
    "start_time": "2022-06-08T13:19:52.287Z"
   },
   {
    "duration": 5,
    "start_time": "2022-06-08T13:19:58.730Z"
   },
   {
    "duration": 5,
    "start_time": "2022-06-08T13:23:36.425Z"
   },
   {
    "duration": 5,
    "start_time": "2022-06-08T13:24:15.226Z"
   },
   {
    "duration": 4,
    "start_time": "2022-06-08T13:27:25.642Z"
   },
   {
    "duration": 5,
    "start_time": "2022-06-08T13:28:12.706Z"
   },
   {
    "duration": 5,
    "start_time": "2022-06-08T13:28:17.145Z"
   },
   {
    "duration": 14,
    "start_time": "2022-06-08T13:30:14.889Z"
   },
   {
    "duration": 2636,
    "start_time": "2022-06-09T09:07:54.758Z"
   },
   {
    "duration": 16,
    "start_time": "2022-06-09T09:07:57.396Z"
   },
   {
    "duration": 31,
    "start_time": "2022-06-09T09:07:57.414Z"
   },
   {
    "duration": 14,
    "start_time": "2022-06-09T09:07:57.446Z"
   },
   {
    "duration": 29,
    "start_time": "2022-06-09T09:07:57.462Z"
   },
   {
    "duration": 26,
    "start_time": "2022-06-09T09:07:57.492Z"
   },
   {
    "duration": 22,
    "start_time": "2022-06-09T09:07:57.520Z"
   },
   {
    "duration": 128,
    "start_time": "2022-06-09T09:07:57.543Z"
   },
   {
    "duration": 26,
    "start_time": "2022-06-09T09:07:57.673Z"
   },
   {
    "duration": 24,
    "start_time": "2022-06-09T09:07:57.701Z"
   },
   {
    "duration": 49,
    "start_time": "2022-06-09T09:07:57.726Z"
   },
   {
    "duration": 21,
    "start_time": "2022-06-09T09:07:57.776Z"
   },
   {
    "duration": 20,
    "start_time": "2022-06-09T09:07:57.799Z"
   },
   {
    "duration": 9,
    "start_time": "2022-06-09T09:07:57.822Z"
   },
   {
    "duration": 28,
    "start_time": "2022-06-09T09:07:57.833Z"
   },
   {
    "duration": 23,
    "start_time": "2022-06-09T09:07:57.862Z"
   },
   {
    "duration": 13,
    "start_time": "2022-06-09T09:07:57.887Z"
   },
   {
    "duration": 18,
    "start_time": "2022-06-09T09:07:57.902Z"
   },
   {
    "duration": 11,
    "start_time": "2022-06-09T09:07:57.921Z"
   },
   {
    "duration": 45,
    "start_time": "2022-06-09T09:07:57.934Z"
   },
   {
    "duration": 21,
    "start_time": "2022-06-09T09:07:57.981Z"
   },
   {
    "duration": 16,
    "start_time": "2022-06-09T09:07:58.003Z"
   },
   {
    "duration": 41,
    "start_time": "2022-06-09T09:07:58.020Z"
   },
   {
    "duration": 10,
    "start_time": "2022-06-09T09:07:58.063Z"
   },
   {
    "duration": 13,
    "start_time": "2022-06-09T09:07:58.075Z"
   },
   {
    "duration": 224,
    "start_time": "2022-06-09T09:07:58.089Z"
   },
   {
    "duration": 28,
    "start_time": "2022-06-09T09:07:58.314Z"
   },
   {
    "duration": 223,
    "start_time": "2022-06-09T09:07:58.343Z"
   },
   {
    "duration": 7,
    "start_time": "2022-06-09T09:07:58.568Z"
   },
   {
    "duration": 97,
    "start_time": "2022-06-09T09:07:58.577Z"
   },
   {
    "duration": 7,
    "start_time": "2022-06-09T09:07:58.675Z"
   },
   {
    "duration": 11,
    "start_time": "2022-06-09T09:07:58.683Z"
   },
   {
    "duration": 12,
    "start_time": "2022-06-09T09:07:58.696Z"
   },
   {
    "duration": 92,
    "start_time": "2022-06-09T09:07:58.710Z"
   },
   {
    "duration": 37,
    "start_time": "2022-06-09T09:07:58.804Z"
   },
   {
    "duration": 28,
    "start_time": "2022-06-09T09:07:58.843Z"
   },
   {
    "duration": 14,
    "start_time": "2022-06-09T09:07:58.872Z"
   },
   {
    "duration": 23,
    "start_time": "2022-06-09T09:07:58.888Z"
   },
   {
    "duration": 21,
    "start_time": "2022-06-09T09:07:58.913Z"
   },
   {
    "duration": 35,
    "start_time": "2022-06-09T09:07:58.935Z"
   },
   {
    "duration": 7,
    "start_time": "2022-06-09T09:07:58.974Z"
   },
   {
    "duration": 6,
    "start_time": "2022-06-09T09:07:58.983Z"
   },
   {
    "duration": 13,
    "start_time": "2022-06-09T09:07:58.990Z"
   },
   {
    "duration": 7,
    "start_time": "2022-06-09T09:07:59.004Z"
   },
   {
    "duration": 24,
    "start_time": "2022-06-09T09:07:59.012Z"
   },
   {
    "duration": 25,
    "start_time": "2022-06-09T09:07:59.037Z"
   },
   {
    "duration": 5,
    "start_time": "2022-06-09T09:07:59.064Z"
   },
   {
    "duration": 6,
    "start_time": "2022-06-09T09:07:59.070Z"
   },
   {
    "duration": 56,
    "start_time": "2022-06-09T09:07:59.078Z"
   },
   {
    "duration": 33,
    "start_time": "2022-06-09T09:07:59.136Z"
   },
   {
    "duration": 15,
    "start_time": "2022-06-09T09:07:59.171Z"
   },
   {
    "duration": 16,
    "start_time": "2022-06-09T09:07:59.187Z"
   },
   {
    "duration": 55,
    "start_time": "2022-06-09T09:07:59.204Z"
   },
   {
    "duration": 1191,
    "start_time": "2022-06-09T09:07:59.261Z"
   },
   {
    "duration": 136,
    "start_time": "2022-06-09T09:08:00.457Z"
   },
   {
    "duration": 139,
    "start_time": "2022-06-09T09:08:00.595Z"
   },
   {
    "duration": 156,
    "start_time": "2022-06-09T09:08:00.736Z"
   },
   {
    "duration": 129,
    "start_time": "2022-06-09T09:08:00.894Z"
   },
   {
    "duration": 126,
    "start_time": "2022-06-09T09:08:01.025Z"
   },
   {
    "duration": 147,
    "start_time": "2022-06-09T09:08:01.158Z"
   },
   {
    "duration": 13,
    "start_time": "2022-06-09T09:08:01.306Z"
   },
   {
    "duration": 23,
    "start_time": "2022-06-09T09:08:01.320Z"
   },
   {
    "duration": 19,
    "start_time": "2022-06-09T09:08:01.344Z"
   },
   {
    "duration": 26,
    "start_time": "2022-06-09T09:08:01.365Z"
   },
   {
    "duration": 27,
    "start_time": "2022-06-09T09:08:01.393Z"
   },
   {
    "duration": 44,
    "start_time": "2022-06-09T09:08:01.422Z"
   },
   {
    "duration": 69,
    "start_time": "2022-06-09T09:08:01.468Z"
   },
   {
    "duration": 90,
    "start_time": "2022-06-09T09:08:01.539Z"
   },
   {
    "duration": 45,
    "start_time": "2022-06-09T09:08:01.631Z"
   },
   {
    "duration": 41,
    "start_time": "2022-06-09T09:08:01.678Z"
   },
   {
    "duration": 1523,
    "start_time": "2022-06-09T09:08:23.183Z"
   },
   {
    "duration": 15,
    "start_time": "2022-06-09T09:08:24.708Z"
   },
   {
    "duration": 15,
    "start_time": "2022-06-09T09:08:24.725Z"
   },
   {
    "duration": 10,
    "start_time": "2022-06-09T09:08:24.741Z"
   },
   {
    "duration": 11,
    "start_time": "2022-06-09T09:08:24.759Z"
   },
   {
    "duration": 15,
    "start_time": "2022-06-09T09:08:24.771Z"
   },
   {
    "duration": 14,
    "start_time": "2022-06-09T09:08:24.787Z"
   },
   {
    "duration": 117,
    "start_time": "2022-06-09T09:08:24.803Z"
   },
   {
    "duration": 35,
    "start_time": "2022-06-09T09:08:24.922Z"
   },
   {
    "duration": 26,
    "start_time": "2022-06-09T09:08:24.959Z"
   },
   {
    "duration": 33,
    "start_time": "2022-06-09T09:08:24.986Z"
   },
   {
    "duration": 42,
    "start_time": "2022-06-09T09:08:25.020Z"
   },
   {
    "duration": 17,
    "start_time": "2022-06-09T09:08:25.063Z"
   },
   {
    "duration": 7,
    "start_time": "2022-06-09T09:08:25.083Z"
   },
   {
    "duration": 25,
    "start_time": "2022-06-09T09:08:25.092Z"
   },
   {
    "duration": 19,
    "start_time": "2022-06-09T09:08:25.118Z"
   },
   {
    "duration": 32,
    "start_time": "2022-06-09T09:08:25.139Z"
   },
   {
    "duration": 13,
    "start_time": "2022-06-09T09:08:25.173Z"
   },
   {
    "duration": 10,
    "start_time": "2022-06-09T09:08:25.188Z"
   },
   {
    "duration": 29,
    "start_time": "2022-06-09T09:08:25.200Z"
   },
   {
    "duration": 45,
    "start_time": "2022-06-09T09:08:25.231Z"
   },
   {
    "duration": 18,
    "start_time": "2022-06-09T09:08:25.277Z"
   },
   {
    "duration": 27,
    "start_time": "2022-06-09T09:08:25.296Z"
   },
   {
    "duration": 34,
    "start_time": "2022-06-09T09:08:25.324Z"
   },
   {
    "duration": 12,
    "start_time": "2022-06-09T09:08:25.360Z"
   },
   {
    "duration": 225,
    "start_time": "2022-06-09T09:08:25.373Z"
   },
   {
    "duration": 22,
    "start_time": "2022-06-09T09:08:25.599Z"
   },
   {
    "duration": 224,
    "start_time": "2022-06-09T09:08:25.622Z"
   },
   {
    "duration": 13,
    "start_time": "2022-06-09T09:08:25.847Z"
   },
   {
    "duration": 87,
    "start_time": "2022-06-09T09:08:25.862Z"
   },
   {
    "duration": 12,
    "start_time": "2022-06-09T09:08:25.950Z"
   },
   {
    "duration": 11,
    "start_time": "2022-06-09T09:08:25.964Z"
   },
   {
    "duration": 8,
    "start_time": "2022-06-09T09:08:25.976Z"
   },
   {
    "duration": 101,
    "start_time": "2022-06-09T09:08:25.985Z"
   },
   {
    "duration": 33,
    "start_time": "2022-06-09T09:08:26.087Z"
   },
   {
    "duration": 15,
    "start_time": "2022-06-09T09:08:26.121Z"
   },
   {
    "duration": 27,
    "start_time": "2022-06-09T09:08:26.138Z"
   },
   {
    "duration": 23,
    "start_time": "2022-06-09T09:08:26.167Z"
   },
   {
    "duration": 24,
    "start_time": "2022-06-09T09:08:26.192Z"
   },
   {
    "duration": 15,
    "start_time": "2022-06-09T09:08:26.218Z"
   },
   {
    "duration": 12,
    "start_time": "2022-06-09T09:08:26.262Z"
   },
   {
    "duration": 10,
    "start_time": "2022-06-09T09:08:26.275Z"
   },
   {
    "duration": 15,
    "start_time": "2022-06-09T09:08:26.287Z"
   },
   {
    "duration": 5,
    "start_time": "2022-06-09T09:08:26.304Z"
   },
   {
    "duration": 21,
    "start_time": "2022-06-09T09:08:26.311Z"
   },
   {
    "duration": 29,
    "start_time": "2022-06-09T09:08:26.334Z"
   },
   {
    "duration": 3,
    "start_time": "2022-06-09T09:08:26.365Z"
   },
   {
    "duration": 12,
    "start_time": "2022-06-09T09:08:26.370Z"
   },
   {
    "duration": 58,
    "start_time": "2022-06-09T09:08:26.384Z"
   },
   {
    "duration": 39,
    "start_time": "2022-06-09T09:08:26.443Z"
   },
   {
    "duration": 15,
    "start_time": "2022-06-09T09:08:26.483Z"
   },
   {
    "duration": 35,
    "start_time": "2022-06-09T09:08:26.500Z"
   },
   {
    "duration": 39,
    "start_time": "2022-06-09T09:08:26.536Z"
   },
   {
    "duration": 1083,
    "start_time": "2022-06-09T09:08:26.576Z"
   },
   {
    "duration": 141,
    "start_time": "2022-06-09T09:08:27.661Z"
   },
   {
    "duration": 137,
    "start_time": "2022-06-09T09:08:27.803Z"
   },
   {
    "duration": 154,
    "start_time": "2022-06-09T09:08:27.941Z"
   },
   {
    "duration": 164,
    "start_time": "2022-06-09T09:08:28.096Z"
   },
   {
    "duration": 141,
    "start_time": "2022-06-09T09:08:28.262Z"
   },
   {
    "duration": 155,
    "start_time": "2022-06-09T09:08:28.405Z"
   },
   {
    "duration": 13,
    "start_time": "2022-06-09T09:08:28.562Z"
   },
   {
    "duration": 16,
    "start_time": "2022-06-09T09:08:28.577Z"
   },
   {
    "duration": 14,
    "start_time": "2022-06-09T09:08:28.595Z"
   },
   {
    "duration": 8,
    "start_time": "2022-06-09T09:08:28.610Z"
   },
   {
    "duration": 8,
    "start_time": "2022-06-09T09:08:28.619Z"
   },
   {
    "duration": 37,
    "start_time": "2022-06-09T09:08:28.628Z"
   },
   {
    "duration": 9,
    "start_time": "2022-06-09T09:08:28.667Z"
   },
   {
    "duration": 10,
    "start_time": "2022-06-09T09:08:28.678Z"
   },
   {
    "duration": 8,
    "start_time": "2022-06-09T09:08:28.689Z"
   },
   {
    "duration": 19,
    "start_time": "2022-06-09T09:08:28.699Z"
   },
   {
    "duration": 4,
    "start_time": "2022-06-09T09:13:56.966Z"
   },
   {
    "duration": 16,
    "start_time": "2022-06-09T09:14:06.042Z"
   },
   {
    "duration": 13,
    "start_time": "2022-06-09T09:14:14.551Z"
   },
   {
    "duration": 30,
    "start_time": "2022-06-09T09:14:17.635Z"
   },
   {
    "duration": 31,
    "start_time": "2022-06-09T09:14:46.603Z"
   },
   {
    "duration": 1544,
    "start_time": "2022-06-09T09:16:07.566Z"
   },
   {
    "duration": 16,
    "start_time": "2022-06-09T09:16:09.112Z"
   },
   {
    "duration": 20,
    "start_time": "2022-06-09T09:16:09.130Z"
   },
   {
    "duration": 18,
    "start_time": "2022-06-09T09:16:09.152Z"
   },
   {
    "duration": 30,
    "start_time": "2022-06-09T09:16:09.171Z"
   },
   {
    "duration": 18,
    "start_time": "2022-06-09T09:16:09.202Z"
   },
   {
    "duration": 14,
    "start_time": "2022-06-09T09:16:09.222Z"
   },
   {
    "duration": 113,
    "start_time": "2022-06-09T09:16:09.238Z"
   },
   {
    "duration": 27,
    "start_time": "2022-06-09T09:16:09.353Z"
   },
   {
    "duration": 25,
    "start_time": "2022-06-09T09:16:09.514Z"
   },
   {
    "duration": 30,
    "start_time": "2022-06-09T09:16:09.695Z"
   },
   {
    "duration": 22,
    "start_time": "2022-06-09T09:16:09.890Z"
   },
   {
    "duration": 10,
    "start_time": "2022-06-09T09:16:10.073Z"
   },
   {
    "duration": 7,
    "start_time": "2022-06-09T09:16:10.615Z"
   },
   {
    "duration": 19,
    "start_time": "2022-06-09T09:16:10.791Z"
   },
   {
    "duration": 20,
    "start_time": "2022-06-09T09:16:11.141Z"
   },
   {
    "duration": 20,
    "start_time": "2022-06-09T09:16:11.329Z"
   },
   {
    "duration": 10,
    "start_time": "2022-06-09T09:16:11.509Z"
   },
   {
    "duration": 11,
    "start_time": "2022-06-09T09:16:11.859Z"
   },
   {
    "duration": 28,
    "start_time": "2022-06-09T09:16:12.034Z"
   },
   {
    "duration": 22,
    "start_time": "2022-06-09T09:16:12.217Z"
   },
   {
    "duration": 17,
    "start_time": "2022-06-09T09:16:12.572Z"
   },
   {
    "duration": 23,
    "start_time": "2022-06-09T09:16:13.349Z"
   },
   {
    "duration": 11,
    "start_time": "2022-06-09T09:16:13.554Z"
   },
   {
    "duration": 11,
    "start_time": "2022-06-09T09:16:14.271Z"
   },
   {
    "duration": 217,
    "start_time": "2022-06-09T09:16:16.222Z"
   },
   {
    "duration": 28,
    "start_time": "2022-06-09T09:16:16.440Z"
   },
   {
    "duration": 221,
    "start_time": "2022-06-09T09:16:16.744Z"
   },
   {
    "duration": 8,
    "start_time": "2022-06-09T09:16:17.104Z"
   },
   {
    "duration": 84,
    "start_time": "2022-06-09T09:16:17.813Z"
   },
   {
    "duration": 7,
    "start_time": "2022-06-09T09:16:18.189Z"
   },
   {
    "duration": 9,
    "start_time": "2022-06-09T09:16:18.380Z"
   },
   {
    "duration": 5,
    "start_time": "2022-06-09T09:16:18.559Z"
   },
   {
    "duration": 55,
    "start_time": "2022-06-09T09:16:18.761Z"
   },
   {
    "duration": 34,
    "start_time": "2022-06-09T09:16:18.919Z"
   },
   {
    "duration": 17,
    "start_time": "2022-06-09T09:16:19.114Z"
   },
   {
    "duration": 15,
    "start_time": "2022-06-09T09:16:19.293Z"
   },
   {
    "duration": 24,
    "start_time": "2022-06-09T09:16:20.006Z"
   },
   {
    "duration": 18,
    "start_time": "2022-06-09T09:16:28.089Z"
   },
   {
    "duration": 1575,
    "start_time": "2022-06-09T09:17:10.143Z"
   },
   {
    "duration": 15,
    "start_time": "2022-06-09T09:17:11.720Z"
   },
   {
    "duration": 15,
    "start_time": "2022-06-09T09:17:11.737Z"
   },
   {
    "duration": 11,
    "start_time": "2022-06-09T09:17:11.754Z"
   },
   {
    "duration": 43,
    "start_time": "2022-06-09T09:17:11.767Z"
   },
   {
    "duration": 21,
    "start_time": "2022-06-09T09:17:11.812Z"
   },
   {
    "duration": 35,
    "start_time": "2022-06-09T09:17:11.836Z"
   },
   {
    "duration": 154,
    "start_time": "2022-06-09T09:17:11.873Z"
   },
   {
    "duration": 42,
    "start_time": "2022-06-09T09:17:12.029Z"
   },
   {
    "duration": 28,
    "start_time": "2022-06-09T09:17:12.073Z"
   },
   {
    "duration": 30,
    "start_time": "2022-06-09T09:17:12.103Z"
   },
   {
    "duration": 38,
    "start_time": "2022-06-09T09:17:12.135Z"
   },
   {
    "duration": 19,
    "start_time": "2022-06-09T09:17:12.175Z"
   },
   {
    "duration": 8,
    "start_time": "2022-06-09T09:17:12.197Z"
   },
   {
    "duration": 26,
    "start_time": "2022-06-09T09:17:12.207Z"
   },
   {
    "duration": 32,
    "start_time": "2022-06-09T09:17:12.235Z"
   },
   {
    "duration": 14,
    "start_time": "2022-06-09T09:17:12.269Z"
   },
   {
    "duration": 17,
    "start_time": "2022-06-09T09:17:12.285Z"
   },
   {
    "duration": 9,
    "start_time": "2022-06-09T09:17:12.304Z"
   },
   {
    "duration": 47,
    "start_time": "2022-06-09T09:17:12.315Z"
   },
   {
    "duration": 21,
    "start_time": "2022-06-09T09:17:12.363Z"
   },
   {
    "duration": 16,
    "start_time": "2022-06-09T09:17:12.386Z"
   },
   {
    "duration": 28,
    "start_time": "2022-06-09T09:17:12.403Z"
   },
   {
    "duration": 28,
    "start_time": "2022-06-09T09:17:12.432Z"
   },
   {
    "duration": 11,
    "start_time": "2022-06-09T09:17:12.462Z"
   },
   {
    "duration": 224,
    "start_time": "2022-06-09T09:17:12.474Z"
   },
   {
    "duration": 21,
    "start_time": "2022-06-09T09:17:12.700Z"
   },
   {
    "duration": 235,
    "start_time": "2022-06-09T09:17:12.723Z"
   },
   {
    "duration": 8,
    "start_time": "2022-06-09T09:17:12.960Z"
   },
   {
    "duration": 101,
    "start_time": "2022-06-09T09:17:12.970Z"
   },
   {
    "duration": 7,
    "start_time": "2022-06-09T09:17:13.073Z"
   },
   {
    "duration": 23,
    "start_time": "2022-06-09T09:17:13.082Z"
   },
   {
    "duration": 19,
    "start_time": "2022-06-09T09:17:13.107Z"
   },
   {
    "duration": 79,
    "start_time": "2022-06-09T09:17:13.127Z"
   },
   {
    "duration": 35,
    "start_time": "2022-06-09T09:17:13.207Z"
   },
   {
    "duration": 22,
    "start_time": "2022-06-09T09:17:13.243Z"
   },
   {
    "duration": 20,
    "start_time": "2022-06-09T09:17:13.267Z"
   },
   {
    "duration": 25,
    "start_time": "2022-06-09T09:17:13.289Z"
   },
   {
    "duration": 16,
    "start_time": "2022-06-09T09:17:13.316Z"
   },
   {
    "duration": 31,
    "start_time": "2022-06-09T09:17:13.334Z"
   },
   {
    "duration": 14,
    "start_time": "2022-06-09T09:17:13.369Z"
   },
   {
    "duration": 16,
    "start_time": "2022-06-09T09:17:13.385Z"
   },
   {
    "duration": 21,
    "start_time": "2022-06-09T09:17:13.403Z"
   },
   {
    "duration": 23,
    "start_time": "2022-06-09T09:17:13.426Z"
   },
   {
    "duration": 148,
    "start_time": "2022-06-09T09:17:13.450Z"
   },
   {
    "duration": 0,
    "start_time": "2022-06-09T09:17:13.600Z"
   },
   {
    "duration": 0,
    "start_time": "2022-06-09T09:17:13.601Z"
   },
   {
    "duration": 0,
    "start_time": "2022-06-09T09:17:13.602Z"
   },
   {
    "duration": 0,
    "start_time": "2022-06-09T09:17:13.603Z"
   },
   {
    "duration": 0,
    "start_time": "2022-06-09T09:17:13.604Z"
   },
   {
    "duration": 0,
    "start_time": "2022-06-09T09:17:13.605Z"
   },
   {
    "duration": 0,
    "start_time": "2022-06-09T09:17:13.606Z"
   },
   {
    "duration": 0,
    "start_time": "2022-06-09T09:17:13.607Z"
   },
   {
    "duration": 0,
    "start_time": "2022-06-09T09:17:13.608Z"
   },
   {
    "duration": 0,
    "start_time": "2022-06-09T09:17:13.609Z"
   },
   {
    "duration": 0,
    "start_time": "2022-06-09T09:17:13.610Z"
   },
   {
    "duration": 0,
    "start_time": "2022-06-09T09:17:13.611Z"
   },
   {
    "duration": 0,
    "start_time": "2022-06-09T09:17:13.613Z"
   },
   {
    "duration": 0,
    "start_time": "2022-06-09T09:17:13.614Z"
   },
   {
    "duration": 0,
    "start_time": "2022-06-09T09:17:13.615Z"
   },
   {
    "duration": 0,
    "start_time": "2022-06-09T09:17:13.616Z"
   },
   {
    "duration": 0,
    "start_time": "2022-06-09T09:17:13.617Z"
   },
   {
    "duration": 0,
    "start_time": "2022-06-09T09:17:13.618Z"
   },
   {
    "duration": 0,
    "start_time": "2022-06-09T09:17:13.619Z"
   },
   {
    "duration": 0,
    "start_time": "2022-06-09T09:17:13.620Z"
   },
   {
    "duration": 0,
    "start_time": "2022-06-09T09:17:13.621Z"
   },
   {
    "duration": 0,
    "start_time": "2022-06-09T09:17:13.622Z"
   },
   {
    "duration": 0,
    "start_time": "2022-06-09T09:17:13.623Z"
   },
   {
    "duration": 0,
    "start_time": "2022-06-09T09:17:13.624Z"
   },
   {
    "duration": 0,
    "start_time": "2022-06-09T09:17:13.659Z"
   },
   {
    "duration": 1500,
    "start_time": "2022-06-09T09:17:46.290Z"
   },
   {
    "duration": 14,
    "start_time": "2022-06-09T09:17:47.792Z"
   },
   {
    "duration": 18,
    "start_time": "2022-06-09T09:17:47.808Z"
   },
   {
    "duration": 10,
    "start_time": "2022-06-09T09:17:47.828Z"
   },
   {
    "duration": 16,
    "start_time": "2022-06-09T09:17:47.839Z"
   },
   {
    "duration": 15,
    "start_time": "2022-06-09T09:17:47.856Z"
   },
   {
    "duration": 12,
    "start_time": "2022-06-09T09:17:47.873Z"
   },
   {
    "duration": 116,
    "start_time": "2022-06-09T09:17:47.887Z"
   },
   {
    "duration": 31,
    "start_time": "2022-06-09T09:17:48.005Z"
   },
   {
    "duration": 40,
    "start_time": "2022-06-09T09:17:48.039Z"
   },
   {
    "duration": 30,
    "start_time": "2022-06-09T09:17:48.081Z"
   },
   {
    "duration": 46,
    "start_time": "2022-06-09T09:17:48.113Z"
   },
   {
    "duration": 14,
    "start_time": "2022-06-09T09:17:48.161Z"
   },
   {
    "duration": 8,
    "start_time": "2022-06-09T09:17:48.176Z"
   },
   {
    "duration": 20,
    "start_time": "2022-06-09T09:17:48.186Z"
   },
   {
    "duration": 61,
    "start_time": "2022-06-09T09:17:48.208Z"
   },
   {
    "duration": 25,
    "start_time": "2022-06-09T09:17:48.271Z"
   },
   {
    "duration": 25,
    "start_time": "2022-06-09T09:17:48.298Z"
   },
   {
    "duration": 14,
    "start_time": "2022-06-09T09:17:48.325Z"
   },
   {
    "duration": 51,
    "start_time": "2022-06-09T09:17:48.341Z"
   },
   {
    "duration": 23,
    "start_time": "2022-06-09T09:17:48.394Z"
   },
   {
    "duration": 18,
    "start_time": "2022-06-09T09:17:48.419Z"
   },
   {
    "duration": 41,
    "start_time": "2022-06-09T09:17:48.439Z"
   },
   {
    "duration": 12,
    "start_time": "2022-06-09T09:17:48.482Z"
   },
   {
    "duration": 11,
    "start_time": "2022-06-09T09:17:48.497Z"
   },
   {
    "duration": 263,
    "start_time": "2022-06-09T09:17:48.510Z"
   },
   {
    "duration": 21,
    "start_time": "2022-06-09T09:17:48.775Z"
   },
   {
    "duration": 218,
    "start_time": "2022-06-09T09:17:48.801Z"
   },
   {
    "duration": 10,
    "start_time": "2022-06-09T09:17:49.021Z"
   },
   {
    "duration": 95,
    "start_time": "2022-06-09T09:17:49.033Z"
   },
   {
    "duration": 8,
    "start_time": "2022-06-09T09:17:49.130Z"
   },
   {
    "duration": 29,
    "start_time": "2022-06-09T09:17:49.139Z"
   },
   {
    "duration": 9,
    "start_time": "2022-06-09T09:17:49.169Z"
   },
   {
    "duration": 85,
    "start_time": "2022-06-09T09:17:49.180Z"
   },
   {
    "duration": 31,
    "start_time": "2022-06-09T09:17:49.267Z"
   },
   {
    "duration": 16,
    "start_time": "2022-06-09T09:17:49.300Z"
   },
   {
    "duration": 13,
    "start_time": "2022-06-09T09:17:49.318Z"
   },
   {
    "duration": 42,
    "start_time": "2022-06-09T09:17:49.333Z"
   },
   {
    "duration": 10,
    "start_time": "2022-06-09T09:17:49.377Z"
   },
   {
    "duration": 21,
    "start_time": "2022-06-09T09:17:49.389Z"
   },
   {
    "duration": 26,
    "start_time": "2022-06-09T09:17:49.412Z"
   },
   {
    "duration": 29,
    "start_time": "2022-06-09T09:17:49.439Z"
   },
   {
    "duration": 8,
    "start_time": "2022-06-09T09:17:49.470Z"
   },
   {
    "duration": 107,
    "start_time": "2022-06-09T09:17:49.479Z"
   },
   {
    "duration": 0,
    "start_time": "2022-06-09T09:17:49.588Z"
   },
   {
    "duration": 0,
    "start_time": "2022-06-09T09:17:49.589Z"
   },
   {
    "duration": 1,
    "start_time": "2022-06-09T09:17:49.590Z"
   },
   {
    "duration": 0,
    "start_time": "2022-06-09T09:17:49.592Z"
   },
   {
    "duration": 0,
    "start_time": "2022-06-09T09:17:49.593Z"
   },
   {
    "duration": 0,
    "start_time": "2022-06-09T09:17:49.595Z"
   },
   {
    "duration": 0,
    "start_time": "2022-06-09T09:17:49.596Z"
   },
   {
    "duration": 0,
    "start_time": "2022-06-09T09:17:49.597Z"
   },
   {
    "duration": 0,
    "start_time": "2022-06-09T09:17:49.598Z"
   },
   {
    "duration": 0,
    "start_time": "2022-06-09T09:17:49.600Z"
   },
   {
    "duration": 0,
    "start_time": "2022-06-09T09:17:49.602Z"
   },
   {
    "duration": 0,
    "start_time": "2022-06-09T09:17:49.603Z"
   },
   {
    "duration": 0,
    "start_time": "2022-06-09T09:17:49.604Z"
   },
   {
    "duration": 0,
    "start_time": "2022-06-09T09:17:49.605Z"
   },
   {
    "duration": 0,
    "start_time": "2022-06-09T09:17:49.607Z"
   },
   {
    "duration": 0,
    "start_time": "2022-06-09T09:17:49.608Z"
   },
   {
    "duration": 0,
    "start_time": "2022-06-09T09:17:49.609Z"
   },
   {
    "duration": 0,
    "start_time": "2022-06-09T09:17:49.611Z"
   },
   {
    "duration": 0,
    "start_time": "2022-06-09T09:17:49.612Z"
   },
   {
    "duration": 0,
    "start_time": "2022-06-09T09:17:49.613Z"
   },
   {
    "duration": 1,
    "start_time": "2022-06-09T09:17:49.658Z"
   },
   {
    "duration": 0,
    "start_time": "2022-06-09T09:17:49.660Z"
   },
   {
    "duration": 0,
    "start_time": "2022-06-09T09:17:49.661Z"
   },
   {
    "duration": 0,
    "start_time": "2022-06-09T09:17:49.663Z"
   },
   {
    "duration": 0,
    "start_time": "2022-06-09T09:17:49.664Z"
   },
   {
    "duration": 7,
    "start_time": "2022-06-09T09:18:20.688Z"
   },
   {
    "duration": 4,
    "start_time": "2022-06-09T09:18:21.700Z"
   },
   {
    "duration": 6,
    "start_time": "2022-06-09T09:18:22.227Z"
   },
   {
    "duration": 8,
    "start_time": "2022-06-09T09:18:33.111Z"
   },
   {
    "duration": 17,
    "start_time": "2022-06-09T09:18:37.657Z"
   },
   {
    "duration": 1577,
    "start_time": "2022-06-09T09:19:03.727Z"
   },
   {
    "duration": 17,
    "start_time": "2022-06-09T09:19:05.306Z"
   },
   {
    "duration": 17,
    "start_time": "2022-06-09T09:19:05.325Z"
   },
   {
    "duration": 16,
    "start_time": "2022-06-09T09:19:05.345Z"
   },
   {
    "duration": 16,
    "start_time": "2022-06-09T09:19:05.363Z"
   },
   {
    "duration": 27,
    "start_time": "2022-06-09T09:19:05.380Z"
   },
   {
    "duration": 20,
    "start_time": "2022-06-09T09:19:05.409Z"
   },
   {
    "duration": 109,
    "start_time": "2022-06-09T09:19:05.431Z"
   },
   {
    "duration": 27,
    "start_time": "2022-06-09T09:19:05.542Z"
   },
   {
    "duration": 25,
    "start_time": "2022-06-09T09:19:05.572Z"
   },
   {
    "duration": 31,
    "start_time": "2022-06-09T09:19:05.599Z"
   },
   {
    "duration": 46,
    "start_time": "2022-06-09T09:19:05.632Z"
   },
   {
    "duration": 18,
    "start_time": "2022-06-09T09:19:05.679Z"
   },
   {
    "duration": 7,
    "start_time": "2022-06-09T09:19:05.699Z"
   },
   {
    "duration": 24,
    "start_time": "2022-06-09T09:19:05.707Z"
   },
   {
    "duration": 28,
    "start_time": "2022-06-09T09:19:05.733Z"
   },
   {
    "duration": 16,
    "start_time": "2022-06-09T09:19:05.762Z"
   },
   {
    "duration": 16,
    "start_time": "2022-06-09T09:19:05.779Z"
   },
   {
    "duration": 10,
    "start_time": "2022-06-09T09:19:05.797Z"
   },
   {
    "duration": 35,
    "start_time": "2022-06-09T09:19:05.808Z"
   },
   {
    "duration": 30,
    "start_time": "2022-06-09T09:19:05.857Z"
   },
   {
    "duration": 18,
    "start_time": "2022-06-09T09:19:05.889Z"
   },
   {
    "duration": 25,
    "start_time": "2022-06-09T09:19:05.909Z"
   },
   {
    "duration": 12,
    "start_time": "2022-06-09T09:19:05.958Z"
   },
   {
    "duration": 12,
    "start_time": "2022-06-09T09:19:05.972Z"
   },
   {
    "duration": 253,
    "start_time": "2022-06-09T09:19:05.986Z"
   },
   {
    "duration": 30,
    "start_time": "2022-06-09T09:19:06.241Z"
   },
   {
    "duration": 232,
    "start_time": "2022-06-09T09:19:06.278Z"
   },
   {
    "duration": 8,
    "start_time": "2022-06-09T09:19:06.511Z"
   },
   {
    "duration": 94,
    "start_time": "2022-06-09T09:19:06.521Z"
   },
   {
    "duration": 9,
    "start_time": "2022-06-09T09:19:06.616Z"
   },
   {
    "duration": 16,
    "start_time": "2022-06-09T09:19:06.626Z"
   },
   {
    "duration": 19,
    "start_time": "2022-06-09T09:19:06.644Z"
   },
   {
    "duration": 82,
    "start_time": "2022-06-09T09:19:06.664Z"
   },
   {
    "duration": 38,
    "start_time": "2022-06-09T09:19:06.748Z"
   },
   {
    "duration": 18,
    "start_time": "2022-06-09T09:19:06.787Z"
   },
   {
    "duration": 15,
    "start_time": "2022-06-09T09:19:06.807Z"
   },
   {
    "duration": 55,
    "start_time": "2022-06-09T09:19:06.824Z"
   },
   {
    "duration": 23,
    "start_time": "2022-06-09T09:19:06.880Z"
   },
   {
    "duration": 14,
    "start_time": "2022-06-09T09:19:06.905Z"
   },
   {
    "duration": 11,
    "start_time": "2022-06-09T09:19:06.920Z"
   },
   {
    "duration": 27,
    "start_time": "2022-06-09T09:19:06.933Z"
   },
   {
    "duration": 13,
    "start_time": "2022-06-09T09:19:06.962Z"
   },
   {
    "duration": 7,
    "start_time": "2022-06-09T09:19:06.977Z"
   },
   {
    "duration": 25,
    "start_time": "2022-06-09T09:19:06.986Z"
   },
   {
    "duration": 21,
    "start_time": "2022-06-09T09:19:07.013Z"
   },
   {
    "duration": 25,
    "start_time": "2022-06-09T09:19:07.035Z"
   },
   {
    "duration": 6,
    "start_time": "2022-06-09T09:19:07.062Z"
   },
   {
    "duration": 10,
    "start_time": "2022-06-09T09:19:07.070Z"
   },
   {
    "duration": 60,
    "start_time": "2022-06-09T09:19:07.081Z"
   },
   {
    "duration": 36,
    "start_time": "2022-06-09T09:19:07.143Z"
   },
   {
    "duration": 15,
    "start_time": "2022-06-09T09:19:07.181Z"
   },
   {
    "duration": 16,
    "start_time": "2022-06-09T09:19:07.198Z"
   },
   {
    "duration": 55,
    "start_time": "2022-06-09T09:19:07.216Z"
   },
   {
    "duration": 1353,
    "start_time": "2022-06-09T09:19:07.273Z"
   },
   {
    "duration": 149,
    "start_time": "2022-06-09T09:19:08.628Z"
   },
   {
    "duration": 153,
    "start_time": "2022-06-09T09:19:08.778Z"
   },
   {
    "duration": 163,
    "start_time": "2022-06-09T09:19:08.933Z"
   },
   {
    "duration": 149,
    "start_time": "2022-06-09T09:19:09.098Z"
   },
   {
    "duration": 143,
    "start_time": "2022-06-09T09:19:09.249Z"
   },
   {
    "duration": 180,
    "start_time": "2022-06-09T09:19:09.394Z"
   },
   {
    "duration": 13,
    "start_time": "2022-06-09T09:19:09.576Z"
   },
   {
    "duration": 15,
    "start_time": "2022-06-09T09:19:09.591Z"
   },
   {
    "duration": 11,
    "start_time": "2022-06-09T09:19:09.608Z"
   },
   {
    "duration": 6,
    "start_time": "2022-06-09T09:19:09.621Z"
   },
   {
    "duration": 31,
    "start_time": "2022-06-09T09:19:09.629Z"
   },
   {
    "duration": 81,
    "start_time": "2022-06-09T09:19:09.662Z"
   },
   {
    "duration": 15,
    "start_time": "2022-06-09T09:19:09.745Z"
   },
   {
    "duration": 15,
    "start_time": "2022-06-09T09:19:09.761Z"
   },
   {
    "duration": 9,
    "start_time": "2022-06-09T09:19:09.777Z"
   },
   {
    "duration": 22,
    "start_time": "2022-06-09T09:19:09.788Z"
   },
   {
    "duration": 33,
    "start_time": "2022-06-09T09:20:36.596Z"
   },
   {
    "duration": 51,
    "start_time": "2022-06-09T16:16:45.209Z"
   },
   {
    "duration": 2562,
    "start_time": "2022-06-09T16:17:18.520Z"
   },
   {
    "duration": 16,
    "start_time": "2022-06-09T16:17:21.084Z"
   },
   {
    "duration": 20,
    "start_time": "2022-06-09T16:17:21.102Z"
   },
   {
    "duration": 18,
    "start_time": "2022-06-09T16:17:21.124Z"
   },
   {
    "duration": 16,
    "start_time": "2022-06-09T16:17:21.145Z"
   },
   {
    "duration": 16,
    "start_time": "2022-06-09T16:17:21.163Z"
   },
   {
    "duration": 16,
    "start_time": "2022-06-09T16:17:21.180Z"
   },
   {
    "duration": 110,
    "start_time": "2022-06-09T16:17:21.198Z"
   },
   {
    "duration": 27,
    "start_time": "2022-06-09T16:17:21.310Z"
   },
   {
    "duration": 43,
    "start_time": "2022-06-09T16:17:21.338Z"
   },
   {
    "duration": 31,
    "start_time": "2022-06-09T16:17:21.383Z"
   },
   {
    "duration": 22,
    "start_time": "2022-06-09T16:17:21.416Z"
   },
   {
    "duration": 13,
    "start_time": "2022-06-09T16:17:21.459Z"
   },
   {
    "duration": 39,
    "start_time": "2022-06-09T16:17:21.475Z"
   },
   {
    "duration": 40,
    "start_time": "2022-06-09T16:17:21.515Z"
   },
   {
    "duration": 29,
    "start_time": "2022-06-09T16:17:21.557Z"
   },
   {
    "duration": 16,
    "start_time": "2022-06-09T16:17:21.588Z"
   },
   {
    "duration": 41,
    "start_time": "2022-06-09T16:17:21.606Z"
   },
   {
    "duration": 31,
    "start_time": "2022-06-09T16:17:21.649Z"
   },
   {
    "duration": 52,
    "start_time": "2022-06-09T16:17:21.682Z"
   },
   {
    "duration": 21,
    "start_time": "2022-06-09T16:17:21.736Z"
   },
   {
    "duration": 23,
    "start_time": "2022-06-09T16:17:21.759Z"
   },
   {
    "duration": 36,
    "start_time": "2022-06-09T16:17:21.784Z"
   },
   {
    "duration": 21,
    "start_time": "2022-06-09T16:17:21.822Z"
   },
   {
    "duration": 39,
    "start_time": "2022-06-09T16:17:21.845Z"
   },
   {
    "duration": 260,
    "start_time": "2022-06-09T16:17:21.887Z"
   },
   {
    "duration": 29,
    "start_time": "2022-06-09T16:17:22.148Z"
   },
   {
    "duration": 229,
    "start_time": "2022-06-09T16:17:22.179Z"
   },
   {
    "duration": 8,
    "start_time": "2022-06-09T16:17:22.410Z"
   },
   {
    "duration": 100,
    "start_time": "2022-06-09T16:17:22.419Z"
   },
   {
    "duration": 7,
    "start_time": "2022-06-09T16:17:22.521Z"
   },
   {
    "duration": 29,
    "start_time": "2022-06-09T16:17:22.529Z"
   },
   {
    "duration": 32,
    "start_time": "2022-06-09T16:17:22.560Z"
   },
   {
    "duration": 89,
    "start_time": "2022-06-09T16:17:22.594Z"
   },
   {
    "duration": 35,
    "start_time": "2022-06-09T16:17:22.685Z"
   },
   {
    "duration": 21,
    "start_time": "2022-06-09T16:17:22.722Z"
   },
   {
    "duration": 25,
    "start_time": "2022-06-09T16:17:22.745Z"
   },
   {
    "duration": 39,
    "start_time": "2022-06-09T16:17:22.772Z"
   },
   {
    "duration": 31,
    "start_time": "2022-06-09T16:17:22.813Z"
   },
   {
    "duration": 25,
    "start_time": "2022-06-09T16:17:22.846Z"
   },
   {
    "duration": 17,
    "start_time": "2022-06-09T16:17:22.878Z"
   },
   {
    "duration": 20,
    "start_time": "2022-06-09T16:17:22.896Z"
   },
   {
    "duration": 43,
    "start_time": "2022-06-09T16:17:22.918Z"
   },
   {
    "duration": 27,
    "start_time": "2022-06-09T16:17:22.962Z"
   },
   {
    "duration": 34,
    "start_time": "2022-06-09T16:17:22.991Z"
   },
   {
    "duration": 29,
    "start_time": "2022-06-09T16:17:23.027Z"
   },
   {
    "duration": 23,
    "start_time": "2022-06-09T16:17:23.057Z"
   },
   {
    "duration": 4,
    "start_time": "2022-06-09T16:17:23.082Z"
   },
   {
    "duration": 22,
    "start_time": "2022-06-09T16:17:23.088Z"
   },
   {
    "duration": 69,
    "start_time": "2022-06-09T16:17:23.112Z"
   },
   {
    "duration": 22,
    "start_time": "2022-06-09T16:17:23.183Z"
   },
   {
    "duration": 18,
    "start_time": "2022-06-09T16:17:23.207Z"
   },
   {
    "duration": 33,
    "start_time": "2022-06-09T16:17:23.227Z"
   },
   {
    "duration": 39,
    "start_time": "2022-06-09T16:17:23.261Z"
   },
   {
    "duration": 1268,
    "start_time": "2022-06-09T16:17:23.302Z"
   },
   {
    "duration": 147,
    "start_time": "2022-06-09T16:17:24.572Z"
   },
   {
    "duration": 149,
    "start_time": "2022-06-09T16:17:24.721Z"
   },
   {
    "duration": 156,
    "start_time": "2022-06-09T16:17:24.872Z"
   },
   {
    "duration": 147,
    "start_time": "2022-06-09T16:17:25.029Z"
   },
   {
    "duration": 147,
    "start_time": "2022-06-09T16:17:25.178Z"
   },
   {
    "duration": 157,
    "start_time": "2022-06-09T16:17:25.327Z"
   },
   {
    "duration": 14,
    "start_time": "2022-06-09T16:17:25.486Z"
   },
   {
    "duration": 18,
    "start_time": "2022-06-09T16:17:25.502Z"
   },
   {
    "duration": 178,
    "start_time": "2022-06-09T16:17:25.522Z"
   },
   {
    "duration": 0,
    "start_time": "2022-06-09T16:17:25.702Z"
   },
   {
    "duration": 0,
    "start_time": "2022-06-09T16:17:25.703Z"
   },
   {
    "duration": 0,
    "start_time": "2022-06-09T16:17:25.704Z"
   },
   {
    "duration": 0,
    "start_time": "2022-06-09T16:17:25.705Z"
   },
   {
    "duration": 0,
    "start_time": "2022-06-09T16:17:25.707Z"
   },
   {
    "duration": 0,
    "start_time": "2022-06-09T16:17:25.708Z"
   },
   {
    "duration": 0,
    "start_time": "2022-06-09T16:17:25.709Z"
   },
   {
    "duration": 0,
    "start_time": "2022-06-09T16:17:25.710Z"
   },
   {
    "duration": 196,
    "start_time": "2022-06-09T16:19:57.924Z"
   },
   {
    "duration": 42,
    "start_time": "2022-06-14T10:26:45.781Z"
   },
   {
    "duration": 2228,
    "start_time": "2022-06-14T10:27:05.448Z"
   },
   {
    "duration": 14,
    "start_time": "2022-06-14T10:27:07.678Z"
   },
   {
    "duration": 14,
    "start_time": "2022-06-14T10:27:07.693Z"
   },
   {
    "duration": 10,
    "start_time": "2022-06-14T10:27:07.708Z"
   },
   {
    "duration": 11,
    "start_time": "2022-06-14T10:27:07.720Z"
   },
   {
    "duration": 11,
    "start_time": "2022-06-14T10:27:07.732Z"
   },
   {
    "duration": 10,
    "start_time": "2022-06-14T10:27:07.745Z"
   },
   {
    "duration": 114,
    "start_time": "2022-06-14T10:27:07.757Z"
   },
   {
    "duration": 38,
    "start_time": "2022-06-14T10:27:07.873Z"
   },
   {
    "duration": 20,
    "start_time": "2022-06-14T10:27:07.913Z"
   },
   {
    "duration": 26,
    "start_time": "2022-06-14T10:27:07.934Z"
   },
   {
    "duration": 35,
    "start_time": "2022-06-14T10:27:07.962Z"
   },
   {
    "duration": 12,
    "start_time": "2022-06-14T10:27:07.999Z"
   },
   {
    "duration": 7,
    "start_time": "2022-06-14T10:27:08.014Z"
   },
   {
    "duration": 19,
    "start_time": "2022-06-14T10:27:08.022Z"
   },
   {
    "duration": 20,
    "start_time": "2022-06-14T10:27:08.043Z"
   },
   {
    "duration": 37,
    "start_time": "2022-06-14T10:27:08.064Z"
   },
   {
    "duration": 12,
    "start_time": "2022-06-14T10:27:08.102Z"
   },
   {
    "duration": 9,
    "start_time": "2022-06-14T10:27:08.115Z"
   },
   {
    "duration": 29,
    "start_time": "2022-06-14T10:27:08.125Z"
   },
   {
    "duration": 38,
    "start_time": "2022-06-14T10:27:08.156Z"
   },
   {
    "duration": 14,
    "start_time": "2022-06-14T10:27:08.196Z"
   },
   {
    "duration": 21,
    "start_time": "2022-06-14T10:27:08.211Z"
   },
   {
    "duration": 11,
    "start_time": "2022-06-14T10:27:08.233Z"
   },
   {
    "duration": 10,
    "start_time": "2022-06-14T10:27:08.245Z"
   },
   {
    "duration": 4,
    "start_time": "2022-06-14T10:27:08.256Z"
   },
   {
    "duration": 211,
    "start_time": "2022-06-14T10:27:08.262Z"
   },
   {
    "duration": 29,
    "start_time": "2022-06-14T10:27:08.475Z"
   },
   {
    "duration": 200,
    "start_time": "2022-06-14T10:27:08.505Z"
   },
   {
    "duration": 7,
    "start_time": "2022-06-14T10:27:08.706Z"
   },
   {
    "duration": 85,
    "start_time": "2022-06-14T10:27:08.714Z"
   },
   {
    "duration": 6,
    "start_time": "2022-06-14T10:27:08.801Z"
   },
   {
    "duration": 12,
    "start_time": "2022-06-14T10:27:08.808Z"
   },
   {
    "duration": 57,
    "start_time": "2022-06-14T10:27:08.821Z"
   },
   {
    "duration": 34,
    "start_time": "2022-06-14T10:27:08.879Z"
   },
   {
    "duration": 14,
    "start_time": "2022-06-14T10:27:08.914Z"
   },
   {
    "duration": 12,
    "start_time": "2022-06-14T10:27:08.930Z"
   },
   {
    "duration": 19,
    "start_time": "2022-06-14T10:27:08.943Z"
   },
   {
    "duration": 42,
    "start_time": "2022-06-14T10:27:08.964Z"
   },
   {
    "duration": 12,
    "start_time": "2022-06-14T10:27:09.007Z"
   },
   {
    "duration": 9,
    "start_time": "2022-06-14T10:27:09.023Z"
   },
   {
    "duration": 5,
    "start_time": "2022-06-14T10:27:09.034Z"
   },
   {
    "duration": 10,
    "start_time": "2022-06-14T10:27:09.040Z"
   },
   {
    "duration": 4,
    "start_time": "2022-06-14T10:27:09.052Z"
   },
   {
    "duration": 38,
    "start_time": "2022-06-14T10:27:09.057Z"
   },
   {
    "duration": 18,
    "start_time": "2022-06-14T10:27:09.096Z"
   },
   {
    "duration": 11,
    "start_time": "2022-06-14T10:27:09.115Z"
   },
   {
    "duration": 3,
    "start_time": "2022-06-14T10:27:09.128Z"
   },
   {
    "duration": 5,
    "start_time": "2022-06-14T10:27:09.132Z"
   },
   {
    "duration": 62,
    "start_time": "2022-06-14T10:27:09.139Z"
   },
   {
    "duration": 17,
    "start_time": "2022-06-14T10:27:09.202Z"
   },
   {
    "duration": 12,
    "start_time": "2022-06-14T10:27:09.220Z"
   },
   {
    "duration": 13,
    "start_time": "2022-06-14T10:27:09.233Z"
   },
   {
    "duration": 48,
    "start_time": "2022-06-14T10:27:09.247Z"
   },
   {
    "duration": 1162,
    "start_time": "2022-06-14T10:27:09.296Z"
   },
   {
    "duration": 115,
    "start_time": "2022-06-14T10:27:10.459Z"
   },
   {
    "duration": 124,
    "start_time": "2022-06-14T10:27:10.576Z"
   },
   {
    "duration": 132,
    "start_time": "2022-06-14T10:27:10.702Z"
   },
   {
    "duration": 127,
    "start_time": "2022-06-14T10:27:10.836Z"
   },
   {
    "duration": 107,
    "start_time": "2022-06-14T10:27:10.965Z"
   },
   {
    "duration": 130,
    "start_time": "2022-06-14T10:27:11.073Z"
   },
   {
    "duration": 12,
    "start_time": "2022-06-14T10:27:11.204Z"
   },
   {
    "duration": 13,
    "start_time": "2022-06-14T10:27:11.217Z"
   },
   {
    "duration": 262,
    "start_time": "2022-06-14T10:27:11.232Z"
   },
   {
    "duration": 0,
    "start_time": "2022-06-14T10:27:11.496Z"
   },
   {
    "duration": 0,
    "start_time": "2022-06-14T10:27:11.497Z"
   },
   {
    "duration": 0,
    "start_time": "2022-06-14T10:27:11.497Z"
   },
   {
    "duration": 0,
    "start_time": "2022-06-14T10:27:11.498Z"
   },
   {
    "duration": 0,
    "start_time": "2022-06-14T10:27:11.499Z"
   },
   {
    "duration": 0,
    "start_time": "2022-06-14T10:27:11.500Z"
   },
   {
    "duration": 0,
    "start_time": "2022-06-14T10:27:11.501Z"
   },
   {
    "duration": 0,
    "start_time": "2022-06-14T10:27:11.502Z"
   },
   {
    "duration": 11,
    "start_time": "2022-06-14T10:27:33.624Z"
   },
   {
    "duration": 11,
    "start_time": "2022-06-14T10:27:46.872Z"
   },
   {
    "duration": 152,
    "start_time": "2022-06-14T10:30:11.892Z"
   },
   {
    "duration": 393,
    "start_time": "2022-06-14T10:46:23.929Z"
   },
   {
    "duration": 9,
    "start_time": "2022-06-14T10:48:10.339Z"
   },
   {
    "duration": 1370,
    "start_time": "2022-06-14T10:48:31.057Z"
   },
   {
    "duration": 13,
    "start_time": "2022-06-14T10:48:32.429Z"
   },
   {
    "duration": 19,
    "start_time": "2022-06-14T10:48:32.443Z"
   },
   {
    "duration": 5,
    "start_time": "2022-06-14T10:48:32.463Z"
   },
   {
    "duration": 11,
    "start_time": "2022-06-14T10:48:32.470Z"
   },
   {
    "duration": 12,
    "start_time": "2022-06-14T10:48:32.482Z"
   },
   {
    "duration": 10,
    "start_time": "2022-06-14T10:48:32.495Z"
   },
   {
    "duration": 101,
    "start_time": "2022-06-14T10:48:32.506Z"
   },
   {
    "duration": 24,
    "start_time": "2022-06-14T10:48:32.609Z"
   },
   {
    "duration": 21,
    "start_time": "2022-06-14T10:48:32.635Z"
   },
   {
    "duration": 50,
    "start_time": "2022-06-14T10:48:32.657Z"
   },
   {
    "duration": 18,
    "start_time": "2022-06-14T10:48:32.709Z"
   },
   {
    "duration": 14,
    "start_time": "2022-06-14T10:48:32.728Z"
   },
   {
    "duration": 7,
    "start_time": "2022-06-14T10:48:32.745Z"
   },
   {
    "duration": 22,
    "start_time": "2022-06-14T10:48:32.753Z"
   },
   {
    "duration": 28,
    "start_time": "2022-06-14T10:48:32.776Z"
   },
   {
    "duration": 12,
    "start_time": "2022-06-14T10:48:32.805Z"
   },
   {
    "duration": 16,
    "start_time": "2022-06-14T10:48:32.819Z"
   },
   {
    "duration": 9,
    "start_time": "2022-06-14T10:48:32.836Z"
   },
   {
    "duration": 29,
    "start_time": "2022-06-14T10:48:32.846Z"
   },
   {
    "duration": 33,
    "start_time": "2022-06-14T10:48:32.877Z"
   },
   {
    "duration": 19,
    "start_time": "2022-06-14T10:48:32.912Z"
   },
   {
    "duration": 27,
    "start_time": "2022-06-14T10:48:32.933Z"
   },
   {
    "duration": 10,
    "start_time": "2022-06-14T10:48:32.961Z"
   },
   {
    "duration": 24,
    "start_time": "2022-06-14T10:48:32.973Z"
   },
   {
    "duration": 12,
    "start_time": "2022-06-14T10:48:32.998Z"
   },
   {
    "duration": 192,
    "start_time": "2022-06-14T10:48:33.012Z"
   },
   {
    "duration": 21,
    "start_time": "2022-06-14T10:48:33.206Z"
   },
   {
    "duration": 187,
    "start_time": "2022-06-14T10:48:33.228Z"
   },
   {
    "duration": 7,
    "start_time": "2022-06-14T10:48:33.416Z"
   },
   {
    "duration": 150,
    "start_time": "2022-06-14T10:48:33.424Z"
   },
   {
    "duration": 18,
    "start_time": "2022-06-14T10:48:33.576Z"
   },
   {
    "duration": 9,
    "start_time": "2022-06-14T10:48:33.595Z"
   },
   {
    "duration": 90,
    "start_time": "2022-06-14T10:48:33.605Z"
   },
   {
    "duration": 32,
    "start_time": "2022-06-14T10:48:33.697Z"
   },
   {
    "duration": 27,
    "start_time": "2022-06-14T10:48:33.731Z"
   },
   {
    "duration": 37,
    "start_time": "2022-06-14T10:48:33.760Z"
   },
   {
    "duration": 3,
    "start_time": "2022-06-14T10:48:33.799Z"
   },
   {
    "duration": 98,
    "start_time": "2022-06-14T10:48:33.803Z"
   },
   {
    "duration": 0,
    "start_time": "2022-06-14T10:48:33.903Z"
   },
   {
    "duration": 0,
    "start_time": "2022-06-14T10:48:33.905Z"
   },
   {
    "duration": 0,
    "start_time": "2022-06-14T10:48:33.906Z"
   },
   {
    "duration": 0,
    "start_time": "2022-06-14T10:48:33.907Z"
   },
   {
    "duration": 0,
    "start_time": "2022-06-14T10:48:33.908Z"
   },
   {
    "duration": 0,
    "start_time": "2022-06-14T10:48:33.908Z"
   },
   {
    "duration": 0,
    "start_time": "2022-06-14T10:48:33.909Z"
   },
   {
    "duration": 0,
    "start_time": "2022-06-14T10:48:33.911Z"
   },
   {
    "duration": 0,
    "start_time": "2022-06-14T10:48:33.912Z"
   },
   {
    "duration": 0,
    "start_time": "2022-06-14T10:48:33.912Z"
   },
   {
    "duration": 0,
    "start_time": "2022-06-14T10:48:33.913Z"
   },
   {
    "duration": 0,
    "start_time": "2022-06-14T10:48:33.914Z"
   },
   {
    "duration": 0,
    "start_time": "2022-06-14T10:48:33.915Z"
   },
   {
    "duration": 0,
    "start_time": "2022-06-14T10:48:33.916Z"
   },
   {
    "duration": 0,
    "start_time": "2022-06-14T10:48:33.917Z"
   },
   {
    "duration": 0,
    "start_time": "2022-06-14T10:48:33.918Z"
   },
   {
    "duration": 0,
    "start_time": "2022-06-14T10:48:33.919Z"
   },
   {
    "duration": 0,
    "start_time": "2022-06-14T10:48:33.920Z"
   },
   {
    "duration": 0,
    "start_time": "2022-06-14T10:48:33.921Z"
   },
   {
    "duration": 0,
    "start_time": "2022-06-14T10:48:33.921Z"
   },
   {
    "duration": 0,
    "start_time": "2022-06-14T10:48:33.922Z"
   },
   {
    "duration": 0,
    "start_time": "2022-06-14T10:48:33.923Z"
   },
   {
    "duration": 0,
    "start_time": "2022-06-14T10:48:33.924Z"
   },
   {
    "duration": 0,
    "start_time": "2022-06-14T10:48:33.925Z"
   },
   {
    "duration": 0,
    "start_time": "2022-06-14T10:48:33.926Z"
   },
   {
    "duration": 0,
    "start_time": "2022-06-14T10:48:33.927Z"
   },
   {
    "duration": 0,
    "start_time": "2022-06-14T10:48:33.928Z"
   },
   {
    "duration": 0,
    "start_time": "2022-06-14T10:48:33.929Z"
   },
   {
    "duration": 0,
    "start_time": "2022-06-14T10:48:33.929Z"
   },
   {
    "duration": 0,
    "start_time": "2022-06-14T10:48:33.930Z"
   },
   {
    "duration": 0,
    "start_time": "2022-06-14T10:48:33.931Z"
   },
   {
    "duration": 0,
    "start_time": "2022-06-14T10:48:33.932Z"
   },
   {
    "duration": 0,
    "start_time": "2022-06-14T10:48:33.933Z"
   },
   {
    "duration": 0,
    "start_time": "2022-06-14T10:48:33.935Z"
   },
   {
    "duration": 9,
    "start_time": "2022-06-14T10:52:10.516Z"
   },
   {
    "duration": 8,
    "start_time": "2022-06-14T10:52:26.567Z"
   },
   {
    "duration": 12,
    "start_time": "2022-06-14T10:55:58.934Z"
   },
   {
    "duration": 10,
    "start_time": "2022-06-14T10:56:50.588Z"
   },
   {
    "duration": 18,
    "start_time": "2022-06-14T10:58:10.578Z"
   },
   {
    "duration": 28,
    "start_time": "2022-06-14T10:58:55.791Z"
   },
   {
    "duration": 11,
    "start_time": "2022-06-14T10:59:05.153Z"
   },
   {
    "duration": 8,
    "start_time": "2022-06-14T10:59:12.548Z"
   },
   {
    "duration": 3,
    "start_time": "2022-06-14T10:59:14.736Z"
   },
   {
    "duration": 10,
    "start_time": "2022-06-14T10:59:15.612Z"
   },
   {
    "duration": 15,
    "start_time": "2022-06-14T10:59:33.966Z"
   },
   {
    "duration": 17,
    "start_time": "2022-06-14T10:59:41.069Z"
   },
   {
    "duration": 19,
    "start_time": "2022-06-14T10:59:43.037Z"
   },
   {
    "duration": 10,
    "start_time": "2022-06-14T10:59:45.628Z"
   },
   {
    "duration": 3,
    "start_time": "2022-06-14T10:59:47.949Z"
   },
   {
    "duration": 5,
    "start_time": "2022-06-14T10:59:49.429Z"
   },
   {
    "duration": 92,
    "start_time": "2022-06-14T10:59:50.660Z"
   },
   {
    "duration": 14,
    "start_time": "2022-06-14T11:03:39.672Z"
   },
   {
    "duration": 12,
    "start_time": "2022-06-14T11:03:41.295Z"
   },
   {
    "duration": 74,
    "start_time": "2022-06-14T11:03:56.663Z"
   },
   {
    "duration": 1617,
    "start_time": "2022-06-14T11:04:02.669Z"
   },
   {
    "duration": 22,
    "start_time": "2022-06-14T11:04:04.288Z"
   },
   {
    "duration": 16,
    "start_time": "2022-06-14T11:04:04.313Z"
   },
   {
    "duration": 20,
    "start_time": "2022-06-14T11:04:04.331Z"
   },
   {
    "duration": 21,
    "start_time": "2022-06-14T11:04:04.353Z"
   },
   {
    "duration": 26,
    "start_time": "2022-06-14T11:04:04.376Z"
   },
   {
    "duration": 35,
    "start_time": "2022-06-14T11:04:04.404Z"
   },
   {
    "duration": 118,
    "start_time": "2022-06-14T11:04:04.441Z"
   },
   {
    "duration": 23,
    "start_time": "2022-06-14T11:04:04.561Z"
   },
   {
    "duration": 42,
    "start_time": "2022-06-14T11:04:04.586Z"
   },
   {
    "duration": 24,
    "start_time": "2022-06-14T11:04:04.629Z"
   },
   {
    "duration": 20,
    "start_time": "2022-06-14T11:04:04.655Z"
   },
   {
    "duration": 44,
    "start_time": "2022-06-14T11:04:04.677Z"
   },
   {
    "duration": 7,
    "start_time": "2022-06-14T11:04:04.723Z"
   },
   {
    "duration": 31,
    "start_time": "2022-06-14T11:04:04.732Z"
   },
   {
    "duration": 17,
    "start_time": "2022-06-14T11:04:04.764Z"
   },
   {
    "duration": 16,
    "start_time": "2022-06-14T11:04:04.782Z"
   },
   {
    "duration": 28,
    "start_time": "2022-06-14T11:04:04.800Z"
   },
   {
    "duration": 29,
    "start_time": "2022-06-14T11:04:04.829Z"
   },
   {
    "duration": 40,
    "start_time": "2022-06-14T11:04:04.860Z"
   },
   {
    "duration": 25,
    "start_time": "2022-06-14T11:04:04.902Z"
   },
   {
    "duration": 22,
    "start_time": "2022-06-14T11:04:04.929Z"
   },
   {
    "duration": 36,
    "start_time": "2022-06-14T11:04:04.953Z"
   },
   {
    "duration": 17,
    "start_time": "2022-06-14T11:04:04.991Z"
   },
   {
    "duration": 23,
    "start_time": "2022-06-14T11:04:05.010Z"
   },
   {
    "duration": 11,
    "start_time": "2022-06-14T11:04:05.035Z"
   },
   {
    "duration": 183,
    "start_time": "2022-06-14T11:04:05.048Z"
   },
   {
    "duration": 22,
    "start_time": "2022-06-14T11:04:05.234Z"
   },
   {
    "duration": 187,
    "start_time": "2022-06-14T11:04:05.258Z"
   },
   {
    "duration": 7,
    "start_time": "2022-06-14T11:04:05.446Z"
   },
   {
    "duration": 160,
    "start_time": "2022-06-14T11:04:05.454Z"
   },
   {
    "duration": 7,
    "start_time": "2022-06-14T11:04:05.616Z"
   },
   {
    "duration": 47,
    "start_time": "2022-06-14T11:04:05.624Z"
   },
   {
    "duration": 110,
    "start_time": "2022-06-14T11:04:05.673Z"
   },
   {
    "duration": 45,
    "start_time": "2022-06-14T11:04:05.784Z"
   },
   {
    "duration": 28,
    "start_time": "2022-06-14T11:04:05.830Z"
   },
   {
    "duration": 13,
    "start_time": "2022-06-14T11:04:05.860Z"
   },
   {
    "duration": 110,
    "start_time": "2022-06-14T11:04:05.875Z"
   },
   {
    "duration": 0,
    "start_time": "2022-06-14T11:04:05.987Z"
   },
   {
    "duration": 0,
    "start_time": "2022-06-14T11:04:05.995Z"
   },
   {
    "duration": 0,
    "start_time": "2022-06-14T11:04:05.997Z"
   },
   {
    "duration": 0,
    "start_time": "2022-06-14T11:04:05.998Z"
   },
   {
    "duration": 0,
    "start_time": "2022-06-14T11:04:06.000Z"
   },
   {
    "duration": 0,
    "start_time": "2022-06-14T11:04:06.001Z"
   },
   {
    "duration": 0,
    "start_time": "2022-06-14T11:04:06.003Z"
   },
   {
    "duration": 0,
    "start_time": "2022-06-14T11:04:06.005Z"
   },
   {
    "duration": 0,
    "start_time": "2022-06-14T11:04:06.007Z"
   },
   {
    "duration": 0,
    "start_time": "2022-06-14T11:04:06.008Z"
   },
   {
    "duration": 0,
    "start_time": "2022-06-14T11:04:06.010Z"
   },
   {
    "duration": 0,
    "start_time": "2022-06-14T11:04:06.012Z"
   },
   {
    "duration": 0,
    "start_time": "2022-06-14T11:04:06.013Z"
   },
   {
    "duration": 0,
    "start_time": "2022-06-14T11:04:06.015Z"
   },
   {
    "duration": 0,
    "start_time": "2022-06-14T11:04:06.017Z"
   },
   {
    "duration": 0,
    "start_time": "2022-06-14T11:04:06.018Z"
   },
   {
    "duration": 0,
    "start_time": "2022-06-14T11:04:06.019Z"
   },
   {
    "duration": 0,
    "start_time": "2022-06-14T11:04:06.020Z"
   },
   {
    "duration": 0,
    "start_time": "2022-06-14T11:04:06.021Z"
   },
   {
    "duration": 0,
    "start_time": "2022-06-14T11:04:06.022Z"
   },
   {
    "duration": 0,
    "start_time": "2022-06-14T11:04:06.023Z"
   },
   {
    "duration": 0,
    "start_time": "2022-06-14T11:04:06.024Z"
   },
   {
    "duration": 0,
    "start_time": "2022-06-14T11:04:06.024Z"
   },
   {
    "duration": 0,
    "start_time": "2022-06-14T11:04:06.026Z"
   },
   {
    "duration": 0,
    "start_time": "2022-06-14T11:04:06.027Z"
   },
   {
    "duration": 0,
    "start_time": "2022-06-14T11:04:06.028Z"
   },
   {
    "duration": 0,
    "start_time": "2022-06-14T11:04:06.029Z"
   },
   {
    "duration": 0,
    "start_time": "2022-06-14T11:04:06.030Z"
   },
   {
    "duration": 0,
    "start_time": "2022-06-14T11:04:06.031Z"
   },
   {
    "duration": 0,
    "start_time": "2022-06-14T11:04:06.032Z"
   },
   {
    "duration": 0,
    "start_time": "2022-06-14T11:04:06.033Z"
   },
   {
    "duration": 1,
    "start_time": "2022-06-14T11:04:06.033Z"
   },
   {
    "duration": 0,
    "start_time": "2022-06-14T11:04:06.034Z"
   },
   {
    "duration": 0,
    "start_time": "2022-06-14T11:04:06.036Z"
   },
   {
    "duration": 24,
    "start_time": "2022-06-14T11:04:26.102Z"
   },
   {
    "duration": 4,
    "start_time": "2022-06-14T11:04:30.582Z"
   },
   {
    "duration": 20,
    "start_time": "2022-06-14T11:04:41.252Z"
   },
   {
    "duration": 20,
    "start_time": "2022-06-14T11:04:42.805Z"
   },
   {
    "duration": 7,
    "start_time": "2022-06-14T11:04:45.874Z"
   },
   {
    "duration": 4,
    "start_time": "2022-06-14T11:04:48.253Z"
   },
   {
    "duration": 10,
    "start_time": "2022-06-14T11:04:49.736Z"
   },
   {
    "duration": 22,
    "start_time": "2022-06-14T11:04:51.661Z"
   },
   {
    "duration": 16,
    "start_time": "2022-06-14T11:04:54.261Z"
   },
   {
    "duration": 1596,
    "start_time": "2022-06-14T11:05:04.066Z"
   },
   {
    "duration": 13,
    "start_time": "2022-06-14T11:05:05.664Z"
   },
   {
    "duration": 17,
    "start_time": "2022-06-14T11:05:05.679Z"
   },
   {
    "duration": 22,
    "start_time": "2022-06-14T11:05:05.698Z"
   },
   {
    "duration": 15,
    "start_time": "2022-06-14T11:05:05.721Z"
   },
   {
    "duration": 12,
    "start_time": "2022-06-14T11:05:05.738Z"
   },
   {
    "duration": 14,
    "start_time": "2022-06-14T11:05:05.751Z"
   },
   {
    "duration": 98,
    "start_time": "2022-06-14T11:05:05.766Z"
   },
   {
    "duration": 30,
    "start_time": "2022-06-14T11:05:05.865Z"
   },
   {
    "duration": 29,
    "start_time": "2022-06-14T11:05:05.899Z"
   },
   {
    "duration": 24,
    "start_time": "2022-06-14T11:05:05.929Z"
   },
   {
    "duration": 18,
    "start_time": "2022-06-14T11:05:05.955Z"
   },
   {
    "duration": 31,
    "start_time": "2022-06-14T11:05:05.974Z"
   },
   {
    "duration": 7,
    "start_time": "2022-06-14T11:05:06.007Z"
   },
   {
    "duration": 22,
    "start_time": "2022-06-14T11:05:06.016Z"
   },
   {
    "duration": 17,
    "start_time": "2022-06-14T11:05:06.040Z"
   },
   {
    "duration": 40,
    "start_time": "2022-06-14T11:05:06.059Z"
   },
   {
    "duration": 18,
    "start_time": "2022-06-14T11:05:06.102Z"
   },
   {
    "duration": 10,
    "start_time": "2022-06-14T11:05:06.122Z"
   },
   {
    "duration": 32,
    "start_time": "2022-06-14T11:05:06.134Z"
   },
   {
    "duration": 28,
    "start_time": "2022-06-14T11:05:06.168Z"
   },
   {
    "duration": 25,
    "start_time": "2022-06-14T11:05:06.199Z"
   },
   {
    "duration": 20,
    "start_time": "2022-06-14T11:05:06.226Z"
   },
   {
    "duration": 9,
    "start_time": "2022-06-14T11:05:06.248Z"
   },
   {
    "duration": 9,
    "start_time": "2022-06-14T11:05:06.259Z"
   },
   {
    "duration": 44,
    "start_time": "2022-06-14T11:05:06.269Z"
   },
   {
    "duration": 222,
    "start_time": "2022-06-14T11:05:06.316Z"
   },
   {
    "duration": 23,
    "start_time": "2022-06-14T11:05:06.542Z"
   },
   {
    "duration": 225,
    "start_time": "2022-06-14T11:05:06.566Z"
   },
   {
    "duration": 14,
    "start_time": "2022-06-14T11:05:06.793Z"
   },
   {
    "duration": 171,
    "start_time": "2022-06-14T11:05:06.810Z"
   },
   {
    "duration": 16,
    "start_time": "2022-06-14T11:05:06.983Z"
   },
   {
    "duration": 25,
    "start_time": "2022-06-14T11:05:07.002Z"
   },
   {
    "duration": 96,
    "start_time": "2022-06-14T11:05:07.028Z"
   },
   {
    "duration": 35,
    "start_time": "2022-06-14T11:05:07.126Z"
   },
   {
    "duration": 34,
    "start_time": "2022-06-14T11:05:07.163Z"
   },
   {
    "duration": 19,
    "start_time": "2022-06-14T11:05:07.199Z"
   },
   {
    "duration": 25,
    "start_time": "2022-06-14T11:05:07.220Z"
   },
   {
    "duration": 3,
    "start_time": "2022-06-14T11:05:07.246Z"
   },
   {
    "duration": 0,
    "start_time": "2022-06-14T11:05:07.251Z"
   },
   {
    "duration": 0,
    "start_time": "2022-06-14T11:05:07.252Z"
   },
   {
    "duration": 0,
    "start_time": "2022-06-14T11:05:07.253Z"
   },
   {
    "duration": 0,
    "start_time": "2022-06-14T11:05:07.254Z"
   },
   {
    "duration": 0,
    "start_time": "2022-06-14T11:05:07.254Z"
   },
   {
    "duration": 0,
    "start_time": "2022-06-14T11:05:07.255Z"
   },
   {
    "duration": 0,
    "start_time": "2022-06-14T11:05:07.256Z"
   },
   {
    "duration": 0,
    "start_time": "2022-06-14T11:05:07.257Z"
   },
   {
    "duration": 0,
    "start_time": "2022-06-14T11:05:07.258Z"
   },
   {
    "duration": 0,
    "start_time": "2022-06-14T11:05:07.259Z"
   },
   {
    "duration": 0,
    "start_time": "2022-06-14T11:05:07.260Z"
   },
   {
    "duration": 0,
    "start_time": "2022-06-14T11:05:07.295Z"
   },
   {
    "duration": 0,
    "start_time": "2022-06-14T11:05:07.296Z"
   },
   {
    "duration": 0,
    "start_time": "2022-06-14T11:05:07.298Z"
   },
   {
    "duration": 0,
    "start_time": "2022-06-14T11:05:07.299Z"
   },
   {
    "duration": 0,
    "start_time": "2022-06-14T11:05:07.300Z"
   },
   {
    "duration": 0,
    "start_time": "2022-06-14T11:05:07.301Z"
   },
   {
    "duration": 0,
    "start_time": "2022-06-14T11:05:07.302Z"
   },
   {
    "duration": 0,
    "start_time": "2022-06-14T11:05:07.303Z"
   },
   {
    "duration": 0,
    "start_time": "2022-06-14T11:05:07.304Z"
   },
   {
    "duration": 0,
    "start_time": "2022-06-14T11:05:07.306Z"
   },
   {
    "duration": 0,
    "start_time": "2022-06-14T11:05:07.307Z"
   },
   {
    "duration": 0,
    "start_time": "2022-06-14T11:05:07.308Z"
   },
   {
    "duration": 0,
    "start_time": "2022-06-14T11:05:07.309Z"
   },
   {
    "duration": 0,
    "start_time": "2022-06-14T11:05:07.310Z"
   },
   {
    "duration": 0,
    "start_time": "2022-06-14T11:05:07.311Z"
   },
   {
    "duration": 0,
    "start_time": "2022-06-14T11:05:07.312Z"
   },
   {
    "duration": 0,
    "start_time": "2022-06-14T11:05:07.313Z"
   },
   {
    "duration": 0,
    "start_time": "2022-06-14T11:05:07.313Z"
   },
   {
    "duration": 0,
    "start_time": "2022-06-14T11:05:07.314Z"
   },
   {
    "duration": 0,
    "start_time": "2022-06-14T11:05:07.315Z"
   },
   {
    "duration": 0,
    "start_time": "2022-06-14T11:05:07.320Z"
   },
   {
    "duration": 0,
    "start_time": "2022-06-14T11:05:07.324Z"
   },
   {
    "duration": 2,
    "start_time": "2022-06-14T11:05:23.585Z"
   },
   {
    "duration": 1440,
    "start_time": "2022-06-14T11:05:29.935Z"
   },
   {
    "duration": 17,
    "start_time": "2022-06-14T11:05:31.377Z"
   },
   {
    "duration": 24,
    "start_time": "2022-06-14T11:05:31.398Z"
   },
   {
    "duration": 39,
    "start_time": "2022-06-14T11:05:31.424Z"
   },
   {
    "duration": 16,
    "start_time": "2022-06-14T11:05:31.465Z"
   },
   {
    "duration": 38,
    "start_time": "2022-06-14T11:05:31.482Z"
   },
   {
    "duration": 21,
    "start_time": "2022-06-14T11:05:31.522Z"
   },
   {
    "duration": 111,
    "start_time": "2022-06-14T11:05:31.544Z"
   },
   {
    "duration": 23,
    "start_time": "2022-06-14T11:05:31.656Z"
   },
   {
    "duration": 39,
    "start_time": "2022-06-14T11:05:31.681Z"
   },
   {
    "duration": 35,
    "start_time": "2022-06-14T11:05:31.721Z"
   },
   {
    "duration": 18,
    "start_time": "2022-06-14T11:05:31.758Z"
   },
   {
    "duration": 28,
    "start_time": "2022-06-14T11:05:31.778Z"
   },
   {
    "duration": 13,
    "start_time": "2022-06-14T11:05:31.809Z"
   },
   {
    "duration": 23,
    "start_time": "2022-06-14T11:05:31.823Z"
   },
   {
    "duration": 31,
    "start_time": "2022-06-14T11:05:31.847Z"
   },
   {
    "duration": 30,
    "start_time": "2022-06-14T11:05:31.880Z"
   },
   {
    "duration": 40,
    "start_time": "2022-06-14T11:05:31.912Z"
   },
   {
    "duration": 18,
    "start_time": "2022-06-14T11:05:31.954Z"
   },
   {
    "duration": 50,
    "start_time": "2022-06-14T11:05:31.974Z"
   },
   {
    "duration": 21,
    "start_time": "2022-06-14T11:05:32.026Z"
   },
   {
    "duration": 19,
    "start_time": "2022-06-14T11:05:32.049Z"
   },
   {
    "duration": 58,
    "start_time": "2022-06-14T11:05:32.070Z"
   },
   {
    "duration": 12,
    "start_time": "2022-06-14T11:05:32.129Z"
   },
   {
    "duration": 23,
    "start_time": "2022-06-14T11:05:32.143Z"
   },
   {
    "duration": 20,
    "start_time": "2022-06-14T11:05:32.168Z"
   },
   {
    "duration": 220,
    "start_time": "2022-06-14T11:05:32.190Z"
   },
   {
    "duration": 25,
    "start_time": "2022-06-14T11:05:32.412Z"
   },
   {
    "duration": 200,
    "start_time": "2022-06-14T11:05:32.439Z"
   },
   {
    "duration": 8,
    "start_time": "2022-06-14T11:05:32.640Z"
   },
   {
    "duration": 157,
    "start_time": "2022-06-14T11:05:32.650Z"
   },
   {
    "duration": 7,
    "start_time": "2022-06-14T11:05:32.809Z"
   },
   {
    "duration": 37,
    "start_time": "2022-06-14T11:05:32.817Z"
   },
   {
    "duration": 110,
    "start_time": "2022-06-14T11:05:32.855Z"
   },
   {
    "duration": 35,
    "start_time": "2022-06-14T11:05:32.967Z"
   },
   {
    "duration": 32,
    "start_time": "2022-06-14T11:05:33.005Z"
   },
   {
    "duration": 12,
    "start_time": "2022-06-14T11:05:33.039Z"
   },
   {
    "duration": 41,
    "start_time": "2022-06-14T11:05:33.053Z"
   },
   {
    "duration": 3,
    "start_time": "2022-06-14T11:05:33.096Z"
   },
   {
    "duration": 35,
    "start_time": "2022-06-14T11:05:33.101Z"
   },
   {
    "duration": 23,
    "start_time": "2022-06-14T11:05:33.139Z"
   },
   {
    "duration": 28,
    "start_time": "2022-06-14T11:05:33.163Z"
   },
   {
    "duration": 21,
    "start_time": "2022-06-14T11:05:33.192Z"
   },
   {
    "duration": 21,
    "start_time": "2022-06-14T11:05:33.215Z"
   },
   {
    "duration": 40,
    "start_time": "2022-06-14T11:05:33.237Z"
   },
   {
    "duration": 97,
    "start_time": "2022-06-14T11:05:33.278Z"
   },
   {
    "duration": 0,
    "start_time": "2022-06-14T11:05:33.376Z"
   },
   {
    "duration": 0,
    "start_time": "2022-06-14T11:05:33.377Z"
   },
   {
    "duration": 0,
    "start_time": "2022-06-14T11:05:33.378Z"
   },
   {
    "duration": 0,
    "start_time": "2022-06-14T11:05:33.378Z"
   },
   {
    "duration": 0,
    "start_time": "2022-06-14T11:05:33.379Z"
   },
   {
    "duration": 0,
    "start_time": "2022-06-14T11:05:33.380Z"
   },
   {
    "duration": 0,
    "start_time": "2022-06-14T11:05:33.381Z"
   },
   {
    "duration": 0,
    "start_time": "2022-06-14T11:05:33.382Z"
   },
   {
    "duration": 0,
    "start_time": "2022-06-14T11:05:33.383Z"
   },
   {
    "duration": 0,
    "start_time": "2022-06-14T11:05:33.383Z"
   },
   {
    "duration": 0,
    "start_time": "2022-06-14T11:05:33.384Z"
   },
   {
    "duration": 0,
    "start_time": "2022-06-14T11:05:33.385Z"
   },
   {
    "duration": 0,
    "start_time": "2022-06-14T11:05:33.394Z"
   },
   {
    "duration": 0,
    "start_time": "2022-06-14T11:05:33.395Z"
   },
   {
    "duration": 0,
    "start_time": "2022-06-14T11:05:33.397Z"
   },
   {
    "duration": 0,
    "start_time": "2022-06-14T11:05:33.398Z"
   },
   {
    "duration": 0,
    "start_time": "2022-06-14T11:05:33.399Z"
   },
   {
    "duration": 0,
    "start_time": "2022-06-14T11:05:33.400Z"
   },
   {
    "duration": 0,
    "start_time": "2022-06-14T11:05:33.401Z"
   },
   {
    "duration": 0,
    "start_time": "2022-06-14T11:05:33.402Z"
   },
   {
    "duration": 0,
    "start_time": "2022-06-14T11:05:33.403Z"
   },
   {
    "duration": 0,
    "start_time": "2022-06-14T11:05:33.404Z"
   },
   {
    "duration": 0,
    "start_time": "2022-06-14T11:05:33.405Z"
   },
   {
    "duration": 0,
    "start_time": "2022-06-14T11:05:33.406Z"
   },
   {
    "duration": 0,
    "start_time": "2022-06-14T11:05:33.406Z"
   },
   {
    "duration": 0,
    "start_time": "2022-06-14T11:05:33.408Z"
   },
   {
    "duration": 37,
    "start_time": "2022-06-14T11:07:53.693Z"
   },
   {
    "duration": 20,
    "start_time": "2022-06-14T11:07:54.888Z"
   },
   {
    "duration": 8,
    "start_time": "2022-06-14T11:07:56.617Z"
   },
   {
    "duration": 3,
    "start_time": "2022-06-14T11:07:58.357Z"
   },
   {
    "duration": 9,
    "start_time": "2022-06-14T11:07:59.358Z"
   },
   {
    "duration": 28,
    "start_time": "2022-06-14T11:08:02.601Z"
   },
   {
    "duration": 11,
    "start_time": "2022-06-14T11:11:04.896Z"
   },
   {
    "duration": 11,
    "start_time": "2022-06-14T11:11:22.245Z"
   },
   {
    "duration": 1392,
    "start_time": "2022-06-14T11:18:34.240Z"
   },
   {
    "duration": 14,
    "start_time": "2022-06-14T11:18:35.634Z"
   },
   {
    "duration": 15,
    "start_time": "2022-06-14T11:18:35.650Z"
   },
   {
    "duration": 9,
    "start_time": "2022-06-14T11:18:35.667Z"
   },
   {
    "duration": 17,
    "start_time": "2022-06-14T11:18:35.677Z"
   },
   {
    "duration": 13,
    "start_time": "2022-06-14T11:18:35.696Z"
   },
   {
    "duration": 11,
    "start_time": "2022-06-14T11:18:35.710Z"
   },
   {
    "duration": 112,
    "start_time": "2022-06-14T11:18:35.722Z"
   },
   {
    "duration": 23,
    "start_time": "2022-06-14T11:18:35.836Z"
   },
   {
    "duration": 19,
    "start_time": "2022-06-14T11:18:35.862Z"
   },
   {
    "duration": 28,
    "start_time": "2022-06-14T11:18:35.894Z"
   },
   {
    "duration": 20,
    "start_time": "2022-06-14T11:18:35.923Z"
   },
   {
    "duration": 17,
    "start_time": "2022-06-14T11:18:35.944Z"
   },
   {
    "duration": 7,
    "start_time": "2022-06-14T11:18:35.963Z"
   },
   {
    "duration": 46,
    "start_time": "2022-06-14T11:18:35.971Z"
   },
   {
    "duration": 22,
    "start_time": "2022-06-14T11:18:36.019Z"
   },
   {
    "duration": 15,
    "start_time": "2022-06-14T11:18:36.042Z"
   },
   {
    "duration": 23,
    "start_time": "2022-06-14T11:18:36.059Z"
   },
   {
    "duration": 20,
    "start_time": "2022-06-14T11:18:36.084Z"
   },
   {
    "duration": 28,
    "start_time": "2022-06-14T11:18:36.106Z"
   },
   {
    "duration": 19,
    "start_time": "2022-06-14T11:18:36.135Z"
   },
   {
    "duration": 38,
    "start_time": "2022-06-14T11:18:36.156Z"
   },
   {
    "duration": 21,
    "start_time": "2022-06-14T11:18:36.196Z"
   },
   {
    "duration": 15,
    "start_time": "2022-06-14T11:18:36.219Z"
   },
   {
    "duration": 10,
    "start_time": "2022-06-14T11:18:36.236Z"
   },
   {
    "duration": 12,
    "start_time": "2022-06-14T11:18:36.248Z"
   },
   {
    "duration": 212,
    "start_time": "2022-06-14T11:18:36.262Z"
   },
   {
    "duration": 28,
    "start_time": "2022-06-14T11:18:36.478Z"
   },
   {
    "duration": 189,
    "start_time": "2022-06-14T11:18:36.507Z"
   },
   {
    "duration": 8,
    "start_time": "2022-06-14T11:18:36.698Z"
   },
   {
    "duration": 150,
    "start_time": "2022-06-14T11:18:36.707Z"
   },
   {
    "duration": 8,
    "start_time": "2022-06-14T11:18:36.858Z"
   },
   {
    "duration": 17,
    "start_time": "2022-06-14T11:18:36.867Z"
   },
   {
    "duration": 83,
    "start_time": "2022-06-14T11:18:36.885Z"
   },
   {
    "duration": 44,
    "start_time": "2022-06-14T11:18:36.969Z"
   },
   {
    "duration": 27,
    "start_time": "2022-06-14T11:18:37.014Z"
   },
   {
    "duration": 14,
    "start_time": "2022-06-14T11:18:37.043Z"
   },
   {
    "duration": 38,
    "start_time": "2022-06-14T11:18:37.059Z"
   },
   {
    "duration": 2,
    "start_time": "2022-06-14T11:18:37.098Z"
   },
   {
    "duration": 26,
    "start_time": "2022-06-14T11:18:37.102Z"
   },
   {
    "duration": 12,
    "start_time": "2022-06-14T11:18:37.130Z"
   },
   {
    "duration": 9,
    "start_time": "2022-06-14T11:18:37.144Z"
   },
   {
    "duration": 5,
    "start_time": "2022-06-14T11:18:37.154Z"
   },
   {
    "duration": 12,
    "start_time": "2022-06-14T11:18:37.160Z"
   },
   {
    "duration": 21,
    "start_time": "2022-06-14T11:18:37.173Z"
   },
   {
    "duration": 20,
    "start_time": "2022-06-14T11:18:37.195Z"
   },
   {
    "duration": 11,
    "start_time": "2022-06-14T11:18:37.216Z"
   },
   {
    "duration": 6,
    "start_time": "2022-06-14T11:18:37.228Z"
   },
   {
    "duration": 5,
    "start_time": "2022-06-14T11:18:37.235Z"
   },
   {
    "duration": 66,
    "start_time": "2022-06-14T11:18:37.241Z"
   },
   {
    "duration": 24,
    "start_time": "2022-06-14T11:18:37.309Z"
   },
   {
    "duration": 21,
    "start_time": "2022-06-14T11:18:37.335Z"
   },
   {
    "duration": 17,
    "start_time": "2022-06-14T11:18:37.358Z"
   },
   {
    "duration": 40,
    "start_time": "2022-06-14T11:18:37.393Z"
   },
   {
    "duration": 841,
    "start_time": "2022-06-14T11:18:37.435Z"
   },
   {
    "duration": 183,
    "start_time": "2022-06-14T11:18:38.278Z"
   },
   {
    "duration": 116,
    "start_time": "2022-06-14T11:18:38.462Z"
   },
   {
    "duration": 131,
    "start_time": "2022-06-14T11:18:38.579Z"
   },
   {
    "duration": 112,
    "start_time": "2022-06-14T11:18:38.712Z"
   },
   {
    "duration": 110,
    "start_time": "2022-06-14T11:18:38.826Z"
   },
   {
    "duration": 129,
    "start_time": "2022-06-14T11:18:38.937Z"
   },
   {
    "duration": 11,
    "start_time": "2022-06-14T11:18:39.068Z"
   },
   {
    "duration": 22,
    "start_time": "2022-06-14T11:18:39.080Z"
   },
   {
    "duration": 259,
    "start_time": "2022-06-14T11:18:39.103Z"
   },
   {
    "duration": 0,
    "start_time": "2022-06-14T11:18:39.364Z"
   },
   {
    "duration": 0,
    "start_time": "2022-06-14T11:18:39.365Z"
   },
   {
    "duration": 0,
    "start_time": "2022-06-14T11:18:39.366Z"
   },
   {
    "duration": 0,
    "start_time": "2022-06-14T11:18:39.367Z"
   },
   {
    "duration": 0,
    "start_time": "2022-06-14T11:18:39.369Z"
   },
   {
    "duration": 0,
    "start_time": "2022-06-14T11:18:39.370Z"
   },
   {
    "duration": 0,
    "start_time": "2022-06-14T11:18:39.371Z"
   },
   {
    "duration": 0,
    "start_time": "2022-06-14T11:18:39.372Z"
   },
   {
    "duration": 15,
    "start_time": "2022-06-14T11:33:25.876Z"
   },
   {
    "duration": 10,
    "start_time": "2022-06-14T11:33:38.075Z"
   },
   {
    "duration": 14,
    "start_time": "2022-06-14T11:44:41.287Z"
   },
   {
    "duration": 9,
    "start_time": "2022-06-14T11:44:43.085Z"
   },
   {
    "duration": 10,
    "start_time": "2022-06-14T11:44:59.607Z"
   },
   {
    "duration": 11,
    "start_time": "2022-06-14T11:45:08.675Z"
   },
   {
    "duration": 12,
    "start_time": "2022-06-14T11:45:17.299Z"
   },
   {
    "duration": 1404,
    "start_time": "2022-06-14T11:45:49.929Z"
   },
   {
    "duration": 13,
    "start_time": "2022-06-14T11:45:51.335Z"
   },
   {
    "duration": 23,
    "start_time": "2022-06-14T11:45:51.350Z"
   },
   {
    "duration": 9,
    "start_time": "2022-06-14T11:45:51.374Z"
   },
   {
    "duration": 17,
    "start_time": "2022-06-14T11:45:51.385Z"
   },
   {
    "duration": 15,
    "start_time": "2022-06-14T11:45:51.403Z"
   },
   {
    "duration": 10,
    "start_time": "2022-06-14T11:45:51.420Z"
   },
   {
    "duration": 117,
    "start_time": "2022-06-14T11:45:51.431Z"
   },
   {
    "duration": 29,
    "start_time": "2022-06-14T11:45:51.550Z"
   },
   {
    "duration": 29,
    "start_time": "2022-06-14T11:45:51.581Z"
   },
   {
    "duration": 33,
    "start_time": "2022-06-14T11:45:51.612Z"
   },
   {
    "duration": 26,
    "start_time": "2022-06-14T11:45:51.647Z"
   },
   {
    "duration": 11,
    "start_time": "2022-06-14T11:45:51.693Z"
   },
   {
    "duration": 11,
    "start_time": "2022-06-14T11:45:51.707Z"
   },
   {
    "duration": 43,
    "start_time": "2022-06-14T11:45:51.719Z"
   },
   {
    "duration": 22,
    "start_time": "2022-06-14T11:45:51.764Z"
   },
   {
    "duration": 14,
    "start_time": "2022-06-14T11:45:51.788Z"
   },
   {
    "duration": 13,
    "start_time": "2022-06-14T11:45:51.803Z"
   },
   {
    "duration": 12,
    "start_time": "2022-06-14T11:45:51.817Z"
   },
   {
    "duration": 31,
    "start_time": "2022-06-14T11:45:51.830Z"
   },
   {
    "duration": 18,
    "start_time": "2022-06-14T11:45:51.863Z"
   },
   {
    "duration": 26,
    "start_time": "2022-06-14T11:45:51.882Z"
   },
   {
    "duration": 26,
    "start_time": "2022-06-14T11:45:51.910Z"
   },
   {
    "duration": 10,
    "start_time": "2022-06-14T11:45:51.938Z"
   },
   {
    "duration": 11,
    "start_time": "2022-06-14T11:45:51.950Z"
   },
   {
    "duration": 23,
    "start_time": "2022-06-14T11:45:51.963Z"
   },
   {
    "duration": 190,
    "start_time": "2022-06-14T11:45:51.987Z"
   },
   {
    "duration": 28,
    "start_time": "2022-06-14T11:45:52.179Z"
   },
   {
    "duration": 200,
    "start_time": "2022-06-14T11:45:52.209Z"
   },
   {
    "duration": 7,
    "start_time": "2022-06-14T11:45:52.411Z"
   },
   {
    "duration": 146,
    "start_time": "2022-06-14T11:45:52.420Z"
   },
   {
    "duration": 7,
    "start_time": "2022-06-14T11:45:52.568Z"
   },
   {
    "duration": 24,
    "start_time": "2022-06-14T11:45:52.576Z"
   },
   {
    "duration": 83,
    "start_time": "2022-06-14T11:45:52.602Z"
   },
   {
    "duration": 42,
    "start_time": "2022-06-14T11:45:52.687Z"
   },
   {
    "duration": 22,
    "start_time": "2022-06-14T11:45:52.731Z"
   },
   {
    "duration": 2,
    "start_time": "2022-06-14T11:45:52.755Z"
   },
   {
    "duration": 18,
    "start_time": "2022-06-14T11:45:52.759Z"
   },
   {
    "duration": 21,
    "start_time": "2022-06-14T11:45:52.778Z"
   },
   {
    "duration": 2,
    "start_time": "2022-06-14T11:45:52.801Z"
   },
   {
    "duration": 12,
    "start_time": "2022-06-14T11:45:52.807Z"
   },
   {
    "duration": 12,
    "start_time": "2022-06-14T11:45:52.821Z"
   },
   {
    "duration": 9,
    "start_time": "2022-06-14T11:45:52.834Z"
   },
   {
    "duration": 15,
    "start_time": "2022-06-14T11:45:52.844Z"
   },
   {
    "duration": 112,
    "start_time": "2022-06-14T11:45:52.860Z"
   },
   {
    "duration": 0,
    "start_time": "2022-06-14T11:45:52.973Z"
   },
   {
    "duration": 0,
    "start_time": "2022-06-14T11:45:52.975Z"
   },
   {
    "duration": 0,
    "start_time": "2022-06-14T11:45:52.976Z"
   },
   {
    "duration": 0,
    "start_time": "2022-06-14T11:45:52.977Z"
   },
   {
    "duration": 0,
    "start_time": "2022-06-14T11:45:52.978Z"
   },
   {
    "duration": 0,
    "start_time": "2022-06-14T11:45:52.979Z"
   },
   {
    "duration": 0,
    "start_time": "2022-06-14T11:45:52.980Z"
   },
   {
    "duration": 0,
    "start_time": "2022-06-14T11:45:52.994Z"
   },
   {
    "duration": 0,
    "start_time": "2022-06-14T11:45:52.996Z"
   },
   {
    "duration": 0,
    "start_time": "2022-06-14T11:45:52.997Z"
   },
   {
    "duration": 0,
    "start_time": "2022-06-14T11:45:52.998Z"
   },
   {
    "duration": 0,
    "start_time": "2022-06-14T11:45:52.999Z"
   },
   {
    "duration": 0,
    "start_time": "2022-06-14T11:45:52.999Z"
   },
   {
    "duration": 1,
    "start_time": "2022-06-14T11:45:53.000Z"
   },
   {
    "duration": 0,
    "start_time": "2022-06-14T11:45:53.001Z"
   },
   {
    "duration": 0,
    "start_time": "2022-06-14T11:45:53.002Z"
   },
   {
    "duration": 0,
    "start_time": "2022-06-14T11:45:53.004Z"
   },
   {
    "duration": 0,
    "start_time": "2022-06-14T11:45:53.006Z"
   },
   {
    "duration": 0,
    "start_time": "2022-06-14T11:45:53.008Z"
   },
   {
    "duration": 0,
    "start_time": "2022-06-14T11:45:53.009Z"
   },
   {
    "duration": 0,
    "start_time": "2022-06-14T11:45:53.010Z"
   },
   {
    "duration": 1,
    "start_time": "2022-06-14T11:45:53.012Z"
   },
   {
    "duration": 0,
    "start_time": "2022-06-14T11:45:53.014Z"
   },
   {
    "duration": 0,
    "start_time": "2022-06-14T11:45:53.015Z"
   },
   {
    "duration": 0,
    "start_time": "2022-06-14T11:45:53.017Z"
   },
   {
    "duration": 0,
    "start_time": "2022-06-14T11:45:53.018Z"
   },
   {
    "duration": 9,
    "start_time": "2022-06-14T11:48:17.202Z"
   },
   {
    "duration": 447,
    "start_time": "2022-06-14T11:48:30.681Z"
   },
   {
    "duration": 7,
    "start_time": "2022-06-14T11:49:10.403Z"
   },
   {
    "duration": 12,
    "start_time": "2022-06-14T11:49:20.002Z"
   },
   {
    "duration": 1005,
    "start_time": "2022-06-14T11:51:31.930Z"
   },
   {
    "duration": 1034,
    "start_time": "2022-06-14T11:52:46.627Z"
   },
   {
    "duration": 12,
    "start_time": "2022-06-14T11:53:20.991Z"
   },
   {
    "duration": 5,
    "start_time": "2022-06-14T11:53:54.648Z"
   },
   {
    "duration": 982,
    "start_time": "2022-06-14T11:54:00.222Z"
   },
   {
    "duration": 15,
    "start_time": "2022-06-14T11:54:16.113Z"
   },
   {
    "duration": 1458,
    "start_time": "2022-06-14T11:54:35.682Z"
   },
   {
    "duration": 13,
    "start_time": "2022-06-14T11:54:37.142Z"
   },
   {
    "duration": 12,
    "start_time": "2022-06-14T11:54:37.156Z"
   },
   {
    "duration": 8,
    "start_time": "2022-06-14T11:54:37.170Z"
   },
   {
    "duration": 11,
    "start_time": "2022-06-14T11:54:37.180Z"
   },
   {
    "duration": 9,
    "start_time": "2022-06-14T11:54:37.194Z"
   },
   {
    "duration": 14,
    "start_time": "2022-06-14T11:54:37.205Z"
   },
   {
    "duration": 110,
    "start_time": "2022-06-14T11:54:37.220Z"
   },
   {
    "duration": 28,
    "start_time": "2022-06-14T11:54:37.332Z"
   },
   {
    "duration": 39,
    "start_time": "2022-06-14T11:54:37.362Z"
   },
   {
    "duration": 31,
    "start_time": "2022-06-14T11:54:37.402Z"
   },
   {
    "duration": 22,
    "start_time": "2022-06-14T11:54:37.435Z"
   },
   {
    "duration": 35,
    "start_time": "2022-06-14T11:54:37.459Z"
   },
   {
    "duration": 11,
    "start_time": "2022-06-14T11:54:37.498Z"
   },
   {
    "duration": 28,
    "start_time": "2022-06-14T11:54:37.511Z"
   },
   {
    "duration": 17,
    "start_time": "2022-06-14T11:54:37.540Z"
   },
   {
    "duration": 13,
    "start_time": "2022-06-14T11:54:37.559Z"
   },
   {
    "duration": 28,
    "start_time": "2022-06-14T11:54:37.573Z"
   },
   {
    "duration": 10,
    "start_time": "2022-06-14T11:54:37.602Z"
   },
   {
    "duration": 34,
    "start_time": "2022-06-14T11:54:37.614Z"
   },
   {
    "duration": 25,
    "start_time": "2022-06-14T11:54:37.649Z"
   },
   {
    "duration": 28,
    "start_time": "2022-06-14T11:54:37.676Z"
   },
   {
    "duration": 21,
    "start_time": "2022-06-14T11:54:37.705Z"
   },
   {
    "duration": 10,
    "start_time": "2022-06-14T11:54:37.727Z"
   },
   {
    "duration": 9,
    "start_time": "2022-06-14T11:54:37.739Z"
   },
   {
    "duration": 12,
    "start_time": "2022-06-14T11:54:37.749Z"
   },
   {
    "duration": 205,
    "start_time": "2022-06-14T11:54:37.762Z"
   },
   {
    "duration": 32,
    "start_time": "2022-06-14T11:54:37.969Z"
   },
   {
    "duration": 218,
    "start_time": "2022-06-14T11:54:38.003Z"
   },
   {
    "duration": 7,
    "start_time": "2022-06-14T11:54:38.223Z"
   },
   {
    "duration": 147,
    "start_time": "2022-06-14T11:54:38.231Z"
   },
   {
    "duration": 7,
    "start_time": "2022-06-14T11:54:38.379Z"
   },
   {
    "duration": 8,
    "start_time": "2022-06-14T11:54:38.395Z"
   },
   {
    "duration": 76,
    "start_time": "2022-06-14T11:54:38.405Z"
   },
   {
    "duration": 32,
    "start_time": "2022-06-14T11:54:38.494Z"
   },
   {
    "duration": 25,
    "start_time": "2022-06-14T11:54:38.528Z"
   },
   {
    "duration": 2,
    "start_time": "2022-06-14T11:54:38.555Z"
   },
   {
    "duration": 6,
    "start_time": "2022-06-14T11:54:38.558Z"
   },
   {
    "duration": 35,
    "start_time": "2022-06-14T11:54:38.566Z"
   },
   {
    "duration": 2,
    "start_time": "2022-06-14T11:54:38.602Z"
   },
   {
    "duration": 10,
    "start_time": "2022-06-14T11:54:38.608Z"
   },
   {
    "duration": 9,
    "start_time": "2022-06-14T11:54:38.620Z"
   },
   {
    "duration": 5,
    "start_time": "2022-06-14T11:54:38.631Z"
   },
   {
    "duration": 12,
    "start_time": "2022-06-14T11:54:38.637Z"
   },
   {
    "duration": 6,
    "start_time": "2022-06-14T11:54:38.651Z"
   },
   {
    "duration": 109,
    "start_time": "2022-06-14T11:54:38.659Z"
   },
   {
    "duration": 0,
    "start_time": "2022-06-14T11:54:38.769Z"
   },
   {
    "duration": 0,
    "start_time": "2022-06-14T11:54:38.770Z"
   },
   {
    "duration": 0,
    "start_time": "2022-06-14T11:54:38.771Z"
   },
   {
    "duration": 0,
    "start_time": "2022-06-14T11:54:38.773Z"
   },
   {
    "duration": 0,
    "start_time": "2022-06-14T11:54:38.774Z"
   },
   {
    "duration": 0,
    "start_time": "2022-06-14T11:54:38.775Z"
   },
   {
    "duration": 0,
    "start_time": "2022-06-14T11:54:38.776Z"
   },
   {
    "duration": 0,
    "start_time": "2022-06-14T11:54:38.776Z"
   },
   {
    "duration": 0,
    "start_time": "2022-06-14T11:54:38.794Z"
   },
   {
    "duration": 0,
    "start_time": "2022-06-14T11:54:38.795Z"
   },
   {
    "duration": 0,
    "start_time": "2022-06-14T11:54:38.796Z"
   },
   {
    "duration": 0,
    "start_time": "2022-06-14T11:54:38.797Z"
   },
   {
    "duration": 0,
    "start_time": "2022-06-14T11:54:38.798Z"
   },
   {
    "duration": 0,
    "start_time": "2022-06-14T11:54:38.799Z"
   },
   {
    "duration": 0,
    "start_time": "2022-06-14T11:54:38.799Z"
   },
   {
    "duration": 0,
    "start_time": "2022-06-14T11:54:38.800Z"
   },
   {
    "duration": 0,
    "start_time": "2022-06-14T11:54:38.801Z"
   },
   {
    "duration": 0,
    "start_time": "2022-06-14T11:54:38.802Z"
   },
   {
    "duration": 0,
    "start_time": "2022-06-14T11:54:38.803Z"
   },
   {
    "duration": 0,
    "start_time": "2022-06-14T11:54:38.804Z"
   },
   {
    "duration": 0,
    "start_time": "2022-06-14T11:54:38.805Z"
   },
   {
    "duration": 0,
    "start_time": "2022-06-14T11:54:38.806Z"
   },
   {
    "duration": 0,
    "start_time": "2022-06-14T11:54:38.806Z"
   },
   {
    "duration": 0,
    "start_time": "2022-06-14T11:54:38.807Z"
   },
   {
    "duration": 0,
    "start_time": "2022-06-14T11:54:38.808Z"
   },
   {
    "duration": 0,
    "start_time": "2022-06-14T11:54:38.809Z"
   },
   {
    "duration": 1023,
    "start_time": "2022-06-14T11:56:03.405Z"
   },
   {
    "duration": 15,
    "start_time": "2022-06-14T11:56:34.619Z"
   },
   {
    "duration": 5,
    "start_time": "2022-06-14T11:56:44.353Z"
   },
   {
    "duration": 21,
    "start_time": "2022-06-14T11:56:45.154Z"
   },
   {
    "duration": 1348,
    "start_time": "2022-06-14T11:56:54.151Z"
   },
   {
    "duration": 14,
    "start_time": "2022-06-14T11:56:55.501Z"
   },
   {
    "duration": 15,
    "start_time": "2022-06-14T11:56:55.517Z"
   },
   {
    "duration": 10,
    "start_time": "2022-06-14T11:56:55.533Z"
   },
   {
    "duration": 15,
    "start_time": "2022-06-14T11:56:55.545Z"
   },
   {
    "duration": 21,
    "start_time": "2022-06-14T11:56:55.562Z"
   },
   {
    "duration": 16,
    "start_time": "2022-06-14T11:56:55.585Z"
   },
   {
    "duration": 102,
    "start_time": "2022-06-14T11:56:55.602Z"
   },
   {
    "duration": 25,
    "start_time": "2022-06-14T11:56:55.705Z"
   },
   {
    "duration": 20,
    "start_time": "2022-06-14T11:56:55.733Z"
   },
   {
    "duration": 49,
    "start_time": "2022-06-14T11:56:55.755Z"
   },
   {
    "duration": 19,
    "start_time": "2022-06-14T11:56:55.806Z"
   },
   {
    "duration": 12,
    "start_time": "2022-06-14T11:56:55.826Z"
   },
   {
    "duration": 9,
    "start_time": "2022-06-14T11:56:55.839Z"
   },
   {
    "duration": 17,
    "start_time": "2022-06-14T11:56:55.849Z"
   },
   {
    "duration": 37,
    "start_time": "2022-06-14T11:56:55.867Z"
   },
   {
    "duration": 13,
    "start_time": "2022-06-14T11:56:55.905Z"
   },
   {
    "duration": 12,
    "start_time": "2022-06-14T11:56:55.919Z"
   },
   {
    "duration": 8,
    "start_time": "2022-06-14T11:56:55.933Z"
   },
   {
    "duration": 25,
    "start_time": "2022-06-14T11:56:55.943Z"
   },
   {
    "duration": 36,
    "start_time": "2022-06-14T11:56:55.969Z"
   },
   {
    "duration": 14,
    "start_time": "2022-06-14T11:56:56.007Z"
   },
   {
    "duration": 21,
    "start_time": "2022-06-14T11:56:56.022Z"
   },
   {
    "duration": 11,
    "start_time": "2022-06-14T11:56:56.044Z"
   },
   {
    "duration": 39,
    "start_time": "2022-06-14T11:56:56.056Z"
   },
   {
    "duration": 12,
    "start_time": "2022-06-14T11:56:56.097Z"
   },
   {
    "duration": 197,
    "start_time": "2022-06-14T11:56:56.110Z"
   },
   {
    "duration": 23,
    "start_time": "2022-06-14T11:56:56.311Z"
   },
   {
    "duration": 203,
    "start_time": "2022-06-14T11:56:56.336Z"
   },
   {
    "duration": 8,
    "start_time": "2022-06-14T11:56:56.541Z"
   },
   {
    "duration": 164,
    "start_time": "2022-06-14T11:56:56.551Z"
   },
   {
    "duration": 7,
    "start_time": "2022-06-14T11:56:56.717Z"
   },
   {
    "duration": 11,
    "start_time": "2022-06-14T11:56:56.725Z"
   },
   {
    "duration": 93,
    "start_time": "2022-06-14T11:56:56.737Z"
   },
   {
    "duration": 33,
    "start_time": "2022-06-14T11:56:56.832Z"
   },
   {
    "duration": 40,
    "start_time": "2022-06-14T11:56:56.867Z"
   },
   {
    "duration": 2,
    "start_time": "2022-06-14T11:56:56.908Z"
   },
   {
    "duration": 5,
    "start_time": "2022-06-14T11:56:56.912Z"
   },
   {
    "duration": 18,
    "start_time": "2022-06-14T11:56:56.919Z"
   },
   {
    "duration": 2,
    "start_time": "2022-06-14T11:56:56.938Z"
   },
   {
    "duration": 14,
    "start_time": "2022-06-14T11:56:56.941Z"
   },
   {
    "duration": 8,
    "start_time": "2022-06-14T11:56:56.957Z"
   },
   {
    "duration": 5,
    "start_time": "2022-06-14T11:56:56.966Z"
   },
   {
    "duration": 24,
    "start_time": "2022-06-14T11:56:56.973Z"
   },
   {
    "duration": 7,
    "start_time": "2022-06-14T11:56:56.998Z"
   },
   {
    "duration": 109,
    "start_time": "2022-06-14T11:56:57.007Z"
   },
   {
    "duration": 0,
    "start_time": "2022-06-14T11:56:57.117Z"
   },
   {
    "duration": 0,
    "start_time": "2022-06-14T11:56:57.118Z"
   },
   {
    "duration": 0,
    "start_time": "2022-06-14T11:56:57.119Z"
   },
   {
    "duration": 0,
    "start_time": "2022-06-14T11:56:57.120Z"
   },
   {
    "duration": 0,
    "start_time": "2022-06-14T11:56:57.121Z"
   },
   {
    "duration": 0,
    "start_time": "2022-06-14T11:56:57.122Z"
   },
   {
    "duration": 0,
    "start_time": "2022-06-14T11:56:57.123Z"
   },
   {
    "duration": 0,
    "start_time": "2022-06-14T11:56:57.125Z"
   },
   {
    "duration": 0,
    "start_time": "2022-06-14T11:56:57.126Z"
   },
   {
    "duration": 0,
    "start_time": "2022-06-14T11:56:57.127Z"
   },
   {
    "duration": 0,
    "start_time": "2022-06-14T11:56:57.128Z"
   },
   {
    "duration": 0,
    "start_time": "2022-06-14T11:56:57.129Z"
   },
   {
    "duration": 0,
    "start_time": "2022-06-14T11:56:57.130Z"
   },
   {
    "duration": 0,
    "start_time": "2022-06-14T11:56:57.131Z"
   },
   {
    "duration": 0,
    "start_time": "2022-06-14T11:56:57.132Z"
   },
   {
    "duration": 0,
    "start_time": "2022-06-14T11:56:57.133Z"
   },
   {
    "duration": 0,
    "start_time": "2022-06-14T11:56:57.134Z"
   },
   {
    "duration": 1,
    "start_time": "2022-06-14T11:56:57.134Z"
   },
   {
    "duration": 0,
    "start_time": "2022-06-14T11:56:57.135Z"
   },
   {
    "duration": 0,
    "start_time": "2022-06-14T11:56:57.136Z"
   },
   {
    "duration": 0,
    "start_time": "2022-06-14T11:56:57.138Z"
   },
   {
    "duration": 0,
    "start_time": "2022-06-14T11:56:57.138Z"
   },
   {
    "duration": 0,
    "start_time": "2022-06-14T11:56:57.140Z"
   },
   {
    "duration": 0,
    "start_time": "2022-06-14T11:56:57.141Z"
   },
   {
    "duration": 0,
    "start_time": "2022-06-14T11:56:57.142Z"
   },
   {
    "duration": 0,
    "start_time": "2022-06-14T11:56:57.143Z"
   },
   {
    "duration": 6,
    "start_time": "2022-06-14T11:58:16.445Z"
   },
   {
    "duration": 11,
    "start_time": "2022-06-14T11:58:17.251Z"
   },
   {
    "duration": 4,
    "start_time": "2022-06-14T11:58:23.128Z"
   },
   {
    "duration": 11,
    "start_time": "2022-06-14T11:58:23.717Z"
   },
   {
    "duration": 6,
    "start_time": "2022-06-14T11:58:25.118Z"
   },
   {
    "duration": 12,
    "start_time": "2022-06-14T11:58:25.725Z"
   },
   {
    "duration": 14,
    "start_time": "2022-06-14T11:58:47.455Z"
   },
   {
    "duration": 966,
    "start_time": "2022-06-14T11:59:53.109Z"
   },
   {
    "duration": 1068,
    "start_time": "2022-06-14T12:00:01.090Z"
   },
   {
    "duration": 6,
    "start_time": "2022-06-14T12:00:08.633Z"
   },
   {
    "duration": 1410,
    "start_time": "2022-06-14T12:00:18.312Z"
   },
   {
    "duration": 14,
    "start_time": "2022-06-14T12:00:19.724Z"
   },
   {
    "duration": 30,
    "start_time": "2022-06-14T12:00:19.740Z"
   },
   {
    "duration": 29,
    "start_time": "2022-06-14T12:00:19.772Z"
   },
   {
    "duration": 15,
    "start_time": "2022-06-14T12:00:19.802Z"
   },
   {
    "duration": 22,
    "start_time": "2022-06-14T12:00:19.818Z"
   },
   {
    "duration": 28,
    "start_time": "2022-06-14T12:00:19.842Z"
   },
   {
    "duration": 93,
    "start_time": "2022-06-14T12:00:19.871Z"
   },
   {
    "duration": 30,
    "start_time": "2022-06-14T12:00:19.966Z"
   },
   {
    "duration": 19,
    "start_time": "2022-06-14T12:00:19.999Z"
   },
   {
    "duration": 39,
    "start_time": "2022-06-14T12:00:20.020Z"
   },
   {
    "duration": 18,
    "start_time": "2022-06-14T12:00:20.061Z"
   },
   {
    "duration": 24,
    "start_time": "2022-06-14T12:00:20.081Z"
   },
   {
    "duration": 11,
    "start_time": "2022-06-14T12:00:20.107Z"
   },
   {
    "duration": 26,
    "start_time": "2022-06-14T12:00:20.120Z"
   },
   {
    "duration": 25,
    "start_time": "2022-06-14T12:00:20.148Z"
   },
   {
    "duration": 18,
    "start_time": "2022-06-14T12:00:20.174Z"
   },
   {
    "duration": 34,
    "start_time": "2022-06-14T12:00:20.193Z"
   },
   {
    "duration": 15,
    "start_time": "2022-06-14T12:00:20.229Z"
   },
   {
    "duration": 46,
    "start_time": "2022-06-14T12:00:20.246Z"
   },
   {
    "duration": 16,
    "start_time": "2022-06-14T12:00:20.294Z"
   },
   {
    "duration": 25,
    "start_time": "2022-06-14T12:00:20.312Z"
   },
   {
    "duration": 48,
    "start_time": "2022-06-14T12:00:20.339Z"
   },
   {
    "duration": 17,
    "start_time": "2022-06-14T12:00:20.389Z"
   },
   {
    "duration": 21,
    "start_time": "2022-06-14T12:00:20.409Z"
   },
   {
    "duration": 28,
    "start_time": "2022-06-14T12:00:20.432Z"
   },
   {
    "duration": 218,
    "start_time": "2022-06-14T12:00:20.462Z"
   },
   {
    "duration": 29,
    "start_time": "2022-06-14T12:00:20.684Z"
   },
   {
    "duration": 197,
    "start_time": "2022-06-14T12:00:20.715Z"
   },
   {
    "duration": 8,
    "start_time": "2022-06-14T12:00:20.914Z"
   },
   {
    "duration": 162,
    "start_time": "2022-06-14T12:00:20.924Z"
   },
   {
    "duration": 12,
    "start_time": "2022-06-14T12:00:21.087Z"
   },
   {
    "duration": 38,
    "start_time": "2022-06-14T12:00:21.100Z"
   },
   {
    "duration": 90,
    "start_time": "2022-06-14T12:00:21.139Z"
   },
   {
    "duration": 33,
    "start_time": "2022-06-14T12:00:21.230Z"
   },
   {
    "duration": 36,
    "start_time": "2022-06-14T12:00:21.265Z"
   },
   {
    "duration": 2,
    "start_time": "2022-06-14T12:00:21.303Z"
   },
   {
    "duration": 30,
    "start_time": "2022-06-14T12:00:21.306Z"
   },
   {
    "duration": 28,
    "start_time": "2022-06-14T12:00:21.338Z"
   },
   {
    "duration": 13,
    "start_time": "2022-06-14T12:00:21.368Z"
   },
   {
    "duration": 34,
    "start_time": "2022-06-14T12:00:21.382Z"
   },
   {
    "duration": 38,
    "start_time": "2022-06-14T12:00:21.417Z"
   },
   {
    "duration": 14,
    "start_time": "2022-06-14T12:00:21.457Z"
   },
   {
    "duration": 38,
    "start_time": "2022-06-14T12:00:21.473Z"
   },
   {
    "duration": 14,
    "start_time": "2022-06-14T12:00:21.512Z"
   },
   {
    "duration": 969,
    "start_time": "2022-06-14T12:00:21.527Z"
   },
   {
    "duration": 8,
    "start_time": "2022-06-14T12:00:22.497Z"
   },
   {
    "duration": 19,
    "start_time": "2022-06-14T12:00:22.506Z"
   },
   {
    "duration": 13,
    "start_time": "2022-06-14T12:00:22.527Z"
   },
   {
    "duration": 191,
    "start_time": "2022-06-14T12:00:22.542Z"
   },
   {
    "duration": 0,
    "start_time": "2022-06-14T12:00:22.735Z"
   },
   {
    "duration": 0,
    "start_time": "2022-06-14T12:00:22.736Z"
   },
   {
    "duration": 0,
    "start_time": "2022-06-14T12:00:22.737Z"
   },
   {
    "duration": 0,
    "start_time": "2022-06-14T12:00:22.739Z"
   },
   {
    "duration": 0,
    "start_time": "2022-06-14T12:00:22.741Z"
   },
   {
    "duration": 0,
    "start_time": "2022-06-14T12:00:22.743Z"
   },
   {
    "duration": 0,
    "start_time": "2022-06-14T12:00:22.744Z"
   },
   {
    "duration": 0,
    "start_time": "2022-06-14T12:00:22.746Z"
   },
   {
    "duration": 0,
    "start_time": "2022-06-14T12:00:22.748Z"
   },
   {
    "duration": 0,
    "start_time": "2022-06-14T12:00:22.749Z"
   },
   {
    "duration": 0,
    "start_time": "2022-06-14T12:00:22.751Z"
   },
   {
    "duration": 0,
    "start_time": "2022-06-14T12:00:22.752Z"
   },
   {
    "duration": 0,
    "start_time": "2022-06-14T12:00:22.754Z"
   },
   {
    "duration": 0,
    "start_time": "2022-06-14T12:00:22.756Z"
   },
   {
    "duration": 0,
    "start_time": "2022-06-14T12:00:22.757Z"
   },
   {
    "duration": 0,
    "start_time": "2022-06-14T12:00:22.758Z"
   },
   {
    "duration": 0,
    "start_time": "2022-06-14T12:00:22.795Z"
   },
   {
    "duration": 0,
    "start_time": "2022-06-14T12:00:22.796Z"
   },
   {
    "duration": 0,
    "start_time": "2022-06-14T12:00:22.798Z"
   },
   {
    "duration": 0,
    "start_time": "2022-06-14T12:00:22.799Z"
   },
   {
    "duration": 0,
    "start_time": "2022-06-14T12:00:22.801Z"
   },
   {
    "duration": 0,
    "start_time": "2022-06-14T12:00:22.802Z"
   },
   {
    "duration": 18,
    "start_time": "2022-06-14T12:02:04.792Z"
   },
   {
    "duration": 82,
    "start_time": "2022-06-14T12:02:17.444Z"
   },
   {
    "duration": 154,
    "start_time": "2022-06-14T12:03:13.342Z"
   },
   {
    "duration": 212,
    "start_time": "2022-06-14T12:03:20.970Z"
   },
   {
    "duration": 1354,
    "start_time": "2022-06-14T12:03:28.678Z"
   },
   {
    "duration": 22,
    "start_time": "2022-06-14T12:03:30.035Z"
   },
   {
    "duration": 13,
    "start_time": "2022-06-14T12:03:30.059Z"
   },
   {
    "duration": 7,
    "start_time": "2022-06-14T12:03:30.074Z"
   },
   {
    "duration": 16,
    "start_time": "2022-06-14T12:03:30.083Z"
   },
   {
    "duration": 12,
    "start_time": "2022-06-14T12:03:30.101Z"
   },
   {
    "duration": 14,
    "start_time": "2022-06-14T12:03:30.114Z"
   },
   {
    "duration": 117,
    "start_time": "2022-06-14T12:03:30.130Z"
   },
   {
    "duration": 25,
    "start_time": "2022-06-14T12:03:30.248Z"
   },
   {
    "duration": 38,
    "start_time": "2022-06-14T12:03:30.276Z"
   },
   {
    "duration": 27,
    "start_time": "2022-06-14T12:03:30.316Z"
   },
   {
    "duration": 23,
    "start_time": "2022-06-14T12:03:30.344Z"
   },
   {
    "duration": 33,
    "start_time": "2022-06-14T12:03:30.369Z"
   },
   {
    "duration": 19,
    "start_time": "2022-06-14T12:03:30.404Z"
   },
   {
    "duration": 37,
    "start_time": "2022-06-14T12:03:30.425Z"
   },
   {
    "duration": 18,
    "start_time": "2022-06-14T12:03:30.464Z"
   },
   {
    "duration": 18,
    "start_time": "2022-06-14T12:03:30.483Z"
   },
   {
    "duration": 28,
    "start_time": "2022-06-14T12:03:30.503Z"
   },
   {
    "duration": 23,
    "start_time": "2022-06-14T12:03:30.533Z"
   },
   {
    "duration": 46,
    "start_time": "2022-06-14T12:03:30.557Z"
   },
   {
    "duration": 17,
    "start_time": "2022-06-14T12:03:30.605Z"
   },
   {
    "duration": 25,
    "start_time": "2022-06-14T12:03:30.624Z"
   },
   {
    "duration": 33,
    "start_time": "2022-06-14T12:03:30.651Z"
   },
   {
    "duration": 16,
    "start_time": "2022-06-14T12:03:30.686Z"
   },
   {
    "duration": 22,
    "start_time": "2022-06-14T12:03:30.704Z"
   },
   {
    "duration": 16,
    "start_time": "2022-06-14T12:03:30.728Z"
   },
   {
    "duration": 198,
    "start_time": "2022-06-14T12:03:30.746Z"
   },
   {
    "duration": 24,
    "start_time": "2022-06-14T12:03:30.947Z"
   },
   {
    "duration": 197,
    "start_time": "2022-06-14T12:03:30.972Z"
   },
   {
    "duration": 8,
    "start_time": "2022-06-14T12:03:31.171Z"
   },
   {
    "duration": 160,
    "start_time": "2022-06-14T12:03:31.194Z"
   },
   {
    "duration": 7,
    "start_time": "2022-06-14T12:03:31.355Z"
   },
   {
    "duration": 32,
    "start_time": "2022-06-14T12:03:31.364Z"
   },
   {
    "duration": 106,
    "start_time": "2022-06-14T12:03:31.397Z"
   },
   {
    "duration": 34,
    "start_time": "2022-06-14T12:03:31.505Z"
   },
   {
    "duration": 22,
    "start_time": "2022-06-14T12:03:31.541Z"
   },
   {
    "duration": 3,
    "start_time": "2022-06-14T12:03:31.565Z"
   },
   {
    "duration": 47,
    "start_time": "2022-06-14T12:03:31.569Z"
   },
   {
    "duration": 45,
    "start_time": "2022-06-14T12:03:31.618Z"
   },
   {
    "duration": 4,
    "start_time": "2022-06-14T12:03:31.664Z"
   },
   {
    "duration": 30,
    "start_time": "2022-06-14T12:03:31.669Z"
   },
   {
    "duration": 31,
    "start_time": "2022-06-14T12:03:31.701Z"
   },
   {
    "duration": 31,
    "start_time": "2022-06-14T12:03:31.733Z"
   },
   {
    "duration": 23,
    "start_time": "2022-06-14T12:03:31.765Z"
   },
   {
    "duration": 16,
    "start_time": "2022-06-14T12:03:31.789Z"
   },
   {
    "duration": 1095,
    "start_time": "2022-06-14T12:03:31.807Z"
   },
   {
    "duration": 106,
    "start_time": "2022-06-14T12:03:32.904Z"
   },
   {
    "duration": 173,
    "start_time": "2022-06-14T12:03:33.012Z"
   },
   {
    "duration": 633,
    "start_time": "2022-06-14T12:03:33.187Z"
   },
   {
    "duration": 8,
    "start_time": "2022-06-14T12:03:33.822Z"
   },
   {
    "duration": 18,
    "start_time": "2022-06-14T12:03:33.831Z"
   },
   {
    "duration": 18145,
    "start_time": "2022-06-14T12:03:33.851Z"
   },
   {
    "duration": 0,
    "start_time": "2022-06-14T12:03:51.998Z"
   },
   {
    "duration": 0,
    "start_time": "2022-06-14T12:03:52.000Z"
   },
   {
    "duration": 0,
    "start_time": "2022-06-14T12:03:52.001Z"
   },
   {
    "duration": 0,
    "start_time": "2022-06-14T12:03:52.002Z"
   },
   {
    "duration": 0,
    "start_time": "2022-06-14T12:03:52.003Z"
   },
   {
    "duration": 0,
    "start_time": "2022-06-14T12:03:52.005Z"
   },
   {
    "duration": 0,
    "start_time": "2022-06-14T12:03:52.006Z"
   },
   {
    "duration": 0,
    "start_time": "2022-06-14T12:03:52.007Z"
   },
   {
    "duration": 0,
    "start_time": "2022-06-14T12:03:52.009Z"
   },
   {
    "duration": 0,
    "start_time": "2022-06-14T12:03:52.010Z"
   },
   {
    "duration": 0,
    "start_time": "2022-06-14T12:03:52.011Z"
   },
   {
    "duration": 0,
    "start_time": "2022-06-14T12:03:52.012Z"
   },
   {
    "duration": 0,
    "start_time": "2022-06-14T12:03:52.014Z"
   },
   {
    "duration": 0,
    "start_time": "2022-06-14T12:03:52.016Z"
   },
   {
    "duration": 0,
    "start_time": "2022-06-14T12:03:52.017Z"
   },
   {
    "duration": 0,
    "start_time": "2022-06-14T12:03:52.018Z"
   },
   {
    "duration": 0,
    "start_time": "2022-06-14T12:03:52.020Z"
   },
   {
    "duration": 0,
    "start_time": "2022-06-14T12:03:52.021Z"
   },
   {
    "duration": 0,
    "start_time": "2022-06-14T12:03:52.023Z"
   },
   {
    "duration": 0,
    "start_time": "2022-06-14T12:03:52.024Z"
   },
   {
    "duration": 0,
    "start_time": "2022-06-14T12:03:52.025Z"
   },
   {
    "duration": 0,
    "start_time": "2022-06-14T12:03:52.027Z"
   },
   {
    "duration": 3,
    "start_time": "2022-06-14T12:07:59.538Z"
   },
   {
    "duration": 2,
    "start_time": "2022-06-14T12:08:02.679Z"
   },
   {
    "duration": 2,
    "start_time": "2022-06-14T12:09:10.238Z"
   },
   {
    "duration": 44,
    "start_time": "2022-06-14T12:14:07.698Z"
   },
   {
    "duration": 12,
    "start_time": "2022-06-14T12:15:06.621Z"
   },
   {
    "duration": 11,
    "start_time": "2022-06-14T12:16:15.675Z"
   },
   {
    "duration": 0,
    "start_time": "2022-06-14T12:16:34.289Z"
   },
   {
    "duration": 3440,
    "start_time": "2022-06-14T12:17:01.543Z"
   },
   {
    "duration": 3223,
    "start_time": "2022-06-14T12:17:45.821Z"
   },
   {
    "duration": 5,
    "start_time": "2022-06-14T12:18:02.274Z"
   },
   {
    "duration": 1392,
    "start_time": "2022-06-14T12:19:09.222Z"
   },
   {
    "duration": 12,
    "start_time": "2022-06-14T12:19:10.616Z"
   },
   {
    "duration": 17,
    "start_time": "2022-06-14T12:19:10.629Z"
   },
   {
    "duration": 7,
    "start_time": "2022-06-14T12:19:10.648Z"
   },
   {
    "duration": 12,
    "start_time": "2022-06-14T12:19:10.656Z"
   },
   {
    "duration": 12,
    "start_time": "2022-06-14T12:19:10.669Z"
   },
   {
    "duration": 18,
    "start_time": "2022-06-14T12:19:10.682Z"
   },
   {
    "duration": 97,
    "start_time": "2022-06-14T12:19:10.702Z"
   },
   {
    "duration": 25,
    "start_time": "2022-06-14T12:19:10.801Z"
   },
   {
    "duration": 19,
    "start_time": "2022-06-14T12:19:10.829Z"
   },
   {
    "duration": 49,
    "start_time": "2022-06-14T12:19:10.849Z"
   },
   {
    "duration": 18,
    "start_time": "2022-06-14T12:19:10.900Z"
   },
   {
    "duration": 12,
    "start_time": "2022-06-14T12:19:10.920Z"
   },
   {
    "duration": 7,
    "start_time": "2022-06-14T12:19:10.933Z"
   },
   {
    "duration": 17,
    "start_time": "2022-06-14T12:19:10.942Z"
   },
   {
    "duration": 39,
    "start_time": "2022-06-14T12:19:10.960Z"
   },
   {
    "duration": 12,
    "start_time": "2022-06-14T12:19:11.001Z"
   },
   {
    "duration": 13,
    "start_time": "2022-06-14T12:19:11.014Z"
   },
   {
    "duration": 8,
    "start_time": "2022-06-14T12:19:11.028Z"
   },
   {
    "duration": 27,
    "start_time": "2022-06-14T12:19:11.038Z"
   },
   {
    "duration": 31,
    "start_time": "2022-06-14T12:19:11.066Z"
   },
   {
    "duration": 13,
    "start_time": "2022-06-14T12:19:11.098Z"
   },
   {
    "duration": 22,
    "start_time": "2022-06-14T12:19:11.112Z"
   },
   {
    "duration": 9,
    "start_time": "2022-06-14T12:19:11.136Z"
   },
   {
    "duration": 9,
    "start_time": "2022-06-14T12:19:11.147Z"
   },
   {
    "duration": 38,
    "start_time": "2022-06-14T12:19:11.157Z"
   },
   {
    "duration": 183,
    "start_time": "2022-06-14T12:19:11.196Z"
   },
   {
    "duration": 28,
    "start_time": "2022-06-14T12:19:11.383Z"
   },
   {
    "duration": 193,
    "start_time": "2022-06-14T12:19:11.413Z"
   },
   {
    "duration": 8,
    "start_time": "2022-06-14T12:19:11.607Z"
   },
   {
    "duration": 159,
    "start_time": "2022-06-14T12:19:11.616Z"
   },
   {
    "duration": 8,
    "start_time": "2022-06-14T12:19:11.776Z"
   },
   {
    "duration": 10,
    "start_time": "2022-06-14T12:19:11.794Z"
   },
   {
    "duration": 88,
    "start_time": "2022-06-14T12:19:11.806Z"
   },
   {
    "duration": 32,
    "start_time": "2022-06-14T12:19:11.896Z"
   },
   {
    "duration": 23,
    "start_time": "2022-06-14T12:19:11.929Z"
   },
   {
    "duration": 2,
    "start_time": "2022-06-14T12:19:11.953Z"
   },
   {
    "duration": 8,
    "start_time": "2022-06-14T12:19:11.956Z"
   },
   {
    "duration": 33,
    "start_time": "2022-06-14T12:19:11.965Z"
   },
   {
    "duration": 2,
    "start_time": "2022-06-14T12:19:12.000Z"
   },
   {
    "duration": 17,
    "start_time": "2022-06-14T12:19:12.003Z"
   },
   {
    "duration": 10,
    "start_time": "2022-06-14T12:19:12.022Z"
   },
   {
    "duration": 7,
    "start_time": "2022-06-14T12:19:12.033Z"
   },
   {
    "duration": 13,
    "start_time": "2022-06-14T12:19:12.041Z"
   },
   {
    "duration": 24,
    "start_time": "2022-06-14T12:19:12.055Z"
   },
   {
    "duration": 927,
    "start_time": "2022-06-14T12:19:12.080Z"
   },
   {
    "duration": 2,
    "start_time": "2022-06-14T12:19:13.009Z"
   },
   {
    "duration": 6,
    "start_time": "2022-06-14T12:19:13.012Z"
   },
   {
    "duration": 10,
    "start_time": "2022-06-14T12:19:13.020Z"
   },
   {
    "duration": 5,
    "start_time": "2022-06-14T12:19:13.031Z"
   },
   {
    "duration": 6,
    "start_time": "2022-06-14T12:19:13.038Z"
   },
   {
    "duration": 241,
    "start_time": "2022-06-14T12:19:13.045Z"
   },
   {
    "duration": 2,
    "start_time": "2022-06-14T12:19:13.287Z"
   },
   {
    "duration": 12,
    "start_time": "2022-06-14T12:19:13.294Z"
   },
   {
    "duration": 15,
    "start_time": "2022-06-14T12:19:13.308Z"
   },
   {
    "duration": 110,
    "start_time": "2022-06-14T12:19:13.324Z"
   },
   {
    "duration": 0,
    "start_time": "2022-06-14T12:19:13.436Z"
   },
   {
    "duration": 0,
    "start_time": "2022-06-14T12:19:13.437Z"
   },
   {
    "duration": 0,
    "start_time": "2022-06-14T12:19:13.438Z"
   },
   {
    "duration": 0,
    "start_time": "2022-06-14T12:19:13.439Z"
   },
   {
    "duration": 0,
    "start_time": "2022-06-14T12:19:13.440Z"
   },
   {
    "duration": 0,
    "start_time": "2022-06-14T12:19:13.441Z"
   },
   {
    "duration": 0,
    "start_time": "2022-06-14T12:19:13.442Z"
   },
   {
    "duration": 0,
    "start_time": "2022-06-14T12:19:13.443Z"
   },
   {
    "duration": 0,
    "start_time": "2022-06-14T12:19:13.444Z"
   },
   {
    "duration": 0,
    "start_time": "2022-06-14T12:19:13.446Z"
   },
   {
    "duration": 0,
    "start_time": "2022-06-14T12:19:13.446Z"
   },
   {
    "duration": 0,
    "start_time": "2022-06-14T12:19:13.447Z"
   },
   {
    "duration": 0,
    "start_time": "2022-06-14T12:19:13.449Z"
   },
   {
    "duration": 1,
    "start_time": "2022-06-14T12:19:13.449Z"
   },
   {
    "duration": 0,
    "start_time": "2022-06-14T12:19:13.450Z"
   },
   {
    "duration": 0,
    "start_time": "2022-06-14T12:19:13.451Z"
   },
   {
    "duration": 0,
    "start_time": "2022-06-14T12:19:13.452Z"
   },
   {
    "duration": 0,
    "start_time": "2022-06-14T12:19:13.453Z"
   },
   {
    "duration": 0,
    "start_time": "2022-06-14T12:19:13.454Z"
   },
   {
    "duration": 5,
    "start_time": "2022-06-14T12:26:34.195Z"
   },
   {
    "duration": 228,
    "start_time": "2022-06-14T12:27:27.985Z"
   },
   {
    "duration": 6,
    "start_time": "2022-06-14T12:27:41.065Z"
   },
   {
    "duration": 251,
    "start_time": "2022-06-14T12:27:42.208Z"
   },
   {
    "duration": 6,
    "start_time": "2022-06-14T12:30:27.445Z"
   },
   {
    "duration": 68,
    "start_time": "2022-06-14T12:30:27.994Z"
   },
   {
    "duration": 1440,
    "start_time": "2022-06-14T12:30:41.021Z"
   },
   {
    "duration": 14,
    "start_time": "2022-06-14T12:30:42.464Z"
   },
   {
    "duration": 14,
    "start_time": "2022-06-14T12:30:42.480Z"
   },
   {
    "duration": 7,
    "start_time": "2022-06-14T12:30:42.495Z"
   },
   {
    "duration": 11,
    "start_time": "2022-06-14T12:30:42.505Z"
   },
   {
    "duration": 14,
    "start_time": "2022-06-14T12:30:42.518Z"
   },
   {
    "duration": 13,
    "start_time": "2022-06-14T12:30:42.533Z"
   },
   {
    "duration": 114,
    "start_time": "2022-06-14T12:30:42.548Z"
   },
   {
    "duration": 34,
    "start_time": "2022-06-14T12:30:42.664Z"
   },
   {
    "duration": 26,
    "start_time": "2022-06-14T12:30:42.699Z"
   },
   {
    "duration": 29,
    "start_time": "2022-06-14T12:30:42.727Z"
   },
   {
    "duration": 39,
    "start_time": "2022-06-14T12:30:42.758Z"
   },
   {
    "duration": 13,
    "start_time": "2022-06-14T12:30:42.799Z"
   },
   {
    "duration": 8,
    "start_time": "2022-06-14T12:30:42.815Z"
   },
   {
    "duration": 20,
    "start_time": "2022-06-14T12:30:42.824Z"
   },
   {
    "duration": 25,
    "start_time": "2022-06-14T12:30:42.845Z"
   },
   {
    "duration": 25,
    "start_time": "2022-06-14T12:30:42.872Z"
   },
   {
    "duration": 13,
    "start_time": "2022-06-14T12:30:42.898Z"
   },
   {
    "duration": 10,
    "start_time": "2022-06-14T12:30:42.912Z"
   },
   {
    "duration": 43,
    "start_time": "2022-06-14T12:30:42.923Z"
   },
   {
    "duration": 30,
    "start_time": "2022-06-14T12:30:42.967Z"
   },
   {
    "duration": 21,
    "start_time": "2022-06-14T12:30:42.999Z"
   },
   {
    "duration": 46,
    "start_time": "2022-06-14T12:30:43.021Z"
   },
   {
    "duration": 11,
    "start_time": "2022-06-14T12:30:43.069Z"
   },
   {
    "duration": 13,
    "start_time": "2022-06-14T12:30:43.081Z"
   },
   {
    "duration": 18,
    "start_time": "2022-06-14T12:30:43.096Z"
   },
   {
    "duration": 205,
    "start_time": "2022-06-14T12:30:43.116Z"
   },
   {
    "duration": 25,
    "start_time": "2022-06-14T12:30:43.323Z"
   },
   {
    "duration": 198,
    "start_time": "2022-06-14T12:30:43.350Z"
   },
   {
    "duration": 8,
    "start_time": "2022-06-14T12:30:43.550Z"
   },
   {
    "duration": 160,
    "start_time": "2022-06-14T12:30:43.560Z"
   },
   {
    "duration": 6,
    "start_time": "2022-06-14T12:30:43.722Z"
   },
   {
    "duration": 25,
    "start_time": "2022-06-14T12:30:43.730Z"
   },
   {
    "duration": 97,
    "start_time": "2022-06-14T12:30:43.757Z"
   },
   {
    "duration": 46,
    "start_time": "2022-06-14T12:30:43.856Z"
   },
   {
    "duration": 30,
    "start_time": "2022-06-14T12:30:43.904Z"
   },
   {
    "duration": 2,
    "start_time": "2022-06-14T12:30:43.936Z"
   },
   {
    "duration": 11,
    "start_time": "2022-06-14T12:30:43.940Z"
   },
   {
    "duration": 22,
    "start_time": "2022-06-14T12:30:43.953Z"
   },
   {
    "duration": 3,
    "start_time": "2022-06-14T12:30:43.976Z"
   },
   {
    "duration": 11,
    "start_time": "2022-06-14T12:30:43.998Z"
   },
   {
    "duration": 9,
    "start_time": "2022-06-14T12:30:44.011Z"
   },
   {
    "duration": 6,
    "start_time": "2022-06-14T12:30:44.021Z"
   },
   {
    "duration": 14,
    "start_time": "2022-06-14T12:30:44.029Z"
   },
   {
    "duration": 11,
    "start_time": "2022-06-14T12:30:44.044Z"
   },
   {
    "duration": 925,
    "start_time": "2022-06-14T12:30:44.057Z"
   },
   {
    "duration": 2,
    "start_time": "2022-06-14T12:30:44.983Z"
   },
   {
    "duration": 8,
    "start_time": "2022-06-14T12:30:44.987Z"
   },
   {
    "duration": 11,
    "start_time": "2022-06-14T12:30:44.996Z"
   },
   {
    "duration": 16,
    "start_time": "2022-06-14T12:30:45.008Z"
   },
   {
    "duration": 14,
    "start_time": "2022-06-14T12:30:45.026Z"
   },
   {
    "duration": 75,
    "start_time": "2022-06-14T12:30:45.042Z"
   },
   {
    "duration": 2,
    "start_time": "2022-06-14T12:30:45.119Z"
   },
   {
    "duration": 25,
    "start_time": "2022-06-14T12:30:45.123Z"
   },
   {
    "duration": 16,
    "start_time": "2022-06-14T12:30:45.150Z"
   },
   {
    "duration": 90,
    "start_time": "2022-06-14T12:30:45.167Z"
   },
   {
    "duration": 0,
    "start_time": "2022-06-14T12:30:45.259Z"
   },
   {
    "duration": 0,
    "start_time": "2022-06-14T12:30:45.260Z"
   },
   {
    "duration": 0,
    "start_time": "2022-06-14T12:30:45.261Z"
   },
   {
    "duration": 0,
    "start_time": "2022-06-14T12:30:45.262Z"
   },
   {
    "duration": 0,
    "start_time": "2022-06-14T12:30:45.263Z"
   },
   {
    "duration": 0,
    "start_time": "2022-06-14T12:30:45.264Z"
   },
   {
    "duration": 0,
    "start_time": "2022-06-14T12:30:45.265Z"
   },
   {
    "duration": 0,
    "start_time": "2022-06-14T12:30:45.266Z"
   },
   {
    "duration": 0,
    "start_time": "2022-06-14T12:30:45.267Z"
   },
   {
    "duration": 0,
    "start_time": "2022-06-14T12:30:45.268Z"
   },
   {
    "duration": 0,
    "start_time": "2022-06-14T12:30:45.269Z"
   },
   {
    "duration": 0,
    "start_time": "2022-06-14T12:30:45.270Z"
   },
   {
    "duration": 0,
    "start_time": "2022-06-14T12:30:45.294Z"
   },
   {
    "duration": 0,
    "start_time": "2022-06-14T12:30:45.295Z"
   },
   {
    "duration": 0,
    "start_time": "2022-06-14T12:30:45.297Z"
   },
   {
    "duration": 0,
    "start_time": "2022-06-14T12:30:45.298Z"
   },
   {
    "duration": 0,
    "start_time": "2022-06-14T12:30:45.299Z"
   },
   {
    "duration": 0,
    "start_time": "2022-06-14T12:30:45.301Z"
   },
   {
    "duration": 0,
    "start_time": "2022-06-14T12:30:45.302Z"
   },
   {
    "duration": 17,
    "start_time": "2022-06-14T12:35:46.061Z"
   },
   {
    "duration": 13,
    "start_time": "2022-06-14T12:37:03.412Z"
   },
   {
    "duration": 14,
    "start_time": "2022-06-14T12:37:19.896Z"
   },
   {
    "duration": 178,
    "start_time": "2022-06-14T12:45:43.042Z"
   },
   {
    "duration": 8,
    "start_time": "2022-06-14T12:45:46.338Z"
   },
   {
    "duration": 8,
    "start_time": "2022-06-14T12:45:54.208Z"
   },
   {
    "duration": 281,
    "start_time": "2022-06-14T12:46:07.765Z"
   },
   {
    "duration": 1476,
    "start_time": "2022-06-14T12:46:29.508Z"
   },
   {
    "duration": 14,
    "start_time": "2022-06-14T12:46:30.986Z"
   },
   {
    "duration": 19,
    "start_time": "2022-06-14T12:46:31.001Z"
   },
   {
    "duration": 22,
    "start_time": "2022-06-14T12:46:31.021Z"
   },
   {
    "duration": 13,
    "start_time": "2022-06-14T12:46:31.046Z"
   },
   {
    "duration": 27,
    "start_time": "2022-06-14T12:46:31.060Z"
   },
   {
    "duration": 40,
    "start_time": "2022-06-14T12:46:31.089Z"
   },
   {
    "duration": 137,
    "start_time": "2022-06-14T12:46:31.131Z"
   },
   {
    "duration": 30,
    "start_time": "2022-06-14T12:46:31.270Z"
   },
   {
    "duration": 19,
    "start_time": "2022-06-14T12:46:31.301Z"
   },
   {
    "duration": 27,
    "start_time": "2022-06-14T12:46:31.321Z"
   },
   {
    "duration": 19,
    "start_time": "2022-06-14T12:46:31.349Z"
   },
   {
    "duration": 30,
    "start_time": "2022-06-14T12:46:31.369Z"
   },
   {
    "duration": 7,
    "start_time": "2022-06-14T12:46:31.401Z"
   },
   {
    "duration": 29,
    "start_time": "2022-06-14T12:46:31.410Z"
   },
   {
    "duration": 23,
    "start_time": "2022-06-14T12:46:31.441Z"
   },
   {
    "duration": 40,
    "start_time": "2022-06-14T12:46:31.466Z"
   },
   {
    "duration": 23,
    "start_time": "2022-06-14T12:46:31.508Z"
   },
   {
    "duration": 20,
    "start_time": "2022-06-14T12:46:31.533Z"
   },
   {
    "duration": 35,
    "start_time": "2022-06-14T12:46:31.555Z"
   },
   {
    "duration": 18,
    "start_time": "2022-06-14T12:46:31.591Z"
   },
   {
    "duration": 26,
    "start_time": "2022-06-14T12:46:31.611Z"
   },
   {
    "duration": 24,
    "start_time": "2022-06-14T12:46:31.639Z"
   },
   {
    "duration": 12,
    "start_time": "2022-06-14T12:46:31.664Z"
   },
   {
    "duration": 24,
    "start_time": "2022-06-14T12:46:31.677Z"
   },
   {
    "duration": 12,
    "start_time": "2022-06-14T12:46:31.702Z"
   },
   {
    "duration": 226,
    "start_time": "2022-06-14T12:46:31.716Z"
   },
   {
    "duration": 31,
    "start_time": "2022-06-14T12:46:31.945Z"
   },
   {
    "duration": 225,
    "start_time": "2022-06-14T12:46:31.978Z"
   },
   {
    "duration": 8,
    "start_time": "2022-06-14T12:46:32.204Z"
   },
   {
    "duration": 157,
    "start_time": "2022-06-14T12:46:32.213Z"
   },
   {
    "duration": 7,
    "start_time": "2022-06-14T12:46:32.371Z"
   },
   {
    "duration": 21,
    "start_time": "2022-06-14T12:46:32.380Z"
   },
   {
    "duration": 83,
    "start_time": "2022-06-14T12:46:32.403Z"
   },
   {
    "duration": 33,
    "start_time": "2022-06-14T12:46:32.494Z"
   },
   {
    "duration": 28,
    "start_time": "2022-06-14T12:46:32.529Z"
   },
   {
    "duration": 2,
    "start_time": "2022-06-14T12:46:32.559Z"
   },
   {
    "duration": 6,
    "start_time": "2022-06-14T12:46:32.562Z"
   },
   {
    "duration": 34,
    "start_time": "2022-06-14T12:46:32.569Z"
   },
   {
    "duration": 2,
    "start_time": "2022-06-14T12:46:32.605Z"
   },
   {
    "duration": 16,
    "start_time": "2022-06-14T12:46:32.614Z"
   },
   {
    "duration": 15,
    "start_time": "2022-06-14T12:46:32.631Z"
   },
   {
    "duration": 5,
    "start_time": "2022-06-14T12:46:32.647Z"
   },
   {
    "duration": 12,
    "start_time": "2022-06-14T12:46:32.653Z"
   },
   {
    "duration": 7,
    "start_time": "2022-06-14T12:46:32.666Z"
   },
   {
    "duration": 927,
    "start_time": "2022-06-14T12:46:32.674Z"
   },
   {
    "duration": 5,
    "start_time": "2022-06-14T12:46:33.602Z"
   },
   {
    "duration": 6,
    "start_time": "2022-06-14T12:46:33.608Z"
   },
   {
    "duration": 5,
    "start_time": "2022-06-14T12:46:33.615Z"
   },
   {
    "duration": 95,
    "start_time": "2022-06-14T12:46:33.622Z"
   },
   {
    "duration": 11,
    "start_time": "2022-06-14T12:46:33.719Z"
   },
   {
    "duration": 21,
    "start_time": "2022-06-14T12:46:33.731Z"
   },
   {
    "duration": 120,
    "start_time": "2022-06-14T12:46:33.753Z"
   },
   {
    "duration": 0,
    "start_time": "2022-06-14T12:46:33.875Z"
   },
   {
    "duration": 0,
    "start_time": "2022-06-14T12:46:33.876Z"
   },
   {
    "duration": 0,
    "start_time": "2022-06-14T12:46:33.878Z"
   },
   {
    "duration": 0,
    "start_time": "2022-06-14T12:46:33.879Z"
   },
   {
    "duration": 0,
    "start_time": "2022-06-14T12:46:33.895Z"
   },
   {
    "duration": 0,
    "start_time": "2022-06-14T12:46:33.896Z"
   },
   {
    "duration": 0,
    "start_time": "2022-06-14T12:46:33.897Z"
   },
   {
    "duration": 0,
    "start_time": "2022-06-14T12:46:33.898Z"
   },
   {
    "duration": 0,
    "start_time": "2022-06-14T12:46:33.900Z"
   },
   {
    "duration": 0,
    "start_time": "2022-06-14T12:46:33.901Z"
   },
   {
    "duration": 0,
    "start_time": "2022-06-14T12:46:33.902Z"
   },
   {
    "duration": 0,
    "start_time": "2022-06-14T12:46:33.903Z"
   },
   {
    "duration": 0,
    "start_time": "2022-06-14T12:46:33.904Z"
   },
   {
    "duration": 0,
    "start_time": "2022-06-14T12:46:33.905Z"
   },
   {
    "duration": 0,
    "start_time": "2022-06-14T12:46:33.907Z"
   },
   {
    "duration": 0,
    "start_time": "2022-06-14T12:46:33.908Z"
   },
   {
    "duration": 0,
    "start_time": "2022-06-14T12:46:33.909Z"
   },
   {
    "duration": 0,
    "start_time": "2022-06-14T12:46:33.910Z"
   },
   {
    "duration": 0,
    "start_time": "2022-06-14T12:46:33.911Z"
   },
   {
    "duration": 98,
    "start_time": "2022-06-14T12:52:36.977Z"
   },
   {
    "duration": 29,
    "start_time": "2022-06-14T12:52:52.144Z"
   },
   {
    "duration": 878,
    "start_time": "2022-06-14T12:54:27.499Z"
   },
   {
    "duration": 183,
    "start_time": "2022-06-14T12:54:31.454Z"
   },
   {
    "duration": 155,
    "start_time": "2022-06-14T12:54:33.753Z"
   },
   {
    "duration": 121,
    "start_time": "2022-06-14T12:54:36.321Z"
   },
   {
    "duration": 112,
    "start_time": "2022-06-14T12:54:51.666Z"
   },
   {
    "duration": 128,
    "start_time": "2022-06-14T12:54:54.248Z"
   },
   {
    "duration": 110,
    "start_time": "2022-06-14T12:54:56.605Z"
   },
   {
    "duration": 11,
    "start_time": "2022-06-14T12:54:59.586Z"
   },
   {
    "duration": 1490,
    "start_time": "2022-06-14T12:55:42.365Z"
   },
   {
    "duration": 16,
    "start_time": "2022-06-14T12:55:43.857Z"
   },
   {
    "duration": 18,
    "start_time": "2022-06-14T12:55:43.875Z"
   },
   {
    "duration": 7,
    "start_time": "2022-06-14T12:55:43.896Z"
   },
   {
    "duration": 12,
    "start_time": "2022-06-14T12:55:43.904Z"
   },
   {
    "duration": 11,
    "start_time": "2022-06-14T12:55:43.918Z"
   },
   {
    "duration": 10,
    "start_time": "2022-06-14T12:55:43.931Z"
   },
   {
    "duration": 115,
    "start_time": "2022-06-14T12:55:43.943Z"
   },
   {
    "duration": 23,
    "start_time": "2022-06-14T12:55:44.060Z"
   },
   {
    "duration": 19,
    "start_time": "2022-06-14T12:55:44.095Z"
   },
   {
    "duration": 25,
    "start_time": "2022-06-14T12:55:44.115Z"
   },
   {
    "duration": 18,
    "start_time": "2022-06-14T12:55:44.142Z"
   },
   {
    "duration": 17,
    "start_time": "2022-06-14T12:55:44.162Z"
   },
   {
    "duration": 17,
    "start_time": "2022-06-14T12:55:44.180Z"
   },
   {
    "duration": 20,
    "start_time": "2022-06-14T12:55:44.199Z"
   },
   {
    "duration": 17,
    "start_time": "2022-06-14T12:55:44.220Z"
   },
   {
    "duration": 12,
    "start_time": "2022-06-14T12:55:44.238Z"
   },
   {
    "duration": 11,
    "start_time": "2022-06-14T12:55:44.252Z"
   },
   {
    "duration": 30,
    "start_time": "2022-06-14T12:55:44.265Z"
   },
   {
    "duration": 26,
    "start_time": "2022-06-14T12:55:44.297Z"
   },
   {
    "duration": 16,
    "start_time": "2022-06-14T12:55:44.325Z"
   },
   {
    "duration": 13,
    "start_time": "2022-06-14T12:55:44.343Z"
   },
   {
    "duration": 40,
    "start_time": "2022-06-14T12:55:44.357Z"
   },
   {
    "duration": 11,
    "start_time": "2022-06-14T12:55:44.398Z"
   },
   {
    "duration": 10,
    "start_time": "2022-06-14T12:55:44.411Z"
   },
   {
    "duration": 13,
    "start_time": "2022-06-14T12:55:44.423Z"
   },
   {
    "duration": 216,
    "start_time": "2022-06-14T12:55:44.437Z"
   },
   {
    "duration": 40,
    "start_time": "2022-06-14T12:55:44.658Z"
   },
   {
    "duration": 196,
    "start_time": "2022-06-14T12:55:44.700Z"
   },
   {
    "duration": 8,
    "start_time": "2022-06-14T12:55:44.897Z"
   },
   {
    "duration": 155,
    "start_time": "2022-06-14T12:55:44.906Z"
   },
   {
    "duration": 7,
    "start_time": "2022-06-14T12:55:45.062Z"
   },
   {
    "duration": 19,
    "start_time": "2022-06-14T12:55:45.070Z"
   },
   {
    "duration": 87,
    "start_time": "2022-06-14T12:55:45.090Z"
   },
   {
    "duration": 41,
    "start_time": "2022-06-14T12:55:45.179Z"
   },
   {
    "duration": 23,
    "start_time": "2022-06-14T12:55:45.221Z"
   },
   {
    "duration": 1,
    "start_time": "2022-06-14T12:55:45.246Z"
   },
   {
    "duration": 11,
    "start_time": "2022-06-14T12:55:45.248Z"
   },
   {
    "duration": 18,
    "start_time": "2022-06-14T12:55:45.260Z"
   },
   {
    "duration": 2,
    "start_time": "2022-06-14T12:55:45.279Z"
   },
   {
    "duration": 10,
    "start_time": "2022-06-14T12:55:45.294Z"
   },
   {
    "duration": 9,
    "start_time": "2022-06-14T12:55:45.305Z"
   },
   {
    "duration": 5,
    "start_time": "2022-06-14T12:55:45.315Z"
   },
   {
    "duration": 12,
    "start_time": "2022-06-14T12:55:45.321Z"
   },
   {
    "duration": 8,
    "start_time": "2022-06-14T12:55:45.334Z"
   },
   {
    "duration": 982,
    "start_time": "2022-06-14T12:55:45.343Z"
   },
   {
    "duration": 6,
    "start_time": "2022-06-14T12:55:46.326Z"
   },
   {
    "duration": 5,
    "start_time": "2022-06-14T12:55:46.333Z"
   },
   {
    "duration": 5,
    "start_time": "2022-06-14T12:55:46.339Z"
   },
   {
    "duration": 84,
    "start_time": "2022-06-14T12:55:46.345Z"
   },
   {
    "duration": 12,
    "start_time": "2022-06-14T12:55:46.430Z"
   },
   {
    "duration": 130,
    "start_time": "2022-06-14T12:55:46.443Z"
   },
   {
    "duration": 43,
    "start_time": "2022-06-14T12:55:46.574Z"
   },
   {
    "duration": 922,
    "start_time": "2022-06-14T12:55:46.619Z"
   },
   {
    "duration": 192,
    "start_time": "2022-06-14T12:55:47.543Z"
   },
   {
    "duration": 138,
    "start_time": "2022-06-14T12:55:47.736Z"
   },
   {
    "duration": 125,
    "start_time": "2022-06-14T12:55:47.876Z"
   },
   {
    "duration": 137,
    "start_time": "2022-06-14T12:55:48.003Z"
   },
   {
    "duration": 139,
    "start_time": "2022-06-14T12:55:48.141Z"
   },
   {
    "duration": 133,
    "start_time": "2022-06-14T12:55:48.282Z"
   },
   {
    "duration": 94,
    "start_time": "2022-06-14T12:55:48.417Z"
   },
   {
    "duration": 0,
    "start_time": "2022-06-14T12:55:48.513Z"
   },
   {
    "duration": 0,
    "start_time": "2022-06-14T12:55:48.514Z"
   },
   {
    "duration": 0,
    "start_time": "2022-06-14T12:55:48.515Z"
   },
   {
    "duration": 0,
    "start_time": "2022-06-14T12:55:48.516Z"
   },
   {
    "duration": 0,
    "start_time": "2022-06-14T12:55:48.517Z"
   },
   {
    "duration": 0,
    "start_time": "2022-06-14T12:55:48.517Z"
   },
   {
    "duration": 0,
    "start_time": "2022-06-14T12:55:48.518Z"
   },
   {
    "duration": 0,
    "start_time": "2022-06-14T12:55:48.519Z"
   },
   {
    "duration": 0,
    "start_time": "2022-06-14T12:55:48.520Z"
   },
   {
    "duration": 0,
    "start_time": "2022-06-14T12:55:48.521Z"
   },
   {
    "duration": 10,
    "start_time": "2022-06-14T12:57:35.693Z"
   },
   {
    "duration": 13,
    "start_time": "2022-06-14T12:58:03.909Z"
   },
   {
    "duration": 10,
    "start_time": "2022-06-14T12:58:11.020Z"
   },
   {
    "duration": 14,
    "start_time": "2022-06-14T12:58:27.433Z"
   },
   {
    "duration": 9,
    "start_time": "2022-06-14T12:58:35.260Z"
   },
   {
    "duration": 189,
    "start_time": "2022-06-14T12:58:47.997Z"
   },
   {
    "duration": 160,
    "start_time": "2022-06-14T13:02:11.419Z"
   },
   {
    "duration": 126,
    "start_time": "2022-06-14T13:09:22.182Z"
   },
   {
    "duration": 142,
    "start_time": "2022-06-14T13:09:28.089Z"
   },
   {
    "duration": 136,
    "start_time": "2022-06-14T13:09:57.729Z"
   },
   {
    "duration": 206,
    "start_time": "2022-06-14T13:10:25.468Z"
   },
   {
    "duration": 120,
    "start_time": "2022-06-14T13:10:49.629Z"
   },
   {
    "duration": 196,
    "start_time": "2022-06-14T13:11:09.579Z"
   },
   {
    "duration": 119,
    "start_time": "2022-06-14T13:11:20.078Z"
   },
   {
    "duration": 130,
    "start_time": "2022-06-14T13:14:10.470Z"
   },
   {
    "duration": 125,
    "start_time": "2022-06-14T13:14:20.793Z"
   },
   {
    "duration": 122,
    "start_time": "2022-06-14T13:14:28.279Z"
   },
   {
    "duration": 136,
    "start_time": "2022-06-14T13:15:13.495Z"
   },
   {
    "duration": 114,
    "start_time": "2022-06-14T13:15:40.240Z"
   },
   {
    "duration": 160,
    "start_time": "2022-06-14T13:15:50.327Z"
   },
   {
    "duration": 13,
    "start_time": "2022-06-14T13:35:53.786Z"
   },
   {
    "duration": 12,
    "start_time": "2022-06-14T13:36:05.978Z"
   },
   {
    "duration": 220,
    "start_time": "2022-06-14T13:36:26.224Z"
   },
   {
    "duration": 167,
    "start_time": "2022-06-14T13:50:13.478Z"
   },
   {
    "duration": 1372,
    "start_time": "2022-06-14T13:53:18.044Z"
   },
   {
    "duration": 13,
    "start_time": "2022-06-14T13:53:19.418Z"
   },
   {
    "duration": 13,
    "start_time": "2022-06-14T13:53:19.432Z"
   },
   {
    "duration": 7,
    "start_time": "2022-06-14T13:53:19.447Z"
   },
   {
    "duration": 10,
    "start_time": "2022-06-14T13:53:19.456Z"
   },
   {
    "duration": 10,
    "start_time": "2022-06-14T13:53:19.468Z"
   },
   {
    "duration": 22,
    "start_time": "2022-06-14T13:53:19.479Z"
   },
   {
    "duration": 101,
    "start_time": "2022-06-14T13:53:19.502Z"
   },
   {
    "duration": 23,
    "start_time": "2022-06-14T13:53:19.605Z"
   },
   {
    "duration": 19,
    "start_time": "2022-06-14T13:53:19.630Z"
   },
   {
    "duration": 44,
    "start_time": "2022-06-14T13:53:19.650Z"
   },
   {
    "duration": 17,
    "start_time": "2022-06-14T13:53:19.696Z"
   },
   {
    "duration": 9,
    "start_time": "2022-06-14T13:53:19.715Z"
   },
   {
    "duration": 11,
    "start_time": "2022-06-14T13:53:19.727Z"
   },
   {
    "duration": 25,
    "start_time": "2022-06-14T13:53:19.740Z"
   },
   {
    "duration": 28,
    "start_time": "2022-06-14T13:53:19.766Z"
   },
   {
    "duration": 14,
    "start_time": "2022-06-14T13:53:19.796Z"
   },
   {
    "duration": 12,
    "start_time": "2022-06-14T13:53:19.812Z"
   },
   {
    "duration": 10,
    "start_time": "2022-06-14T13:53:19.826Z"
   },
   {
    "duration": 35,
    "start_time": "2022-06-14T13:53:19.838Z"
   },
   {
    "duration": 19,
    "start_time": "2022-06-14T13:53:19.875Z"
   },
   {
    "duration": 14,
    "start_time": "2022-06-14T13:53:19.895Z"
   },
   {
    "duration": 21,
    "start_time": "2022-06-14T13:53:19.910Z"
   },
   {
    "duration": 10,
    "start_time": "2022-06-14T13:53:19.932Z"
   },
   {
    "duration": 10,
    "start_time": "2022-06-14T13:53:19.943Z"
   },
   {
    "duration": 11,
    "start_time": "2022-06-14T13:53:19.954Z"
   },
   {
    "duration": 215,
    "start_time": "2022-06-14T13:53:19.966Z"
   },
   {
    "duration": 29,
    "start_time": "2022-06-14T13:53:20.183Z"
   },
   {
    "duration": 185,
    "start_time": "2022-06-14T13:53:20.214Z"
   },
   {
    "duration": 8,
    "start_time": "2022-06-14T13:53:20.401Z"
   },
   {
    "duration": 158,
    "start_time": "2022-06-14T13:53:20.410Z"
   },
   {
    "duration": 6,
    "start_time": "2022-06-14T13:53:20.570Z"
   },
   {
    "duration": 17,
    "start_time": "2022-06-14T13:53:20.577Z"
   },
   {
    "duration": 84,
    "start_time": "2022-06-14T13:53:20.595Z"
   },
   {
    "duration": 42,
    "start_time": "2022-06-14T13:53:20.680Z"
   },
   {
    "duration": 27,
    "start_time": "2022-06-14T13:53:20.724Z"
   },
   {
    "duration": 2,
    "start_time": "2022-06-14T13:53:20.753Z"
   },
   {
    "duration": 18,
    "start_time": "2022-06-14T13:53:20.756Z"
   },
   {
    "duration": 20,
    "start_time": "2022-06-14T13:53:20.775Z"
   },
   {
    "duration": 2,
    "start_time": "2022-06-14T13:53:20.796Z"
   },
   {
    "duration": 11,
    "start_time": "2022-06-14T13:53:20.802Z"
   },
   {
    "duration": 26,
    "start_time": "2022-06-14T13:53:20.814Z"
   },
   {
    "duration": 3,
    "start_time": "2022-06-14T13:53:20.842Z"
   },
   {
    "duration": 16,
    "start_time": "2022-06-14T13:53:20.847Z"
   },
   {
    "duration": 13,
    "start_time": "2022-06-14T13:53:20.865Z"
   },
   {
    "duration": 929,
    "start_time": "2022-06-14T13:53:20.879Z"
   },
   {
    "duration": 5,
    "start_time": "2022-06-14T13:53:21.810Z"
   },
   {
    "duration": 6,
    "start_time": "2022-06-14T13:53:21.817Z"
   },
   {
    "duration": 6,
    "start_time": "2022-06-14T13:53:21.824Z"
   },
   {
    "duration": 86,
    "start_time": "2022-06-14T13:53:21.832Z"
   },
   {
    "duration": 11,
    "start_time": "2022-06-14T13:53:21.919Z"
   },
   {
    "duration": 125,
    "start_time": "2022-06-14T13:53:21.931Z"
   },
   {
    "duration": 39,
    "start_time": "2022-06-14T13:53:22.058Z"
   },
   {
    "duration": 914,
    "start_time": "2022-06-14T13:53:22.098Z"
   },
   {
    "duration": 217,
    "start_time": "2022-06-14T13:53:23.014Z"
   },
   {
    "duration": 158,
    "start_time": "2022-06-14T13:53:23.233Z"
   },
   {
    "duration": 145,
    "start_time": "2022-06-14T13:53:23.392Z"
   },
   {
    "duration": 134,
    "start_time": "2022-06-14T13:53:23.539Z"
   },
   {
    "duration": 154,
    "start_time": "2022-06-14T13:53:23.675Z"
   },
   {
    "duration": 139,
    "start_time": "2022-06-14T13:53:23.831Z"
   },
   {
    "duration": 12,
    "start_time": "2022-06-14T13:53:23.971Z"
   },
   {
    "duration": 113,
    "start_time": "2022-06-14T13:53:23.994Z"
   },
   {
    "duration": 0,
    "start_time": "2022-06-14T13:53:24.109Z"
   },
   {
    "duration": 0,
    "start_time": "2022-06-14T13:53:24.110Z"
   },
   {
    "duration": 0,
    "start_time": "2022-06-14T13:53:24.111Z"
   },
   {
    "duration": 0,
    "start_time": "2022-06-14T13:53:24.112Z"
   },
   {
    "duration": 0,
    "start_time": "2022-06-14T13:53:24.113Z"
   },
   {
    "duration": 0,
    "start_time": "2022-06-14T13:53:24.114Z"
   },
   {
    "duration": 0,
    "start_time": "2022-06-14T13:53:24.115Z"
   },
   {
    "duration": 8,
    "start_time": "2022-06-14T13:54:36.402Z"
   },
   {
    "duration": 4,
    "start_time": "2022-06-14T13:54:40.724Z"
   },
   {
    "duration": 4,
    "start_time": "2022-06-14T13:54:43.938Z"
   },
   {
    "duration": 10,
    "start_time": "2022-06-14T13:54:47.014Z"
   },
   {
    "duration": 12,
    "start_time": "2022-06-14T13:54:54.200Z"
   },
   {
    "duration": 33,
    "start_time": "2022-06-14T13:55:03.751Z"
   },
   {
    "duration": 14,
    "start_time": "2022-06-14T13:55:35.410Z"
   },
   {
    "duration": 15,
    "start_time": "2022-06-14T13:57:36.944Z"
   },
   {
    "duration": 19,
    "start_time": "2022-06-14T13:58:00.432Z"
   },
   {
    "duration": 34,
    "start_time": "2022-06-14T13:59:36.269Z"
   },
   {
    "duration": 1388,
    "start_time": "2022-06-14T13:59:42.377Z"
   },
   {
    "duration": 20,
    "start_time": "2022-06-14T13:59:43.767Z"
   },
   {
    "duration": 38,
    "start_time": "2022-06-14T13:59:43.789Z"
   },
   {
    "duration": 35,
    "start_time": "2022-06-14T13:59:43.829Z"
   },
   {
    "duration": 31,
    "start_time": "2022-06-14T13:59:43.867Z"
   },
   {
    "duration": 51,
    "start_time": "2022-06-14T13:59:43.900Z"
   },
   {
    "duration": 38,
    "start_time": "2022-06-14T13:59:43.952Z"
   },
   {
    "duration": 119,
    "start_time": "2022-06-14T13:59:43.992Z"
   },
   {
    "duration": 22,
    "start_time": "2022-06-14T13:59:44.112Z"
   },
   {
    "duration": 32,
    "start_time": "2022-06-14T13:59:44.136Z"
   },
   {
    "duration": 32,
    "start_time": "2022-06-14T13:59:44.169Z"
   },
   {
    "duration": 34,
    "start_time": "2022-06-14T13:59:44.203Z"
   },
   {
    "duration": 34,
    "start_time": "2022-06-14T13:59:44.239Z"
   },
   {
    "duration": 18,
    "start_time": "2022-06-14T13:59:44.275Z"
   },
   {
    "duration": 48,
    "start_time": "2022-06-14T13:59:44.294Z"
   },
   {
    "duration": 30,
    "start_time": "2022-06-14T13:59:44.343Z"
   },
   {
    "duration": 36,
    "start_time": "2022-06-14T13:59:44.375Z"
   },
   {
    "duration": 24,
    "start_time": "2022-06-14T13:59:44.412Z"
   },
   {
    "duration": 27,
    "start_time": "2022-06-14T13:59:44.437Z"
   },
   {
    "duration": 44,
    "start_time": "2022-06-14T13:59:44.466Z"
   },
   {
    "duration": 18,
    "start_time": "2022-06-14T13:59:44.511Z"
   },
   {
    "duration": 25,
    "start_time": "2022-06-14T13:59:44.531Z"
   },
   {
    "duration": 42,
    "start_time": "2022-06-14T13:59:44.558Z"
   },
   {
    "duration": 23,
    "start_time": "2022-06-14T13:59:44.601Z"
   },
   {
    "duration": 22,
    "start_time": "2022-06-14T13:59:44.625Z"
   },
   {
    "duration": 30,
    "start_time": "2022-06-14T13:59:44.648Z"
   },
   {
    "duration": 189,
    "start_time": "2022-06-14T13:59:44.679Z"
   },
   {
    "duration": 26,
    "start_time": "2022-06-14T13:59:44.869Z"
   },
   {
    "duration": 192,
    "start_time": "2022-06-14T13:59:44.896Z"
   },
   {
    "duration": 7,
    "start_time": "2022-06-14T13:59:45.093Z"
   },
   {
    "duration": 154,
    "start_time": "2022-06-14T13:59:45.102Z"
   },
   {
    "duration": 6,
    "start_time": "2022-06-14T13:59:45.258Z"
   },
   {
    "duration": 25,
    "start_time": "2022-06-14T13:59:45.265Z"
   },
   {
    "duration": 98,
    "start_time": "2022-06-14T13:59:45.291Z"
   },
   {
    "duration": 33,
    "start_time": "2022-06-14T13:59:45.390Z"
   },
   {
    "duration": 28,
    "start_time": "2022-06-14T13:59:45.424Z"
   },
   {
    "duration": 2,
    "start_time": "2022-06-14T13:59:45.454Z"
   },
   {
    "duration": 7,
    "start_time": "2022-06-14T13:59:45.457Z"
   },
   {
    "duration": 28,
    "start_time": "2022-06-14T13:59:45.466Z"
   },
   {
    "duration": 2,
    "start_time": "2022-06-14T13:59:45.496Z"
   },
   {
    "duration": 10,
    "start_time": "2022-06-14T13:59:45.501Z"
   },
   {
    "duration": 11,
    "start_time": "2022-06-14T13:59:45.512Z"
   },
   {
    "duration": 4,
    "start_time": "2022-06-14T13:59:45.525Z"
   },
   {
    "duration": 14,
    "start_time": "2022-06-14T13:59:45.530Z"
   },
   {
    "duration": 8,
    "start_time": "2022-06-14T13:59:45.546Z"
   },
   {
    "duration": 963,
    "start_time": "2022-06-14T13:59:45.555Z"
   },
   {
    "duration": 5,
    "start_time": "2022-06-14T13:59:46.520Z"
   },
   {
    "duration": 3,
    "start_time": "2022-06-14T13:59:46.526Z"
   },
   {
    "duration": 5,
    "start_time": "2022-06-14T13:59:46.531Z"
   },
   {
    "duration": 79,
    "start_time": "2022-06-14T13:59:46.538Z"
   },
   {
    "duration": 18,
    "start_time": "2022-06-14T13:59:46.618Z"
   },
   {
    "duration": 12,
    "start_time": "2022-06-14T13:59:46.637Z"
   },
   {
    "duration": 118,
    "start_time": "2022-06-14T13:59:46.651Z"
   },
   {
    "duration": 99,
    "start_time": "2022-06-14T13:59:46.770Z"
   },
   {
    "duration": 0,
    "start_time": "2022-06-14T13:59:46.871Z"
   },
   {
    "duration": 0,
    "start_time": "2022-06-14T13:59:46.872Z"
   },
   {
    "duration": 0,
    "start_time": "2022-06-14T13:59:46.873Z"
   },
   {
    "duration": 0,
    "start_time": "2022-06-14T13:59:46.874Z"
   },
   {
    "duration": 0,
    "start_time": "2022-06-14T13:59:46.875Z"
   },
   {
    "duration": 0,
    "start_time": "2022-06-14T13:59:46.876Z"
   },
   {
    "duration": 0,
    "start_time": "2022-06-14T13:59:46.877Z"
   },
   {
    "duration": 0,
    "start_time": "2022-06-14T13:59:46.878Z"
   },
   {
    "duration": 0,
    "start_time": "2022-06-14T13:59:46.879Z"
   },
   {
    "duration": 0,
    "start_time": "2022-06-14T13:59:46.894Z"
   },
   {
    "duration": 0,
    "start_time": "2022-06-14T13:59:46.895Z"
   },
   {
    "duration": 0,
    "start_time": "2022-06-14T13:59:46.896Z"
   },
   {
    "duration": 0,
    "start_time": "2022-06-14T13:59:46.897Z"
   },
   {
    "duration": 0,
    "start_time": "2022-06-14T13:59:46.898Z"
   },
   {
    "duration": 0,
    "start_time": "2022-06-14T13:59:46.899Z"
   },
   {
    "duration": 0,
    "start_time": "2022-06-14T13:59:46.900Z"
   },
   {
    "duration": 0,
    "start_time": "2022-06-14T13:59:46.901Z"
   },
   {
    "duration": 1478,
    "start_time": "2022-06-14T14:00:22.060Z"
   },
   {
    "duration": 14,
    "start_time": "2022-06-14T14:00:23.540Z"
   },
   {
    "duration": 17,
    "start_time": "2022-06-14T14:00:23.556Z"
   },
   {
    "duration": 7,
    "start_time": "2022-06-14T14:00:23.574Z"
   },
   {
    "duration": 10,
    "start_time": "2022-06-14T14:00:23.583Z"
   },
   {
    "duration": 10,
    "start_time": "2022-06-14T14:00:23.595Z"
   },
   {
    "duration": 10,
    "start_time": "2022-06-14T14:00:23.607Z"
   },
   {
    "duration": 113,
    "start_time": "2022-06-14T14:00:23.618Z"
   },
   {
    "duration": 30,
    "start_time": "2022-06-14T14:00:23.734Z"
   },
   {
    "duration": 37,
    "start_time": "2022-06-14T14:00:23.766Z"
   },
   {
    "duration": 35,
    "start_time": "2022-06-14T14:00:23.804Z"
   },
   {
    "duration": 21,
    "start_time": "2022-06-14T14:00:23.841Z"
   },
   {
    "duration": 12,
    "start_time": "2022-06-14T14:00:23.864Z"
   },
   {
    "duration": 7,
    "start_time": "2022-06-14T14:00:23.894Z"
   },
   {
    "duration": 20,
    "start_time": "2022-06-14T14:00:23.903Z"
   },
   {
    "duration": 16,
    "start_time": "2022-06-14T14:00:23.925Z"
   },
   {
    "duration": 12,
    "start_time": "2022-06-14T14:00:23.942Z"
   },
   {
    "duration": 10,
    "start_time": "2022-06-14T14:00:23.956Z"
   },
   {
    "duration": 29,
    "start_time": "2022-06-14T14:00:23.967Z"
   },
   {
    "duration": 27,
    "start_time": "2022-06-14T14:00:23.997Z"
   },
   {
    "duration": 25,
    "start_time": "2022-06-14T14:00:24.025Z"
   },
   {
    "duration": 14,
    "start_time": "2022-06-14T14:00:24.051Z"
   },
   {
    "duration": 42,
    "start_time": "2022-06-14T14:00:24.066Z"
   },
   {
    "duration": 10,
    "start_time": "2022-06-14T14:00:24.109Z"
   },
   {
    "duration": 9,
    "start_time": "2022-06-14T14:00:24.121Z"
   },
   {
    "duration": 12,
    "start_time": "2022-06-14T14:00:24.131Z"
   },
   {
    "duration": 232,
    "start_time": "2022-06-14T14:00:24.144Z"
   },
   {
    "duration": 33,
    "start_time": "2022-06-14T14:00:24.377Z"
   },
   {
    "duration": 205,
    "start_time": "2022-06-14T14:00:24.411Z"
   },
   {
    "duration": 7,
    "start_time": "2022-06-14T14:00:24.618Z"
   },
   {
    "duration": 164,
    "start_time": "2022-06-14T14:00:24.626Z"
   },
   {
    "duration": 7,
    "start_time": "2022-06-14T14:00:24.792Z"
   },
   {
    "duration": 13,
    "start_time": "2022-06-14T14:00:24.800Z"
   },
   {
    "duration": 102,
    "start_time": "2022-06-14T14:00:24.815Z"
   },
   {
    "duration": 35,
    "start_time": "2022-06-14T14:00:24.919Z"
   },
   {
    "duration": 42,
    "start_time": "2022-06-14T14:00:24.956Z"
   },
   {
    "duration": 3,
    "start_time": "2022-06-14T14:00:25.000Z"
   },
   {
    "duration": 21,
    "start_time": "2022-06-14T14:00:25.004Z"
   },
   {
    "duration": 25,
    "start_time": "2022-06-14T14:00:25.026Z"
   },
   {
    "duration": 2,
    "start_time": "2022-06-14T14:00:25.053Z"
   },
   {
    "duration": 14,
    "start_time": "2022-06-14T14:00:25.059Z"
   },
   {
    "duration": 10,
    "start_time": "2022-06-14T14:00:25.074Z"
   },
   {
    "duration": 5,
    "start_time": "2022-06-14T14:00:25.086Z"
   },
   {
    "duration": 11,
    "start_time": "2022-06-14T14:00:25.092Z"
   },
   {
    "duration": 11,
    "start_time": "2022-06-14T14:00:25.104Z"
   },
   {
    "duration": 1002,
    "start_time": "2022-06-14T14:00:25.116Z"
   },
   {
    "duration": 5,
    "start_time": "2022-06-14T14:00:26.120Z"
   },
   {
    "duration": 19,
    "start_time": "2022-06-14T14:00:26.127Z"
   },
   {
    "duration": 20,
    "start_time": "2022-06-14T14:00:26.147Z"
   },
   {
    "duration": 84,
    "start_time": "2022-06-14T14:00:26.168Z"
   },
   {
    "duration": 19,
    "start_time": "2022-06-14T14:00:26.253Z"
   },
   {
    "duration": 21,
    "start_time": "2022-06-14T14:00:26.274Z"
   },
   {
    "duration": 125,
    "start_time": "2022-06-14T14:00:26.297Z"
   },
   {
    "duration": 105,
    "start_time": "2022-06-14T14:00:26.424Z"
   },
   {
    "duration": 0,
    "start_time": "2022-06-14T14:00:26.531Z"
   },
   {
    "duration": 0,
    "start_time": "2022-06-14T14:00:26.533Z"
   },
   {
    "duration": 0,
    "start_time": "2022-06-14T14:00:26.534Z"
   },
   {
    "duration": 0,
    "start_time": "2022-06-14T14:00:26.535Z"
   },
   {
    "duration": 0,
    "start_time": "2022-06-14T14:00:26.536Z"
   },
   {
    "duration": 0,
    "start_time": "2022-06-14T14:00:26.537Z"
   },
   {
    "duration": 0,
    "start_time": "2022-06-14T14:00:26.538Z"
   },
   {
    "duration": 0,
    "start_time": "2022-06-14T14:00:26.538Z"
   },
   {
    "duration": 0,
    "start_time": "2022-06-14T14:00:26.540Z"
   },
   {
    "duration": 0,
    "start_time": "2022-06-14T14:00:26.540Z"
   },
   {
    "duration": 0,
    "start_time": "2022-06-14T14:00:26.541Z"
   },
   {
    "duration": 0,
    "start_time": "2022-06-14T14:00:26.542Z"
   },
   {
    "duration": 0,
    "start_time": "2022-06-14T14:00:26.543Z"
   },
   {
    "duration": 0,
    "start_time": "2022-06-14T14:00:26.544Z"
   },
   {
    "duration": 0,
    "start_time": "2022-06-14T14:00:26.545Z"
   },
   {
    "duration": 0,
    "start_time": "2022-06-14T14:00:26.546Z"
   },
   {
    "duration": 0,
    "start_time": "2022-06-14T14:00:26.547Z"
   },
   {
    "duration": 14,
    "start_time": "2022-06-14T14:05:21.013Z"
   },
   {
    "duration": 9,
    "start_time": "2022-06-14T14:09:47.753Z"
   },
   {
    "duration": 8,
    "start_time": "2022-06-14T14:09:57.932Z"
   },
   {
    "duration": 13,
    "start_time": "2022-06-14T14:10:00.541Z"
   },
   {
    "duration": 1417,
    "start_time": "2022-06-14T14:10:09.750Z"
   },
   {
    "duration": 14,
    "start_time": "2022-06-14T14:10:11.169Z"
   },
   {
    "duration": 14,
    "start_time": "2022-06-14T14:10:11.184Z"
   },
   {
    "duration": 6,
    "start_time": "2022-06-14T14:10:11.199Z"
   },
   {
    "duration": 12,
    "start_time": "2022-06-14T14:10:11.207Z"
   },
   {
    "duration": 12,
    "start_time": "2022-06-14T14:10:11.221Z"
   },
   {
    "duration": 11,
    "start_time": "2022-06-14T14:10:11.234Z"
   },
   {
    "duration": 122,
    "start_time": "2022-06-14T14:10:11.246Z"
   },
   {
    "duration": 32,
    "start_time": "2022-06-14T14:10:11.370Z"
   },
   {
    "duration": 21,
    "start_time": "2022-06-14T14:10:11.403Z"
   },
   {
    "duration": 27,
    "start_time": "2022-06-14T14:10:11.425Z"
   },
   {
    "duration": 41,
    "start_time": "2022-06-14T14:10:11.454Z"
   },
   {
    "duration": 13,
    "start_time": "2022-06-14T14:10:11.496Z"
   },
   {
    "duration": 7,
    "start_time": "2022-06-14T14:10:11.511Z"
   },
   {
    "duration": 17,
    "start_time": "2022-06-14T14:10:11.520Z"
   },
   {
    "duration": 17,
    "start_time": "2022-06-14T14:10:11.538Z"
   },
   {
    "duration": 12,
    "start_time": "2022-06-14T14:10:11.556Z"
   },
   {
    "duration": 32,
    "start_time": "2022-06-14T14:10:11.569Z"
   },
   {
    "duration": 8,
    "start_time": "2022-06-14T14:10:11.602Z"
   },
   {
    "duration": 29,
    "start_time": "2022-06-14T14:10:11.612Z"
   },
   {
    "duration": 17,
    "start_time": "2022-06-14T14:10:11.642Z"
   },
   {
    "duration": 36,
    "start_time": "2022-06-14T14:10:11.661Z"
   },
   {
    "duration": 24,
    "start_time": "2022-06-14T14:10:11.698Z"
   },
   {
    "duration": 11,
    "start_time": "2022-06-14T14:10:11.723Z"
   },
   {
    "duration": 17,
    "start_time": "2022-06-14T14:10:11.735Z"
   },
   {
    "duration": 12,
    "start_time": "2022-06-14T14:10:11.753Z"
   },
   {
    "duration": 212,
    "start_time": "2022-06-14T14:10:11.767Z"
   },
   {
    "duration": 35,
    "start_time": "2022-06-14T14:10:11.980Z"
   },
   {
    "duration": 209,
    "start_time": "2022-06-14T14:10:12.017Z"
   },
   {
    "duration": 8,
    "start_time": "2022-06-14T14:10:12.227Z"
   },
   {
    "duration": 159,
    "start_time": "2022-06-14T14:10:12.236Z"
   },
   {
    "duration": 7,
    "start_time": "2022-06-14T14:10:12.396Z"
   },
   {
    "duration": 12,
    "start_time": "2022-06-14T14:10:12.404Z"
   },
   {
    "duration": 97,
    "start_time": "2022-06-14T14:10:12.418Z"
   },
   {
    "duration": 33,
    "start_time": "2022-06-14T14:10:12.517Z"
   },
   {
    "duration": 22,
    "start_time": "2022-06-14T14:10:12.552Z"
   },
   {
    "duration": 2,
    "start_time": "2022-06-14T14:10:12.575Z"
   },
   {
    "duration": 2,
    "start_time": "2022-06-14T14:10:12.594Z"
   },
   {
    "duration": 15,
    "start_time": "2022-06-14T14:10:12.598Z"
   },
   {
    "duration": 3,
    "start_time": "2022-06-14T14:10:12.614Z"
   },
   {
    "duration": 11,
    "start_time": "2022-06-14T14:10:12.620Z"
   },
   {
    "duration": 9,
    "start_time": "2022-06-14T14:10:12.632Z"
   },
   {
    "duration": 4,
    "start_time": "2022-06-14T14:10:12.643Z"
   },
   {
    "duration": 11,
    "start_time": "2022-06-14T14:10:12.648Z"
   },
   {
    "duration": 36,
    "start_time": "2022-06-14T14:10:12.661Z"
   },
   {
    "duration": 964,
    "start_time": "2022-06-14T14:10:12.698Z"
   },
   {
    "duration": 5,
    "start_time": "2022-06-14T14:10:13.663Z"
   },
   {
    "duration": 3,
    "start_time": "2022-06-14T14:10:13.669Z"
   },
   {
    "duration": 5,
    "start_time": "2022-06-14T14:10:13.673Z"
   },
   {
    "duration": 84,
    "start_time": "2022-06-14T14:10:13.679Z"
   },
   {
    "duration": 143,
    "start_time": "2022-06-14T14:10:13.765Z"
   },
   {
    "duration": 15,
    "start_time": "2022-06-14T14:10:13.910Z"
   },
   {
    "duration": 330,
    "start_time": "2022-06-14T14:10:13.926Z"
   },
   {
    "duration": 223,
    "start_time": "2022-06-14T14:10:14.257Z"
   },
   {
    "duration": 12112,
    "start_time": "2022-06-14T14:10:14.482Z"
   },
   {
    "duration": 258,
    "start_time": "2022-06-14T14:10:26.596Z"
   },
   {
    "duration": 183,
    "start_time": "2022-06-14T14:10:26.855Z"
   },
   {
    "duration": 292,
    "start_time": "2022-06-14T14:10:27.040Z"
   },
   {
    "duration": 231,
    "start_time": "2022-06-14T14:10:27.334Z"
   },
   {
    "duration": 276,
    "start_time": "2022-06-14T14:10:27.566Z"
   },
   {
    "duration": 179,
    "start_time": "2022-06-14T14:10:27.844Z"
   },
   {
    "duration": 80,
    "start_time": "2022-06-14T14:10:28.025Z"
   },
   {
    "duration": 17,
    "start_time": "2022-06-14T14:10:28.107Z"
   },
   {
    "duration": 119,
    "start_time": "2022-06-14T14:10:28.126Z"
   },
   {
    "duration": 13,
    "start_time": "2022-06-14T14:10:28.246Z"
   },
   {
    "duration": 9,
    "start_time": "2022-06-14T14:10:28.261Z"
   },
   {
    "duration": 87,
    "start_time": "2022-06-14T14:10:28.272Z"
   },
   {
    "duration": 119,
    "start_time": "2022-06-14T14:10:28.361Z"
   },
   {
    "duration": 18,
    "start_time": "2022-06-14T14:10:28.481Z"
   },
   {
    "duration": 9,
    "start_time": "2022-06-14T14:10:28.501Z"
   },
   {
    "duration": 230,
    "start_time": "2022-06-14T14:10:28.511Z"
   },
   {
    "duration": 272,
    "start_time": "2022-06-14T14:11:38.560Z"
   },
   {
    "duration": 173,
    "start_time": "2022-06-14T14:11:43.465Z"
   },
   {
    "duration": 287,
    "start_time": "2022-06-14T14:11:48.248Z"
   },
   {
    "duration": 158,
    "start_time": "2022-06-14T14:11:52.404Z"
   },
   {
    "duration": 166,
    "start_time": "2022-06-14T14:12:02.610Z"
   },
   {
    "duration": 299,
    "start_time": "2022-06-14T14:12:27.437Z"
   },
   {
    "duration": 147,
    "start_time": "2022-06-14T14:13:30.775Z"
   },
   {
    "duration": 223,
    "start_time": "2022-06-14T14:13:54.706Z"
   },
   {
    "duration": 8,
    "start_time": "2022-06-14T14:15:23.241Z"
   },
   {
    "duration": 105,
    "start_time": "2022-06-14T14:15:30.970Z"
   },
   {
    "duration": 11,
    "start_time": "2022-06-14T14:15:33.061Z"
   },
   {
    "duration": 8,
    "start_time": "2022-06-14T14:15:35.895Z"
   },
   {
    "duration": 8,
    "start_time": "2022-06-14T14:19:27.048Z"
   },
   {
    "duration": 1412,
    "start_time": "2022-06-14T14:19:44.633Z"
   },
   {
    "duration": 18,
    "start_time": "2022-06-14T14:19:46.047Z"
   },
   {
    "duration": 16,
    "start_time": "2022-06-14T14:19:46.066Z"
   },
   {
    "duration": 7,
    "start_time": "2022-06-14T14:19:46.084Z"
   },
   {
    "duration": 11,
    "start_time": "2022-06-14T14:19:46.093Z"
   },
   {
    "duration": 13,
    "start_time": "2022-06-14T14:19:46.105Z"
   },
   {
    "duration": 10,
    "start_time": "2022-06-14T14:19:46.120Z"
   },
   {
    "duration": 111,
    "start_time": "2022-06-14T14:19:46.132Z"
   },
   {
    "duration": 23,
    "start_time": "2022-06-14T14:19:46.244Z"
   },
   {
    "duration": 32,
    "start_time": "2022-06-14T14:19:46.269Z"
   },
   {
    "duration": 25,
    "start_time": "2022-06-14T14:19:46.302Z"
   },
   {
    "duration": 18,
    "start_time": "2022-06-14T14:19:46.328Z"
   },
   {
    "duration": 13,
    "start_time": "2022-06-14T14:19:46.348Z"
   },
   {
    "duration": 7,
    "start_time": "2022-06-14T14:19:46.363Z"
   },
   {
    "duration": 35,
    "start_time": "2022-06-14T14:19:46.371Z"
   },
   {
    "duration": 16,
    "start_time": "2022-06-14T14:19:46.407Z"
   },
   {
    "duration": 13,
    "start_time": "2022-06-14T14:19:46.424Z"
   },
   {
    "duration": 12,
    "start_time": "2022-06-14T14:19:46.438Z"
   },
   {
    "duration": 8,
    "start_time": "2022-06-14T14:19:46.452Z"
   },
   {
    "duration": 49,
    "start_time": "2022-06-14T14:19:46.461Z"
   },
   {
    "duration": 20,
    "start_time": "2022-06-14T14:19:46.512Z"
   },
   {
    "duration": 14,
    "start_time": "2022-06-14T14:19:46.534Z"
   },
   {
    "duration": 19,
    "start_time": "2022-06-14T14:19:46.550Z"
   },
   {
    "duration": 28,
    "start_time": "2022-06-14T14:19:46.571Z"
   },
   {
    "duration": 10,
    "start_time": "2022-06-14T14:19:46.600Z"
   },
   {
    "duration": 11,
    "start_time": "2022-06-14T14:19:46.611Z"
   },
   {
    "duration": 192,
    "start_time": "2022-06-14T14:19:46.623Z"
   },
   {
    "duration": 23,
    "start_time": "2022-06-14T14:19:46.816Z"
   },
   {
    "duration": 194,
    "start_time": "2022-06-14T14:19:46.841Z"
   },
   {
    "duration": 7,
    "start_time": "2022-06-14T14:19:47.036Z"
   },
   {
    "duration": 149,
    "start_time": "2022-06-14T14:19:47.045Z"
   },
   {
    "duration": 6,
    "start_time": "2022-06-14T14:19:47.196Z"
   },
   {
    "duration": 13,
    "start_time": "2022-06-14T14:19:47.204Z"
   },
   {
    "duration": 101,
    "start_time": "2022-06-14T14:19:47.219Z"
   },
   {
    "duration": 42,
    "start_time": "2022-06-14T14:19:47.322Z"
   },
   {
    "duration": 42,
    "start_time": "2022-06-14T14:19:47.366Z"
   },
   {
    "duration": 3,
    "start_time": "2022-06-14T14:19:47.409Z"
   },
   {
    "duration": 16,
    "start_time": "2022-06-14T14:19:47.414Z"
   },
   {
    "duration": 21,
    "start_time": "2022-06-14T14:19:47.432Z"
   },
   {
    "duration": 5,
    "start_time": "2022-06-14T14:19:47.454Z"
   },
   {
    "duration": 15,
    "start_time": "2022-06-14T14:19:47.464Z"
   },
   {
    "duration": 28,
    "start_time": "2022-06-14T14:19:47.480Z"
   },
   {
    "duration": 7,
    "start_time": "2022-06-14T14:19:47.510Z"
   },
   {
    "duration": 17,
    "start_time": "2022-06-14T14:19:47.519Z"
   },
   {
    "duration": 13,
    "start_time": "2022-06-14T14:19:47.537Z"
   },
   {
    "duration": 957,
    "start_time": "2022-06-14T14:19:47.551Z"
   },
   {
    "duration": 5,
    "start_time": "2022-06-14T14:19:48.510Z"
   },
   {
    "duration": 5,
    "start_time": "2022-06-14T14:19:48.516Z"
   },
   {
    "duration": 8,
    "start_time": "2022-06-14T14:19:48.522Z"
   },
   {
    "duration": 84,
    "start_time": "2022-06-14T14:19:48.531Z"
   },
   {
    "duration": 140,
    "start_time": "2022-06-14T14:19:48.616Z"
   },
   {
    "duration": 16,
    "start_time": "2022-06-14T14:19:48.757Z"
   },
   {
    "duration": 343,
    "start_time": "2022-06-14T14:19:48.775Z"
   },
   {
    "duration": 227,
    "start_time": "2022-06-14T14:19:49.119Z"
   },
   {
    "duration": 11751,
    "start_time": "2022-06-14T14:19:49.347Z"
   },
   {
    "duration": 272,
    "start_time": "2022-06-14T14:20:01.100Z"
   },
   {
    "duration": 178,
    "start_time": "2022-06-14T14:20:01.373Z"
   },
   {
    "duration": 275,
    "start_time": "2022-06-14T14:20:01.553Z"
   },
   {
    "duration": 196,
    "start_time": "2022-06-14T14:20:01.830Z"
   },
   {
    "duration": 298,
    "start_time": "2022-06-14T14:20:02.028Z"
   },
   {
    "duration": 160,
    "start_time": "2022-06-14T14:20:02.328Z"
   },
   {
    "duration": 75,
    "start_time": "2022-06-14T14:20:02.493Z"
   },
   {
    "duration": 26,
    "start_time": "2022-06-14T14:20:02.569Z"
   },
   {
    "duration": 108,
    "start_time": "2022-06-14T14:20:02.597Z"
   },
   {
    "duration": 11,
    "start_time": "2022-06-14T14:20:02.707Z"
   },
   {
    "duration": 27,
    "start_time": "2022-06-14T14:20:02.720Z"
   },
   {
    "duration": 66,
    "start_time": "2022-06-14T14:20:02.749Z"
   },
   {
    "duration": 113,
    "start_time": "2022-06-14T14:20:02.817Z"
   },
   {
    "duration": 12,
    "start_time": "2022-06-14T14:20:02.932Z"
   },
   {
    "duration": 10,
    "start_time": "2022-06-14T14:20:02.946Z"
   },
   {
    "duration": 234,
    "start_time": "2022-06-14T14:20:02.958Z"
   },
   {
    "duration": 12,
    "start_time": "2022-06-14T14:24:43.672Z"
   },
   {
    "duration": 10,
    "start_time": "2022-06-14T14:24:46.335Z"
   },
   {
    "duration": 211,
    "start_time": "2022-06-14T14:24:51.975Z"
   },
   {
    "duration": 9,
    "start_time": "2022-06-14T14:25:25.676Z"
   },
   {
    "duration": 227,
    "start_time": "2022-06-14T14:29:27.632Z"
   },
   {
    "duration": 9,
    "start_time": "2022-06-14T14:29:31.392Z"
   },
   {
    "duration": 8,
    "start_time": "2022-06-14T14:29:59.129Z"
   },
   {
    "duration": 8,
    "start_time": "2022-06-14T14:31:01.441Z"
   },
   {
    "duration": 1391,
    "start_time": "2022-06-14T14:31:49.841Z"
   },
   {
    "duration": 13,
    "start_time": "2022-06-14T14:31:51.235Z"
   },
   {
    "duration": 15,
    "start_time": "2022-06-14T14:31:51.249Z"
   },
   {
    "duration": 6,
    "start_time": "2022-06-14T14:31:51.265Z"
   },
   {
    "duration": 18,
    "start_time": "2022-06-14T14:31:51.273Z"
   },
   {
    "duration": 18,
    "start_time": "2022-06-14T14:31:51.292Z"
   },
   {
    "duration": 12,
    "start_time": "2022-06-14T14:31:51.311Z"
   },
   {
    "duration": 102,
    "start_time": "2022-06-14T14:31:51.324Z"
   },
   {
    "duration": 22,
    "start_time": "2022-06-14T14:31:51.428Z"
   },
   {
    "duration": 19,
    "start_time": "2022-06-14T14:31:51.452Z"
   },
   {
    "duration": 36,
    "start_time": "2022-06-14T14:31:51.472Z"
   },
   {
    "duration": 18,
    "start_time": "2022-06-14T14:31:51.510Z"
   },
   {
    "duration": 13,
    "start_time": "2022-06-14T14:31:51.529Z"
   },
   {
    "duration": 9,
    "start_time": "2022-06-14T14:31:51.545Z"
   },
   {
    "duration": 20,
    "start_time": "2022-06-14T14:31:51.555Z"
   },
   {
    "duration": 31,
    "start_time": "2022-06-14T14:31:51.577Z"
   },
   {
    "duration": 12,
    "start_time": "2022-06-14T14:31:51.609Z"
   },
   {
    "duration": 18,
    "start_time": "2022-06-14T14:31:51.622Z"
   },
   {
    "duration": 10,
    "start_time": "2022-06-14T14:31:51.642Z"
   },
   {
    "duration": 32,
    "start_time": "2022-06-14T14:31:51.653Z"
   },
   {
    "duration": 24,
    "start_time": "2022-06-14T14:31:51.686Z"
   },
   {
    "duration": 21,
    "start_time": "2022-06-14T14:31:51.711Z"
   },
   {
    "duration": 31,
    "start_time": "2022-06-14T14:31:51.733Z"
   },
   {
    "duration": 11,
    "start_time": "2022-06-14T14:31:51.765Z"
   },
   {
    "duration": 17,
    "start_time": "2022-06-14T14:31:51.778Z"
   },
   {
    "duration": 12,
    "start_time": "2022-06-14T14:31:51.797Z"
   },
   {
    "duration": 196,
    "start_time": "2022-06-14T14:31:51.810Z"
   },
   {
    "duration": 25,
    "start_time": "2022-06-14T14:31:52.008Z"
   },
   {
    "duration": 208,
    "start_time": "2022-06-14T14:31:52.034Z"
   },
   {
    "duration": 8,
    "start_time": "2022-06-14T14:31:52.243Z"
   },
   {
    "duration": 155,
    "start_time": "2022-06-14T14:31:52.252Z"
   },
   {
    "duration": 7,
    "start_time": "2022-06-14T14:31:52.408Z"
   },
   {
    "duration": 10,
    "start_time": "2022-06-14T14:31:52.417Z"
   },
   {
    "duration": 100,
    "start_time": "2022-06-14T14:31:52.428Z"
   },
   {
    "duration": 34,
    "start_time": "2022-06-14T14:31:52.530Z"
   },
   {
    "duration": 39,
    "start_time": "2022-06-14T14:31:52.565Z"
   },
   {
    "duration": 3,
    "start_time": "2022-06-14T14:31:52.606Z"
   },
   {
    "duration": 16,
    "start_time": "2022-06-14T14:31:52.610Z"
   },
   {
    "duration": 18,
    "start_time": "2022-06-14T14:31:52.628Z"
   },
   {
    "duration": 2,
    "start_time": "2022-06-14T14:31:52.647Z"
   },
   {
    "duration": 10,
    "start_time": "2022-06-14T14:31:52.654Z"
   },
   {
    "duration": 11,
    "start_time": "2022-06-14T14:31:52.666Z"
   },
   {
    "duration": 16,
    "start_time": "2022-06-14T14:31:52.678Z"
   },
   {
    "duration": 9,
    "start_time": "2022-06-14T14:31:52.696Z"
   },
   {
    "duration": 9,
    "start_time": "2022-06-14T14:31:52.706Z"
   },
   {
    "duration": 956,
    "start_time": "2022-06-14T14:31:52.716Z"
   },
   {
    "duration": 5,
    "start_time": "2022-06-14T14:31:53.673Z"
   },
   {
    "duration": 15,
    "start_time": "2022-06-14T14:31:53.679Z"
   },
   {
    "duration": 24,
    "start_time": "2022-06-14T14:31:53.696Z"
   },
   {
    "duration": 106,
    "start_time": "2022-06-14T14:31:53.721Z"
   },
   {
    "duration": 119,
    "start_time": "2022-06-14T14:31:53.829Z"
   },
   {
    "duration": 12,
    "start_time": "2022-06-14T14:31:53.950Z"
   },
   {
    "duration": 331,
    "start_time": "2022-06-14T14:31:53.964Z"
   },
   {
    "duration": 233,
    "start_time": "2022-06-14T14:31:54.297Z"
   },
   {
    "duration": 11723,
    "start_time": "2022-06-14T14:31:54.531Z"
   },
   {
    "duration": 267,
    "start_time": "2022-06-14T14:32:06.256Z"
   },
   {
    "duration": 188,
    "start_time": "2022-06-14T14:32:06.524Z"
   },
   {
    "duration": 281,
    "start_time": "2022-06-14T14:32:06.714Z"
   },
   {
    "duration": 171,
    "start_time": "2022-06-14T14:32:06.996Z"
   },
   {
    "duration": 326,
    "start_time": "2022-06-14T14:32:07.169Z"
   },
   {
    "duration": 179,
    "start_time": "2022-06-14T14:32:07.497Z"
   },
   {
    "duration": 81,
    "start_time": "2022-06-14T14:32:07.678Z"
   },
   {
    "duration": 108,
    "start_time": "2022-06-14T14:32:07.778Z"
   },
   {
    "duration": 11,
    "start_time": "2022-06-14T14:32:07.894Z"
   },
   {
    "duration": 8,
    "start_time": "2022-06-14T14:32:07.906Z"
   },
   {
    "duration": 81,
    "start_time": "2022-06-14T14:32:07.915Z"
   },
   {
    "duration": 110,
    "start_time": "2022-06-14T14:32:07.998Z"
   },
   {
    "duration": 11,
    "start_time": "2022-06-14T14:32:08.109Z"
   },
   {
    "duration": 9,
    "start_time": "2022-06-14T14:32:08.121Z"
   },
   {
    "duration": 236,
    "start_time": "2022-06-14T14:32:08.131Z"
   },
   {
    "duration": 19,
    "start_time": "2022-06-14T14:32:08.394Z"
   },
   {
    "duration": 12,
    "start_time": "2022-06-14T14:37:08.043Z"
   },
   {
    "duration": 8,
    "start_time": "2022-06-14T14:37:26.800Z"
   },
   {
    "duration": 276,
    "start_time": "2022-06-14T14:38:10.161Z"
   },
   {
    "duration": 1502,
    "start_time": "2022-06-14T14:38:35.881Z"
   },
   {
    "duration": 19,
    "start_time": "2022-06-14T14:38:37.385Z"
   },
   {
    "duration": 18,
    "start_time": "2022-06-14T14:38:37.408Z"
   },
   {
    "duration": 25,
    "start_time": "2022-06-14T14:38:37.428Z"
   },
   {
    "duration": 19,
    "start_time": "2022-06-14T14:38:37.454Z"
   },
   {
    "duration": 15,
    "start_time": "2022-06-14T14:38:37.475Z"
   },
   {
    "duration": 15,
    "start_time": "2022-06-14T14:38:37.494Z"
   },
   {
    "duration": 113,
    "start_time": "2022-06-14T14:38:37.512Z"
   },
   {
    "duration": 23,
    "start_time": "2022-06-14T14:38:37.627Z"
   },
   {
    "duration": 19,
    "start_time": "2022-06-14T14:38:37.653Z"
   },
   {
    "duration": 42,
    "start_time": "2022-06-14T14:38:37.674Z"
   },
   {
    "duration": 19,
    "start_time": "2022-06-14T14:38:37.718Z"
   },
   {
    "duration": 12,
    "start_time": "2022-06-14T14:38:37.738Z"
   },
   {
    "duration": 6,
    "start_time": "2022-06-14T14:38:37.752Z"
   },
   {
    "duration": 35,
    "start_time": "2022-06-14T14:38:37.759Z"
   },
   {
    "duration": 17,
    "start_time": "2022-06-14T14:38:37.796Z"
   },
   {
    "duration": 12,
    "start_time": "2022-06-14T14:38:37.815Z"
   },
   {
    "duration": 12,
    "start_time": "2022-06-14T14:38:37.829Z"
   },
   {
    "duration": 9,
    "start_time": "2022-06-14T14:38:37.842Z"
   },
   {
    "duration": 50,
    "start_time": "2022-06-14T14:38:37.853Z"
   },
   {
    "duration": 17,
    "start_time": "2022-06-14T14:38:37.904Z"
   },
   {
    "duration": 14,
    "start_time": "2022-06-14T14:38:37.922Z"
   },
   {
    "duration": 23,
    "start_time": "2022-06-14T14:38:37.938Z"
   },
   {
    "duration": 12,
    "start_time": "2022-06-14T14:38:37.962Z"
   },
   {
    "duration": 28,
    "start_time": "2022-06-14T14:38:37.975Z"
   },
   {
    "duration": 11,
    "start_time": "2022-06-14T14:38:38.005Z"
   },
   {
    "duration": 208,
    "start_time": "2022-06-14T14:38:38.017Z"
   },
   {
    "duration": 24,
    "start_time": "2022-06-14T14:38:38.229Z"
   },
   {
    "duration": 200,
    "start_time": "2022-06-14T14:38:38.254Z"
   },
   {
    "duration": 7,
    "start_time": "2022-06-14T14:38:38.456Z"
   },
   {
    "duration": 152,
    "start_time": "2022-06-14T14:38:38.464Z"
   },
   {
    "duration": 6,
    "start_time": "2022-06-14T14:38:38.618Z"
   },
   {
    "duration": 10,
    "start_time": "2022-06-14T14:38:38.626Z"
   },
   {
    "duration": 95,
    "start_time": "2022-06-14T14:38:38.638Z"
   },
   {
    "duration": 34,
    "start_time": "2022-06-14T14:38:38.734Z"
   },
   {
    "duration": 39,
    "start_time": "2022-06-14T14:38:38.770Z"
   },
   {
    "duration": 2,
    "start_time": "2022-06-14T14:38:38.811Z"
   },
   {
    "duration": 10,
    "start_time": "2022-06-14T14:38:38.814Z"
   },
   {
    "duration": 18,
    "start_time": "2022-06-14T14:38:38.826Z"
   },
   {
    "duration": 6,
    "start_time": "2022-06-14T14:38:38.845Z"
   },
   {
    "duration": 14,
    "start_time": "2022-06-14T14:38:38.852Z"
   },
   {
    "duration": 10,
    "start_time": "2022-06-14T14:38:38.868Z"
   },
   {
    "duration": 6,
    "start_time": "2022-06-14T14:38:38.879Z"
   },
   {
    "duration": 11,
    "start_time": "2022-06-14T14:38:38.893Z"
   },
   {
    "duration": 7,
    "start_time": "2022-06-14T14:38:38.905Z"
   },
   {
    "duration": 943,
    "start_time": "2022-06-14T14:38:38.913Z"
   },
   {
    "duration": 5,
    "start_time": "2022-06-14T14:38:39.858Z"
   },
   {
    "duration": 3,
    "start_time": "2022-06-14T14:38:39.864Z"
   },
   {
    "duration": 5,
    "start_time": "2022-06-14T14:38:39.869Z"
   },
   {
    "duration": 79,
    "start_time": "2022-06-14T14:38:39.875Z"
   },
   {
    "duration": 131,
    "start_time": "2022-06-14T14:38:39.956Z"
   },
   {
    "duration": 186,
    "start_time": "2022-06-14T14:38:40.088Z"
   },
   {
    "duration": 21,
    "start_time": "2022-06-14T14:38:40.276Z"
   },
   {
    "duration": 379,
    "start_time": "2022-06-14T14:38:40.298Z"
   },
   {
    "duration": 228,
    "start_time": "2022-06-14T14:38:40.678Z"
   },
   {
    "duration": 12556,
    "start_time": "2022-06-14T14:38:40.907Z"
   },
   {
    "duration": 292,
    "start_time": "2022-06-14T14:38:53.465Z"
   },
   {
    "duration": 194,
    "start_time": "2022-06-14T14:38:53.759Z"
   },
   {
    "duration": 297,
    "start_time": "2022-06-14T14:38:53.955Z"
   },
   {
    "duration": 183,
    "start_time": "2022-06-14T14:38:54.254Z"
   },
   {
    "duration": 288,
    "start_time": "2022-06-14T14:38:54.439Z"
   },
   {
    "duration": 176,
    "start_time": "2022-06-14T14:38:54.728Z"
   },
   {
    "duration": 66,
    "start_time": "2022-06-14T14:38:54.905Z"
   },
   {
    "duration": 30,
    "start_time": "2022-06-14T14:38:54.972Z"
   },
   {
    "duration": 140,
    "start_time": "2022-06-14T14:38:55.003Z"
   },
   {
    "duration": 11,
    "start_time": "2022-06-14T14:38:55.144Z"
   },
   {
    "duration": 8,
    "start_time": "2022-06-14T14:38:55.156Z"
   },
   {
    "duration": 81,
    "start_time": "2022-06-14T14:38:55.166Z"
   },
   {
    "duration": 140,
    "start_time": "2022-06-14T14:38:55.249Z"
   },
   {
    "duration": 11,
    "start_time": "2022-06-14T14:38:55.390Z"
   },
   {
    "duration": 8,
    "start_time": "2022-06-14T14:38:55.402Z"
   },
   {
    "duration": 243,
    "start_time": "2022-06-14T14:38:55.412Z"
   },
   {
    "duration": 9,
    "start_time": "2022-06-14T14:40:08.792Z"
   },
   {
    "duration": 9,
    "start_time": "2022-06-14T14:40:12.976Z"
   },
   {
    "duration": 10,
    "start_time": "2022-06-14T14:42:22.157Z"
   },
   {
    "duration": 1716,
    "start_time": "2022-06-14T20:10:59.358Z"
   },
   {
    "duration": 16,
    "start_time": "2022-06-14T20:11:01.077Z"
   },
   {
    "duration": 75,
    "start_time": "2022-06-14T20:11:01.094Z"
   },
   {
    "duration": 31,
    "start_time": "2022-06-14T20:11:01.172Z"
   },
   {
    "duration": 33,
    "start_time": "2022-06-14T20:11:01.205Z"
   },
   {
    "duration": 63,
    "start_time": "2022-06-14T20:11:01.240Z"
   },
   {
    "duration": 53,
    "start_time": "2022-06-14T20:11:01.306Z"
   },
   {
    "duration": 158,
    "start_time": "2022-06-14T20:11:01.361Z"
   },
   {
    "duration": 28,
    "start_time": "2022-06-14T20:11:01.520Z"
   },
   {
    "duration": 51,
    "start_time": "2022-06-14T20:11:01.551Z"
   },
   {
    "duration": 54,
    "start_time": "2022-06-14T20:11:01.604Z"
   },
   {
    "duration": 35,
    "start_time": "2022-06-14T20:11:01.662Z"
   },
   {
    "duration": 27,
    "start_time": "2022-06-14T20:11:01.708Z"
   },
   {
    "duration": 8,
    "start_time": "2022-06-14T20:11:01.736Z"
   },
   {
    "duration": 23,
    "start_time": "2022-06-14T20:11:01.746Z"
   },
   {
    "duration": 24,
    "start_time": "2022-06-14T20:11:01.771Z"
   },
   {
    "duration": 27,
    "start_time": "2022-06-14T20:11:01.802Z"
   },
   {
    "duration": 19,
    "start_time": "2022-06-14T20:11:01.831Z"
   },
   {
    "duration": 38,
    "start_time": "2022-06-14T20:11:01.853Z"
   },
   {
    "duration": 76,
    "start_time": "2022-06-14T20:11:01.893Z"
   },
   {
    "duration": 30,
    "start_time": "2022-06-14T20:11:01.971Z"
   },
   {
    "duration": 69,
    "start_time": "2022-06-14T20:11:02.003Z"
   },
   {
    "duration": 69,
    "start_time": "2022-06-14T20:11:02.075Z"
   },
   {
    "duration": 13,
    "start_time": "2022-06-14T20:11:02.146Z"
   },
   {
    "duration": 33,
    "start_time": "2022-06-14T20:11:02.161Z"
   },
   {
    "duration": 21,
    "start_time": "2022-06-14T20:11:02.196Z"
   },
   {
    "duration": 243,
    "start_time": "2022-06-14T20:11:02.219Z"
   },
   {
    "duration": 48,
    "start_time": "2022-06-14T20:11:02.466Z"
   },
   {
    "duration": 232,
    "start_time": "2022-06-14T20:11:02.517Z"
   },
   {
    "duration": 9,
    "start_time": "2022-06-14T20:11:02.750Z"
   },
   {
    "duration": 192,
    "start_time": "2022-06-14T20:11:02.760Z"
   },
   {
    "duration": 8,
    "start_time": "2022-06-14T20:11:02.953Z"
   },
   {
    "duration": 15,
    "start_time": "2022-06-14T20:11:02.963Z"
   },
   {
    "duration": 140,
    "start_time": "2022-06-14T20:11:02.979Z"
   },
   {
    "duration": 40,
    "start_time": "2022-06-14T20:11:03.122Z"
   },
   {
    "duration": 54,
    "start_time": "2022-06-14T20:11:03.164Z"
   },
   {
    "duration": 3,
    "start_time": "2022-06-14T20:11:03.224Z"
   },
   {
    "duration": 12,
    "start_time": "2022-06-14T20:11:03.230Z"
   },
   {
    "duration": 25,
    "start_time": "2022-06-14T20:11:03.244Z"
   },
   {
    "duration": 3,
    "start_time": "2022-06-14T20:11:03.271Z"
   },
   {
    "duration": 42,
    "start_time": "2022-06-14T20:11:03.275Z"
   },
   {
    "duration": 15,
    "start_time": "2022-06-14T20:11:03.320Z"
   },
   {
    "duration": 15,
    "start_time": "2022-06-14T20:11:03.337Z"
   },
   {
    "duration": 17,
    "start_time": "2022-06-14T20:11:03.354Z"
   },
   {
    "duration": 7,
    "start_time": "2022-06-14T20:11:03.373Z"
   },
   {
    "duration": 1099,
    "start_time": "2022-06-14T20:11:03.382Z"
   },
   {
    "duration": 17,
    "start_time": "2022-06-14T20:11:04.483Z"
   },
   {
    "duration": 18,
    "start_time": "2022-06-14T20:11:04.502Z"
   },
   {
    "duration": 10,
    "start_time": "2022-06-14T20:11:04.522Z"
   },
   {
    "duration": 83,
    "start_time": "2022-06-14T20:11:04.534Z"
   },
   {
    "duration": 134,
    "start_time": "2022-06-14T20:11:04.619Z"
   },
   {
    "duration": 214,
    "start_time": "2022-06-14T20:11:04.755Z"
   },
   {
    "duration": 23,
    "start_time": "2022-06-14T20:11:04.972Z"
   },
   {
    "duration": 436,
    "start_time": "2022-06-14T20:11:04.996Z"
   },
   {
    "duration": 271,
    "start_time": "2022-06-14T20:11:05.434Z"
   },
   {
    "duration": 14907,
    "start_time": "2022-06-14T20:11:05.710Z"
   },
   {
    "duration": 343,
    "start_time": "2022-06-14T20:11:20.619Z"
   },
   {
    "duration": 220,
    "start_time": "2022-06-14T20:11:20.964Z"
   },
   {
    "duration": 336,
    "start_time": "2022-06-14T20:11:21.186Z"
   },
   {
    "duration": 205,
    "start_time": "2022-06-14T20:11:21.524Z"
   },
   {
    "duration": 357,
    "start_time": "2022-06-14T20:11:21.731Z"
   },
   {
    "duration": 214,
    "start_time": "2022-06-14T20:11:22.094Z"
   },
   {
    "duration": 81,
    "start_time": "2022-06-14T20:11:22.311Z"
   },
   {
    "duration": 28,
    "start_time": "2022-06-14T20:11:22.394Z"
   },
   {
    "duration": 172,
    "start_time": "2022-06-14T20:11:22.424Z"
   },
   {
    "duration": 14,
    "start_time": "2022-06-14T20:11:22.603Z"
   },
   {
    "duration": 14,
    "start_time": "2022-06-14T20:11:22.618Z"
   },
   {
    "duration": 80,
    "start_time": "2022-06-14T20:11:22.634Z"
   },
   {
    "duration": 157,
    "start_time": "2022-06-14T20:11:22.715Z"
   },
   {
    "duration": 13,
    "start_time": "2022-06-14T20:11:22.873Z"
   },
   {
    "duration": 26,
    "start_time": "2022-06-14T20:11:22.893Z"
   },
   {
    "duration": 286,
    "start_time": "2022-06-14T20:11:22.921Z"
   },
   {
    "duration": 6,
    "start_time": "2022-06-14T20:11:33.610Z"
   },
   {
    "duration": 27,
    "start_time": "2022-06-14T20:15:06.010Z"
   },
   {
    "duration": 14,
    "start_time": "2022-06-14T20:15:11.759Z"
   },
   {
    "duration": 13,
    "start_time": "2022-06-14T20:15:21.619Z"
   },
   {
    "duration": 12,
    "start_time": "2022-06-14T20:15:29.543Z"
   },
   {
    "duration": 29,
    "start_time": "2022-06-14T20:17:36.348Z"
   },
   {
    "duration": 22,
    "start_time": "2022-06-14T20:18:33.167Z"
   },
   {
    "duration": 16,
    "start_time": "2022-06-14T20:18:39.325Z"
   },
   {
    "duration": 1608,
    "start_time": "2022-06-14T20:18:50.832Z"
   },
   {
    "duration": 20,
    "start_time": "2022-06-14T20:18:52.443Z"
   },
   {
    "duration": 19,
    "start_time": "2022-06-14T20:18:52.465Z"
   },
   {
    "duration": 12,
    "start_time": "2022-06-14T20:18:52.487Z"
   },
   {
    "duration": 17,
    "start_time": "2022-06-14T20:18:52.501Z"
   },
   {
    "duration": 19,
    "start_time": "2022-06-14T20:18:52.523Z"
   },
   {
    "duration": 16,
    "start_time": "2022-06-14T20:18:52.544Z"
   },
   {
    "duration": 137,
    "start_time": "2022-06-14T20:18:52.562Z"
   },
   {
    "duration": 30,
    "start_time": "2022-06-14T20:18:52.701Z"
   },
   {
    "duration": 25,
    "start_time": "2022-06-14T20:18:52.734Z"
   },
   {
    "duration": 58,
    "start_time": "2022-06-14T20:18:52.761Z"
   },
   {
    "duration": 24,
    "start_time": "2022-06-14T20:18:52.821Z"
   },
   {
    "duration": 18,
    "start_time": "2022-06-14T20:18:52.846Z"
   },
   {
    "duration": 8,
    "start_time": "2022-06-14T20:18:52.865Z"
   },
   {
    "duration": 42,
    "start_time": "2022-06-14T20:18:52.875Z"
   },
   {
    "duration": 19,
    "start_time": "2022-06-14T20:18:52.919Z"
   },
   {
    "duration": 15,
    "start_time": "2022-06-14T20:18:52.940Z"
   },
   {
    "duration": 17,
    "start_time": "2022-06-14T20:18:52.956Z"
   },
   {
    "duration": 18,
    "start_time": "2022-06-14T20:18:52.996Z"
   },
   {
    "duration": 35,
    "start_time": "2022-06-14T20:18:53.016Z"
   },
   {
    "duration": 23,
    "start_time": "2022-06-14T20:18:53.053Z"
   },
   {
    "duration": 37,
    "start_time": "2022-06-14T20:18:53.077Z"
   },
   {
    "duration": 36,
    "start_time": "2022-06-14T20:18:53.116Z"
   },
   {
    "duration": 13,
    "start_time": "2022-06-14T20:18:53.153Z"
   },
   {
    "duration": 27,
    "start_time": "2022-06-14T20:18:53.168Z"
   },
   {
    "duration": 19,
    "start_time": "2022-06-14T20:18:53.196Z"
   },
   {
    "duration": 253,
    "start_time": "2022-06-14T20:18:53.217Z"
   },
   {
    "duration": 36,
    "start_time": "2022-06-14T20:18:53.474Z"
   },
   {
    "duration": 239,
    "start_time": "2022-06-14T20:18:53.512Z"
   },
   {
    "duration": 9,
    "start_time": "2022-06-14T20:18:53.753Z"
   },
   {
    "duration": 195,
    "start_time": "2022-06-14T20:18:53.763Z"
   },
   {
    "duration": 10,
    "start_time": "2022-06-14T20:18:53.960Z"
   },
   {
    "duration": 36,
    "start_time": "2022-06-14T20:18:53.973Z"
   },
   {
    "duration": 112,
    "start_time": "2022-06-14T20:18:54.011Z"
   },
   {
    "duration": 39,
    "start_time": "2022-06-14T20:18:54.125Z"
   },
   {
    "duration": 53,
    "start_time": "2022-06-14T20:18:54.166Z"
   },
   {
    "duration": 3,
    "start_time": "2022-06-14T20:18:54.221Z"
   },
   {
    "duration": 17,
    "start_time": "2022-06-14T20:18:54.225Z"
   },
   {
    "duration": 24,
    "start_time": "2022-06-14T20:18:54.244Z"
   },
   {
    "duration": 40,
    "start_time": "2022-06-14T20:18:54.270Z"
   },
   {
    "duration": 2,
    "start_time": "2022-06-14T20:18:54.312Z"
   },
   {
    "duration": 15,
    "start_time": "2022-06-14T20:18:54.316Z"
   },
   {
    "duration": 10,
    "start_time": "2022-06-14T20:18:54.332Z"
   },
   {
    "duration": 5,
    "start_time": "2022-06-14T20:18:54.344Z"
   },
   {
    "duration": 12,
    "start_time": "2022-06-14T20:18:54.351Z"
   },
   {
    "duration": 8,
    "start_time": "2022-06-14T20:18:54.364Z"
   },
   {
    "duration": 1108,
    "start_time": "2022-06-14T20:18:54.374Z"
   },
   {
    "duration": 11,
    "start_time": "2022-06-14T20:18:55.484Z"
   },
   {
    "duration": 17,
    "start_time": "2022-06-14T20:18:55.496Z"
   },
   {
    "duration": 7,
    "start_time": "2022-06-14T20:18:55.514Z"
   },
   {
    "duration": 87,
    "start_time": "2022-06-14T20:18:55.522Z"
   },
   {
    "duration": 138,
    "start_time": "2022-06-14T20:18:55.611Z"
   },
   {
    "duration": 220,
    "start_time": "2022-06-14T20:18:55.751Z"
   },
   {
    "duration": 33,
    "start_time": "2022-06-14T20:18:55.973Z"
   },
   {
    "duration": 460,
    "start_time": "2022-06-14T20:18:56.013Z"
   },
   {
    "duration": 263,
    "start_time": "2022-06-14T20:18:56.474Z"
   },
   {
    "duration": 16075,
    "start_time": "2022-06-14T20:18:56.738Z"
   },
   {
    "duration": 327,
    "start_time": "2022-06-14T20:19:12.814Z"
   },
   {
    "duration": 215,
    "start_time": "2022-06-14T20:19:13.142Z"
   },
   {
    "duration": 331,
    "start_time": "2022-06-14T20:19:13.359Z"
   },
   {
    "duration": 222,
    "start_time": "2022-06-14T20:19:13.691Z"
   },
   {
    "duration": 344,
    "start_time": "2022-06-14T20:19:13.915Z"
   },
   {
    "duration": 215,
    "start_time": "2022-06-14T20:19:14.261Z"
   },
   {
    "duration": 95,
    "start_time": "2022-06-14T20:19:14.478Z"
   },
   {
    "duration": 39,
    "start_time": "2022-06-14T20:19:14.574Z"
   },
   {
    "duration": 162,
    "start_time": "2022-06-14T20:19:14.615Z"
   },
   {
    "duration": 30,
    "start_time": "2022-06-14T20:19:14.778Z"
   },
   {
    "duration": 9,
    "start_time": "2022-06-14T20:19:14.810Z"
   },
   {
    "duration": 83,
    "start_time": "2022-06-14T20:19:14.821Z"
   },
   {
    "duration": 150,
    "start_time": "2022-06-14T20:19:14.906Z"
   },
   {
    "duration": 14,
    "start_time": "2022-06-14T20:19:15.058Z"
   },
   {
    "duration": 28,
    "start_time": "2022-06-14T20:19:15.073Z"
   },
   {
    "duration": 280,
    "start_time": "2022-06-14T20:19:15.108Z"
   },
   {
    "duration": 34,
    "start_time": "2022-06-14T20:19:35.756Z"
   },
   {
    "duration": 17,
    "start_time": "2022-06-14T20:20:21.264Z"
   },
   {
    "duration": 17,
    "start_time": "2022-06-14T20:20:21.575Z"
   },
   {
    "duration": 3,
    "start_time": "2022-06-14T20:20:44.766Z"
   },
   {
    "duration": 13,
    "start_time": "2022-06-14T20:20:45.039Z"
   },
   {
    "duration": 8,
    "start_time": "2022-06-14T20:20:45.641Z"
   },
   {
    "duration": 4,
    "start_time": "2022-06-14T20:20:46.072Z"
   },
   {
    "duration": 12,
    "start_time": "2022-06-14T20:20:46.454Z"
   },
   {
    "duration": 6,
    "start_time": "2022-06-14T20:20:46.709Z"
   },
   {
    "duration": 1206,
    "start_time": "2022-06-14T20:20:47.406Z"
   },
   {
    "duration": 9,
    "start_time": "2022-06-14T20:20:50.658Z"
   },
   {
    "duration": 5,
    "start_time": "2022-06-14T20:20:53.218Z"
   },
   {
    "duration": 6,
    "start_time": "2022-06-14T20:21:09.239Z"
   },
   {
    "duration": 91,
    "start_time": "2022-06-14T20:21:10.667Z"
   },
   {
    "duration": 5,
    "start_time": "2022-06-14T20:21:19.551Z"
   },
   {
    "duration": 14,
    "start_time": "2022-06-14T20:21:42.356Z"
   },
   {
    "duration": 17,
    "start_time": "2022-06-14T20:22:58.204Z"
   },
   {
    "duration": 24,
    "start_time": "2022-06-14T20:23:10.422Z"
   },
   {
    "duration": 35,
    "start_time": "2022-06-14T20:23:13.690Z"
   },
   {
    "duration": 6,
    "start_time": "2022-06-14T20:24:43.243Z"
   },
   {
    "duration": 134,
    "start_time": "2022-06-14T20:24:44.028Z"
   },
   {
    "duration": 5,
    "start_time": "2022-06-14T20:25:29.846Z"
   },
   {
    "duration": 25,
    "start_time": "2022-06-14T20:25:30.338Z"
   },
   {
    "duration": 6,
    "start_time": "2022-06-14T20:25:42.442Z"
   },
   {
    "duration": 88,
    "start_time": "2022-06-14T20:25:42.874Z"
   },
   {
    "duration": 17,
    "start_time": "2022-06-14T20:25:43.717Z"
   },
   {
    "duration": 85,
    "start_time": "2022-06-14T20:25:51.139Z"
   },
   {
    "duration": 17,
    "start_time": "2022-06-14T20:25:51.774Z"
   },
   {
    "duration": 3,
    "start_time": "2022-06-15T09:59:39.051Z"
   },
   {
    "duration": 43,
    "start_time": "2022-06-15T09:59:41.109Z"
   },
   {
    "duration": 2200,
    "start_time": "2022-06-15T09:59:49.848Z"
   },
   {
    "duration": 14,
    "start_time": "2022-06-15T09:59:52.049Z"
   },
   {
    "duration": 13,
    "start_time": "2022-06-15T09:59:52.065Z"
   },
   {
    "duration": 8,
    "start_time": "2022-06-15T09:59:52.080Z"
   },
   {
    "duration": 12,
    "start_time": "2022-06-15T09:59:52.090Z"
   },
   {
    "duration": 12,
    "start_time": "2022-06-15T09:59:52.104Z"
   },
   {
    "duration": 10,
    "start_time": "2022-06-15T09:59:52.118Z"
   },
   {
    "duration": 119,
    "start_time": "2022-06-15T09:59:52.130Z"
   },
   {
    "duration": 26,
    "start_time": "2022-06-15T09:59:52.251Z"
   },
   {
    "duration": 32,
    "start_time": "2022-06-15T09:59:52.279Z"
   },
   {
    "duration": 24,
    "start_time": "2022-06-15T09:59:52.313Z"
   },
   {
    "duration": 18,
    "start_time": "2022-06-15T09:59:52.338Z"
   },
   {
    "duration": 11,
    "start_time": "2022-06-15T09:59:52.357Z"
   },
   {
    "duration": 7,
    "start_time": "2022-06-15T09:59:52.393Z"
   },
   {
    "duration": 23,
    "start_time": "2022-06-15T09:59:52.402Z"
   },
   {
    "duration": 18,
    "start_time": "2022-06-15T09:59:52.426Z"
   },
   {
    "duration": 12,
    "start_time": "2022-06-15T09:59:52.445Z"
   },
   {
    "duration": 38,
    "start_time": "2022-06-15T09:59:52.459Z"
   },
   {
    "duration": 9,
    "start_time": "2022-06-15T09:59:52.499Z"
   },
   {
    "duration": 27,
    "start_time": "2022-06-15T09:59:52.509Z"
   },
   {
    "duration": 16,
    "start_time": "2022-06-15T09:59:52.537Z"
   },
   {
    "duration": 13,
    "start_time": "2022-06-15T09:59:52.554Z"
   },
   {
    "duration": 22,
    "start_time": "2022-06-15T09:59:52.590Z"
   },
   {
    "duration": 10,
    "start_time": "2022-06-15T09:59:52.614Z"
   },
   {
    "duration": 2,
    "start_time": "2022-06-15T09:59:52.626Z"
   },
   {
    "duration": 14,
    "start_time": "2022-06-15T09:59:52.629Z"
   },
   {
    "duration": 235,
    "start_time": "2022-06-15T09:59:52.644Z"
   },
   {
    "duration": 29,
    "start_time": "2022-06-15T09:59:52.881Z"
   },
   {
    "duration": 203,
    "start_time": "2022-06-15T09:59:52.912Z"
   },
   {
    "duration": 7,
    "start_time": "2022-06-15T09:59:53.117Z"
   },
   {
    "duration": 159,
    "start_time": "2022-06-15T09:59:53.126Z"
   },
   {
    "duration": 9,
    "start_time": "2022-06-15T09:59:53.287Z"
   },
   {
    "duration": 12,
    "start_time": "2022-06-15T09:59:53.297Z"
   },
   {
    "duration": 107,
    "start_time": "2022-06-15T09:59:53.310Z"
   },
   {
    "duration": 44,
    "start_time": "2022-06-15T09:59:53.419Z"
   },
   {
    "duration": 42,
    "start_time": "2022-06-15T09:59:53.465Z"
   },
   {
    "duration": 2,
    "start_time": "2022-06-15T09:59:53.509Z"
   },
   {
    "duration": 6,
    "start_time": "2022-06-15T09:59:53.513Z"
   },
   {
    "duration": 19,
    "start_time": "2022-06-15T09:59:53.520Z"
   },
   {
    "duration": 2,
    "start_time": "2022-06-15T09:59:53.541Z"
   },
   {
    "duration": 11,
    "start_time": "2022-06-15T09:59:53.549Z"
   },
   {
    "duration": 34,
    "start_time": "2022-06-15T09:59:53.562Z"
   },
   {
    "duration": 6,
    "start_time": "2022-06-15T09:59:53.598Z"
   },
   {
    "duration": 16,
    "start_time": "2022-06-15T09:59:53.605Z"
   },
   {
    "duration": 11,
    "start_time": "2022-06-15T09:59:53.623Z"
   },
   {
    "duration": 984,
    "start_time": "2022-06-15T09:59:53.636Z"
   },
   {
    "duration": 7,
    "start_time": "2022-06-15T09:59:54.621Z"
   },
   {
    "duration": 4,
    "start_time": "2022-06-15T09:59:54.629Z"
   },
   {
    "duration": 5,
    "start_time": "2022-06-15T09:59:54.635Z"
   },
   {
    "duration": 88,
    "start_time": "2022-06-15T09:59:54.641Z"
   },
   {
    "duration": 120,
    "start_time": "2022-06-15T09:59:54.731Z"
   },
   {
    "duration": 179,
    "start_time": "2022-06-15T09:59:54.853Z"
   },
   {
    "duration": 14,
    "start_time": "2022-06-15T09:59:55.033Z"
   },
   {
    "duration": 361,
    "start_time": "2022-06-15T09:59:55.048Z"
   },
   {
    "duration": 224,
    "start_time": "2022-06-15T09:59:55.411Z"
   },
   {
    "duration": 12822,
    "start_time": "2022-06-15T09:59:55.636Z"
   },
   {
    "duration": 281,
    "start_time": "2022-06-15T10:00:08.459Z"
   },
   {
    "duration": 172,
    "start_time": "2022-06-15T10:00:08.742Z"
   },
   {
    "duration": 271,
    "start_time": "2022-06-15T10:00:08.916Z"
   },
   {
    "duration": 173,
    "start_time": "2022-06-15T10:00:09.190Z"
   },
   {
    "duration": 282,
    "start_time": "2022-06-15T10:00:09.364Z"
   },
   {
    "duration": 162,
    "start_time": "2022-06-15T10:00:09.648Z"
   },
   {
    "duration": 80,
    "start_time": "2022-06-15T10:00:09.812Z"
   },
   {
    "duration": 19,
    "start_time": "2022-06-15T10:00:09.893Z"
   },
   {
    "duration": 156,
    "start_time": "2022-06-15T10:00:09.913Z"
   },
   {
    "duration": 10,
    "start_time": "2022-06-15T10:00:10.071Z"
   },
   {
    "duration": 17,
    "start_time": "2022-06-15T10:00:10.082Z"
   },
   {
    "duration": 84,
    "start_time": "2022-06-15T10:00:10.100Z"
   },
   {
    "duration": 129,
    "start_time": "2022-06-15T10:00:10.185Z"
   },
   {
    "duration": 10,
    "start_time": "2022-06-15T10:00:10.315Z"
   },
   {
    "duration": 7,
    "start_time": "2022-06-15T10:00:10.327Z"
   },
   {
    "duration": 241,
    "start_time": "2022-06-15T10:00:10.336Z"
   },
   {
    "duration": 387,
    "start_time": "2022-06-15T10:05:16.084Z"
   },
   {
    "duration": 92,
    "start_time": "2022-06-15T10:05:21.019Z"
   },
   {
    "duration": 1263,
    "start_time": "2022-06-15T10:05:27.447Z"
   },
   {
    "duration": 12,
    "start_time": "2022-06-15T10:05:28.712Z"
   },
   {
    "duration": 12,
    "start_time": "2022-06-15T10:05:28.725Z"
   },
   {
    "duration": 23,
    "start_time": "2022-06-15T10:05:28.738Z"
   },
   {
    "duration": 15,
    "start_time": "2022-06-15T10:05:28.763Z"
   },
   {
    "duration": 20,
    "start_time": "2022-06-15T10:05:28.780Z"
   },
   {
    "duration": 31,
    "start_time": "2022-06-15T10:05:28.801Z"
   },
   {
    "duration": 95,
    "start_time": "2022-06-15T10:05:28.833Z"
   },
   {
    "duration": 23,
    "start_time": "2022-06-15T10:05:28.930Z"
   },
   {
    "duration": 20,
    "start_time": "2022-06-15T10:05:28.954Z"
   },
   {
    "duration": 25,
    "start_time": "2022-06-15T10:05:28.991Z"
   },
   {
    "duration": 18,
    "start_time": "2022-06-15T10:05:29.018Z"
   },
   {
    "duration": 16,
    "start_time": "2022-06-15T10:05:29.038Z"
   },
   {
    "duration": 19,
    "start_time": "2022-06-15T10:05:29.057Z"
   },
   {
    "duration": 23,
    "start_time": "2022-06-15T10:05:29.077Z"
   },
   {
    "duration": 16,
    "start_time": "2022-06-15T10:05:29.102Z"
   },
   {
    "duration": 17,
    "start_time": "2022-06-15T10:05:29.119Z"
   },
   {
    "duration": 19,
    "start_time": "2022-06-15T10:05:29.137Z"
   },
   {
    "duration": 9,
    "start_time": "2022-06-15T10:05:29.157Z"
   },
   {
    "duration": 40,
    "start_time": "2022-06-15T10:05:29.167Z"
   },
   {
    "duration": 16,
    "start_time": "2022-06-15T10:05:29.209Z"
   },
   {
    "duration": 14,
    "start_time": "2022-06-15T10:05:29.227Z"
   },
   {
    "duration": 19,
    "start_time": "2022-06-15T10:05:29.242Z"
   },
   {
    "duration": 33,
    "start_time": "2022-06-15T10:05:29.263Z"
   },
   {
    "duration": 2,
    "start_time": "2022-06-15T10:05:29.298Z"
   },
   {
    "duration": 12,
    "start_time": "2022-06-15T10:05:29.302Z"
   },
   {
    "duration": 191,
    "start_time": "2022-06-15T10:05:29.315Z"
   },
   {
    "duration": 22,
    "start_time": "2022-06-15T10:05:29.508Z"
   },
   {
    "duration": 192,
    "start_time": "2022-06-15T10:05:29.532Z"
   },
   {
    "duration": 7,
    "start_time": "2022-06-15T10:05:29.726Z"
   },
   {
    "duration": 146,
    "start_time": "2022-06-15T10:05:29.734Z"
   },
   {
    "duration": 11,
    "start_time": "2022-06-15T10:05:29.881Z"
   },
   {
    "duration": 12,
    "start_time": "2022-06-15T10:05:29.894Z"
   },
   {
    "duration": 83,
    "start_time": "2022-06-15T10:05:29.908Z"
   },
   {
    "duration": 34,
    "start_time": "2022-06-15T10:05:29.993Z"
   },
   {
    "duration": 24,
    "start_time": "2022-06-15T10:05:30.029Z"
   },
   {
    "duration": 3,
    "start_time": "2022-06-15T10:05:30.054Z"
   },
   {
    "duration": 5,
    "start_time": "2022-06-15T10:05:30.059Z"
   },
   {
    "duration": 35,
    "start_time": "2022-06-15T10:05:30.065Z"
   },
   {
    "duration": 2,
    "start_time": "2022-06-15T10:05:30.102Z"
   },
   {
    "duration": 14,
    "start_time": "2022-06-15T10:05:30.108Z"
   },
   {
    "duration": 14,
    "start_time": "2022-06-15T10:05:30.123Z"
   },
   {
    "duration": 9,
    "start_time": "2022-06-15T10:05:30.138Z"
   },
   {
    "duration": 13,
    "start_time": "2022-06-15T10:05:30.148Z"
   },
   {
    "duration": 23,
    "start_time": "2022-06-15T10:05:30.163Z"
   },
   {
    "duration": 952,
    "start_time": "2022-06-15T10:05:30.187Z"
   },
   {
    "duration": 5,
    "start_time": "2022-06-15T10:05:31.141Z"
   },
   {
    "duration": 6,
    "start_time": "2022-06-15T10:05:31.147Z"
   },
   {
    "duration": 6,
    "start_time": "2022-06-15T10:05:31.155Z"
   },
   {
    "duration": 79,
    "start_time": "2022-06-15T10:05:31.163Z"
   },
   {
    "duration": 19,
    "start_time": "2022-06-15T10:05:31.243Z"
   },
   {
    "duration": 103,
    "start_time": "2022-06-15T10:05:31.263Z"
   },
   {
    "duration": 0,
    "start_time": "2022-06-15T10:05:31.368Z"
   },
   {
    "duration": 0,
    "start_time": "2022-06-15T10:05:31.369Z"
   },
   {
    "duration": 0,
    "start_time": "2022-06-15T10:05:31.369Z"
   },
   {
    "duration": 0,
    "start_time": "2022-06-15T10:05:31.370Z"
   },
   {
    "duration": 0,
    "start_time": "2022-06-15T10:05:31.371Z"
   },
   {
    "duration": 0,
    "start_time": "2022-06-15T10:05:31.372Z"
   },
   {
    "duration": 0,
    "start_time": "2022-06-15T10:05:31.373Z"
   },
   {
    "duration": 0,
    "start_time": "2022-06-15T10:05:31.374Z"
   },
   {
    "duration": 0,
    "start_time": "2022-06-15T10:05:31.375Z"
   },
   {
    "duration": 0,
    "start_time": "2022-06-15T10:05:31.390Z"
   },
   {
    "duration": 0,
    "start_time": "2022-06-15T10:05:31.391Z"
   },
   {
    "duration": 0,
    "start_time": "2022-06-15T10:05:31.392Z"
   },
   {
    "duration": 0,
    "start_time": "2022-06-15T10:05:31.393Z"
   },
   {
    "duration": 0,
    "start_time": "2022-06-15T10:05:31.394Z"
   },
   {
    "duration": 0,
    "start_time": "2022-06-15T10:05:31.395Z"
   },
   {
    "duration": 0,
    "start_time": "2022-06-15T10:05:31.396Z"
   },
   {
    "duration": 0,
    "start_time": "2022-06-15T10:05:31.397Z"
   },
   {
    "duration": 0,
    "start_time": "2022-06-15T10:05:31.398Z"
   },
   {
    "duration": 0,
    "start_time": "2022-06-15T10:05:31.399Z"
   },
   {
    "duration": 0,
    "start_time": "2022-06-15T10:05:31.400Z"
   },
   {
    "duration": 5,
    "start_time": "2022-06-15T10:08:08.736Z"
   },
   {
    "duration": 72,
    "start_time": "2022-06-15T10:08:11.596Z"
   },
   {
    "duration": 11,
    "start_time": "2022-06-15T10:08:53.541Z"
   },
   {
    "duration": 20,
    "start_time": "2022-06-15T10:08:58.519Z"
   },
   {
    "duration": 1464,
    "start_time": "2022-06-15T10:09:21.981Z"
   },
   {
    "duration": 14,
    "start_time": "2022-06-15T10:09:23.447Z"
   },
   {
    "duration": 17,
    "start_time": "2022-06-15T10:09:23.462Z"
   },
   {
    "duration": 10,
    "start_time": "2022-06-15T10:09:23.481Z"
   },
   {
    "duration": 10,
    "start_time": "2022-06-15T10:09:23.493Z"
   },
   {
    "duration": 15,
    "start_time": "2022-06-15T10:09:23.504Z"
   },
   {
    "duration": 26,
    "start_time": "2022-06-15T10:09:23.520Z"
   },
   {
    "duration": 109,
    "start_time": "2022-06-15T10:09:23.547Z"
   },
   {
    "duration": 27,
    "start_time": "2022-06-15T10:09:23.658Z"
   },
   {
    "duration": 21,
    "start_time": "2022-06-15T10:09:23.691Z"
   },
   {
    "duration": 27,
    "start_time": "2022-06-15T10:09:23.713Z"
   },
   {
    "duration": 18,
    "start_time": "2022-06-15T10:09:23.741Z"
   },
   {
    "duration": 12,
    "start_time": "2022-06-15T10:09:23.761Z"
   },
   {
    "duration": 7,
    "start_time": "2022-06-15T10:09:23.793Z"
   },
   {
    "duration": 17,
    "start_time": "2022-06-15T10:09:23.802Z"
   },
   {
    "duration": 17,
    "start_time": "2022-06-15T10:09:23.820Z"
   },
   {
    "duration": 12,
    "start_time": "2022-06-15T10:09:23.838Z"
   },
   {
    "duration": 13,
    "start_time": "2022-06-15T10:09:23.851Z"
   },
   {
    "duration": 27,
    "start_time": "2022-06-15T10:09:23.865Z"
   },
   {
    "duration": 28,
    "start_time": "2022-06-15T10:09:23.894Z"
   },
   {
    "duration": 19,
    "start_time": "2022-06-15T10:09:23.923Z"
   },
   {
    "duration": 15,
    "start_time": "2022-06-15T10:09:23.943Z"
   },
   {
    "duration": 45,
    "start_time": "2022-06-15T10:09:23.959Z"
   },
   {
    "duration": 10,
    "start_time": "2022-06-15T10:09:24.005Z"
   },
   {
    "duration": 1,
    "start_time": "2022-06-15T10:09:24.017Z"
   },
   {
    "duration": 13,
    "start_time": "2022-06-15T10:09:24.020Z"
   },
   {
    "duration": 204,
    "start_time": "2022-06-15T10:09:24.035Z"
   },
   {
    "duration": 24,
    "start_time": "2022-06-15T10:09:24.240Z"
   },
   {
    "duration": 192,
    "start_time": "2022-06-15T10:09:24.265Z"
   },
   {
    "duration": 7,
    "start_time": "2022-06-15T10:09:24.459Z"
   },
   {
    "duration": 151,
    "start_time": "2022-06-15T10:09:24.468Z"
   },
   {
    "duration": 7,
    "start_time": "2022-06-15T10:09:24.621Z"
   },
   {
    "duration": 11,
    "start_time": "2022-06-15T10:09:24.629Z"
   },
   {
    "duration": 91,
    "start_time": "2022-06-15T10:09:24.642Z"
   },
   {
    "duration": 32,
    "start_time": "2022-06-15T10:09:24.734Z"
   },
   {
    "duration": 38,
    "start_time": "2022-06-15T10:09:24.767Z"
   },
   {
    "duration": 2,
    "start_time": "2022-06-15T10:09:24.807Z"
   },
   {
    "duration": 8,
    "start_time": "2022-06-15T10:09:24.810Z"
   },
   {
    "duration": 15,
    "start_time": "2022-06-15T10:09:24.819Z"
   },
   {
    "duration": 2,
    "start_time": "2022-06-15T10:09:24.835Z"
   },
   {
    "duration": 10,
    "start_time": "2022-06-15T10:09:24.840Z"
   },
   {
    "duration": 9,
    "start_time": "2022-06-15T10:09:24.852Z"
   },
   {
    "duration": 5,
    "start_time": "2022-06-15T10:09:24.862Z"
   },
   {
    "duration": 9,
    "start_time": "2022-06-15T10:09:24.891Z"
   },
   {
    "duration": 7,
    "start_time": "2022-06-15T10:09:24.901Z"
   },
   {
    "duration": 954,
    "start_time": "2022-06-15T10:09:24.909Z"
   },
   {
    "duration": 5,
    "start_time": "2022-06-15T10:09:25.864Z"
   },
   {
    "duration": 4,
    "start_time": "2022-06-15T10:09:25.870Z"
   },
   {
    "duration": 17,
    "start_time": "2022-06-15T10:09:25.875Z"
   },
   {
    "duration": 67,
    "start_time": "2022-06-15T10:09:25.894Z"
   },
   {
    "duration": 96,
    "start_time": "2022-06-15T10:09:25.963Z"
   },
   {
    "duration": 0,
    "start_time": "2022-06-15T10:09:26.060Z"
   },
   {
    "duration": 0,
    "start_time": "2022-06-15T10:09:26.061Z"
   },
   {
    "duration": 0,
    "start_time": "2022-06-15T10:09:26.062Z"
   },
   {
    "duration": 0,
    "start_time": "2022-06-15T10:09:26.063Z"
   },
   {
    "duration": 0,
    "start_time": "2022-06-15T10:09:26.065Z"
   },
   {
    "duration": 0,
    "start_time": "2022-06-15T10:09:26.065Z"
   },
   {
    "duration": 0,
    "start_time": "2022-06-15T10:09:26.067Z"
   },
   {
    "duration": 0,
    "start_time": "2022-06-15T10:09:26.068Z"
   },
   {
    "duration": 0,
    "start_time": "2022-06-15T10:09:26.069Z"
   },
   {
    "duration": 0,
    "start_time": "2022-06-15T10:09:26.070Z"
   },
   {
    "duration": 0,
    "start_time": "2022-06-15T10:09:26.071Z"
   },
   {
    "duration": 0,
    "start_time": "2022-06-15T10:09:26.072Z"
   },
   {
    "duration": 0,
    "start_time": "2022-06-15T10:09:26.091Z"
   },
   {
    "duration": 0,
    "start_time": "2022-06-15T10:09:26.092Z"
   },
   {
    "duration": 0,
    "start_time": "2022-06-15T10:09:26.093Z"
   },
   {
    "duration": 0,
    "start_time": "2022-06-15T10:09:26.094Z"
   },
   {
    "duration": 0,
    "start_time": "2022-06-15T10:09:26.095Z"
   },
   {
    "duration": 0,
    "start_time": "2022-06-15T10:09:26.096Z"
   },
   {
    "duration": 0,
    "start_time": "2022-06-15T10:09:26.097Z"
   },
   {
    "duration": 0,
    "start_time": "2022-06-15T10:09:26.098Z"
   },
   {
    "duration": 67,
    "start_time": "2022-06-15T10:10:01.189Z"
   },
   {
    "duration": 18,
    "start_time": "2022-06-15T10:11:04.524Z"
   },
   {
    "duration": 12,
    "start_time": "2022-06-15T10:11:48.294Z"
   },
   {
    "duration": 12,
    "start_time": "2022-06-15T10:12:17.646Z"
   },
   {
    "duration": 11,
    "start_time": "2022-06-15T10:12:29.957Z"
   },
   {
    "duration": 13,
    "start_time": "2022-06-15T10:12:58.957Z"
   },
   {
    "duration": 12,
    "start_time": "2022-06-15T10:13:09.736Z"
   },
   {
    "duration": 5,
    "start_time": "2022-06-15T10:13:39.558Z"
   },
   {
    "duration": 428,
    "start_time": "2022-06-15T10:13:40.083Z"
   },
   {
    "duration": 1323,
    "start_time": "2022-06-15T10:13:53.487Z"
   },
   {
    "duration": 13,
    "start_time": "2022-06-15T10:13:54.811Z"
   },
   {
    "duration": 13,
    "start_time": "2022-06-15T10:13:54.826Z"
   },
   {
    "duration": 6,
    "start_time": "2022-06-15T10:13:54.840Z"
   },
   {
    "duration": 10,
    "start_time": "2022-06-15T10:13:54.847Z"
   },
   {
    "duration": 10,
    "start_time": "2022-06-15T10:13:54.858Z"
   },
   {
    "duration": 24,
    "start_time": "2022-06-15T10:13:54.869Z"
   },
   {
    "duration": 97,
    "start_time": "2022-06-15T10:13:54.894Z"
   },
   {
    "duration": 23,
    "start_time": "2022-06-15T10:13:54.992Z"
   },
   {
    "duration": 19,
    "start_time": "2022-06-15T10:13:55.017Z"
   },
   {
    "duration": 24,
    "start_time": "2022-06-15T10:13:55.038Z"
   },
   {
    "duration": 37,
    "start_time": "2022-06-15T10:13:55.064Z"
   },
   {
    "duration": 12,
    "start_time": "2022-06-15T10:13:55.102Z"
   },
   {
    "duration": 6,
    "start_time": "2022-06-15T10:13:55.115Z"
   },
   {
    "duration": 15,
    "start_time": "2022-06-15T10:13:55.123Z"
   },
   {
    "duration": 16,
    "start_time": "2022-06-15T10:13:55.139Z"
   },
   {
    "duration": 11,
    "start_time": "2022-06-15T10:13:55.156Z"
   },
   {
    "duration": 9,
    "start_time": "2022-06-15T10:13:55.190Z"
   },
   {
    "duration": 8,
    "start_time": "2022-06-15T10:13:55.201Z"
   },
   {
    "duration": 25,
    "start_time": "2022-06-15T10:13:55.210Z"
   },
   {
    "duration": 15,
    "start_time": "2022-06-15T10:13:55.236Z"
   },
   {
    "duration": 13,
    "start_time": "2022-06-15T10:13:55.253Z"
   },
   {
    "duration": 20,
    "start_time": "2022-06-15T10:13:55.290Z"
   },
   {
    "duration": 9,
    "start_time": "2022-06-15T10:13:55.311Z"
   },
   {
    "duration": 2,
    "start_time": "2022-06-15T10:13:55.321Z"
   },
   {
    "duration": 13,
    "start_time": "2022-06-15T10:13:55.324Z"
   },
   {
    "duration": 206,
    "start_time": "2022-06-15T10:13:55.338Z"
   },
   {
    "duration": 23,
    "start_time": "2022-06-15T10:13:55.547Z"
   },
   {
    "duration": 191,
    "start_time": "2022-06-15T10:13:55.571Z"
   },
   {
    "duration": 7,
    "start_time": "2022-06-15T10:13:55.764Z"
   },
   {
    "duration": 149,
    "start_time": "2022-06-15T10:13:55.772Z"
   },
   {
    "duration": 6,
    "start_time": "2022-06-15T10:13:55.923Z"
   },
   {
    "duration": 11,
    "start_time": "2022-06-15T10:13:55.930Z"
   },
   {
    "duration": 89,
    "start_time": "2022-06-15T10:13:55.942Z"
   },
   {
    "duration": 30,
    "start_time": "2022-06-15T10:13:56.032Z"
   },
   {
    "duration": 37,
    "start_time": "2022-06-15T10:13:56.064Z"
   },
   {
    "duration": 2,
    "start_time": "2022-06-15T10:13:56.102Z"
   },
   {
    "duration": 4,
    "start_time": "2022-06-15T10:13:56.106Z"
   },
   {
    "duration": 15,
    "start_time": "2022-06-15T10:13:56.112Z"
   },
   {
    "duration": 2,
    "start_time": "2022-06-15T10:13:56.128Z"
   },
   {
    "duration": 15,
    "start_time": "2022-06-15T10:13:56.131Z"
   },
   {
    "duration": 11,
    "start_time": "2022-06-15T10:13:56.147Z"
   },
   {
    "duration": 9,
    "start_time": "2022-06-15T10:13:56.159Z"
   },
   {
    "duration": 11,
    "start_time": "2022-06-15T10:13:56.169Z"
   },
   {
    "duration": 5,
    "start_time": "2022-06-15T10:13:56.191Z"
   },
   {
    "duration": 1021,
    "start_time": "2022-06-15T10:13:56.198Z"
   },
   {
    "duration": 7,
    "start_time": "2022-06-15T10:13:57.220Z"
   },
   {
    "duration": 6,
    "start_time": "2022-06-15T10:13:57.229Z"
   },
   {
    "duration": 6,
    "start_time": "2022-06-15T10:13:57.238Z"
   },
   {
    "duration": 85,
    "start_time": "2022-06-15T10:13:57.245Z"
   },
   {
    "duration": 102,
    "start_time": "2022-06-15T10:13:57.331Z"
   },
   {
    "duration": 12,
    "start_time": "2022-06-15T10:13:57.434Z"
   },
   {
    "duration": 314,
    "start_time": "2022-06-15T10:13:57.448Z"
   },
   {
    "duration": 217,
    "start_time": "2022-06-15T10:13:57.763Z"
   },
   {
    "duration": 11485,
    "start_time": "2022-06-15T10:13:57.982Z"
   },
   {
    "duration": 245,
    "start_time": "2022-06-15T10:14:09.469Z"
   },
   {
    "duration": 167,
    "start_time": "2022-06-15T10:14:09.716Z"
   },
   {
    "duration": 256,
    "start_time": "2022-06-15T10:14:09.890Z"
   },
   {
    "duration": 170,
    "start_time": "2022-06-15T10:14:10.148Z"
   },
   {
    "duration": 265,
    "start_time": "2022-06-15T10:14:10.320Z"
   },
   {
    "duration": 156,
    "start_time": "2022-06-15T10:14:10.586Z"
   },
   {
    "duration": 82,
    "start_time": "2022-06-15T10:14:10.743Z"
   },
   {
    "duration": 16,
    "start_time": "2022-06-15T10:14:10.827Z"
   },
   {
    "duration": 100,
    "start_time": "2022-06-15T10:14:10.844Z"
   },
   {
    "duration": 10,
    "start_time": "2022-06-15T10:14:10.946Z"
   },
   {
    "duration": 8,
    "start_time": "2022-06-15T10:14:10.958Z"
   },
   {
    "duration": 78,
    "start_time": "2022-06-15T10:14:10.967Z"
   },
   {
    "duration": 110,
    "start_time": "2022-06-15T10:14:11.047Z"
   },
   {
    "duration": 11,
    "start_time": "2022-06-15T10:14:11.158Z"
   },
   {
    "duration": 23,
    "start_time": "2022-06-15T10:14:11.171Z"
   },
   {
    "duration": 212,
    "start_time": "2022-06-15T10:14:11.196Z"
   },
   {
    "duration": 428,
    "start_time": "2022-06-15T10:19:01.288Z"
   },
   {
    "duration": 42,
    "start_time": "2022-06-15T10:19:20.599Z"
   },
   {
    "duration": 6,
    "start_time": "2022-06-15T10:20:09.001Z"
   },
   {
    "duration": 2135,
    "start_time": "2022-06-15T10:20:16.756Z"
   },
   {
    "duration": 13,
    "start_time": "2022-06-15T10:20:18.892Z"
   },
   {
    "duration": 14,
    "start_time": "2022-06-15T10:20:18.907Z"
   },
   {
    "duration": 5,
    "start_time": "2022-06-15T10:20:18.923Z"
   },
   {
    "duration": 12,
    "start_time": "2022-06-15T10:20:18.929Z"
   },
   {
    "duration": 13,
    "start_time": "2022-06-15T10:20:18.942Z"
   },
   {
    "duration": 9,
    "start_time": "2022-06-15T10:20:18.956Z"
   },
   {
    "duration": 111,
    "start_time": "2022-06-15T10:20:18.966Z"
   },
   {
    "duration": 29,
    "start_time": "2022-06-15T10:20:19.078Z"
   },
   {
    "duration": 19,
    "start_time": "2022-06-15T10:20:19.110Z"
   },
   {
    "duration": 25,
    "start_time": "2022-06-15T10:20:19.130Z"
   },
   {
    "duration": 35,
    "start_time": "2022-06-15T10:20:19.156Z"
   },
   {
    "duration": 10,
    "start_time": "2022-06-15T10:20:19.193Z"
   },
   {
    "duration": 8,
    "start_time": "2022-06-15T10:20:19.204Z"
   },
   {
    "duration": 17,
    "start_time": "2022-06-15T10:20:19.213Z"
   },
   {
    "duration": 17,
    "start_time": "2022-06-15T10:20:19.232Z"
   },
   {
    "duration": 12,
    "start_time": "2022-06-15T10:20:19.250Z"
   },
   {
    "duration": 38,
    "start_time": "2022-06-15T10:20:19.263Z"
   },
   {
    "duration": 8,
    "start_time": "2022-06-15T10:20:19.302Z"
   },
   {
    "duration": 26,
    "start_time": "2022-06-15T10:20:19.311Z"
   },
   {
    "duration": 16,
    "start_time": "2022-06-15T10:20:19.338Z"
   },
   {
    "duration": 14,
    "start_time": "2022-06-15T10:20:19.355Z"
   },
   {
    "duration": 18,
    "start_time": "2022-06-15T10:20:19.391Z"
   },
   {
    "duration": 10,
    "start_time": "2022-06-15T10:20:19.410Z"
   },
   {
    "duration": 9,
    "start_time": "2022-06-15T10:20:19.421Z"
   },
   {
    "duration": 16,
    "start_time": "2022-06-15T10:20:19.432Z"
   },
   {
    "duration": 180,
    "start_time": "2022-06-15T10:20:19.450Z"
   },
   {
    "duration": 22,
    "start_time": "2022-06-15T10:20:19.633Z"
   },
   {
    "duration": 188,
    "start_time": "2022-06-15T10:20:19.656Z"
   },
   {
    "duration": 7,
    "start_time": "2022-06-15T10:20:19.845Z"
   },
   {
    "duration": 154,
    "start_time": "2022-06-15T10:20:19.854Z"
   },
   {
    "duration": 7,
    "start_time": "2022-06-15T10:20:20.010Z"
   },
   {
    "duration": 16,
    "start_time": "2022-06-15T10:20:20.018Z"
   },
   {
    "duration": 93,
    "start_time": "2022-06-15T10:20:20.035Z"
   },
   {
    "duration": 33,
    "start_time": "2022-06-15T10:20:20.130Z"
   },
   {
    "duration": 42,
    "start_time": "2022-06-15T10:20:20.164Z"
   },
   {
    "duration": 2,
    "start_time": "2022-06-15T10:20:20.208Z"
   },
   {
    "duration": 21,
    "start_time": "2022-06-15T10:20:20.211Z"
   },
   {
    "duration": 22,
    "start_time": "2022-06-15T10:20:20.234Z"
   },
   {
    "duration": 16,
    "start_time": "2022-06-15T10:20:20.257Z"
   },
   {
    "duration": 21,
    "start_time": "2022-06-15T10:20:20.274Z"
   },
   {
    "duration": 20,
    "start_time": "2022-06-15T10:20:20.297Z"
   },
   {
    "duration": 15,
    "start_time": "2022-06-15T10:20:20.318Z"
   },
   {
    "duration": 23,
    "start_time": "2022-06-15T10:20:20.334Z"
   },
   {
    "duration": 8,
    "start_time": "2022-06-15T10:20:20.358Z"
   },
   {
    "duration": 933,
    "start_time": "2022-06-15T10:20:20.367Z"
   },
   {
    "duration": 5,
    "start_time": "2022-06-15T10:20:21.301Z"
   },
   {
    "duration": 7,
    "start_time": "2022-06-15T10:20:21.308Z"
   },
   {
    "duration": 5,
    "start_time": "2022-06-15T10:20:21.316Z"
   },
   {
    "duration": 75,
    "start_time": "2022-06-15T10:20:21.322Z"
   },
   {
    "duration": 95,
    "start_time": "2022-06-15T10:20:21.399Z"
   },
   {
    "duration": 0,
    "start_time": "2022-06-15T10:20:21.496Z"
   },
   {
    "duration": 0,
    "start_time": "2022-06-15T10:20:21.497Z"
   },
   {
    "duration": 0,
    "start_time": "2022-06-15T10:20:21.498Z"
   },
   {
    "duration": 0,
    "start_time": "2022-06-15T10:20:21.498Z"
   },
   {
    "duration": 0,
    "start_time": "2022-06-15T10:20:21.499Z"
   },
   {
    "duration": 0,
    "start_time": "2022-06-15T10:20:21.500Z"
   },
   {
    "duration": 0,
    "start_time": "2022-06-15T10:20:21.502Z"
   },
   {
    "duration": 0,
    "start_time": "2022-06-15T10:20:21.503Z"
   },
   {
    "duration": 0,
    "start_time": "2022-06-15T10:20:21.503Z"
   },
   {
    "duration": 0,
    "start_time": "2022-06-15T10:20:21.505Z"
   },
   {
    "duration": 0,
    "start_time": "2022-06-15T10:20:21.506Z"
   },
   {
    "duration": 0,
    "start_time": "2022-06-15T10:20:21.507Z"
   },
   {
    "duration": 0,
    "start_time": "2022-06-15T10:20:21.508Z"
   },
   {
    "duration": 0,
    "start_time": "2022-06-15T10:20:21.509Z"
   },
   {
    "duration": 0,
    "start_time": "2022-06-15T10:20:21.510Z"
   },
   {
    "duration": 0,
    "start_time": "2022-06-15T10:20:21.510Z"
   },
   {
    "duration": 0,
    "start_time": "2022-06-15T10:20:21.511Z"
   },
   {
    "duration": 0,
    "start_time": "2022-06-15T10:20:21.512Z"
   },
   {
    "duration": 0,
    "start_time": "2022-06-15T10:20:21.513Z"
   },
   {
    "duration": 0,
    "start_time": "2022-06-15T10:20:21.514Z"
   },
   {
    "duration": 7,
    "start_time": "2022-06-15T10:21:15.397Z"
   },
   {
    "duration": 18,
    "start_time": "2022-06-15T10:21:59.143Z"
   },
   {
    "duration": 1369,
    "start_time": "2022-06-15T10:22:11.720Z"
   },
   {
    "duration": 17,
    "start_time": "2022-06-15T10:22:13.091Z"
   },
   {
    "duration": 13,
    "start_time": "2022-06-15T10:22:13.110Z"
   },
   {
    "duration": 5,
    "start_time": "2022-06-15T10:22:13.125Z"
   },
   {
    "duration": 11,
    "start_time": "2022-06-15T10:22:13.132Z"
   },
   {
    "duration": 12,
    "start_time": "2022-06-15T10:22:13.144Z"
   },
   {
    "duration": 9,
    "start_time": "2022-06-15T10:22:13.157Z"
   },
   {
    "duration": 111,
    "start_time": "2022-06-15T10:22:13.167Z"
   },
   {
    "duration": 31,
    "start_time": "2022-06-15T10:22:13.280Z"
   },
   {
    "duration": 18,
    "start_time": "2022-06-15T10:22:13.313Z"
   },
   {
    "duration": 24,
    "start_time": "2022-06-15T10:22:13.332Z"
   },
   {
    "duration": 38,
    "start_time": "2022-06-15T10:22:13.358Z"
   },
   {
    "duration": 16,
    "start_time": "2022-06-15T10:22:13.397Z"
   },
   {
    "duration": 9,
    "start_time": "2022-06-15T10:22:13.415Z"
   },
   {
    "duration": 21,
    "start_time": "2022-06-15T10:22:13.426Z"
   },
   {
    "duration": 17,
    "start_time": "2022-06-15T10:22:13.449Z"
   },
   {
    "duration": 12,
    "start_time": "2022-06-15T10:22:13.467Z"
   },
   {
    "duration": 8,
    "start_time": "2022-06-15T10:22:13.491Z"
   },
   {
    "duration": 8,
    "start_time": "2022-06-15T10:22:13.500Z"
   },
   {
    "duration": 36,
    "start_time": "2022-06-15T10:22:13.509Z"
   },
   {
    "duration": 15,
    "start_time": "2022-06-15T10:22:13.547Z"
   },
   {
    "duration": 27,
    "start_time": "2022-06-15T10:22:13.564Z"
   },
   {
    "duration": 18,
    "start_time": "2022-06-15T10:22:13.592Z"
   },
   {
    "duration": 10,
    "start_time": "2022-06-15T10:22:13.611Z"
   },
   {
    "duration": 2,
    "start_time": "2022-06-15T10:22:13.622Z"
   },
   {
    "duration": 13,
    "start_time": "2022-06-15T10:22:13.625Z"
   },
   {
    "duration": 193,
    "start_time": "2022-06-15T10:22:13.639Z"
   },
   {
    "duration": 22,
    "start_time": "2022-06-15T10:22:13.836Z"
   },
   {
    "duration": 198,
    "start_time": "2022-06-15T10:22:13.859Z"
   },
   {
    "duration": 7,
    "start_time": "2022-06-15T10:22:14.059Z"
   },
   {
    "duration": 152,
    "start_time": "2022-06-15T10:22:14.067Z"
   },
   {
    "duration": 9,
    "start_time": "2022-06-15T10:22:14.220Z"
   },
   {
    "duration": 12,
    "start_time": "2022-06-15T10:22:14.230Z"
   },
   {
    "duration": 93,
    "start_time": "2022-06-15T10:22:14.243Z"
   },
   {
    "duration": 32,
    "start_time": "2022-06-15T10:22:14.337Z"
   },
   {
    "duration": 34,
    "start_time": "2022-06-15T10:22:14.371Z"
   },
   {
    "duration": 2,
    "start_time": "2022-06-15T10:22:14.407Z"
   },
   {
    "duration": 5,
    "start_time": "2022-06-15T10:22:14.410Z"
   },
   {
    "duration": 17,
    "start_time": "2022-06-15T10:22:14.416Z"
   },
   {
    "duration": 2,
    "start_time": "2022-06-15T10:22:14.435Z"
   },
   {
    "duration": 14,
    "start_time": "2022-06-15T10:22:14.438Z"
   },
   {
    "duration": 8,
    "start_time": "2022-06-15T10:22:14.454Z"
   },
   {
    "duration": 4,
    "start_time": "2022-06-15T10:22:14.464Z"
   },
   {
    "duration": 25,
    "start_time": "2022-06-15T10:22:14.470Z"
   },
   {
    "duration": 6,
    "start_time": "2022-06-15T10:22:14.496Z"
   },
   {
    "duration": 923,
    "start_time": "2022-06-15T10:22:14.503Z"
   },
   {
    "duration": 6,
    "start_time": "2022-06-15T10:22:15.427Z"
   },
   {
    "duration": 13,
    "start_time": "2022-06-15T10:22:15.435Z"
   },
   {
    "duration": 7,
    "start_time": "2022-06-15T10:22:15.449Z"
   },
   {
    "duration": 76,
    "start_time": "2022-06-15T10:22:15.458Z"
   },
   {
    "duration": 18,
    "start_time": "2022-06-15T10:22:15.535Z"
   },
   {
    "duration": 12,
    "start_time": "2022-06-15T10:22:15.554Z"
   },
   {
    "duration": 106,
    "start_time": "2022-06-15T10:22:15.567Z"
   },
   {
    "duration": 33,
    "start_time": "2022-06-15T10:22:15.674Z"
   },
   {
    "duration": 1046,
    "start_time": "2022-06-15T10:22:15.709Z"
   },
   {
    "duration": 127,
    "start_time": "2022-06-15T10:22:16.757Z"
   },
   {
    "duration": 130,
    "start_time": "2022-06-15T10:22:16.885Z"
   },
   {
    "duration": 152,
    "start_time": "2022-06-15T10:22:17.017Z"
   },
   {
    "duration": 137,
    "start_time": "2022-06-15T10:22:17.171Z"
   },
   {
    "duration": 125,
    "start_time": "2022-06-15T10:22:17.310Z"
   },
   {
    "duration": 116,
    "start_time": "2022-06-15T10:22:17.436Z"
   },
   {
    "duration": 11,
    "start_time": "2022-06-15T10:22:17.553Z"
   },
   {
    "duration": 27,
    "start_time": "2022-06-15T10:22:17.565Z"
   },
   {
    "duration": 8,
    "start_time": "2022-06-15T10:22:17.593Z"
   },
   {
    "duration": 5,
    "start_time": "2022-06-15T10:22:17.602Z"
   },
   {
    "duration": 7,
    "start_time": "2022-06-15T10:22:17.609Z"
   },
   {
    "duration": 12,
    "start_time": "2022-06-15T10:22:17.618Z"
   },
   {
    "duration": 6,
    "start_time": "2022-06-15T10:22:17.631Z"
   },
   {
    "duration": 10,
    "start_time": "2022-06-15T10:22:17.638Z"
   },
   {
    "duration": 12,
    "start_time": "2022-06-15T10:22:17.650Z"
   },
   {
    "duration": 13,
    "start_time": "2022-06-15T10:22:17.663Z"
   },
   {
    "duration": 5,
    "start_time": "2022-06-15T10:23:49.244Z"
   },
   {
    "duration": 8,
    "start_time": "2022-06-15T10:26:52.556Z"
   },
   {
    "duration": 5,
    "start_time": "2022-06-15T10:26:53.349Z"
   },
   {
    "duration": 4,
    "start_time": "2022-06-15T10:26:56.184Z"
   },
   {
    "duration": 97,
    "start_time": "2022-06-15T10:31:33.718Z"
   },
   {
    "duration": 30,
    "start_time": "2022-06-15T10:31:54.763Z"
   },
   {
    "duration": 17,
    "start_time": "2022-06-15T10:32:12.149Z"
   },
   {
    "duration": 8,
    "start_time": "2022-06-15T10:32:21.795Z"
   },
   {
    "duration": 5,
    "start_time": "2022-06-15T10:32:23.491Z"
   },
   {
    "duration": 5,
    "start_time": "2022-06-15T10:32:27.366Z"
   },
   {
    "duration": 110,
    "start_time": "2022-06-15T10:36:48.809Z"
   },
   {
    "duration": 6,
    "start_time": "2022-06-15T10:37:03.844Z"
   },
   {
    "duration": 7,
    "start_time": "2022-06-15T10:37:38.034Z"
   },
   {
    "duration": 44,
    "start_time": "2022-06-15T10:41:26.994Z"
   },
   {
    "duration": 1372,
    "start_time": "2022-06-15T10:41:40.347Z"
   },
   {
    "duration": 15,
    "start_time": "2022-06-15T10:41:41.720Z"
   },
   {
    "duration": 13,
    "start_time": "2022-06-15T10:41:41.736Z"
   },
   {
    "duration": 7,
    "start_time": "2022-06-15T10:41:41.750Z"
   },
   {
    "duration": 12,
    "start_time": "2022-06-15T10:41:41.759Z"
   },
   {
    "duration": 24,
    "start_time": "2022-06-15T10:41:41.772Z"
   },
   {
    "duration": 17,
    "start_time": "2022-06-15T10:41:41.800Z"
   },
   {
    "duration": 104,
    "start_time": "2022-06-15T10:41:41.818Z"
   },
   {
    "duration": 22,
    "start_time": "2022-06-15T10:41:41.924Z"
   },
   {
    "duration": 19,
    "start_time": "2022-06-15T10:41:41.948Z"
   },
   {
    "duration": 43,
    "start_time": "2022-06-15T10:41:41.969Z"
   },
   {
    "duration": 17,
    "start_time": "2022-06-15T10:41:42.014Z"
   },
   {
    "duration": 12,
    "start_time": "2022-06-15T10:41:42.032Z"
   },
   {
    "duration": 6,
    "start_time": "2022-06-15T10:41:42.045Z"
   },
   {
    "duration": 50,
    "start_time": "2022-06-15T10:41:42.053Z"
   },
   {
    "duration": 17,
    "start_time": "2022-06-15T10:41:42.105Z"
   },
   {
    "duration": 12,
    "start_time": "2022-06-15T10:41:42.123Z"
   },
   {
    "duration": 13,
    "start_time": "2022-06-15T10:41:42.137Z"
   },
   {
    "duration": 8,
    "start_time": "2022-06-15T10:41:42.151Z"
   },
   {
    "duration": 49,
    "start_time": "2022-06-15T10:41:42.161Z"
   },
   {
    "duration": 17,
    "start_time": "2022-06-15T10:41:42.212Z"
   },
   {
    "duration": 20,
    "start_time": "2022-06-15T10:41:42.231Z"
   },
   {
    "duration": 25,
    "start_time": "2022-06-15T10:41:42.252Z"
   },
   {
    "duration": 21,
    "start_time": "2022-06-15T10:41:42.278Z"
   },
   {
    "duration": 11,
    "start_time": "2022-06-15T10:41:42.302Z"
   },
   {
    "duration": 14,
    "start_time": "2022-06-15T10:41:42.314Z"
   },
   {
    "duration": 190,
    "start_time": "2022-06-15T10:41:42.329Z"
   },
   {
    "duration": 23,
    "start_time": "2022-06-15T10:41:42.523Z"
   },
   {
    "duration": 204,
    "start_time": "2022-06-15T10:41:42.548Z"
   },
   {
    "duration": 8,
    "start_time": "2022-06-15T10:41:42.754Z"
   },
   {
    "duration": 176,
    "start_time": "2022-06-15T10:41:42.764Z"
   },
   {
    "duration": 7,
    "start_time": "2022-06-15T10:41:42.942Z"
   },
   {
    "duration": 13,
    "start_time": "2022-06-15T10:41:42.951Z"
   },
   {
    "duration": 95,
    "start_time": "2022-06-15T10:41:42.966Z"
   },
   {
    "duration": 37,
    "start_time": "2022-06-15T10:41:43.063Z"
   },
   {
    "duration": 30,
    "start_time": "2022-06-15T10:41:43.102Z"
   },
   {
    "duration": 2,
    "start_time": "2022-06-15T10:41:43.134Z"
   },
   {
    "duration": 5,
    "start_time": "2022-06-15T10:41:43.138Z"
   },
   {
    "duration": 18,
    "start_time": "2022-06-15T10:41:43.144Z"
   },
   {
    "duration": 2,
    "start_time": "2022-06-15T10:41:43.164Z"
   },
   {
    "duration": 31,
    "start_time": "2022-06-15T10:41:43.167Z"
   },
   {
    "duration": 16,
    "start_time": "2022-06-15T10:41:43.201Z"
   },
   {
    "duration": 6,
    "start_time": "2022-06-15T10:41:43.218Z"
   },
   {
    "duration": 14,
    "start_time": "2022-06-15T10:41:43.225Z"
   },
   {
    "duration": 8,
    "start_time": "2022-06-15T10:41:43.240Z"
   },
   {
    "duration": 972,
    "start_time": "2022-06-15T10:41:43.249Z"
   },
   {
    "duration": 6,
    "start_time": "2022-06-15T10:41:44.223Z"
   },
   {
    "duration": 5,
    "start_time": "2022-06-15T10:41:44.231Z"
   },
   {
    "duration": 8,
    "start_time": "2022-06-15T10:41:44.237Z"
   },
   {
    "duration": 89,
    "start_time": "2022-06-15T10:41:44.246Z"
   },
   {
    "duration": 25,
    "start_time": "2022-06-15T10:41:44.337Z"
   },
   {
    "duration": 14,
    "start_time": "2022-06-15T10:41:44.363Z"
   },
   {
    "duration": 143,
    "start_time": "2022-06-15T10:41:44.392Z"
   },
   {
    "duration": 28,
    "start_time": "2022-06-15T10:41:44.537Z"
   },
   {
    "duration": 1215,
    "start_time": "2022-06-15T10:41:44.566Z"
   },
   {
    "duration": 133,
    "start_time": "2022-06-15T10:41:45.782Z"
   },
   {
    "duration": 139,
    "start_time": "2022-06-15T10:41:45.917Z"
   },
   {
    "duration": 124,
    "start_time": "2022-06-15T10:41:46.058Z"
   },
   {
    "duration": 130,
    "start_time": "2022-06-15T10:41:46.191Z"
   },
   {
    "duration": 135,
    "start_time": "2022-06-15T10:41:46.323Z"
   },
   {
    "duration": 122,
    "start_time": "2022-06-15T10:41:46.459Z"
   },
   {
    "duration": 24,
    "start_time": "2022-06-15T10:41:46.582Z"
   },
   {
    "duration": 42,
    "start_time": "2022-06-15T10:41:46.608Z"
   },
   {
    "duration": 20,
    "start_time": "2022-06-15T10:41:46.651Z"
   },
   {
    "duration": 43,
    "start_time": "2022-06-15T10:41:46.673Z"
   },
   {
    "duration": 26,
    "start_time": "2022-06-15T10:41:46.718Z"
   },
   {
    "duration": 24,
    "start_time": "2022-06-15T10:41:46.746Z"
   },
   {
    "duration": 24,
    "start_time": "2022-06-15T10:41:46.772Z"
   },
   {
    "duration": 24,
    "start_time": "2022-06-15T10:41:46.804Z"
   },
   {
    "duration": 30,
    "start_time": "2022-06-15T10:41:46.829Z"
   },
   {
    "duration": 65,
    "start_time": "2022-06-15T10:41:46.861Z"
   },
   {
    "duration": 11,
    "start_time": "2022-06-15T10:42:47.093Z"
   },
   {
    "duration": 2340,
    "start_time": "2022-06-16T05:45:38.090Z"
   },
   {
    "duration": 15,
    "start_time": "2022-06-16T05:45:40.431Z"
   },
   {
    "duration": 17,
    "start_time": "2022-06-16T05:45:40.447Z"
   },
   {
    "duration": 6,
    "start_time": "2022-06-16T05:45:40.465Z"
   },
   {
    "duration": 11,
    "start_time": "2022-06-16T05:45:40.473Z"
   },
   {
    "duration": 15,
    "start_time": "2022-06-16T05:45:40.486Z"
   },
   {
    "duration": 13,
    "start_time": "2022-06-16T05:45:40.502Z"
   },
   {
    "duration": 98,
    "start_time": "2022-06-16T05:45:40.517Z"
   },
   {
    "duration": 24,
    "start_time": "2022-06-16T05:45:40.617Z"
   },
   {
    "duration": 37,
    "start_time": "2022-06-16T05:45:40.643Z"
   },
   {
    "duration": 27,
    "start_time": "2022-06-16T05:45:40.682Z"
   },
   {
    "duration": 18,
    "start_time": "2022-06-16T05:45:40.710Z"
   },
   {
    "duration": 13,
    "start_time": "2022-06-16T05:45:40.729Z"
   },
   {
    "duration": 7,
    "start_time": "2022-06-16T05:45:40.745Z"
   },
   {
    "duration": 39,
    "start_time": "2022-06-16T05:45:40.754Z"
   },
   {
    "duration": 17,
    "start_time": "2022-06-16T05:45:40.795Z"
   },
   {
    "duration": 12,
    "start_time": "2022-06-16T05:45:40.814Z"
   },
   {
    "duration": 13,
    "start_time": "2022-06-16T05:45:40.828Z"
   },
   {
    "duration": 9,
    "start_time": "2022-06-16T05:45:40.842Z"
   },
   {
    "duration": 27,
    "start_time": "2022-06-16T05:45:40.877Z"
   },
   {
    "duration": 17,
    "start_time": "2022-06-16T05:45:40.905Z"
   },
   {
    "duration": 14,
    "start_time": "2022-06-16T05:45:40.923Z"
   },
   {
    "duration": 41,
    "start_time": "2022-06-16T05:45:40.939Z"
   },
   {
    "duration": 11,
    "start_time": "2022-06-16T05:45:40.981Z"
   },
   {
    "duration": 3,
    "start_time": "2022-06-16T05:45:40.993Z"
   },
   {
    "duration": 20,
    "start_time": "2022-06-16T05:45:40.997Z"
   },
   {
    "duration": 204,
    "start_time": "2022-06-16T05:45:41.018Z"
   },
   {
    "duration": 22,
    "start_time": "2022-06-16T05:45:41.223Z"
   },
   {
    "duration": 218,
    "start_time": "2022-06-16T05:45:41.247Z"
   },
   {
    "duration": 12,
    "start_time": "2022-06-16T05:45:41.467Z"
   },
   {
    "duration": 147,
    "start_time": "2022-06-16T05:45:41.481Z"
   },
   {
    "duration": 7,
    "start_time": "2022-06-16T05:45:41.629Z"
   },
   {
    "duration": 10,
    "start_time": "2022-06-16T05:45:41.638Z"
   },
   {
    "duration": 94,
    "start_time": "2022-06-16T05:45:41.650Z"
   },
   {
    "duration": 40,
    "start_time": "2022-06-16T05:45:41.745Z"
   },
   {
    "duration": 31,
    "start_time": "2022-06-16T05:45:41.786Z"
   },
   {
    "duration": 2,
    "start_time": "2022-06-16T05:45:41.819Z"
   },
   {
    "duration": 7,
    "start_time": "2022-06-16T05:45:41.822Z"
   },
   {
    "duration": 17,
    "start_time": "2022-06-16T05:45:41.830Z"
   },
   {
    "duration": 2,
    "start_time": "2022-06-16T05:45:41.849Z"
   },
   {
    "duration": 11,
    "start_time": "2022-06-16T05:45:41.877Z"
   },
   {
    "duration": 9,
    "start_time": "2022-06-16T05:45:41.890Z"
   },
   {
    "duration": 4,
    "start_time": "2022-06-16T05:45:41.900Z"
   },
   {
    "duration": 16,
    "start_time": "2022-06-16T05:45:41.906Z"
   },
   {
    "duration": 6,
    "start_time": "2022-06-16T05:45:41.924Z"
   },
   {
    "duration": 997,
    "start_time": "2022-06-16T05:45:41.932Z"
   },
   {
    "duration": 8,
    "start_time": "2022-06-16T05:45:42.931Z"
   },
   {
    "duration": 10,
    "start_time": "2022-06-16T05:45:42.940Z"
   },
   {
    "duration": 19,
    "start_time": "2022-06-16T05:45:42.952Z"
   },
   {
    "duration": 106,
    "start_time": "2022-06-16T05:45:42.979Z"
   },
   {
    "duration": 29,
    "start_time": "2022-06-16T05:45:43.088Z"
   },
   {
    "duration": 15,
    "start_time": "2022-06-16T05:45:43.119Z"
   },
   {
    "duration": 114,
    "start_time": "2022-06-16T05:45:43.136Z"
   },
   {
    "duration": 37,
    "start_time": "2022-06-16T05:45:43.252Z"
   },
   {
    "duration": 1167,
    "start_time": "2022-06-16T05:45:43.291Z"
   },
   {
    "duration": 130,
    "start_time": "2022-06-16T05:45:44.459Z"
   },
   {
    "duration": 143,
    "start_time": "2022-06-16T05:45:44.591Z"
   },
   {
    "duration": 123,
    "start_time": "2022-06-16T05:45:44.735Z"
   },
   {
    "duration": 131,
    "start_time": "2022-06-16T05:45:44.860Z"
   },
   {
    "duration": 134,
    "start_time": "2022-06-16T05:45:44.992Z"
   },
   {
    "duration": 126,
    "start_time": "2022-06-16T05:45:45.128Z"
   },
   {
    "duration": 22,
    "start_time": "2022-06-16T05:45:45.256Z"
   },
   {
    "duration": 19,
    "start_time": "2022-06-16T05:45:45.279Z"
   },
   {
    "duration": 10,
    "start_time": "2022-06-16T05:45:45.299Z"
   },
   {
    "duration": 4,
    "start_time": "2022-06-16T05:45:45.310Z"
   },
   {
    "duration": 8,
    "start_time": "2022-06-16T05:45:45.315Z"
   },
   {
    "duration": 11,
    "start_time": "2022-06-16T05:45:45.324Z"
   },
   {
    "duration": 7,
    "start_time": "2022-06-16T05:45:45.336Z"
   },
   {
    "duration": 33,
    "start_time": "2022-06-16T05:45:45.345Z"
   },
   {
    "duration": 6,
    "start_time": "2022-06-16T05:45:45.380Z"
   },
   {
    "duration": 15,
    "start_time": "2022-06-16T05:45:45.387Z"
   },
   {
    "duration": 23,
    "start_time": "2022-06-16T05:46:04.193Z"
   },
   {
    "duration": 16,
    "start_time": "2022-06-16T05:46:20.453Z"
   },
   {
    "duration": 1408,
    "start_time": "2022-06-16T05:48:13.951Z"
   },
   {
    "duration": 22,
    "start_time": "2022-06-16T05:48:15.361Z"
   },
   {
    "duration": 17,
    "start_time": "2022-06-16T05:48:15.385Z"
   },
   {
    "duration": 8,
    "start_time": "2022-06-16T05:48:15.404Z"
   },
   {
    "duration": 14,
    "start_time": "2022-06-16T05:48:15.413Z"
   },
   {
    "duration": 12,
    "start_time": "2022-06-16T05:48:15.429Z"
   },
   {
    "duration": 15,
    "start_time": "2022-06-16T05:48:15.443Z"
   },
   {
    "duration": 111,
    "start_time": "2022-06-16T05:48:15.459Z"
   },
   {
    "duration": 29,
    "start_time": "2022-06-16T05:48:15.571Z"
   },
   {
    "duration": 20,
    "start_time": "2022-06-16T05:48:15.601Z"
   },
   {
    "duration": 25,
    "start_time": "2022-06-16T05:48:15.622Z"
   },
   {
    "duration": 39,
    "start_time": "2022-06-16T05:48:15.649Z"
   },
   {
    "duration": 10,
    "start_time": "2022-06-16T05:48:15.689Z"
   },
   {
    "duration": 7,
    "start_time": "2022-06-16T05:48:15.702Z"
   },
   {
    "duration": 19,
    "start_time": "2022-06-16T05:48:15.710Z"
   },
   {
    "duration": 16,
    "start_time": "2022-06-16T05:48:15.730Z"
   },
   {
    "duration": 34,
    "start_time": "2022-06-16T05:48:15.748Z"
   },
   {
    "duration": 12,
    "start_time": "2022-06-16T05:48:15.784Z"
   },
   {
    "duration": 9,
    "start_time": "2022-06-16T05:48:15.798Z"
   },
   {
    "duration": 27,
    "start_time": "2022-06-16T05:48:15.809Z"
   },
   {
    "duration": 45,
    "start_time": "2022-06-16T05:48:15.838Z"
   },
   {
    "duration": 14,
    "start_time": "2022-06-16T05:48:15.884Z"
   },
   {
    "duration": 21,
    "start_time": "2022-06-16T05:48:15.900Z"
   },
   {
    "duration": 11,
    "start_time": "2022-06-16T05:48:15.923Z"
   },
   {
    "duration": 2,
    "start_time": "2022-06-16T05:48:15.936Z"
   },
   {
    "duration": 40,
    "start_time": "2022-06-16T05:48:15.939Z"
   },
   {
    "duration": 220,
    "start_time": "2022-06-16T05:48:15.981Z"
   },
   {
    "duration": 23,
    "start_time": "2022-06-16T05:48:16.203Z"
   },
   {
    "duration": 211,
    "start_time": "2022-06-16T05:48:16.228Z"
   },
   {
    "duration": 7,
    "start_time": "2022-06-16T05:48:16.441Z"
   },
   {
    "duration": 153,
    "start_time": "2022-06-16T05:48:16.450Z"
   },
   {
    "duration": 7,
    "start_time": "2022-06-16T05:48:16.605Z"
   },
   {
    "duration": 12,
    "start_time": "2022-06-16T05:48:16.613Z"
   },
   {
    "duration": 97,
    "start_time": "2022-06-16T05:48:16.626Z"
   },
   {
    "duration": 34,
    "start_time": "2022-06-16T05:48:16.725Z"
   },
   {
    "duration": 34,
    "start_time": "2022-06-16T05:48:16.760Z"
   },
   {
    "duration": 2,
    "start_time": "2022-06-16T05:48:16.796Z"
   },
   {
    "duration": 6,
    "start_time": "2022-06-16T05:48:16.800Z"
   },
   {
    "duration": 16,
    "start_time": "2022-06-16T05:48:16.807Z"
   },
   {
    "duration": 2,
    "start_time": "2022-06-16T05:48:16.825Z"
   },
   {
    "duration": 13,
    "start_time": "2022-06-16T05:48:16.832Z"
   },
   {
    "duration": 33,
    "start_time": "2022-06-16T05:48:16.847Z"
   },
   {
    "duration": 10,
    "start_time": "2022-06-16T05:48:16.881Z"
   },
   {
    "duration": 14,
    "start_time": "2022-06-16T05:48:16.892Z"
   },
   {
    "duration": 7,
    "start_time": "2022-06-16T05:48:16.907Z"
   },
   {
    "duration": 1089,
    "start_time": "2022-06-16T05:48:16.915Z"
   },
   {
    "duration": 6,
    "start_time": "2022-06-16T05:48:18.006Z"
   },
   {
    "duration": 3,
    "start_time": "2022-06-16T05:48:18.014Z"
   },
   {
    "duration": 14,
    "start_time": "2022-06-16T05:48:18.019Z"
   },
   {
    "duration": 92,
    "start_time": "2022-06-16T05:48:18.035Z"
   },
   {
    "duration": 26,
    "start_time": "2022-06-16T05:48:18.129Z"
   },
   {
    "duration": 29,
    "start_time": "2022-06-16T05:48:18.157Z"
   },
   {
    "duration": 140,
    "start_time": "2022-06-16T05:48:18.188Z"
   },
   {
    "duration": 28,
    "start_time": "2022-06-16T05:48:18.330Z"
   },
   {
    "duration": 1229,
    "start_time": "2022-06-16T05:48:18.359Z"
   },
   {
    "duration": 141,
    "start_time": "2022-06-16T05:48:19.590Z"
   },
   {
    "duration": 140,
    "start_time": "2022-06-16T05:48:19.733Z"
   },
   {
    "duration": 127,
    "start_time": "2022-06-16T05:48:19.878Z"
   },
   {
    "duration": 136,
    "start_time": "2022-06-16T05:48:20.007Z"
   },
   {
    "duration": 155,
    "start_time": "2022-06-16T05:48:20.145Z"
   },
   {
    "duration": 131,
    "start_time": "2022-06-16T05:48:20.301Z"
   },
   {
    "duration": 16,
    "start_time": "2022-06-16T05:48:20.433Z"
   },
   {
    "duration": 32,
    "start_time": "2022-06-16T05:48:20.450Z"
   },
   {
    "duration": 10,
    "start_time": "2022-06-16T05:48:20.483Z"
   },
   {
    "duration": 6,
    "start_time": "2022-06-16T05:48:20.494Z"
   },
   {
    "duration": 10,
    "start_time": "2022-06-16T05:48:20.501Z"
   },
   {
    "duration": 14,
    "start_time": "2022-06-16T05:48:20.512Z"
   },
   {
    "duration": 7,
    "start_time": "2022-06-16T05:48:20.527Z"
   },
   {
    "duration": 4,
    "start_time": "2022-06-16T05:48:20.536Z"
   },
   {
    "duration": 40,
    "start_time": "2022-06-16T05:48:20.541Z"
   },
   {
    "duration": 14,
    "start_time": "2022-06-16T05:48:20.583Z"
   }
  ],
  "kernelspec": {
   "display_name": "Python 3 (ipykernel)",
   "language": "python",
   "name": "python3"
  },
  "language_info": {
   "codemirror_mode": {
    "name": "ipython",
    "version": 3
   },
   "file_extension": ".py",
   "mimetype": "text/x-python",
   "name": "python",
   "nbconvert_exporter": "python",
   "pygments_lexer": "ipython3",
   "version": "3.9.13"
  },
  "toc": {
   "base_numbering": 1,
   "nav_menu": {},
   "number_sections": true,
   "sideBar": true,
   "skip_h1_title": true,
   "title_cell": "Table of Contents",
   "title_sidebar": "Contents",
   "toc_cell": false,
   "toc_position": {},
   "toc_section_display": true,
   "toc_window_display": false
  }
 },
 "nbformat": 4,
 "nbformat_minor": 2
}
